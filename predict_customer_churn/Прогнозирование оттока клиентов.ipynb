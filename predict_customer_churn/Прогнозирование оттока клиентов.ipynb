{
 "cells": [
  {
   "cell_type": "markdown",
   "metadata": {},
   "source": [
    "# Прогнозирование оттока клиентов\n",
    "\n",
    "Распространённая проблема сети фитнес-центров - это отток клиентов. Как понять, что клиент больше не с вами? Можно считать, что клиент попал в отток, если за последний месяц ни разу не посетил спортзал.\n",
    "Для любого продукта важно удержать клиента, а значит необходимо предсказать, что клиент может потерять интерес.\n",
    "\n",
    "**Цель проекта** - обучение модели прогнозирования оттока клиентов и подготовка плана действий по удержанию клиентов.\n",
    "\n",
    "**Задачи**:\n",
    "\n",
    "- Провести исследовательский анализ;\n",
    "\n",
    "\n",
    "- Определить признаки для обучение моделей прогнозирования и кластеризации;\n",
    "\n",
    "\n",
    "- Проанализировать характерное поведение пользователей с учетом их кластера;\n",
    "\n",
    "\n",
    "- Подготовить рекомендации по удержанию клиентов."
   ]
  },
  {
   "cell_type": "code",
   "execution_count": 1,
   "metadata": {},
   "outputs": [],
   "source": [
    "import pandas as pd\n",
    "import matplotlib.pyplot as plt\n",
    "import seaborn as sns\n",
    "\n",
    "from scipy.stats import chi2_contingency\n",
    "from scipy.cluster.hierarchy import dendrogram, linkage\n",
    "import numpy as np\n",
    "\n",
    "from sklearn.cluster import KMeans\n",
    "from sklearn.preprocessing import StandardScaler\n",
    "from sklearn.model_selection import train_test_split\n",
    "from sklearn.linear_model import LogisticRegression\n",
    "from sklearn.ensemble import RandomForestClassifier\n",
    "from sklearn.metrics import accuracy_score, precision_score, recall_score"
   ]
  },
  {
   "cell_type": "code",
   "execution_count": 2,
   "metadata": {},
   "outputs": [],
   "source": [
    "sns.set_style('darkgrid', {'axes.facecolor': '.9'})\n",
    "sns.set(palette = 'muted')"
   ]
  },
  {
   "cell_type": "code",
   "execution_count": 3,
   "metadata": {},
   "outputs": [
    {
     "data": {
      "text/html": [
       "<div>\n",
       "<style scoped>\n",
       "    .dataframe tbody tr th:only-of-type {\n",
       "        vertical-align: middle;\n",
       "    }\n",
       "\n",
       "    .dataframe tbody tr th {\n",
       "        vertical-align: top;\n",
       "    }\n",
       "\n",
       "    .dataframe thead th {\n",
       "        text-align: right;\n",
       "    }\n",
       "</style>\n",
       "<table border=\"1\" class=\"dataframe\">\n",
       "  <thead>\n",
       "    <tr style=\"text-align: right;\">\n",
       "      <th></th>\n",
       "      <th>gender</th>\n",
       "      <th>Near_Location</th>\n",
       "      <th>Partner</th>\n",
       "      <th>Promo_friends</th>\n",
       "      <th>Phone</th>\n",
       "      <th>Contract_period</th>\n",
       "      <th>Group_visits</th>\n",
       "      <th>Age</th>\n",
       "      <th>Avg_additional_charges_total</th>\n",
       "      <th>Month_to_end_contract</th>\n",
       "      <th>Lifetime</th>\n",
       "      <th>Avg_class_frequency_total</th>\n",
       "      <th>Avg_class_frequency_current_month</th>\n",
       "      <th>Churn</th>\n",
       "    </tr>\n",
       "  </thead>\n",
       "  <tbody>\n",
       "    <tr>\n",
       "      <td>0</td>\n",
       "      <td>1</td>\n",
       "      <td>1</td>\n",
       "      <td>1</td>\n",
       "      <td>1</td>\n",
       "      <td>0</td>\n",
       "      <td>6</td>\n",
       "      <td>1</td>\n",
       "      <td>29</td>\n",
       "      <td>14.227470</td>\n",
       "      <td>5.0</td>\n",
       "      <td>3</td>\n",
       "      <td>0.020398</td>\n",
       "      <td>0.000000</td>\n",
       "      <td>0</td>\n",
       "    </tr>\n",
       "    <tr>\n",
       "      <td>1</td>\n",
       "      <td>0</td>\n",
       "      <td>1</td>\n",
       "      <td>0</td>\n",
       "      <td>0</td>\n",
       "      <td>1</td>\n",
       "      <td>12</td>\n",
       "      <td>1</td>\n",
       "      <td>31</td>\n",
       "      <td>113.202938</td>\n",
       "      <td>12.0</td>\n",
       "      <td>7</td>\n",
       "      <td>1.922936</td>\n",
       "      <td>1.910244</td>\n",
       "      <td>0</td>\n",
       "    </tr>\n",
       "    <tr>\n",
       "      <td>2</td>\n",
       "      <td>0</td>\n",
       "      <td>1</td>\n",
       "      <td>1</td>\n",
       "      <td>0</td>\n",
       "      <td>1</td>\n",
       "      <td>1</td>\n",
       "      <td>0</td>\n",
       "      <td>28</td>\n",
       "      <td>129.448479</td>\n",
       "      <td>1.0</td>\n",
       "      <td>2</td>\n",
       "      <td>1.859098</td>\n",
       "      <td>1.736502</td>\n",
       "      <td>0</td>\n",
       "    </tr>\n",
       "    <tr>\n",
       "      <td>3</td>\n",
       "      <td>0</td>\n",
       "      <td>1</td>\n",
       "      <td>1</td>\n",
       "      <td>1</td>\n",
       "      <td>1</td>\n",
       "      <td>12</td>\n",
       "      <td>1</td>\n",
       "      <td>33</td>\n",
       "      <td>62.669863</td>\n",
       "      <td>12.0</td>\n",
       "      <td>2</td>\n",
       "      <td>3.205633</td>\n",
       "      <td>3.357215</td>\n",
       "      <td>0</td>\n",
       "    </tr>\n",
       "    <tr>\n",
       "      <td>4</td>\n",
       "      <td>1</td>\n",
       "      <td>1</td>\n",
       "      <td>1</td>\n",
       "      <td>1</td>\n",
       "      <td>1</td>\n",
       "      <td>1</td>\n",
       "      <td>0</td>\n",
       "      <td>26</td>\n",
       "      <td>198.362265</td>\n",
       "      <td>1.0</td>\n",
       "      <td>3</td>\n",
       "      <td>1.113884</td>\n",
       "      <td>1.120078</td>\n",
       "      <td>0</td>\n",
       "    </tr>\n",
       "  </tbody>\n",
       "</table>\n",
       "</div>"
      ],
      "text/plain": [
       "   gender  Near_Location  Partner  Promo_friends  Phone  Contract_period  \\\n",
       "0       1              1        1              1      0                6   \n",
       "1       0              1        0              0      1               12   \n",
       "2       0              1        1              0      1                1   \n",
       "3       0              1        1              1      1               12   \n",
       "4       1              1        1              1      1                1   \n",
       "\n",
       "   Group_visits  Age  Avg_additional_charges_total  Month_to_end_contract  \\\n",
       "0             1   29                     14.227470                    5.0   \n",
       "1             1   31                    113.202938                   12.0   \n",
       "2             0   28                    129.448479                    1.0   \n",
       "3             1   33                     62.669863                   12.0   \n",
       "4             0   26                    198.362265                    1.0   \n",
       "\n",
       "   Lifetime  Avg_class_frequency_total  Avg_class_frequency_current_month  \\\n",
       "0         3                   0.020398                           0.000000   \n",
       "1         7                   1.922936                           1.910244   \n",
       "2         2                   1.859098                           1.736502   \n",
       "3         2                   3.205633                           3.357215   \n",
       "4         3                   1.113884                           1.120078   \n",
       "\n",
       "   Churn  \n",
       "0      0  \n",
       "1      0  \n",
       "2      0  \n",
       "3      0  \n",
       "4      0  "
      ]
     },
     "execution_count": 3,
     "metadata": {},
     "output_type": "execute_result"
    }
   ],
   "source": [
    "gym_churn = pd.read_csv('/datasets/gym_churn.csv')\n",
    "\n",
    "gym_churn.head()"
   ]
  },
  {
   "cell_type": "code",
   "execution_count": 4,
   "metadata": {},
   "outputs": [
    {
     "data": {
      "text/plain": [
       "1     2207\n",
       "12     960\n",
       "6      833\n",
       "Name: Contract_period, dtype: int64"
      ]
     },
     "execution_count": 4,
     "metadata": {},
     "output_type": "execute_result"
    }
   ],
   "source": [
    "gym_churn['Contract_period'].value_counts()"
   ]
  },
  {
   "cell_type": "markdown",
   "metadata": {},
   "source": [
    "**Описание данных**:\n",
    "\n",
    "- `gender` — пол;\n",
    "\n",
    "\n",
    "- `Near_Location` — проживание или работа в районе, где находится фитнес-центр;\n",
    "\n",
    "\n",
    "- `Partner` — сотрудник компании-партнёра клуба (сотрудничество с компаниями, чьи сотрудники могут получать скидки на абонемент — в таком случае фитнес-центр хранит информацию о работодателе клиента);\n",
    "\n",
    "\n",
    "- `Promo_friends` — факт первоначальной записи в рамках акции «приведи друга» (использовал промо-код от знакомого при оплате первого абонемента);\n",
    "\n",
    "\n",
    "- `Phone` — наличие контактного телефона;\n",
    "\n",
    "\n",
    "- `Contract_period` — длительность текущего действующего абонемента (месяц, 3 месяца, 6 месяцев, год);\n",
    "\n",
    "\n",
    "- `Group_visits` — факт посещения групповых занятий;\n",
    "\n",
    "\n",
    "- `Age` — возраст;\n",
    "\n",
    "\n",
    "- `Avg_additional_charges_total` — суммарная выручка от других услуг фитнес-центра: кафе, спорт-товары, косметический и массажный салон;\n",
    "\n",
    "\n",
    "- `Month_to_end_contract` — срок до окончания текущего действующего абонемента (в месяцах);\n",
    "\n",
    "\n",
    "- `Lifetime` — время с момента первого обращения в фитнес-центр (в месяцах);\n",
    "\n",
    "\n",
    "- `Avg_class_frequency_total` — средняя частота посещений в неделю за все время с начала действия абонемента;\n",
    "\n",
    "\n",
    "- `Avg_class_frequency_current_month` — средняя частота посещений в неделю за предыдущий месяц;\n",
    "\n",
    "\n",
    "- `Churn` — факт оттока в текущем месяце.\n"
   ]
  },
  {
   "cell_type": "markdown",
   "metadata": {},
   "source": [
    "Посмотрим `соответствие типов данных` и определим, есть ли в датафрейме `пропуски`."
   ]
  },
  {
   "cell_type": "code",
   "execution_count": 5,
   "metadata": {},
   "outputs": [
    {
     "name": "stdout",
     "output_type": "stream",
     "text": [
      "<class 'pandas.core.frame.DataFrame'>\n",
      "RangeIndex: 4000 entries, 0 to 3999\n",
      "Data columns (total 14 columns):\n",
      "gender                               4000 non-null int64\n",
      "Near_Location                        4000 non-null int64\n",
      "Partner                              4000 non-null int64\n",
      "Promo_friends                        4000 non-null int64\n",
      "Phone                                4000 non-null int64\n",
      "Contract_period                      4000 non-null int64\n",
      "Group_visits                         4000 non-null int64\n",
      "Age                                  4000 non-null int64\n",
      "Avg_additional_charges_total         4000 non-null float64\n",
      "Month_to_end_contract                4000 non-null float64\n",
      "Lifetime                             4000 non-null int64\n",
      "Avg_class_frequency_total            4000 non-null float64\n",
      "Avg_class_frequency_current_month    4000 non-null float64\n",
      "Churn                                4000 non-null int64\n",
      "dtypes: float64(4), int64(10)\n",
      "memory usage: 437.6 KB\n"
     ]
    }
   ],
   "source": [
    "gym_churn.info()"
   ]
  },
  {
   "cell_type": "markdown",
   "metadata": {},
   "source": [
    "`Типы данных подходящие, пропуски отсутствуют.`"
   ]
  },
  {
   "cell_type": "markdown",
   "metadata": {},
   "source": [
    "## Исследовательский анализ данных (EDA)\n",
    "\n",
    "- изучим средние значения и стандартные отклонения;\n",
    "\n",
    "\n",
    "- Посмотрим на средние значения признаков в двух группах - тех, кто ушел в отток и тех, кто остался;\n",
    "\n",
    "\n",
    "- Построим столбчатые гистограммы и распределения признаков для тех, кто ушёл (отток) и тех, кто остался (не попали в отток);\n",
    "\n",
    "\n",
    "- Построим матрицу корреляций признаков."
   ]
  },
  {
   "cell_type": "markdown",
   "metadata": {},
   "source": [
    "Проверим, есть ли в таблице дубликаты."
   ]
  },
  {
   "cell_type": "code",
   "execution_count": 6,
   "metadata": {},
   "outputs": [
    {
     "data": {
      "text/plain": [
       "0"
      ]
     },
     "execution_count": 6,
     "metadata": {},
     "output_type": "execute_result"
    }
   ],
   "source": [
    "gym_churn.duplicated().sum()"
   ]
  },
  {
   "cell_type": "markdown",
   "metadata": {},
   "source": [
    "### Средние значения признаков."
   ]
  },
  {
   "cell_type": "code",
   "execution_count": 7,
   "metadata": {},
   "outputs": [
    {
     "data": {
      "text/html": [
       "<div>\n",
       "<style scoped>\n",
       "    .dataframe tbody tr th:only-of-type {\n",
       "        vertical-align: middle;\n",
       "    }\n",
       "\n",
       "    .dataframe tbody tr th {\n",
       "        vertical-align: top;\n",
       "    }\n",
       "\n",
       "    .dataframe thead th {\n",
       "        text-align: right;\n",
       "    }\n",
       "</style>\n",
       "<table border=\"1\" class=\"dataframe\">\n",
       "  <thead>\n",
       "    <tr style=\"text-align: right;\">\n",
       "      <th></th>\n",
       "      <th>gender</th>\n",
       "      <th>Near_Location</th>\n",
       "      <th>Partner</th>\n",
       "      <th>Promo_friends</th>\n",
       "      <th>Phone</th>\n",
       "      <th>Contract_period</th>\n",
       "      <th>Group_visits</th>\n",
       "      <th>Age</th>\n",
       "      <th>Avg_additional_charges_total</th>\n",
       "      <th>Month_to_end_contract</th>\n",
       "      <th>Lifetime</th>\n",
       "      <th>Avg_class_frequency_total</th>\n",
       "      <th>Avg_class_frequency_current_month</th>\n",
       "      <th>Churn</th>\n",
       "    </tr>\n",
       "  </thead>\n",
       "  <tbody>\n",
       "    <tr>\n",
       "      <td>count</td>\n",
       "      <td>4000.000000</td>\n",
       "      <td>4000.000000</td>\n",
       "      <td>4000.000000</td>\n",
       "      <td>4000.000000</td>\n",
       "      <td>4000.000000</td>\n",
       "      <td>4000.000000</td>\n",
       "      <td>4000.000000</td>\n",
       "      <td>4000.000000</td>\n",
       "      <td>4000.000000</td>\n",
       "      <td>4000.000000</td>\n",
       "      <td>4000.000000</td>\n",
       "      <td>4000.000000</td>\n",
       "      <td>4000.000000</td>\n",
       "      <td>4000.000000</td>\n",
       "    </tr>\n",
       "    <tr>\n",
       "      <td>mean</td>\n",
       "      <td>0.510250</td>\n",
       "      <td>0.845250</td>\n",
       "      <td>0.486750</td>\n",
       "      <td>0.308500</td>\n",
       "      <td>0.903500</td>\n",
       "      <td>4.681250</td>\n",
       "      <td>0.412250</td>\n",
       "      <td>29.184250</td>\n",
       "      <td>146.943728</td>\n",
       "      <td>4.322750</td>\n",
       "      <td>3.724750</td>\n",
       "      <td>1.879020</td>\n",
       "      <td>1.767052</td>\n",
       "      <td>0.265250</td>\n",
       "    </tr>\n",
       "    <tr>\n",
       "      <td>std</td>\n",
       "      <td>0.499957</td>\n",
       "      <td>0.361711</td>\n",
       "      <td>0.499887</td>\n",
       "      <td>0.461932</td>\n",
       "      <td>0.295313</td>\n",
       "      <td>4.549706</td>\n",
       "      <td>0.492301</td>\n",
       "      <td>3.258367</td>\n",
       "      <td>96.355602</td>\n",
       "      <td>4.191297</td>\n",
       "      <td>3.749267</td>\n",
       "      <td>0.972245</td>\n",
       "      <td>1.052906</td>\n",
       "      <td>0.441521</td>\n",
       "    </tr>\n",
       "    <tr>\n",
       "      <td>min</td>\n",
       "      <td>0.000000</td>\n",
       "      <td>0.000000</td>\n",
       "      <td>0.000000</td>\n",
       "      <td>0.000000</td>\n",
       "      <td>0.000000</td>\n",
       "      <td>1.000000</td>\n",
       "      <td>0.000000</td>\n",
       "      <td>18.000000</td>\n",
       "      <td>0.148205</td>\n",
       "      <td>1.000000</td>\n",
       "      <td>0.000000</td>\n",
       "      <td>0.000000</td>\n",
       "      <td>0.000000</td>\n",
       "      <td>0.000000</td>\n",
       "    </tr>\n",
       "    <tr>\n",
       "      <td>25%</td>\n",
       "      <td>0.000000</td>\n",
       "      <td>1.000000</td>\n",
       "      <td>0.000000</td>\n",
       "      <td>0.000000</td>\n",
       "      <td>1.000000</td>\n",
       "      <td>1.000000</td>\n",
       "      <td>0.000000</td>\n",
       "      <td>27.000000</td>\n",
       "      <td>68.868830</td>\n",
       "      <td>1.000000</td>\n",
       "      <td>1.000000</td>\n",
       "      <td>1.180875</td>\n",
       "      <td>0.963003</td>\n",
       "      <td>0.000000</td>\n",
       "    </tr>\n",
       "    <tr>\n",
       "      <td>50%</td>\n",
       "      <td>1.000000</td>\n",
       "      <td>1.000000</td>\n",
       "      <td>0.000000</td>\n",
       "      <td>0.000000</td>\n",
       "      <td>1.000000</td>\n",
       "      <td>1.000000</td>\n",
       "      <td>0.000000</td>\n",
       "      <td>29.000000</td>\n",
       "      <td>136.220159</td>\n",
       "      <td>1.000000</td>\n",
       "      <td>3.000000</td>\n",
       "      <td>1.832768</td>\n",
       "      <td>1.719574</td>\n",
       "      <td>0.000000</td>\n",
       "    </tr>\n",
       "    <tr>\n",
       "      <td>75%</td>\n",
       "      <td>1.000000</td>\n",
       "      <td>1.000000</td>\n",
       "      <td>1.000000</td>\n",
       "      <td>1.000000</td>\n",
       "      <td>1.000000</td>\n",
       "      <td>6.000000</td>\n",
       "      <td>1.000000</td>\n",
       "      <td>31.000000</td>\n",
       "      <td>210.949625</td>\n",
       "      <td>6.000000</td>\n",
       "      <td>5.000000</td>\n",
       "      <td>2.536078</td>\n",
       "      <td>2.510336</td>\n",
       "      <td>1.000000</td>\n",
       "    </tr>\n",
       "    <tr>\n",
       "      <td>max</td>\n",
       "      <td>1.000000</td>\n",
       "      <td>1.000000</td>\n",
       "      <td>1.000000</td>\n",
       "      <td>1.000000</td>\n",
       "      <td>1.000000</td>\n",
       "      <td>12.000000</td>\n",
       "      <td>1.000000</td>\n",
       "      <td>41.000000</td>\n",
       "      <td>552.590740</td>\n",
       "      <td>12.000000</td>\n",
       "      <td>31.000000</td>\n",
       "      <td>6.023668</td>\n",
       "      <td>6.146783</td>\n",
       "      <td>1.000000</td>\n",
       "    </tr>\n",
       "  </tbody>\n",
       "</table>\n",
       "</div>"
      ],
      "text/plain": [
       "            gender  Near_Location      Partner  Promo_friends        Phone  \\\n",
       "count  4000.000000    4000.000000  4000.000000    4000.000000  4000.000000   \n",
       "mean      0.510250       0.845250     0.486750       0.308500     0.903500   \n",
       "std       0.499957       0.361711     0.499887       0.461932     0.295313   \n",
       "min       0.000000       0.000000     0.000000       0.000000     0.000000   \n",
       "25%       0.000000       1.000000     0.000000       0.000000     1.000000   \n",
       "50%       1.000000       1.000000     0.000000       0.000000     1.000000   \n",
       "75%       1.000000       1.000000     1.000000       1.000000     1.000000   \n",
       "max       1.000000       1.000000     1.000000       1.000000     1.000000   \n",
       "\n",
       "       Contract_period  Group_visits          Age  \\\n",
       "count      4000.000000   4000.000000  4000.000000   \n",
       "mean          4.681250      0.412250    29.184250   \n",
       "std           4.549706      0.492301     3.258367   \n",
       "min           1.000000      0.000000    18.000000   \n",
       "25%           1.000000      0.000000    27.000000   \n",
       "50%           1.000000      0.000000    29.000000   \n",
       "75%           6.000000      1.000000    31.000000   \n",
       "max          12.000000      1.000000    41.000000   \n",
       "\n",
       "       Avg_additional_charges_total  Month_to_end_contract     Lifetime  \\\n",
       "count                   4000.000000            4000.000000  4000.000000   \n",
       "mean                     146.943728               4.322750     3.724750   \n",
       "std                       96.355602               4.191297     3.749267   \n",
       "min                        0.148205               1.000000     0.000000   \n",
       "25%                       68.868830               1.000000     1.000000   \n",
       "50%                      136.220159               1.000000     3.000000   \n",
       "75%                      210.949625               6.000000     5.000000   \n",
       "max                      552.590740              12.000000    31.000000   \n",
       "\n",
       "       Avg_class_frequency_total  Avg_class_frequency_current_month  \\\n",
       "count                4000.000000                        4000.000000   \n",
       "mean                    1.879020                           1.767052   \n",
       "std                     0.972245                           1.052906   \n",
       "min                     0.000000                           0.000000   \n",
       "25%                     1.180875                           0.963003   \n",
       "50%                     1.832768                           1.719574   \n",
       "75%                     2.536078                           2.510336   \n",
       "max                     6.023668                           6.146783   \n",
       "\n",
       "             Churn  \n",
       "count  4000.000000  \n",
       "mean      0.265250  \n",
       "std       0.441521  \n",
       "min       0.000000  \n",
       "25%       0.000000  \n",
       "50%       0.000000  \n",
       "75%       1.000000  \n",
       "max       1.000000  "
      ]
     },
     "execution_count": 7,
     "metadata": {},
     "output_type": "execute_result"
    }
   ],
   "source": [
    "gym_churn.describe()"
   ]
  },
  {
   "cell_type": "markdown",
   "metadata": {},
   "source": [
    "У переменных довольно `разные по величине стандартные отклонения`. Это говорит о том, что их возможно нужно стандартизировать перед обучением.\n",
    "\n",
    "- Средняя `длительность текущего действующего абонемента` (Contract_period) составляет `4 - 5 месяцев` (4.68125).\n",
    "\n",
    "Выделяется максимальный показатель в 12 месяцев;\n",
    "\n",
    "- Средний `возраст клиентов` фитнес-клуба (Age) - `29 лет`.\n",
    "\n",
    "Максимальный возрас в базе - 41 год;\n",
    "\n",
    "- Средняя `суммарная выручка от других услуг` фитнес-центра (Avg_additional_charges_total) - `146.94`.\n",
    "\n",
    "Максимальный показатель - 552.59;\n",
    "\n",
    "- Средний `срок до окончания текущего действующего абонемента` (Month_to_end_contract) - `4 месяца` (4.32275).\n",
    "\n",
    "Максимальный показатель - 12 месяцев;\n",
    "\n",
    "- Среднее `время с момента первого обращения` в фитнес-центр (Lifetime) - `3 - 4 месяца` (3.724750).\n",
    "\n",
    "Самое большое время удержания составляет 31 месяцев;\n",
    "\n",
    "- Средняя `частота посещений в неделю за все время с начала действия абонемента` (Avg_class_frequency_total) `1-2 раза` в неделю (1.87902).\n",
    "\n",
    "Максимальная частота посещений составляет 6 раз;\n",
    "\n",
    "- Средняя `частота посещений в неделю за предыдущий месяц` (Avg_class_frequency_current_month) также `1-2 раза` в неделю (1.767052).\n",
    "\n",
    "Максимальная частота посещений составляет 6 раз.\n",
    "\n",
    "\n",
    "Про `бинарные признаки` можно сказать, что:\n",
    "\n",
    "- `пол` клиентов представлен в соотношении `почти 50/50` (gender) (среднее - 0.51);\n",
    "\n",
    "\n",
    "- большая часть клиентов `работает или проживает в районе`, где находится фитнес-клуб (Near_Location - 0.84);\n",
    "\n",
    "\n",
    "- почти половина клиентов `является сотрудниками компании-парнёра` (Partner - 0.48);\n",
    "\n",
    "\n",
    "- меньше `1/3 клиентов` пришли в рамках `акции \"приведи друга\"` (Promo_friends - 0.31);\n",
    "\n",
    "\n",
    "- почти все клиенты `оставляли номер телефона` для связи (Phone - 0.9);\n",
    "\n",
    "\n",
    "- `40% клиентов посещали групповые занятия` (Group_visits - 0.41)."
   ]
  },
  {
   "cell_type": "markdown",
   "metadata": {},
   "source": [
    "**Сгруппируем таблицу по признаку оттока - 'Churn'** (ушел клиент или остался).\n",
    "\n",
    "Еще раз посмотрим средние показатели."
   ]
  },
  {
   "cell_type": "code",
   "execution_count": 8,
   "metadata": {},
   "outputs": [
    {
     "data": {
      "text/html": [
       "<div>\n",
       "<style scoped>\n",
       "    .dataframe tbody tr th:only-of-type {\n",
       "        vertical-align: middle;\n",
       "    }\n",
       "\n",
       "    .dataframe tbody tr th {\n",
       "        vertical-align: top;\n",
       "    }\n",
       "\n",
       "    .dataframe thead th {\n",
       "        text-align: right;\n",
       "    }\n",
       "</style>\n",
       "<table border=\"1\" class=\"dataframe\">\n",
       "  <thead>\n",
       "    <tr style=\"text-align: right;\">\n",
       "      <th></th>\n",
       "      <th>gender</th>\n",
       "      <th>Near_Location</th>\n",
       "      <th>Partner</th>\n",
       "      <th>Promo_friends</th>\n",
       "      <th>Phone</th>\n",
       "      <th>Contract_period</th>\n",
       "      <th>Group_visits</th>\n",
       "      <th>Age</th>\n",
       "      <th>Avg_additional_charges_total</th>\n",
       "      <th>Month_to_end_contract</th>\n",
       "      <th>Lifetime</th>\n",
       "      <th>Avg_class_frequency_total</th>\n",
       "      <th>Avg_class_frequency_current_month</th>\n",
       "    </tr>\n",
       "    <tr>\n",
       "      <th>Churn</th>\n",
       "      <th></th>\n",
       "      <th></th>\n",
       "      <th></th>\n",
       "      <th></th>\n",
       "      <th></th>\n",
       "      <th></th>\n",
       "      <th></th>\n",
       "      <th></th>\n",
       "      <th></th>\n",
       "      <th></th>\n",
       "      <th></th>\n",
       "      <th></th>\n",
       "      <th></th>\n",
       "    </tr>\n",
       "  </thead>\n",
       "  <tbody>\n",
       "    <tr>\n",
       "      <td>0</td>\n",
       "      <td>0.510037</td>\n",
       "      <td>0.873086</td>\n",
       "      <td>0.534195</td>\n",
       "      <td>0.353522</td>\n",
       "      <td>0.903709</td>\n",
       "      <td>5.747193</td>\n",
       "      <td>0.464103</td>\n",
       "      <td>29.976523</td>\n",
       "      <td>158.445715</td>\n",
       "      <td>5.283089</td>\n",
       "      <td>4.711807</td>\n",
       "      <td>2.024876</td>\n",
       "      <td>2.027882</td>\n",
       "    </tr>\n",
       "    <tr>\n",
       "      <td>1</td>\n",
       "      <td>0.510839</td>\n",
       "      <td>0.768143</td>\n",
       "      <td>0.355325</td>\n",
       "      <td>0.183789</td>\n",
       "      <td>0.902922</td>\n",
       "      <td>1.728558</td>\n",
       "      <td>0.268615</td>\n",
       "      <td>26.989632</td>\n",
       "      <td>115.082899</td>\n",
       "      <td>1.662582</td>\n",
       "      <td>0.990575</td>\n",
       "      <td>1.474995</td>\n",
       "      <td>1.044546</td>\n",
       "    </tr>\n",
       "  </tbody>\n",
       "</table>\n",
       "</div>"
      ],
      "text/plain": [
       "         gender  Near_Location   Partner  Promo_friends     Phone  \\\n",
       "Churn                                                               \n",
       "0      0.510037       0.873086  0.534195       0.353522  0.903709   \n",
       "1      0.510839       0.768143  0.355325       0.183789  0.902922   \n",
       "\n",
       "       Contract_period  Group_visits        Age  Avg_additional_charges_total  \\\n",
       "Churn                                                                           \n",
       "0             5.747193      0.464103  29.976523                    158.445715   \n",
       "1             1.728558      0.268615  26.989632                    115.082899   \n",
       "\n",
       "       Month_to_end_contract  Lifetime  Avg_class_frequency_total  \\\n",
       "Churn                                                               \n",
       "0                   5.283089  4.711807                   2.024876   \n",
       "1                   1.662582  0.990575                   1.474995   \n",
       "\n",
       "       Avg_class_frequency_current_month  \n",
       "Churn                                     \n",
       "0                               2.027882  \n",
       "1                               1.044546  "
      ]
     },
     "execution_count": 8,
     "metadata": {},
     "output_type": "execute_result"
    }
   ],
   "source": [
    "gym_churn.groupby('Churn').mean()"
   ]
  },
  {
   "cell_type": "markdown",
   "metadata": {},
   "source": [
    "`Средняя длительность текущего действующего абонемента` (Contract_period) у тех, кто:\n",
    "\n",
    "- остался - 5-6 месяцев (5.747193);\n",
    "\n",
    "- ушел - 1-2 месяца (1.728558).\n",
    "\n",
    "\n",
    "\n",
    "`Средний возраст клиентов фитнес-клуба` (Age) у тех, кто:\n",
    "\n",
    "- остался - 29 - 30 лет (29.976523);\n",
    "\n",
    "- ушел - 26 - 27 лет (26.989632).\n",
    "\n",
    "\n",
    "\n",
    "`Средняя суммарная выручка от других услуг` фитнес-центра (Avg_additional_charges_total) у тех, кто:\n",
    "\n",
    "- остался - 158.44 (158.445715);\n",
    "\n",
    "- ушел - 115.08 (115.082899).\n",
    "\n",
    "\n",
    "`Средний срок до окончания текущего действующего абонемента` (Month_to_end_contract) у тех, кто:\n",
    "\n",
    "- остался - 5 месяцев (5.283089);\n",
    "\n",
    "- ушел - 1-2 месяца (1.662582).\n",
    "\n",
    "\n",
    "`Среднее время с момента первого обращения` в фитнес-центр (Lifetime) у тех, кто:\n",
    "\n",
    "- остался - 4 месяца (4.711807);\n",
    "\n",
    "- ушел - до 1 месяца (0.990575).\n",
    "\n",
    "\n",
    "`Средняя частота посещений в неделю за все время` с начала действия абонемента (Avg_class_frequency_total) у тех, кто:\n",
    "\n",
    "- остался - 2 раза в неделю (2.024876);\n",
    "\n",
    "- ушел - 1 раз в неделю (1.474995).\n",
    "\n",
    "\n",
    "`Средняя частота посещений в неделю за предыдущий месяц` (Avg_class_frequency_current_month) у тех, кто:\n",
    "\n",
    "- остался - 2 раза в неделю (2.027882);\n",
    "\n",
    "- ушел - 1 раз в неделю (1.044546).\n"
   ]
  },
  {
   "cell_type": "markdown",
   "metadata": {},
   "source": [
    "### Гистограммы  распределения признаков.\n",
    "\n",
    "Посмотрим, как распределяются значения признаков для тех клиентов, кто ушёл (отток) и тех, кто остался (не попали в отток).\n",
    "\n",
    "Разделим клиентов по признаку оттока на тех, кто ушел (`gym_lost`) и остался (`gym_not_lost`)."
   ]
  },
  {
   "cell_type": "code",
   "execution_count": 9,
   "metadata": {},
   "outputs": [],
   "source": [
    "gym_lost = gym_churn[gym_churn['Churn'] == 1]\n",
    "\n",
    "gym_not_lost = gym_churn[gym_churn['Churn'] != 1]"
   ]
  },
  {
   "cell_type": "markdown",
   "metadata": {},
   "source": [
    "Построим `гистограммы распределения признаков` по группам."
   ]
  },
  {
   "cell_type": "code",
   "execution_count": 10,
   "metadata": {
    "scrolled": false
   },
   "outputs": [
    {
     "data": {
      "image/png": "[encoded data removed]",
      "text/plain": [
       "<Figure size 1080x2304 with 14 Axes>"
      ]
     },
     "metadata": {},
     "output_type": "display_data"
    }
   ],
   "source": [
    "#для тех, кто ушел\n",
    "\n",
    "fig, axs = plt.subplots(7, 2, figsize = (15,32))\n",
    "a = 0\n",
    "b = 0\n",
    "for name in gym_lost.columns:\n",
    "    axs[a, b].hist(gym_lost[name], bins = 20)\n",
    "    axs[a, b].set_title(name)\n",
    "    if b == 0:\n",
    "        b = 1\n",
    "    else:\n",
    "        a += 1\n",
    "        b = 0"
   ]
  },
  {
   "cell_type": "markdown",
   "metadata": {},
   "source": [
    "Для тех, кто **ушел в отток** чаще характерно:\n",
    "\n",
    "- проживание или работа в районе, где находится фитнес-центр (Near_Location);\n",
    "\n",
    "\n",
    "- не являлись сотрудником компании-партнёра клуба (Partner);\n",
    "\n",
    "\n",
    "- отсутствие факта первоначальной записи в рамках акции «приведи друга» (Promo_friends);\n",
    "\n",
    "\n",
    "- оставляли номер телефона (Phone);\n",
    "\n",
    "\n",
    "- длительность текущего действующего абонемента (Contract_period) - `1 месяц`;\n",
    "\n",
    "\n",
    "- отсутствие факта посещения групповых занятий (Group_visits);\n",
    "\n",
    "\n",
    "- средний возрас (Age) - `26-29 лет`;\n",
    "\n",
    "\n",
    "- принесли среднюю суммарную выручку от других услуг фитнес-центра (Avg_additional_charges_total) - `до 120`;\n",
    "\n",
    "\n",
    "- срок до окончания текущего действующего абонемента (Month_to_end_contract) - `1 месяц`;\n",
    "\n",
    "\n",
    "- время с момента первого обращения в фитнес-центр (Lifetime) - `до 1 месяца`;\n",
    "\n",
    "\n",
    "- средняя частота посещений в неделю за все время с начала действия абонемента (Avg_class_frequency_total) - `1-2 раза` в неделю;\n",
    "\n",
    "\n",
    "- средняя частота посещений в неделю за предыдущий месяц (Avg_class_frequency_current_month) - `0-1 раз` в неделю."
   ]
  },
  {
   "cell_type": "code",
   "execution_count": 11,
   "metadata": {
    "scrolled": true
   },
   "outputs": [
    {
     "data": {
      "image/png": "[encoded data removed]",
      "text/plain": [
       "<Figure size 1080x2304 with 14 Axes>"
      ]
     },
     "metadata": {},
     "output_type": "display_data"
    }
   ],
   "source": [
    "# для тех, кто остался\n",
    "\n",
    "fig1, axs = plt.subplots(7, 2, figsize = (15,32))\n",
    "a = 0\n",
    "b = 0\n",
    "for name in gym_not_lost.columns:\n",
    "    axs[a, b].hist(gym_not_lost[name], bins = 20)\n",
    "    axs[a, b].set_title(name)\n",
    "    \n",
    "    if b == 0:\n",
    "        b = 1\n",
    "    else:\n",
    "        a += 1\n",
    "        b = 0"
   ]
  },
  {
   "cell_type": "markdown",
   "metadata": {},
   "source": [
    "Для тех, кто **остался** чаще характерно:\n",
    "\n",
    "- проживание или работа в районе, где находится фитнес-центр (Near_Location);\n",
    "\n",
    "\n",
    "- являлись сотрудником компании-партнёра клуба (Partner);\n",
    "\n",
    "\n",
    "- отсутствие факта первоначальной записи в рамках акции «приведи друга» (Promo_friends);\n",
    "\n",
    "\n",
    "- оставляли номер телефона (Phone);\n",
    "\n",
    "\n",
    "- длительность текущего действующего абонемента (Contract_period) - `1 месяц`;\n",
    "\n",
    "\n",
    "- присутствует факт посещения групповых занятий (Group_visits) (разница не так значительна: кто-то посещал, а кто-то - нет);\n",
    "\n",
    "\n",
    "- средний возрас (Age) - `27-31 лет`;\n",
    "\n",
    "\n",
    "- принесли среднюю суммарную выручку от других услуг фитнес-центра (Avg_additional_charges_total) - `до 250`;\n",
    "\n",
    "\n",
    "- срок до окончания текущего действующего абонемента (Month_to_end_contract) - `1 месяц`;\n",
    "\n",
    "\n",
    "- время с момента первого обращения в фитнес-центр (Lifetime) - `до 5 месяцев`;\n",
    "\n",
    "\n",
    "- средняя частота посещений в неделю за все время с начала действия абонемента (Avg_class_frequency_total) - `2-3 раза` в неделю;\n",
    "\n",
    "\n",
    "- средняя частота посещений в неделю за предыдущий месяц (Avg_class_frequency_current_month) - `2-3 раза` в неделю."
   ]
  },
  {
   "cell_type": "markdown",
   "metadata": {},
   "source": [
    "### Корреляция признаков\n",
    "\n",
    "- Расчитаем корреляции для интервальных/ранговых и номинальных признаков по отдельности;\n",
    "\n",
    "\n",
    "- Построим матрицы корреляции для тех, кто попал в отток и кто остался."
   ]
  },
  {
   "cell_type": "markdown",
   "metadata": {},
   "source": [
    "Определим степень зависимости признаков по шкале Чеддока:\n",
    "\n",
    "<html>\n",
    " <head>\n",
    "  <meta charset=\"utf-8\">\n",
    " </head>\n",
    " <body>\n",
    "  <table border=\"1\", align=\"left\">\n",
    "   <tr>\n",
    "    <th>Значение</th>\n",
    "    <th>Связь</th>\n",
    "   </tr>\n",
    "   <tr>\n",
    "    <td>0.1 - 0.3</td>\n",
    "    <td>Слабая</td>\n",
    "   </tr>   \n",
    "   <tr>\n",
    "    <td>0.3 - 0.5</td>\n",
    "    <td>Умеренная</td>\n",
    "    </tr>\n",
    "    <tr>\n",
    "    <td>0.5 - 0.7</td>\n",
    "    <td>Заметная</td>\n",
    "    </tr>\n",
    "    <tr>\n",
    "    <td>0.7 - 0.9</td>\n",
    "    <td>Высокая</td>\n",
    "    </tr>\n",
    "    <tr>\n",
    "    <td>0.9 - 0,99</td>\n",
    "    <td>Весьма высокая</td>\n",
    "  </tr>\n",
    " </table>\n",
    " </body>\n",
    "</html>"
   ]
  },
  {
   "cell_type": "markdown",
   "metadata": {},
   "source": [
    "`Разделим столбцы по типам шкал`, к которым относятся переменные:\n",
    "\n",
    "- интервальные и ранговые признаки (`numerical`);\n",
    "\n",
    "- номинальные признаки (`nominal`).\n",
    "\n"
   ]
  },
  {
   "cell_type": "code",
   "execution_count": 12,
   "metadata": {},
   "outputs": [],
   "source": [
    "numerical = [\n",
    "                'Age', 'Avg_additional_charges_total', \n",
    "                 'Month_to_end_contract', 'Lifetime', 'Contract_period',\n",
    "                 'Avg_class_frequency_total', 'Avg_class_frequency_current_month'\n",
    "            ]\n",
    "\n",
    "nominal = [\n",
    "                'gender', 'Near_Location', 'Partner', \n",
    "                'Promo_friends', 'Phone', \n",
    "                'Group_visits', 'Churn'\n",
    "            ]"
   ]
  },
  {
   "cell_type": "markdown",
   "metadata": {},
   "source": [
    "`Разобьем таблицы` тех, кто попал в отток и кто остался, по типам шкал для вычисления коэффициентов корреляции."
   ]
  },
  {
   "cell_type": "code",
   "execution_count": 13,
   "metadata": {},
   "outputs": [],
   "source": [
    "gym_lost_nominal = gym_lost.drop(numerical, axis = 1).drop('Churn', axis = 1) #отток - номинальные\n",
    "gym_lost_numerical = gym_lost.drop(nominal, axis = 1) #отток - интервальные и ранговые\n",
    "\n",
    "gym_not_lost_nominal = gym_not_lost.drop(numerical, axis = 1).drop('Churn', axis = 1) # остались - номинальные\n",
    "gym_not_lost_numerical = gym_not_lost.drop(nominal, axis = 1) #остались - интервальные и ранговые"
   ]
  },
  {
   "cell_type": "markdown",
   "metadata": {},
   "source": [
    "Найдем `коэффициенты V Крамера для номинальных` признаков.\n",
    "\n",
    "Напишем `функцию`, которая будет:\n",
    "\n",
    "- расчитывать коэффициент для каждой позиции на пересечении столбцов;\n",
    "\n",
    "\n",
    "- создавать датафрейм для дальнейшей визуализации."
   ]
  },
  {
   "cell_type": "code",
   "execution_count": 14,
   "metadata": {},
   "outputs": [],
   "source": [
    "def cramers_table(dataframe):\n",
    "    \n",
    "    #функция для расчета коэффициента Крамера\n",
    "    def cramers_v(x, y):\n",
    "        confusion_matrix = pd.crosstab(x,y)\n",
    "        chi2 = chi2_contingency(confusion_matrix)[0]\n",
    "        n = confusion_matrix.sum().sum()\n",
    "        phi2 = chi2/n\n",
    "        r,k = confusion_matrix.shape\n",
    "        phi2corr = max(0, phi2-((k-1)*(r-1))/(n-1))\n",
    "        rcorr = r-((r-1)**2)/(n-1)\n",
    "        kcorr = k-((k-1)**2)/(n-1)\n",
    "        return np.sqrt(phi2corr/min((kcorr-1),(rcorr-1)))\n",
    "    \n",
    "    #перебираем каждый столбец и соседствующий с ним для расчета коэффициента корреляции\n",
    "    data = []\n",
    "    for name in dataframe.columns:\n",
    "        p = []\n",
    "        for next_name in dataframe.columns:\n",
    "            value = cramers_v(dataframe[name], dataframe[next_name])\n",
    "            p.append(value)\n",
    "        data.append(p)\n",
    "    \n",
    "    #возвращаем датафрейм с коэффициентами корреляции номинальных признаков\n",
    "    return pd.DataFrame(data = data, columns = dataframe.columns, index = dataframe.columns)"
   ]
  },
  {
   "cell_type": "markdown",
   "metadata": {},
   "source": [
    "`Применим функцию `для gym_not_lost_nominal (остались) и gym_lost_nominal (ушли в отток)"
   ]
  },
  {
   "cell_type": "code",
   "execution_count": 15,
   "metadata": {},
   "outputs": [
    {
     "data": {
      "text/html": [
       "<div>\n",
       "<style scoped>\n",
       "    .dataframe tbody tr th:only-of-type {\n",
       "        vertical-align: middle;\n",
       "    }\n",
       "\n",
       "    .dataframe tbody tr th {\n",
       "        vertical-align: top;\n",
       "    }\n",
       "\n",
       "    .dataframe thead th {\n",
       "        text-align: right;\n",
       "    }\n",
       "</style>\n",
       "<table border=\"1\" class=\"dataframe\">\n",
       "  <thead>\n",
       "    <tr style=\"text-align: right;\">\n",
       "      <th></th>\n",
       "      <th>gender</th>\n",
       "      <th>Near_Location</th>\n",
       "      <th>Partner</th>\n",
       "      <th>Promo_friends</th>\n",
       "      <th>Phone</th>\n",
       "      <th>Group_visits</th>\n",
       "    </tr>\n",
       "  </thead>\n",
       "  <tbody>\n",
       "    <tr>\n",
       "      <td>gender</td>\n",
       "      <td>0.999319</td>\n",
       "      <td>0.000000</td>\n",
       "      <td>0.000000</td>\n",
       "      <td>0.000000</td>\n",
       "      <td>0.000000</td>\n",
       "      <td>0.000000</td>\n",
       "    </tr>\n",
       "    <tr>\n",
       "      <td>Near_Location</td>\n",
       "      <td>0.000000</td>\n",
       "      <td>0.998464</td>\n",
       "      <td>0.000000</td>\n",
       "      <td>0.196654</td>\n",
       "      <td>0.000000</td>\n",
       "      <td>0.145634</td>\n",
       "    </tr>\n",
       "    <tr>\n",
       "      <td>Partner</td>\n",
       "      <td>0.000000</td>\n",
       "      <td>0.000000</td>\n",
       "      <td>0.999316</td>\n",
       "      <td>0.454098</td>\n",
       "      <td>0.007889</td>\n",
       "      <td>0.000000</td>\n",
       "    </tr>\n",
       "    <tr>\n",
       "      <td>Promo_friends</td>\n",
       "      <td>0.000000</td>\n",
       "      <td>0.196654</td>\n",
       "      <td>0.454098</td>\n",
       "      <td>0.999255</td>\n",
       "      <td>0.000000</td>\n",
       "      <td>0.097177</td>\n",
       "    </tr>\n",
       "    <tr>\n",
       "      <td>Phone</td>\n",
       "      <td>0.000000</td>\n",
       "      <td>0.000000</td>\n",
       "      <td>0.007889</td>\n",
       "      <td>0.000000</td>\n",
       "      <td>0.998044</td>\n",
       "      <td>0.000000</td>\n",
       "    </tr>\n",
       "    <tr>\n",
       "      <td>Group_visits</td>\n",
       "      <td>0.000000</td>\n",
       "      <td>0.145634</td>\n",
       "      <td>0.000000</td>\n",
       "      <td>0.097177</td>\n",
       "      <td>0.000000</td>\n",
       "      <td>0.999316</td>\n",
       "    </tr>\n",
       "  </tbody>\n",
       "</table>\n",
       "</div>"
      ],
      "text/plain": [
       "                 gender  Near_Location   Partner  Promo_friends     Phone  \\\n",
       "gender         0.999319       0.000000  0.000000       0.000000  0.000000   \n",
       "Near_Location  0.000000       0.998464  0.000000       0.196654  0.000000   \n",
       "Partner        0.000000       0.000000  0.999316       0.454098  0.007889   \n",
       "Promo_friends  0.000000       0.196654  0.454098       0.999255  0.000000   \n",
       "Phone          0.000000       0.000000  0.007889       0.000000  0.998044   \n",
       "Group_visits   0.000000       0.145634  0.000000       0.097177  0.000000   \n",
       "\n",
       "               Group_visits  \n",
       "gender             0.000000  \n",
       "Near_Location      0.145634  \n",
       "Partner            0.000000  \n",
       "Promo_friends      0.097177  \n",
       "Phone              0.000000  \n",
       "Group_visits       0.999316  "
      ]
     },
     "execution_count": 15,
     "metadata": {},
     "output_type": "execute_result"
    }
   ],
   "source": [
    "cramers_table(gym_not_lost_nominal)"
   ]
  },
  {
   "cell_type": "code",
   "execution_count": 16,
   "metadata": {},
   "outputs": [
    {
     "data": {
      "text/html": [
       "<div>\n",
       "<style scoped>\n",
       "    .dataframe tbody tr th:only-of-type {\n",
       "        vertical-align: middle;\n",
       "    }\n",
       "\n",
       "    .dataframe tbody tr th {\n",
       "        vertical-align: top;\n",
       "    }\n",
       "\n",
       "    .dataframe thead th {\n",
       "        text-align: right;\n",
       "    }\n",
       "</style>\n",
       "<table border=\"1\" class=\"dataframe\">\n",
       "  <thead>\n",
       "    <tr style=\"text-align: right;\">\n",
       "      <th></th>\n",
       "      <th>gender</th>\n",
       "      <th>Near_Location</th>\n",
       "      <th>Partner</th>\n",
       "      <th>Promo_friends</th>\n",
       "      <th>Phone</th>\n",
       "      <th>Group_visits</th>\n",
       "    </tr>\n",
       "  </thead>\n",
       "  <tbody>\n",
       "    <tr>\n",
       "      <td>gender</td>\n",
       "      <td>0.998112</td>\n",
       "      <td>0.000000</td>\n",
       "      <td>0.000000</td>\n",
       "      <td>0.000000</td>\n",
       "      <td>0.000000</td>\n",
       "      <td>0.000000</td>\n",
       "    </tr>\n",
       "    <tr>\n",
       "      <td>Near_Location</td>\n",
       "      <td>0.000000</td>\n",
       "      <td>0.997351</td>\n",
       "      <td>0.035701</td>\n",
       "      <td>0.192041</td>\n",
       "      <td>0.000000</td>\n",
       "      <td>0.104351</td>\n",
       "    </tr>\n",
       "    <tr>\n",
       "      <td>Partner</td>\n",
       "      <td>0.000000</td>\n",
       "      <td>0.035701</td>\n",
       "      <td>0.997941</td>\n",
       "      <td>0.376247</td>\n",
       "      <td>0.000000</td>\n",
       "      <td>0.000000</td>\n",
       "    </tr>\n",
       "    <tr>\n",
       "      <td>Promo_friends</td>\n",
       "      <td>0.000000</td>\n",
       "      <td>0.192041</td>\n",
       "      <td>0.376247</td>\n",
       "      <td>0.996856</td>\n",
       "      <td>0.000000</td>\n",
       "      <td>0.065186</td>\n",
       "    </tr>\n",
       "    <tr>\n",
       "      <td>Phone</td>\n",
       "      <td>0.000000</td>\n",
       "      <td>0.000000</td>\n",
       "      <td>0.000000</td>\n",
       "      <td>0.000000</td>\n",
       "      <td>0.994619</td>\n",
       "      <td>0.028501</td>\n",
       "    </tr>\n",
       "    <tr>\n",
       "      <td>Group_visits</td>\n",
       "      <td>0.000000</td>\n",
       "      <td>0.104351</td>\n",
       "      <td>0.000000</td>\n",
       "      <td>0.065186</td>\n",
       "      <td>0.028501</td>\n",
       "      <td>0.997599</td>\n",
       "    </tr>\n",
       "  </tbody>\n",
       "</table>\n",
       "</div>"
      ],
      "text/plain": [
       "                 gender  Near_Location   Partner  Promo_friends     Phone  \\\n",
       "gender         0.998112       0.000000  0.000000       0.000000  0.000000   \n",
       "Near_Location  0.000000       0.997351  0.035701       0.192041  0.000000   \n",
       "Partner        0.000000       0.035701  0.997941       0.376247  0.000000   \n",
       "Promo_friends  0.000000       0.192041  0.376247       0.996856  0.000000   \n",
       "Phone          0.000000       0.000000  0.000000       0.000000  0.994619   \n",
       "Group_visits   0.000000       0.104351  0.000000       0.065186  0.028501   \n",
       "\n",
       "               Group_visits  \n",
       "gender             0.000000  \n",
       "Near_Location      0.104351  \n",
       "Partner            0.000000  \n",
       "Promo_friends      0.065186  \n",
       "Phone              0.028501  \n",
       "Group_visits       0.997599  "
      ]
     },
     "execution_count": 16,
     "metadata": {},
     "output_type": "execute_result"
    }
   ],
   "source": [
    "cramers_table(gym_lost_nominal)"
   ]
  },
  {
   "cell_type": "markdown",
   "metadata": {},
   "source": [
    "### Матрицы корреляции признаков"
   ]
  },
  {
   "cell_type": "markdown",
   "metadata": {},
   "source": [
    "`Визуализируем наши данные`, чтобы нагляднее увидеть взаимосвязи признаков.\n",
    "\n",
    "Для интервальных и ранговых признаков используем `метод Спирмена`."
   ]
  },
  {
   "cell_type": "code",
   "execution_count": 17,
   "metadata": {},
   "outputs": [
    {
     "data": {
      "image/png": "[encoded data removed]",
      "text/plain": [
       "<Figure size 864x432 with 2 Axes>"
      ]
     },
     "metadata": {},
     "output_type": "display_data"
    }
   ],
   "source": [
    "#корреляция интервальных и ранговых признаков\n",
    "#для тех, кто ушел в отток\n",
    "\n",
    "plt.figure(figsize = (12,6))\n",
    "sns.heatmap(gym_lost_numerical.corr(method = 'spearman'), annot = True, fmt = '.2f',  square=True)\n",
    "\n",
    "plt.title('Матрица корреляций интервальных и ранговых признаков для тех, кто ушел')\n",
    "plt.show()"
   ]
  },
  {
   "cell_type": "markdown",
   "metadata": {},
   "source": [
    "Между признаками у тех, кто ушел в отток, наблюдаются:\n",
    "\n",
    "**Весьма высокая зависимость** между `Contract_period` (длительностью текущего действующего абонемента) и `Month_to_end_contract` (сроком до окончания текущего действующего абонемента) - `1`. \n",
    "\n",
    "Эта зависимость логична и ожидаема.\n",
    "\n",
    "**Высокая зависимость** между `Avg_class_frequency_total` (средней частотой посещений в неделю за все время с начала действия абонемента) и `Avg_class_frequency_current_month` (средняя частота посещений в неделю за предыдущий месяц) - `0.8`. \n",
    "\n",
    "Исходя из условий и ритма жизни, клиенты фитнес-клуба стабильно придерживались удобного для себя режима посещений."
   ]
  },
  {
   "cell_type": "code",
   "execution_count": 18,
   "metadata": {},
   "outputs": [
    {
     "data": {
      "image/png": "[encoded data removed]",
      "text/plain": [
       "<Figure size 864x432 with 2 Axes>"
      ]
     },
     "metadata": {},
     "output_type": "display_data"
    }
   ],
   "source": [
    "#корреляция номинальных признаков\n",
    "#для тех, кто ушел в отток\n",
    "\n",
    "plt.figure(figsize = (12,6))\n",
    "sns.heatmap(cramers_table(gym_lost_nominal), annot = True, fmt = '.2f',  square=True)\n",
    "\n",
    "plt.title('Матрица корреляций номинальных признаков для тех, кто ушел')\n",
    "plt.show()"
   ]
  },
  {
   "cell_type": "markdown",
   "metadata": {},
   "source": [
    "**Умеренная** связь между `Promo_friends` (фактом первоначальной записи в рамках акции «приведи друга») и `Partner` (сотрудник компании-партнёра клуба) - `0.38`.\n",
    "\n",
    "Сотрудников компании-партнёра клуба обычно приводили коллеги, знакомые или друзья.\n",
    "\n",
    "**Слабая** связь наблюдаются между `Near_Location и Promo_friends` - `0.19`.\n",
    "\n",
    "Кто-то мог работать вблизи фитнес-клуба и, вполне вероятно, он привел своего коллегу, который записался в рамках акции «приведи друга»."
   ]
  },
  {
   "cell_type": "code",
   "execution_count": 19,
   "metadata": {},
   "outputs": [
    {
     "data": {
      "image/png": "[encoded data removed]",
      "text/plain": [
       "<Figure size 864x432 with 2 Axes>"
      ]
     },
     "metadata": {},
     "output_type": "display_data"
    }
   ],
   "source": [
    "#корреляция интервальных и ранговых признаков\n",
    "# для тех, кто остался\n",
    "\n",
    "plt.figure(figsize = (12,6))\n",
    "sns.heatmap(gym_not_lost_numerical.corr(method = 'spearman'), annot = True, fmt = '.2f',  square=True)\n",
    "\n",
    "plt.title('Матрица корреляций интервальных и ранговых признаков для тех, кто остался')\n",
    "plt.show()"
   ]
  },
  {
   "cell_type": "markdown",
   "metadata": {},
   "source": [
    "Между признаками у тех, кто остался, можно увидеть:\n",
    "\n",
    "**Весьма высокую зависимость** между:\n",
    "\n",
    "- `Avg_class_frequency_total` (средней частотой посещений в неделю за все время с начала действия абонемента) и `Avg_class_frequency_current_month` (средняя частота посещений в неделю за предыдущий месяц) - `0.99`. \n",
    "\n",
    "Исходя из условий и ритма жизни, клиенты фитнес-клуба стабильно придерживаются удобного для себя режима посещений.\n",
    "\n",
    "- `Contract_period` (длительностью текущего действующего абонемента) и `Month_to_end_contract` (сроком до окончания текущего действующего абонемента) - `0.97`. \n",
    "\n",
    "Эта зависимость логична и ожидаема."
   ]
  },
  {
   "cell_type": "code",
   "execution_count": 20,
   "metadata": {},
   "outputs": [
    {
     "data": {
      "image/png": "[encoded data removed]",
      "text/plain": [
       "<Figure size 864x432 with 2 Axes>"
      ]
     },
     "metadata": {},
     "output_type": "display_data"
    }
   ],
   "source": [
    "#корреляция номинальных признаков\n",
    "#для тех, кто ушел в отток\n",
    "\n",
    "plt.figure(figsize = (12,6))\n",
    "sns.heatmap(cramers_table(gym_not_lost_nominal), annot = True, fmt = '.2f',  square=True)\n",
    "\n",
    "plt.title('Матрица корреляций номинальных признаков для тех, кто остался')\n",
    "plt.show()"
   ]
  },
  {
   "cell_type": "markdown",
   "metadata": {},
   "source": [
    "**Умеренная** связь между `Promo_friends` (фактом первоначальной записи в рамках акции «приведи друга») и `Partner` (сотрудник компании-партнёра клуба) - `0.46`.\n",
    "\n",
    "Сотрудников компании-партнёра клуба обычно приводят коллеги, знакомые или друзья.\n",
    "\n",
    "**Слабые** связи наблюдаются между:\n",
    "\n",
    "- `Near_Location и Promo_friends` - `0.2`.\n",
    "\n",
    "Кто-то может работать недалеко от фитнес-клуба и, вполне вероятно, он привел своего коллегу, который записался в рамках акции «приведи друга».\n",
    "\n",
    "- `Near_Location и Group_visits` - `0.15`.\n",
    "\n",
    "Кто-то из клиентов, мог посещать групповые занятия с коллегами или знакомыми (если живет или работает недалеко от фитнес-клуба)."
   ]
  },
  {
   "cell_type": "markdown",
   "metadata": {},
   "source": [
    "Проанализируем **взаимосвязь  признаков с целевой переменной** (Churn)."
   ]
  },
  {
   "cell_type": "code",
   "execution_count": 21,
   "metadata": {},
   "outputs": [
    {
     "data": {
      "text/html": [
       "<div>\n",
       "<style scoped>\n",
       "    .dataframe tbody tr th:only-of-type {\n",
       "        vertical-align: middle;\n",
       "    }\n",
       "\n",
       "    .dataframe tbody tr th {\n",
       "        vertical-align: top;\n",
       "    }\n",
       "\n",
       "    .dataframe thead th {\n",
       "        text-align: right;\n",
       "    }\n",
       "</style>\n",
       "<table border=\"1\" class=\"dataframe\">\n",
       "  <thead>\n",
       "    <tr style=\"text-align: right;\">\n",
       "      <th></th>\n",
       "      <th>index</th>\n",
       "      <th>Churn</th>\n",
       "    </tr>\n",
       "  </thead>\n",
       "  <tbody>\n",
       "    <tr>\n",
       "      <td>0</td>\n",
       "      <td>Lifetime</td>\n",
       "      <td>-0.58</td>\n",
       "    </tr>\n",
       "    <tr>\n",
       "      <td>1</td>\n",
       "      <td>Avg_class_frequency_current_month</td>\n",
       "      <td>-0.42</td>\n",
       "    </tr>\n",
       "    <tr>\n",
       "      <td>2</td>\n",
       "      <td>Contract_period</td>\n",
       "      <td>-0.40</td>\n",
       "    </tr>\n",
       "    <tr>\n",
       "      <td>3</td>\n",
       "      <td>Age</td>\n",
       "      <td>-0.40</td>\n",
       "    </tr>\n",
       "    <tr>\n",
       "      <td>4</td>\n",
       "      <td>Month_to_end_contract</td>\n",
       "      <td>-0.40</td>\n",
       "    </tr>\n",
       "    <tr>\n",
       "      <td>5</td>\n",
       "      <td>Avg_class_frequency_total</td>\n",
       "      <td>-0.25</td>\n",
       "    </tr>\n",
       "    <tr>\n",
       "      <td>6</td>\n",
       "      <td>Avg_additional_charges_total</td>\n",
       "      <td>-0.19</td>\n",
       "    </tr>\n",
       "    <tr>\n",
       "      <td>7</td>\n",
       "      <td>Group_visits</td>\n",
       "      <td>-0.18</td>\n",
       "    </tr>\n",
       "    <tr>\n",
       "      <td>8</td>\n",
       "      <td>Partner</td>\n",
       "      <td>-0.16</td>\n",
       "    </tr>\n",
       "    <tr>\n",
       "      <td>9</td>\n",
       "      <td>Promo_friends</td>\n",
       "      <td>-0.16</td>\n",
       "    </tr>\n",
       "    <tr>\n",
       "      <td>10</td>\n",
       "      <td>Near_Location</td>\n",
       "      <td>-0.13</td>\n",
       "    </tr>\n",
       "    <tr>\n",
       "      <td>11</td>\n",
       "      <td>gender</td>\n",
       "      <td>0.00</td>\n",
       "    </tr>\n",
       "    <tr>\n",
       "      <td>12</td>\n",
       "      <td>Phone</td>\n",
       "      <td>-0.00</td>\n",
       "    </tr>\n",
       "    <tr>\n",
       "      <td>13</td>\n",
       "      <td>Churn</td>\n",
       "      <td>1.00</td>\n",
       "    </tr>\n",
       "  </tbody>\n",
       "</table>\n",
       "</div>"
      ],
      "text/plain": [
       "                                index  Churn\n",
       "0                            Lifetime  -0.58\n",
       "1   Avg_class_frequency_current_month  -0.42\n",
       "2                     Contract_period  -0.40\n",
       "3                                 Age  -0.40\n",
       "4               Month_to_end_contract  -0.40\n",
       "5           Avg_class_frequency_total  -0.25\n",
       "6        Avg_additional_charges_total  -0.19\n",
       "7                        Group_visits  -0.18\n",
       "8                             Partner  -0.16\n",
       "9                       Promo_friends  -0.16\n",
       "10                      Near_Location  -0.13\n",
       "11                             gender   0.00\n",
       "12                              Phone  -0.00\n",
       "13                              Churn   1.00"
      ]
     },
     "execution_count": 21,
     "metadata": {},
     "output_type": "execute_result"
    }
   ],
   "source": [
    "round(gym_churn.corr(method = 'spearman')['Churn'], 2).sort_values().reset_index()"
   ]
  },
  {
   "cell_type": "markdown",
   "metadata": {},
   "source": [
    "Коэффициенты корреляции - отрицательные, значит мы наблюдаем `обратные взаимосвязи`.\n",
    "\n",
    "**Заметная взаимосвязь** между целевой переменной и `Lifetime` (время, с момента первого посещения фитнес-клуба) - `-0.58`.\n",
    "\n",
    "Чем дольше клиент посещает фитнес-клуб, тем ниже шанс, что клиент попадет в отток.\n",
    "\n",
    "**Умеренные корреляции** между целевой переменной и:\n",
    "\n",
    "- частотой посещений в неделю за предыдущий месяц (`Avg_class_frequency_current_month`) (-0.42).\n",
    "\n",
    "Чем чаще клиент посещал фитнес-клуб за предыдущий месяц, тем ниже вероятность его попадения в отток.\n",
    "\n",
    "- длительностью текущего действующего абонемента (`Contract_period`) (-0.4).\n",
    "\n",
    "Если клиент приобрел абонемент больше, чем на 1 месяц, то вероятность его попадения в отток снижается.\n",
    "\n",
    "- возрастом клиентов (`Age`) (-0.4).\n",
    "\n",
    "Чем старше клиент, тем ниже вероятность, что он уйдет.\n",
    "\n",
    "- сроком до окончания текущего действующего абонемента (`Month_to_end_contract`) (-0.4).\n",
    "\n",
    "Если срок до окончания абонемента больше, чем 1 месяц, то вероятность, что клиент уйдет ниже."
   ]
  },
  {
   "cell_type": "markdown",
   "metadata": {},
   "source": [
    "### Вывод"
   ]
  },
  {
   "cell_type": "markdown",
   "metadata": {},
   "source": [
    "Проведя исследовательский анализ данных, были определены **средние значения признаков** для тех клинтов, кто попал в отток и кто остался.\n",
    "\n",
    "`Средняя длительность текущего действующего абонемента` (Contract_period) у тех, кто:\n",
    "\n",
    "- остался - 1 месяц, но `чаще покупают абонементы на 6 и 12 месяцев`;\n",
    "\n",
    "- ушел - 1 месяц, почти не покупают абонементы на 6 и 12 месяцев.\n",
    "\n",
    "\n",
    "\n",
    "`Средний возраст клиентов фитнес-клуба` (Age) у тех, кто:\n",
    "\n",
    "- остался - 27 - 31 год;\n",
    "\n",
    "- ушел - 26 - 29 лет.\n",
    "\n",
    "\n",
    "\n",
    "`Средняя суммарная выручка от других услуг` фитнес-центра (Avg_additional_charges_total) у тех, кто:\n",
    "\n",
    "- остался - до 250;\n",
    "\n",
    "- ушел - до 120.\n",
    "\n",
    "\n",
    "`Средний срок до окончания текущего действующего абонемента` (Month_to_end_contract) у тех, кто:\n",
    "\n",
    "- остался - 1 месяц (встречаются и другие значения: следующие по рейтингу 6 и 12 месяцев);\n",
    "\n",
    "- ушел - 1 месяц (другие значения почти не встречаются).\n",
    "\n",
    "\n",
    "`Среднее время с момента первого обращения` в фитнес-центр (Lifetime) у тех, кто:\n",
    "\n",
    "- остался - до 5 месяцев;\n",
    "\n",
    "- ушел - до 1 месяца.\n",
    "\n",
    "\n",
    "`Средняя частота посещений в неделю за все время` с начала действия абонемента (Avg_class_frequency_total) у тех, кто:\n",
    "\n",
    "- остался - 2-3 раза в неделю;\n",
    "\n",
    "- ушел - 1 раз в неделю.\n",
    "\n",
    "\n",
    "`Средняя частота посещений в неделю за предыдущий месяц` (Avg_class_frequency_current_month) у тех, кто:\n",
    "\n",
    "- остался - 2-3 раза в неделю;\n",
    "\n",
    "- ушел - 0-1 раз в неделю.\n",
    "\n",
    "\n",
    "Особых **корреляций между признаками** выявлено не было. \n",
    "\n",
    "В обеих группах наблюдаются ***высокие зависимости*** между `Avg_class_frequency_total` (средней частотой посещений в неделю за все время с начала действия абонемента) и `Avg_class_frequency_current_month` (средняя частота посещений в неделю за предыдущий месяц).\n",
    "\n",
    "Это может говорить о том, что исходя из условий и ритма жизни, клиенты фитнес-клуба стабильно придерживались удобного для себя режима посещений (2-3 раза в неделю или всего один раз - как позволяло время).\n",
    "\n",
    "***Умеренные связи*** между `Promo_friends` (фактом первоначальной записи в рамках акции «приведи друга») и `Partner` (сотрудник компании-партнёра клуба).\n",
    "\n",
    "Можно сказать, что сотрудников компании-партнёра клуба обычно приводили коллеги, знакомые или друзья. Также можно отметить, что сотрудники компании-партнера получали скидки на абонементы. Это предложение изачально заинтересовало клиентов в обеих группах.\n",
    "\n",
    "Также есть и ***слабые связи*** между `Near_Location` (проживание или работа в районе, где находится фитнес-центр) и `Promo_friends` (факт первоначальной записи в рамках акции «приведи друга»).\n",
    "\n",
    "Кто-то мог работать вблизи фитнес-клуба и, вполне вероятно, он привел своего коллегу, который записался в рамках акции «приведи друга».\n",
    "\n",
    "Были проанализированы **взаимосвязи признаков с целевой переменной** (Churn).\n",
    "\n",
    "Коэффициенты корреляции - отрицательные, значит мы наблюдаем `обратные взаимосвязи`.\n",
    "\n",
    "***Заметная взаимосвязь*** между целевой переменной и `Lifetime` (время, с момента первого посещения фитнес-клуба) (-0.58).\n",
    "\n",
    "Чем дольше клиент посещает фитнес-клуб, тем ниже шанс, что клиент попадет в отток.\n",
    "\n",
    "***Умеренные корреляции*** между целевой переменной и:\n",
    "\n",
    "- частотой посещений в неделю за предыдущий месяц (`Avg_class_frequency_current_month`) (-0.42).\n",
    "\n",
    "Чем чаще клиент посещал фитнес-клуб за предыдущий месяц, тем ниже вероятность его попадения в отток.\n",
    "\n",
    "- длительностью текущего действующего абонемента (`Contract_period`) (-0.4).\n",
    "\n",
    "Если клиент приобрел абонемент больше, чем на 1 месяц, то вероятность его попадения в отток снижается.\n",
    "\n",
    "- возрастом клиентов (`Age`) (-0.4).\n",
    "\n",
    "Чем старше клиент, тем ниже вероятность, что он уйдет.\n",
    "\n",
    "- сроком до окончания текущего действующего абонемента (`Month_to_end_contract`) (-0.4).\n",
    "\n",
    "Если срок до окончания абонемента больше, чем 1 месяц, то вероятность, что клиент уйдет ниже."
   ]
  },
  {
   "cell_type": "markdown",
   "metadata": {},
   "source": [
    "## Модель прогнозирования оттока клиентов\n",
    "\n",
    "- Разбьем данные на обучающую и валидационную выборки функцией `train_test_split()`.\n",
    "\n",
    "\n",
    "- Обучим модель на train-выборке двумя способами: `логистической регрессией` и `случайным лесом`.\n",
    "\n",
    "\n",
    "- Оценим метрики `accuracy, precision и recall` для обеих моделей на валидационной выборке."
   ]
  },
  {
   "cell_type": "markdown",
   "metadata": {},
   "source": [
    "Сохраним датафрейм с учётом преобразования признаков в переменной `gym`."
   ]
  },
  {
   "cell_type": "code",
   "execution_count": 22,
   "metadata": {},
   "outputs": [
    {
     "data": {
      "text/html": [
       "<div>\n",
       "<style scoped>\n",
       "    .dataframe tbody tr th:only-of-type {\n",
       "        vertical-align: middle;\n",
       "    }\n",
       "\n",
       "    .dataframe tbody tr th {\n",
       "        vertical-align: top;\n",
       "    }\n",
       "\n",
       "    .dataframe thead th {\n",
       "        text-align: right;\n",
       "    }\n",
       "</style>\n",
       "<table border=\"1\" class=\"dataframe\">\n",
       "  <thead>\n",
       "    <tr style=\"text-align: right;\">\n",
       "      <th></th>\n",
       "      <th>gender</th>\n",
       "      <th>Near_Location</th>\n",
       "      <th>Partner</th>\n",
       "      <th>Promo_friends</th>\n",
       "      <th>Phone</th>\n",
       "      <th>Contract_period</th>\n",
       "      <th>Group_visits</th>\n",
       "      <th>Age</th>\n",
       "      <th>Avg_additional_charges_total</th>\n",
       "      <th>Month_to_end_contract</th>\n",
       "      <th>Lifetime</th>\n",
       "      <th>Avg_class_frequency_total</th>\n",
       "      <th>Avg_class_frequency_current_month</th>\n",
       "      <th>Churn</th>\n",
       "    </tr>\n",
       "  </thead>\n",
       "  <tbody>\n",
       "    <tr>\n",
       "      <td>0</td>\n",
       "      <td>1</td>\n",
       "      <td>1</td>\n",
       "      <td>1</td>\n",
       "      <td>1</td>\n",
       "      <td>0</td>\n",
       "      <td>6</td>\n",
       "      <td>1</td>\n",
       "      <td>29</td>\n",
       "      <td>14.227470</td>\n",
       "      <td>5.0</td>\n",
       "      <td>3</td>\n",
       "      <td>0.020398</td>\n",
       "      <td>0.000000</td>\n",
       "      <td>0</td>\n",
       "    </tr>\n",
       "    <tr>\n",
       "      <td>1</td>\n",
       "      <td>0</td>\n",
       "      <td>1</td>\n",
       "      <td>0</td>\n",
       "      <td>0</td>\n",
       "      <td>1</td>\n",
       "      <td>12</td>\n",
       "      <td>1</td>\n",
       "      <td>31</td>\n",
       "      <td>113.202938</td>\n",
       "      <td>12.0</td>\n",
       "      <td>7</td>\n",
       "      <td>1.922936</td>\n",
       "      <td>1.910244</td>\n",
       "      <td>0</td>\n",
       "    </tr>\n",
       "    <tr>\n",
       "      <td>2</td>\n",
       "      <td>0</td>\n",
       "      <td>1</td>\n",
       "      <td>1</td>\n",
       "      <td>0</td>\n",
       "      <td>1</td>\n",
       "      <td>1</td>\n",
       "      <td>0</td>\n",
       "      <td>28</td>\n",
       "      <td>129.448479</td>\n",
       "      <td>1.0</td>\n",
       "      <td>2</td>\n",
       "      <td>1.859098</td>\n",
       "      <td>1.736502</td>\n",
       "      <td>0</td>\n",
       "    </tr>\n",
       "    <tr>\n",
       "      <td>3</td>\n",
       "      <td>0</td>\n",
       "      <td>1</td>\n",
       "      <td>1</td>\n",
       "      <td>1</td>\n",
       "      <td>1</td>\n",
       "      <td>12</td>\n",
       "      <td>1</td>\n",
       "      <td>33</td>\n",
       "      <td>62.669863</td>\n",
       "      <td>12.0</td>\n",
       "      <td>2</td>\n",
       "      <td>3.205633</td>\n",
       "      <td>3.357215</td>\n",
       "      <td>0</td>\n",
       "    </tr>\n",
       "    <tr>\n",
       "      <td>4</td>\n",
       "      <td>1</td>\n",
       "      <td>1</td>\n",
       "      <td>1</td>\n",
       "      <td>1</td>\n",
       "      <td>1</td>\n",
       "      <td>1</td>\n",
       "      <td>0</td>\n",
       "      <td>26</td>\n",
       "      <td>198.362265</td>\n",
       "      <td>1.0</td>\n",
       "      <td>3</td>\n",
       "      <td>1.113884</td>\n",
       "      <td>1.120078</td>\n",
       "      <td>0</td>\n",
       "    </tr>\n",
       "  </tbody>\n",
       "</table>\n",
       "</div>"
      ],
      "text/plain": [
       "   gender  Near_Location  Partner  Promo_friends  Phone  Contract_period  \\\n",
       "0       1              1        1              1      0                6   \n",
       "1       0              1        0              0      1               12   \n",
       "2       0              1        1              0      1                1   \n",
       "3       0              1        1              1      1               12   \n",
       "4       1              1        1              1      1                1   \n",
       "\n",
       "   Group_visits  Age  Avg_additional_charges_total  Month_to_end_contract  \\\n",
       "0             1   29                     14.227470                    5.0   \n",
       "1             1   31                    113.202938                   12.0   \n",
       "2             0   28                    129.448479                    1.0   \n",
       "3             1   33                     62.669863                   12.0   \n",
       "4             0   26                    198.362265                    1.0   \n",
       "\n",
       "   Lifetime  Avg_class_frequency_total  Avg_class_frequency_current_month  \\\n",
       "0         3                   0.020398                           0.000000   \n",
       "1         7                   1.922936                           1.910244   \n",
       "2         2                   1.859098                           1.736502   \n",
       "3         2                   3.205633                           3.357215   \n",
       "4         3                   1.113884                           1.120078   \n",
       "\n",
       "   Churn  \n",
       "0      0  \n",
       "1      0  \n",
       "2      0  \n",
       "3      0  \n",
       "4      0  "
      ]
     },
     "execution_count": 22,
     "metadata": {},
     "output_type": "execute_result"
    }
   ],
   "source": [
    "gym = pd.get_dummies(gym_churn)\n",
    "\n",
    "gym.head()"
   ]
  },
  {
   "cell_type": "markdown",
   "metadata": {},
   "source": [
    "Разделим наши данные на признаки (`матрица X`) и `целевую переменную` (y).\n",
    "\n",
    "Целевой переменной является факт оттока клиента (`Churn`)"
   ]
  },
  {
   "cell_type": "code",
   "execution_count": 23,
   "metadata": {},
   "outputs": [],
   "source": [
    "X = gym.drop('Churn', axis = 1)\n",
    "y = gym['Churn'] "
   ]
  },
  {
   "cell_type": "code",
   "execution_count": 24,
   "metadata": {},
   "outputs": [],
   "source": [
    "#разделим модель на обучающую и валидационную выборки.\n",
    "X_train, X_test, y_train, y_test = train_test_split(X, y, test_size=0.2, random_state = 123, stratify = y) \n",
    "\n",
    "#создадим объект класса StandardScaler и применим его к обучающей выборке\n",
    "scaler = StandardScaler()\n",
    "X_train_st = scaler.fit_transform(X_train)\n",
    "\n",
    "#применяем стандартизацию к матрице признаков для тестовой выборки\n",
    "X_test_st = scaler.transform(X_test)"
   ]
  },
  {
   "cell_type": "markdown",
   "metadata": {},
   "source": [
    "Зададим `список моделей`."
   ]
  },
  {
   "cell_type": "code",
   "execution_count": 25,
   "metadata": {},
   "outputs": [],
   "source": [
    "models = [\n",
    "    LogisticRegression(random_state = 123, solver='liblinear'),\n",
    "    RandomForestClassifier(n_estimators = 100, random_state = 123)\n",
    "]"
   ]
  },
  {
   "cell_type": "markdown",
   "metadata": {},
   "source": [
    "Напишем функцию `make_prediction`, которая будет:\n",
    "\n",
    "- принимать на вход модель из списка и данные;\n",
    "\n",
    "\n",
    "- `обучать` модель и `строить прогноз` на валидационной выборке;\n",
    "\n",
    "\n",
    "- выводить метрики `Accuracy` (доля правильных ответов), `Precision` (точность) и `Recall` (полнота)."
   ]
  },
  {
   "cell_type": "code",
   "execution_count": 26,
   "metadata": {},
   "outputs": [
    {
     "name": "stdout",
     "output_type": "stream",
     "text": [
      "LogisticRegression(C=1.0, class_weight=None, dual=False, fit_intercept=True,\n",
      "                   intercept_scaling=1, l1_ratio=None, max_iter=100,\n",
      "                   multi_class='warn', n_jobs=None, penalty='l2',\n",
      "                   random_state=123, solver='liblinear', tol=0.0001, verbose=0,\n",
      "                   warm_start=False)\n",
      "Accuracy:0.92 Precision:0.89 Recall:0.81\n",
      "RandomForestClassifier(bootstrap=True, class_weight=None, criterion='gini',\n",
      "                       max_depth=None, max_features='auto', max_leaf_nodes=None,\n",
      "                       min_impurity_decrease=0.0, min_impurity_split=None,\n",
      "                       min_samples_leaf=1, min_samples_split=2,\n",
      "                       min_weight_fraction_leaf=0.0, n_estimators=100,\n",
      "                       n_jobs=None, oob_score=False, random_state=123,\n",
      "                       verbose=0, warm_start=False)\n",
      "Accuracy:0.92 Precision:0.87 Recall:0.81\n"
     ]
    }
   ],
   "source": [
    "def make_prediction(m, X_train, y_train, X_test, y_test):\n",
    "    model = m\n",
    "    model.fit(X_train, y_train)\n",
    "    y_pred = model.predict(X_test)\n",
    "    print(\n",
    "        'Accuracy:{:.2f} Precision:{:.2f} Recall:{:.2f}'.format(\n",
    "            accuracy_score(y_test, y_pred, ),\n",
    "            precision_score(y_test, y_pred),\n",
    "            recall_score(y_test, y_pred)\n",
    "        )\n",
    "    )\n",
    "\n",
    "\n",
    "#цикл, который выводит метрики по списку моделей\n",
    "for i in models:\n",
    "    print(i)\n",
    "    make_prediction(i, X_train, y_train, X_test, y_test)"
   ]
  },
  {
   "cell_type": "markdown",
   "metadata": {},
   "source": [
    "### Вывод\n",
    "\n",
    "`Логистическая регрессия` (LogisticRegression) показала метрики `немного лучше`, чем Случайный лес (RandomForestClassifier).\n",
    "\n",
    "LogisticRegression:\n",
    "\n",
    "- Accuracy : 0.92\n",
    "- Precision : 0.89\n",
    "- Recall : 0.81\n",
    "\n",
    "RandomForestClassifier:\n",
    "\n",
    "- Accuracy : 0.92\n",
    "- Precision : 0.87\n",
    "- Recall : 0.81"
   ]
  },
  {
   "cell_type": "markdown",
   "metadata": {},
   "source": [
    "## Кластеризация клиентов\n",
    "\n"
   ]
  },
  {
   "cell_type": "markdown",
   "metadata": {},
   "source": [
    "`Стандартизируем данные`."
   ]
  },
  {
   "cell_type": "code",
   "execution_count": 27,
   "metadata": {},
   "outputs": [],
   "source": [
    "# обучаем нормализатор и преобразуем набор данных\n",
    "\n",
    "x_sc = scaler.fit_transform(gym_churn.drop(columns = ['Churn'])) "
   ]
  },
  {
   "cell_type": "markdown",
   "metadata": {},
   "source": [
    "Построим матрицу расстояний функцией `linkage()` на стандартизованной матрице признаков и `нарисуем дендрограмму`. "
   ]
  },
  {
   "cell_type": "code",
   "execution_count": 28,
   "metadata": {},
   "outputs": [
    {
     "data": {
      "image/png": "[encoded data removed]",
      "text/plain": [
       "<Figure size 864x432 with 1 Axes>"
      ]
     },
     "metadata": {},
     "output_type": "display_data"
    }
   ],
   "source": [
    "linked = linkage(x_sc, method = 'ward')\n",
    "\n",
    "plt.figure(figsize=(12, 6))  \n",
    "dendrogram(linked, orientation='top')\n",
    "plt.show() "
   ]
  },
  {
   "cell_type": "markdown",
   "metadata": {},
   "source": [
    "Дендрограмма выделила 4 кластера, последний из которых значительно объемнее, чем предыдущие."
   ]
  },
  {
   "cell_type": "markdown",
   "metadata": {},
   "source": [
    "`Обучим модель кластеризации` на основании алгоритма `K-Means` и `спрогнозируем кластеры` клиентов. \n",
    "\n",
    "Укажем число кластеров `5`."
   ]
  },
  {
   "cell_type": "code",
   "execution_count": 29,
   "metadata": {},
   "outputs": [],
   "source": [
    "km = KMeans(n_clusters = 5, random_state = 123)\n",
    "labels = km.fit_predict(x_sc)\n",
    "\n",
    "# сохраняем метки кластера в поле нашего датасета\n",
    "gym_churn['cluster_km'] = labels"
   ]
  },
  {
   "cell_type": "markdown",
   "metadata": {},
   "source": [
    "Посмотрим на **средние значения признаков** для кластеров.\n",
    "\n"
   ]
  },
  {
   "cell_type": "code",
   "execution_count": 30,
   "metadata": {},
   "outputs": [
    {
     "data": {
      "text/html": [
       "<div>\n",
       "<style scoped>\n",
       "    .dataframe tbody tr th:only-of-type {\n",
       "        vertical-align: middle;\n",
       "    }\n",
       "\n",
       "    .dataframe tbody tr th {\n",
       "        vertical-align: top;\n",
       "    }\n",
       "\n",
       "    .dataframe thead th {\n",
       "        text-align: right;\n",
       "    }\n",
       "</style>\n",
       "<table border=\"1\" class=\"dataframe\">\n",
       "  <thead>\n",
       "    <tr style=\"text-align: right;\">\n",
       "      <th></th>\n",
       "      <th>gender</th>\n",
       "      <th>Near_Location</th>\n",
       "      <th>Partner</th>\n",
       "      <th>Promo_friends</th>\n",
       "      <th>Phone</th>\n",
       "      <th>Contract_period</th>\n",
       "      <th>Group_visits</th>\n",
       "      <th>Age</th>\n",
       "      <th>Avg_additional_charges_total</th>\n",
       "      <th>Month_to_end_contract</th>\n",
       "      <th>Lifetime</th>\n",
       "      <th>Avg_class_frequency_total</th>\n",
       "      <th>Avg_class_frequency_current_month</th>\n",
       "      <th>Churn</th>\n",
       "    </tr>\n",
       "    <tr>\n",
       "      <th>cluster_km</th>\n",
       "      <th></th>\n",
       "      <th></th>\n",
       "      <th></th>\n",
       "      <th></th>\n",
       "      <th></th>\n",
       "      <th></th>\n",
       "      <th></th>\n",
       "      <th></th>\n",
       "      <th></th>\n",
       "      <th></th>\n",
       "      <th></th>\n",
       "      <th></th>\n",
       "      <th></th>\n",
       "      <th></th>\n",
       "    </tr>\n",
       "  </thead>\n",
       "  <tbody>\n",
       "    <tr>\n",
       "      <td>0</td>\n",
       "      <td>0.561850</td>\n",
       "      <td>0.848555</td>\n",
       "      <td>0.282081</td>\n",
       "      <td>0.073988</td>\n",
       "      <td>1.0</td>\n",
       "      <td>2.676301</td>\n",
       "      <td>0.448555</td>\n",
       "      <td>30.047399</td>\n",
       "      <td>161.300223</td>\n",
       "      <td>2.476301</td>\n",
       "      <td>4.858960</td>\n",
       "      <td>2.803888</td>\n",
       "      <td>2.796237</td>\n",
       "      <td>0.079769</td>\n",
       "    </tr>\n",
       "    <tr>\n",
       "      <td>1</td>\n",
       "      <td>0.493569</td>\n",
       "      <td>0.948553</td>\n",
       "      <td>0.813505</td>\n",
       "      <td>0.998392</td>\n",
       "      <td>1.0</td>\n",
       "      <td>3.020900</td>\n",
       "      <td>0.437299</td>\n",
       "      <td>29.051447</td>\n",
       "      <td>141.358831</td>\n",
       "      <td>2.829582</td>\n",
       "      <td>3.697749</td>\n",
       "      <td>1.701337</td>\n",
       "      <td>1.593120</td>\n",
       "      <td>0.262058</td>\n",
       "    </tr>\n",
       "    <tr>\n",
       "      <td>2</td>\n",
       "      <td>0.500577</td>\n",
       "      <td>0.936563</td>\n",
       "      <td>0.740484</td>\n",
       "      <td>0.480969</td>\n",
       "      <td>1.0</td>\n",
       "      <td>11.833910</td>\n",
       "      <td>0.547866</td>\n",
       "      <td>29.891580</td>\n",
       "      <td>163.330735</td>\n",
       "      <td>10.791234</td>\n",
       "      <td>4.713956</td>\n",
       "      <td>2.001043</td>\n",
       "      <td>1.993460</td>\n",
       "      <td>0.021915</td>\n",
       "    </tr>\n",
       "    <tr>\n",
       "      <td>3</td>\n",
       "      <td>0.523316</td>\n",
       "      <td>0.862694</td>\n",
       "      <td>0.471503</td>\n",
       "      <td>0.305699</td>\n",
       "      <td>0.0</td>\n",
       "      <td>4.777202</td>\n",
       "      <td>0.427461</td>\n",
       "      <td>29.297927</td>\n",
       "      <td>144.208179</td>\n",
       "      <td>4.466321</td>\n",
       "      <td>3.940415</td>\n",
       "      <td>1.854211</td>\n",
       "      <td>1.723967</td>\n",
       "      <td>0.266839</td>\n",
       "    </tr>\n",
       "    <tr>\n",
       "      <td>4</td>\n",
       "      <td>0.485714</td>\n",
       "      <td>0.723810</td>\n",
       "      <td>0.296032</td>\n",
       "      <td>0.011111</td>\n",
       "      <td>1.0</td>\n",
       "      <td>1.926190</td>\n",
       "      <td>0.276984</td>\n",
       "      <td>28.135714</td>\n",
       "      <td>129.407081</td>\n",
       "      <td>1.832540</td>\n",
       "      <td>2.212698</td>\n",
       "      <td>1.255440</td>\n",
       "      <td>1.003779</td>\n",
       "      <td>0.561111</td>\n",
       "    </tr>\n",
       "  </tbody>\n",
       "</table>\n",
       "</div>"
      ],
      "text/plain": [
       "              gender  Near_Location   Partner  Promo_friends  Phone  \\\n",
       "cluster_km                                                            \n",
       "0           0.561850       0.848555  0.282081       0.073988    1.0   \n",
       "1           0.493569       0.948553  0.813505       0.998392    1.0   \n",
       "2           0.500577       0.936563  0.740484       0.480969    1.0   \n",
       "3           0.523316       0.862694  0.471503       0.305699    0.0   \n",
       "4           0.485714       0.723810  0.296032       0.011111    1.0   \n",
       "\n",
       "            Contract_period  Group_visits        Age  \\\n",
       "cluster_km                                             \n",
       "0                  2.676301      0.448555  30.047399   \n",
       "1                  3.020900      0.437299  29.051447   \n",
       "2                 11.833910      0.547866  29.891580   \n",
       "3                  4.777202      0.427461  29.297927   \n",
       "4                  1.926190      0.276984  28.135714   \n",
       "\n",
       "            Avg_additional_charges_total  Month_to_end_contract  Lifetime  \\\n",
       "cluster_km                                                                  \n",
       "0                             161.300223               2.476301  4.858960   \n",
       "1                             141.358831               2.829582  3.697749   \n",
       "2                             163.330735              10.791234  4.713956   \n",
       "3                             144.208179               4.466321  3.940415   \n",
       "4                             129.407081               1.832540  2.212698   \n",
       "\n",
       "            Avg_class_frequency_total  Avg_class_frequency_current_month  \\\n",
       "cluster_km                                                                 \n",
       "0                            2.803888                           2.796237   \n",
       "1                            1.701337                           1.593120   \n",
       "2                            2.001043                           1.993460   \n",
       "3                            1.854211                           1.723967   \n",
       "4                            1.255440                           1.003779   \n",
       "\n",
       "               Churn  \n",
       "cluster_km            \n",
       "0           0.079769  \n",
       "1           0.262058  \n",
       "2           0.021915  \n",
       "3           0.266839  \n",
       "4           0.561111  "
      ]
     },
     "execution_count": 30,
     "metadata": {},
     "output_type": "execute_result"
    }
   ],
   "source": [
    "gym_churn.groupby('cluster_km').mean()"
   ]
  },
  {
   "cell_type": "markdown",
   "metadata": {},
   "source": [
    "Можно заметить, что выделяется `2 кластер` со средним значением в `Contract_period` (длительность текущего действующего абонемента) - `11.83`. Люди из этой группы чаще покупают абонемент на 12 месяцев.\n",
    "\n",
    "Рассмотрим распеределения подробнее."
   ]
  },
  {
   "cell_type": "markdown",
   "metadata": {},
   "source": [
    "Для наглядности разделим таблицу на `интервальные и номинальные признаки`, как делали ранее."
   ]
  },
  {
   "cell_type": "code",
   "execution_count": 31,
   "metadata": {},
   "outputs": [],
   "source": [
    "gym_numerical = gym_churn.drop(nominal, axis = 1) # таблица с числовыми признаками\n",
    "\n",
    "gym_nominal = gym_churn.drop(numerical, axis = 1) # таблица с номинальными признаками"
   ]
  },
  {
   "cell_type": "markdown",
   "metadata": {},
   "source": [
    "Построим **столбчатые диаграммы** распределения `номинальных признаков`."
   ]
  },
  {
   "cell_type": "code",
   "execution_count": 32,
   "metadata": {
    "scrolled": false
   },
   "outputs": [
    {
     "data": {
      "image/png": "[encoded data removed]",
      "text/plain": [
       "<Figure size 1152x1296 with 6 Axes>"
      ]
     },
     "metadata": {},
     "output_type": "display_data"
    }
   ],
   "source": [
    "fig2, axs = plt.subplots(3, 2, figsize = (16,18))\n",
    "a = 0\n",
    "b = 0\n",
    "#на долю оттока клиентов (Churn) мы посмотрим позже\n",
    "for col in gym_nominal.drop(['Churn','cluster_km'], axis = 1).columns:\n",
    "    sns.catplot(ax = axs[a, b], x=col, kind=\"count\", data=gym_nominal, hue = 'cluster_km')\n",
    "    axs[a, b].set_title(col)\n",
    "    axs[a, b].set_xlabel(\"\")\n",
    "    if b == 0:\n",
    "         b = 1\n",
    "    else:\n",
    "        a += 1\n",
    "        b = 0\n",
    "        \n",
    "#catplot строит лишние сетки для графиков - удалим их\n",
    "for i in range(2,10):\n",
    "    plt.close(i)"
   ]
  },
  {
   "cell_type": "markdown",
   "metadata": {},
   "source": [
    "***Характерные признаки для кластеров клиентов***.\n",
    "\n",
    "Для `0 кластера` чаще всего наблюдается:\n",
    "\n",
    "- проживают или работают в районе, где находится фитнес-центр;\n",
    "- 2/3 клиентов не являются сотрудниками компании-партнёра клуба;\n",
    "- пришли без программы \"приведи друга\";\n",
    "- оставляли номер телефона для связи;\n",
    "- больше половины клиентов не посещали групповые занятия;\n",
    "\n",
    "Для `1 кластера` чаще всего наблюдается:\n",
    "- проживают или работают в районе, где находится фитнес-центр;\n",
    "- около 3/4 клиентов являются сотрудниками компании-партнёра клуба;\n",
    "- пришли в рамках программы \"приведи друга\";\n",
    "- оставляли номер телефона для связи;\n",
    "- больше половины клиентов не посещали групповые занятия;\n",
    "\n",
    "Для `2 кластера` чаще всего наблюдается:\n",
    "- проживают или работают в районе, где находится фитнес-центр;\n",
    "- около 3/4 клиентов являются сотрудниками компании-партнёра клуба;\n",
    "- больше половины клиентов пришли без программы \"приведи друга\";\n",
    "- оставляли номер телефона для связи;\n",
    "- больше половины клиентов посещали групповые занятия;\n",
    "\n",
    "Для `3 кластера` чаще всего наблюдаются:\n",
    "- проживают или работают в районе, где находится фитнес-центр;\n",
    "- больше половины клиентов не являются сотрудниками компании-партнёра клуба;\n",
    "- около 2/3 клиентов пришли без акции \"приведи друга\";\n",
    "- не оставляли номер телефона для связи;\n",
    "- больше половины клиентов не посещали групповые занятия;\n",
    "\n",
    "Для `4 кластера` чаще всего наблюдается:\n",
    "- около 2/3 клиентов проживают или работают в районе, где находится фитнес-центр;\n",
    "- 2/3 клиентов не являются сотрудниками компании-партнёра клуба;\n",
    "- пришли без программы \"приведи друга\";\n",
    "- оставляли номер телефона для связи;\n",
    "- 2/3 клиентов не посещали групповые занятия.\n"
   ]
  },
  {
   "cell_type": "markdown",
   "metadata": {},
   "source": [
    "Построим **\"ящики с усами\"**, чтобы отразить распределения `интервальных признаков`."
   ]
  },
  {
   "cell_type": "code",
   "execution_count": 33,
   "metadata": {},
   "outputs": [
    {
     "data": {
      "image/png": "[encoded data removed]",
      "text/plain": [
       "<Figure size 425.05x360 with 1 Axes>"
      ]
     },
     "metadata": {},
     "output_type": "display_data"
    },
    {
     "data": {
      "image/png": "[encoded data removed]",
      "text/plain": [
       "<Figure size 1152x1296 with 6 Axes>"
      ]
     },
     "metadata": {},
     "output_type": "display_data"
    }
   ],
   "source": [
    "# столбчатая диаграмма для рангового столбца с длительностью абонемента\n",
    "sns.catplot(x= 'Contract_period', kind=\"count\", data=gym_numerical, hue = 'cluster_km')\n",
    "plt.title('Contract_period')\n",
    "plt.xlabel(\"\")\n",
    "\n",
    "# \"ящики с усами\" распределения интервальных признаков.\n",
    "fig4, axs = plt.subplots(3, 2, figsize = (16,18))\n",
    "a = 0\n",
    "b = 0\n",
    "for col in gym_numerical.drop(['Contract_period', 'cluster_km'], axis = 1).columns:\n",
    "    sns.boxplot(ax = axs[a, b], x ='cluster_km',y = col, data = gym_numerical)\n",
    "    axs[a, b].set_title(col)\n",
    "    axs[a, b].set_xlabel(\"\")\n",
    "    if b == 0:\n",
    "         b = 1\n",
    "    else:\n",
    "        a += 1\n",
    "        b = 0"
   ]
  },
  {
   "cell_type": "markdown",
   "metadata": {},
   "source": [
    "***Характерные признаки для кластеров клиентов***.\n",
    "\n",
    "Для `0 кластера` чаще всего наблюдается:\n",
    "\n",
    "- 2/3 клиентов приобретают абонемент на 1 месяц;\n",
    "- средний возраст 28 - 33 года;\n",
    "- средняя выручка от других услуг фитнес-клуба - до 250;\n",
    "- до окончания действующего абонемента - обычно 1 месяц. Реже - 6 месяцев;\n",
    "- время с момента первого обращения в фитнес-центр обычно до 5 месяцев;\n",
    "- средняя частота посещений в неделю за все время с начала действия абонемента - 2-3 раза;\n",
    "- средняя частота посещений в неделю за предыдущий месяц - 2-3 раза.\n",
    "\n",
    "Для `1 кластера` чаще всего наблюдается:\n",
    "\n",
    "- больше половины клиентов приобретают абонемент на 1 месяц;\n",
    "- средний возраст 27 - 32 года;\n",
    "- средняя выручка от других услуг фитнес-клуба - до 200;\n",
    "- до окончания действующего абонемента - обычно 1 месяц. Реже - 6 месяцев;\n",
    "- время с момента первого обращения в фитнес-центр обычно до 3 месяцев;\n",
    "- средняя частота посещений в неделю за все время с начала действия абонемента - 1-2 раза;\n",
    "- средняя частота посещений в неделю за предыдущий месяц - 1-2 раза.\n",
    "\n",
    "Для `2 кластера` чаще всего наблюдается:\n",
    "\n",
    "- почти 80% клиентов приобретают абонемент на 12 месяцев;\n",
    "- средний возраст клиентов - 28 - 33;\n",
    "- средняя выручка от других услуг фитнес-клуба - до 250;\n",
    "- до окончания действующего абонемента - 12 месяцев;\n",
    "- время с момента первого обращения в фитнес-центр обычно до 5 месяцев;\n",
    "- средняя частота посещений в неделю за все время с начала действия абонемента - 1-3 раза;\n",
    "- средняя частота посещений в неделю за предыдущий месяц - 1-3 раза.\n",
    "\n",
    "Для `3 кластера` чаще всего наблюдаются:\n",
    "\n",
    "- половина клиентов приобретают абонемент на 1 месяц;\n",
    "- средний возраст 27 - 32 года;\n",
    "- средняя выручка от других услуг фитнес-клуба - до 200;\n",
    "- до окончания действующего абонемента - обычно 1 месяц;\n",
    "- время с момента первого обращения в фитнес-центр обычно до 3 месяцев;\n",
    "- средняя частота посещений в неделю за все время с начала действия абонемента - 1-2 раза;\n",
    "- средняя частота посещений в неделю за предыдущий месяц - 1-2 раза.\n",
    "\n",
    "Для `4 кластера` чаще всего наблюдается:\n",
    "\n",
    "- 80% клиентов приобретают абонемент на 1 месяц. На 12 месяцев обычно не покупают;\n",
    "- большая часть клиентов - около 25 лет (26 - 30);\n",
    "- средняя выручка от других услуг фитнес-клуба - до 200;\n",
    "- до окончания действующего абонемента у 80% клиентов - 1 месяц;\n",
    "- время с момента первого обращения в фитнес-центр обычно до 1 месяца;\n",
    "- средняя частота посещений в неделю за все время с начала действия абонемента - 1-2 раза;\n",
    "- средняя частота посещений в неделю за предыдущий месяц - 0-2 раза. Кто-то не приходил на неделе вовсе, кто-то посещал фитнес-клуб как обычно - 1-2 раза в неделю."
   ]
  },
  {
   "cell_type": "markdown",
   "metadata": {},
   "source": [
    "Для каждого полученного кластера **посчитаем долю оттока**."
   ]
  },
  {
   "cell_type": "code",
   "execution_count": 34,
   "metadata": {},
   "outputs": [
    {
     "data": {
      "text/plain": [
       "cluster_km  Churn\n",
       "0           0        796\n",
       "            1         69\n",
       "1           0        459\n",
       "            1        163\n",
       "2           0        848\n",
       "            1         19\n",
       "3           0        283\n",
       "            1        103\n",
       "4           0        553\n",
       "            1        707\n",
       "Name: Churn, dtype: int64"
      ]
     },
     "execution_count": 34,
     "metadata": {},
     "output_type": "execute_result"
    }
   ],
   "source": [
    "gym_churn.groupby(['cluster_km', 'Churn'])['Churn'].count()"
   ]
  },
  {
   "cell_type": "markdown",
   "metadata": {},
   "source": [
    "Представим данные в виде `круговой диаграммы`."
   ]
  },
  {
   "cell_type": "code",
   "execution_count": 35,
   "metadata": {},
   "outputs": [
    {
     "data": {
      "image/png": "[encoded data removed]",
      "text/plain": [
       "<Figure size 1080x360 with 3 Axes>"
      ]
     },
     "metadata": {},
     "output_type": "display_data"
    },
    {
     "data": {
      "image/png": "[encoded data removed]",
      "text/plain": [
       "<Figure size 720x360 with 2 Axes>"
      ]
     },
     "metadata": {},
     "output_type": "display_data"
    }
   ],
   "source": [
    "fig4 = plt.subplots(1, 3, figsize = (15,5))\n",
    "m = 1\n",
    "for i in range(3):\n",
    "    group = gym_churn[gym_churn['cluster_km'] == i].groupby('Churn')['Churn'].count()\n",
    "    \n",
    "    plt.subplot(1,3, m)\n",
    "    plt.pie(group, labels = group.index,  autopct='%1.1f%%', shadow=True)\n",
    "    plt.title('Доли оттока клиентов в {} кластере'.format(i))\n",
    "    m += 1\n",
    "    \n",
    "plt.legend()\n",
    "plt.show()\n",
    "\n",
    "\n",
    "fig5 = plt.subplots(1, 2, figsize = (10,5))\n",
    "f = 1\n",
    "for i in range(3,5):\n",
    "    group = gym_churn[gym_churn['cluster_km'] == i].groupby('Churn')['Churn'].count()\n",
    "    \n",
    "    plt.subplot(1,2, f)\n",
    "    plt.pie(group, labels = group.index,  autopct='%1.1f%%', shadow=True)\n",
    "    plt.title('Доли оттока клиентов в {} кластере'.format(i))\n",
    "    f += 1\n",
    "    \n",
    "plt.legend()\n",
    "plt.show()"
   ]
  },
  {
   "cell_type": "markdown",
   "metadata": {},
   "source": [
    "Кластеры отличаются по доле оттока.\n",
    "\n",
    "`Надежными` можно назвать:\n",
    "\n",
    "- `2` кластер (2.2% оттока);\n",
    "\n",
    "\n",
    "- `0` кластер (8% оттока).\n",
    "\n",
    "\n",
    "`Менее надежные` кластеры:\n",
    "\n",
    "- `1` кластер (26.2% оттока);\n",
    "\n",
    "\n",
    "- `3` кластер (26.7% оттока).\n",
    "\n",
    "\n",
    "`Необходимо работать с кластером`, доля оттока в котором составляет `более 50%`. Это `4` кластер (56.1% оттока).\n"
   ]
  },
  {
   "cell_type": "markdown",
   "metadata": {},
   "source": [
    "### Вывод"
   ]
  },
  {
   "cell_type": "markdown",
   "metadata": {},
   "source": [
    "Была проведена кластеризация клиентов фитнес-клуба. Были `выделены 5 кластеров` и характерные для них признаки.\n",
    "\n",
    "**Надежными** можно назвать `2 кластер` (2.2% оттока) и `0 кластер` (8% оттока).\n",
    "\n",
    "Для обоих кластеров характерно `проживание или работа в районе`, где находится фитнес-центр, и факт того, что большая часть из них `пришли без акции \"приведи друга\"`.\n",
    "\n",
    "Эти клиенты `оставляли номер телефона` для связи и чаще не первый месяц посещают фитнес-центр: время с момента `первого обращения обычно до 5 месяцев`.\n",
    "\n",
    "Клиенты обоих кластеров стабильно посещают фитнес-клуб: средняя `частота посещений в неделю за все время` с начала действия абонемента и за предыдущий месяц - `1-3 раза`. \n",
    "\n",
    "Клиенты из 0-ого кластера посещают немного чаще (`2-3 раза в неделю`).\n",
    "\n",
    "Также эти кластеры приносят фитнес-клубу `большую среднюю выручку` от дополнительных услуг - до 250.\n",
    "\n",
    "Для ***0 кластера*** чаще всего наблюдаются признаки:\n",
    "\n",
    "- 2/3 клиентов `не являются сотрудниками` компании-партнёра клуба;\n",
    "\n",
    "\n",
    "- больше половины клиентов `не посещали групповые занятия`;\n",
    "\n",
    "\n",
    "- 2/3 клиентов приобретают `абонемент на 1 месяц`;\n",
    "\n",
    "\n",
    "- средний возраст `28 - 32 года`;\n",
    "\n",
    "\n",
    "- `до окончания` действующего `абонемента` - обычно `1 месяц`. Реже - 6 месяцев.\n",
    "\n",
    "\n",
    "Для ***2 кластера*** чаще всего наблюдается:\n",
    "\n",
    "- около 3/4 клиентов `являются сотрудниками` компании-партнёра клуба;\n",
    "\n",
    "\n",
    "- больше половины клиентов `посещали групповые занятия`;\n",
    "\n",
    "\n",
    "- почти 80% клиентов приобретают `абонемент на 12 месяцев`;\n",
    "\n",
    "\n",
    "- средний возраст клиентов - `28 - 33`;\n",
    "\n",
    "\n",
    "- `до окончания` действующего `абонемента` - `12 месяцев`.\n",
    "\n",
    "\n",
    "**Менее надежные** кластеры - - `1 кластер` (26.2% оттока) и `3 кластер` (26.7% оттока).\n",
    "\n",
    "Клиенты из этих кластеров `проживают или работаю в районе`, где находится фитнес-клуб. Их средний средний возраст - обычно 27-32 года.\n",
    "\n",
    "Больше половины клиентов в каждом кластере `не посещали групповые занятия` и приобретают `абонемент` обычно `на 1 месяц`.\n",
    "\n",
    "Клиенты этих кластеров обычно посещают фитнес-клуб 2ой месяц: время с момента `первого обращения` в фитнес-центр обычно `до 3 месяцев`. \n",
    "\n",
    "Они приносят компании `среднюю выручку от других услуг` фитнес-клуба меньше, чем \"надежные\" кластеры - до 200.\n",
    "\n",
    "Тренируются клиенты стабильно `1-2 раза в неделю`.\n",
    "\n",
    "Для ***1 кластера*** чаще всего наблюдается:\n",
    "\n",
    "- около 3/4 клиентов `являются сотрудниками` компании-партнёра клуба;\n",
    "\n",
    "\n",
    "- `пришли в рамках программы` \"приведи друга\";\n",
    "\n",
    "\n",
    "- `оставляли номер` телефона для связи;\n",
    "\n",
    "\n",
    "- `до окончания` действующего `абонемента` - обычно `1 месяц`. Реже - 6 месяцев.\n",
    "\n",
    "\n",
    "\n",
    "Для ***3 кластера*** чаще всего характерны признаки:\n",
    "\n",
    "- больше половины клиентов `не являются сотрудниками` компании-партнёра клуба;\n",
    "\n",
    "\n",
    "- около 2/3 клиентов `пришли без акции \"приведи друга\"`;\n",
    "\n",
    "\n",
    "- `не оставляли номер` телефона для связи;\n",
    "\n",
    "\n",
    "- `до окончания` действующего `абонемента` - обычно `1 месяц`.\n",
    "\n",
    "\n",
    "\n",
    "\n",
    "**Необходимо работать с кластером**, `доля оттока` в котором составляет `более 50%`. \n",
    "\n",
    "Это ***4 кластер*** (56.1% оттока). Для клиентов этой группы характерны признаки:\n",
    "\n",
    "- около 2/3 клиентов `проживают или работают в районе`, где находится фитнес-центр;\n",
    "\n",
    "\n",
    "- 2/3 клиентов `не являются сотрудниками` компании-партнёра клуба;\n",
    "\n",
    "\n",
    "- `пришли без программы` \"приведи друга\";\n",
    "\n",
    "\n",
    "- `оставляли номер` телефона для связи;\n",
    "\n",
    "\n",
    "- 2/3 клиентов `не посещали групповые занятия`;\n",
    "\n",
    "\n",
    "- 80% клиентов приобретают `абонемент на 1 месяц`. На 12 месяцев обычно не покупают;\n",
    "\n",
    "\n",
    "- большая часть клиентов - `около 25 лет (26 - 30)`;\n",
    "\n",
    "\n",
    "- средняя `выручка от других услуг` фитнес-клуба - до 200;\n",
    "\n",
    "\n",
    "- `до окончания` действующего `абонемента` у 80% клиентов - `1 месяц`;\n",
    "\n",
    "\n",
    "- время с момента `первого обращения` в фитнес-центр обычно `до 1 месяца`;\n",
    "\n",
    "\n",
    "- средняя частота `посещений в неделю за все время` с начала действия абонемента - `1-2 раза`;\n",
    "\n",
    "\n",
    "- средняя частота `посещений в неделю за предыдущий месяц` - `0-2 раза`. \n",
    "\n",
    "Кто-то не приходил на неделе вовсе, кто-то посещал фитнес-клуб как обычно - 1-2 раза в неделю.\n"
   ]
  },
  {
   "cell_type": "markdown",
   "metadata": {},
   "source": [
    "## Рекомендации по работе с клиентами"
   ]
  },
  {
   "cell_type": "markdown",
   "metadata": {},
   "source": [
    "В ходе кластеризации клиентов был определен **кластер, который чаще склонен к оттоку**. Это `4 кластер` (56.1% оттока).\n",
    "\n",
    "Эти клиенты - обычно молодые люди `около 25 лет (25 - 30)`, которые `проживают или работают в районе`, где находится фитнес-центр. \n",
    "\n",
    "Они приходят впервые и приобретают `абонемент на 1 месяц`. Стабильно посещают зал `1-2 раза в неделю`, и их отток легко отследить - они `начинают посещать фитнес-клуб реже`: большая доля из них приходит на неделе 1 раз, или не приходит вовсе.\n",
    "\n",
    "Клиенты в этом кластере приходят обычно самостоятельно - `не в рамках акции \"приведи друга\"`. Велика вероятность, что первый месяц они посещаю финес-клуб в одиночестве (без коллег и знакомых). \n",
    "\n",
    "Также 2/3 клиентов `не посещали групповые занятия`, а значит большая часть этих клиентов не имела удобной возможности найти себе новых знакомых.\n",
    "\n",
    "**Рекомендации по удержанию клиентов** направлены не только на работу с данным кластером клиентов, но и могут помочь улучшить качество сервиса и услуг фитнес-клуба.\n",
    "\n",
    "1.***Вовлечение клиентов в улучшение качества сервиса/услуг***\n",
    "\n",
    "Важно дать возможность клиенту участвовать в жизни компании. Он почувствует свою причастность - это стимулирует удержание. \n",
    "\n",
    "- Можно ненавязчиво задавать вопросы о качестве услуг, уровне сервиса и других нюансах.\n",
    "\n",
    "\n",
    "- предложить `бонусы или скидки за заполнение анкеты` обратной связи.\n",
    "\n",
    "2.***Скидки и акций на абомененты***\n",
    "\n",
    "Возможность сэкономить или получить подарки – мощный стимул для покупателей. \n",
    "\n",
    "- Можно создать `акцию на покупку последующего абонемента` в течении 3 дней или недели с момента завершения предыдущего.\n",
    "\n",
    "Скидки могут заинтересовать клиента и мотивировать его совершить покупку нового абонемента и, соответсвенно, продолжить посещать фитнес-клуб.\n",
    "\n",
    "3.***Продвижение групповых занятий***\n",
    "\n",
    "Большая часть клиентов из указанных кластеров не посещали групповые занятия. Стоит отметить, что первый месяц является наиболее уязвимым периодом жизни нового клиента в фитнес-клубе: у него формируются новые привычки, складываются взаимоотношения с персоналом и другими посетителями.\n",
    "\n",
    "В рамках групповых занятий участники подпитываются энергией группы и получают удовольствие от поддержки и чувства сопричастности, которые им дают инструктор и другие участники.\n",
    "\n",
    "\n",
    "- Можно предложить `бонусы или небольшие скидки` на другие услуги фитнес-клуба `за посещение группового занятия`.\n",
    "\n",
    "Это может стать мотивацией, чтобы клиент посетил первое групповое занятие - вероятность, что ему понравится и он продолжит заниматься в группе, значительно выше, если он посетит хотя бы одно такое занятие.\n",
    "\n",
    "К тому же, обретя новых знакомых в фитнес-клубе, шанс, что клиент покинет его снижается.\n"
   ]
  }
 ],
 "metadata": {
  "ExecuteTimeLog": [
   {
    "duration": 560,
    "start_time": "2022-02-21T08:59:02.261Z"
   },
   {
    "duration": 212,
    "start_time": "2022-02-21T08:59:30.265Z"
   },
   {
    "duration": 25,
    "start_time": "2022-02-21T08:59:56.253Z"
   },
   {
    "duration": 10,
    "start_time": "2022-02-21T09:00:20.670Z"
   },
   {
    "duration": 42,
    "start_time": "2022-02-21T09:00:27.965Z"
   },
   {
    "duration": 6,
    "start_time": "2022-02-21T09:00:33.490Z"
   },
   {
    "duration": 8,
    "start_time": "2022-02-21T09:21:46.949Z"
   },
   {
    "duration": 41,
    "start_time": "2022-02-21T09:22:09.505Z"
   },
   {
    "duration": 42,
    "start_time": "2022-02-21T09:25:12.387Z"
   },
   {
    "duration": 8,
    "start_time": "2022-02-21T09:25:24.783Z"
   },
   {
    "duration": 10,
    "start_time": "2022-02-21T09:36:16.432Z"
   },
   {
    "duration": 4,
    "start_time": "2022-02-21T09:50:48.161Z"
   },
   {
    "duration": 6,
    "start_time": "2022-02-21T09:51:12.542Z"
   },
   {
    "duration": 13,
    "start_time": "2022-02-21T09:52:10.688Z"
   },
   {
    "duration": 805,
    "start_time": "2022-02-22T08:36:14.380Z"
   },
   {
    "duration": 47,
    "start_time": "2022-02-22T08:36:15.188Z"
   },
   {
    "duration": 20,
    "start_time": "2022-02-22T08:36:15.238Z"
   },
   {
    "duration": 11,
    "start_time": "2022-02-22T08:36:15.261Z"
   },
   {
    "duration": 101,
    "start_time": "2022-02-22T08:36:15.275Z"
   },
   {
    "duration": 9,
    "start_time": "2022-02-22T08:36:15.379Z"
   },
   {
    "duration": 27,
    "start_time": "2022-02-22T08:36:15.390Z"
   },
   {
    "duration": 115,
    "start_time": "2022-02-22T08:36:43.517Z"
   },
   {
    "duration": 711,
    "start_time": "2022-02-22T08:37:51.487Z"
   },
   {
    "duration": 388,
    "start_time": "2022-02-22T08:38:21.806Z"
   },
   {
    "duration": 356,
    "start_time": "2022-02-22T08:38:45.486Z"
   },
   {
    "duration": 313,
    "start_time": "2022-02-22T08:39:02.176Z"
   },
   {
    "duration": 395,
    "start_time": "2022-02-22T08:39:15.261Z"
   },
   {
    "duration": 314,
    "start_time": "2022-02-22T08:39:33.023Z"
   },
   {
    "duration": 286,
    "start_time": "2022-02-22T08:39:50.825Z"
   },
   {
    "duration": 299,
    "start_time": "2022-02-22T08:40:48.563Z"
   },
   {
    "duration": 276,
    "start_time": "2022-02-22T08:40:55.154Z"
   },
   {
    "duration": 280,
    "start_time": "2022-02-22T08:41:18.462Z"
   },
   {
    "duration": 316,
    "start_time": "2022-02-22T08:41:23.673Z"
   },
   {
    "duration": 283,
    "start_time": "2022-02-22T08:41:34.955Z"
   },
   {
    "duration": 305,
    "start_time": "2022-02-22T08:41:48.979Z"
   },
   {
    "duration": 525,
    "start_time": "2022-02-22T08:41:54.310Z"
   },
   {
    "duration": 4321,
    "start_time": "2022-02-22T08:42:54.969Z"
   },
   {
    "duration": 778,
    "start_time": "2022-02-22T08:45:41.095Z"
   },
   {
    "duration": 700,
    "start_time": "2022-02-22T08:46:11.274Z"
   },
   {
    "duration": 30,
    "start_time": "2022-02-22T08:46:43.355Z"
   },
   {
    "duration": 26,
    "start_time": "2022-02-22T08:47:31.585Z"
   },
   {
    "duration": 600,
    "start_time": "2022-02-22T08:47:49.345Z"
   },
   {
    "duration": 866,
    "start_time": "2022-02-22T08:48:40.668Z"
   },
   {
    "duration": 826,
    "start_time": "2022-02-22T08:48:48.733Z"
   },
   {
    "duration": 802,
    "start_time": "2022-02-22T08:49:03.500Z"
   },
   {
    "duration": 736,
    "start_time": "2022-02-22T08:49:08.860Z"
   },
   {
    "duration": 763,
    "start_time": "2022-02-22T08:51:47.902Z"
   },
   {
    "duration": 780,
    "start_time": "2022-02-22T08:52:04.381Z"
   },
   {
    "duration": 725,
    "start_time": "2022-02-22T08:52:14.334Z"
   },
   {
    "duration": 1675,
    "start_time": "2022-02-22T08:58:47.557Z"
   },
   {
    "duration": 1558,
    "start_time": "2022-02-22T08:58:58.848Z"
   },
   {
    "duration": 5350,
    "start_time": "2022-02-22T09:01:52.418Z"
   },
   {
    "duration": 1941,
    "start_time": "2022-02-22T09:03:48.698Z"
   },
   {
    "duration": 1949,
    "start_time": "2022-02-22T09:04:02.525Z"
   },
   {
    "duration": 1627,
    "start_time": "2022-02-22T09:05:28.436Z"
   },
   {
    "duration": 1644,
    "start_time": "2022-02-22T09:05:50.468Z"
   },
   {
    "duration": 1609,
    "start_time": "2022-02-22T09:05:59.074Z"
   },
   {
    "duration": 1771,
    "start_time": "2022-02-22T09:06:55.531Z"
   },
   {
    "duration": 4879,
    "start_time": "2022-02-22T09:08:05.618Z"
   },
   {
    "duration": 4,
    "start_time": "2022-02-22T11:25:58.546Z"
   },
   {
    "duration": 1534,
    "start_time": "2022-02-22T11:26:04.771Z"
   },
   {
    "duration": 55,
    "start_time": "2022-02-22T11:26:06.309Z"
   },
   {
    "duration": 10,
    "start_time": "2022-02-22T11:26:06.367Z"
   },
   {
    "duration": 17,
    "start_time": "2022-02-22T11:26:06.380Z"
   },
   {
    "duration": 131,
    "start_time": "2022-02-22T11:26:06.400Z"
   },
   {
    "duration": 17,
    "start_time": "2022-02-22T11:26:06.534Z"
   },
   {
    "duration": 29,
    "start_time": "2022-02-22T11:26:06.555Z"
   },
   {
    "duration": 481,
    "start_time": "2022-02-22T11:26:06.588Z"
   },
   {
    "duration": 4765,
    "start_time": "2022-02-22T11:26:07.072Z"
   },
   {
    "duration": 4457,
    "start_time": "2022-02-22T11:26:11.839Z"
   },
   {
    "duration": 1728,
    "start_time": "2022-02-22T11:26:16.300Z"
   },
   {
    "duration": 2397,
    "start_time": "2022-02-22T11:26:18.032Z"
   },
   {
    "duration": 8,
    "start_time": "2022-02-22T11:29:25.444Z"
   },
   {
    "duration": 8,
    "start_time": "2022-02-22T11:30:56.784Z"
   },
   {
    "duration": 4340,
    "start_time": "2022-02-22T11:31:01.471Z"
   },
   {
    "duration": 431,
    "start_time": "2022-02-22T11:47:22.730Z"
   },
   {
    "duration": 319,
    "start_time": "2022-02-22T11:50:19.556Z"
   },
   {
    "duration": 341,
    "start_time": "2022-02-22T11:50:31.152Z"
   },
   {
    "duration": 1084,
    "start_time": "2022-02-22T11:50:44.558Z"
   },
   {
    "duration": 6683,
    "start_time": "2022-02-22T11:51:23.272Z"
   },
   {
    "duration": 48972,
    "start_time": "2022-02-22T11:51:54.491Z"
   },
   {
    "duration": 1148,
    "start_time": "2022-02-22T11:54:29.952Z"
   },
   {
    "duration": 1288,
    "start_time": "2022-02-22T11:55:06.000Z"
   },
   {
    "duration": 4378,
    "start_time": "2022-02-22T11:55:16.006Z"
   },
   {
    "duration": 820,
    "start_time": "2022-02-22T11:55:34.218Z"
   },
   {
    "duration": 1201,
    "start_time": "2022-02-22T11:55:56.365Z"
   },
   {
    "duration": 1107,
    "start_time": "2022-02-22T11:56:07.184Z"
   },
   {
    "duration": 1067,
    "start_time": "2022-02-22T11:56:13.002Z"
   },
   {
    "duration": 1102,
    "start_time": "2022-02-22T11:56:29.080Z"
   },
   {
    "duration": 1279,
    "start_time": "2022-02-22T11:56:39.879Z"
   },
   {
    "duration": 1261,
    "start_time": "2022-02-22T11:57:03.625Z"
   },
   {
    "duration": 1073,
    "start_time": "2022-02-22T11:57:22.941Z"
   },
   {
    "duration": 92,
    "start_time": "2022-02-22T12:00:02.628Z"
   },
   {
    "duration": 7,
    "start_time": "2022-02-22T12:00:07.842Z"
   },
   {
    "duration": 5,
    "start_time": "2022-02-22T12:00:13.340Z"
   },
   {
    "duration": 99,
    "start_time": "2022-02-22T12:00:33.555Z"
   },
   {
    "duration": 7,
    "start_time": "2022-02-22T12:00:38.559Z"
   },
   {
    "duration": 8,
    "start_time": "2022-02-22T12:00:58.513Z"
   },
   {
    "duration": 32,
    "start_time": "2022-02-22T12:08:17.435Z"
   },
   {
    "duration": 7,
    "start_time": "2022-02-22T12:08:22.021Z"
   },
   {
    "duration": 11,
    "start_time": "2022-02-22T12:09:16.108Z"
   },
   {
    "duration": 345,
    "start_time": "2022-02-22T12:11:00.867Z"
   },
   {
    "duration": 3317,
    "start_time": "2022-02-22T12:11:32.444Z"
   },
   {
    "duration": 108,
    "start_time": "2022-02-22T12:11:44.348Z"
   },
   {
    "duration": 98,
    "start_time": "2022-02-22T12:11:48.850Z"
   },
   {
    "duration": 3603,
    "start_time": "2022-02-22T12:12:08.912Z"
   },
   {
    "duration": 3986,
    "start_time": "2022-02-22T12:12:49.041Z"
   },
   {
    "duration": 4012,
    "start_time": "2022-02-22T12:13:04.506Z"
   },
   {
    "duration": 746,
    "start_time": "2022-02-22T12:13:40.846Z"
   },
   {
    "duration": 4196,
    "start_time": "2022-02-22T12:13:51.270Z"
   },
   {
    "duration": 3659,
    "start_time": "2022-02-22T12:17:23.132Z"
   },
   {
    "duration": 3764,
    "start_time": "2022-02-22T12:18:16.530Z"
   },
   {
    "duration": 4094,
    "start_time": "2022-02-22T12:18:32.803Z"
   },
   {
    "duration": 4560,
    "start_time": "2022-02-22T12:18:42.893Z"
   },
   {
    "duration": 107,
    "start_time": "2022-02-22T12:19:12.521Z"
   },
   {
    "duration": -186,
    "start_time": "2022-02-22T12:19:22.384Z"
   },
   {
    "duration": 3691,
    "start_time": "2022-02-22T12:19:30.023Z"
   },
   {
    "duration": 3731,
    "start_time": "2022-02-22T12:19:40.534Z"
   },
   {
    "duration": 4040,
    "start_time": "2022-02-22T12:20:05.318Z"
   },
   {
    "duration": 4932,
    "start_time": "2022-02-22T12:20:31.147Z"
   },
   {
    "duration": 4477,
    "start_time": "2022-02-22T12:21:12.955Z"
   },
   {
    "duration": 4490,
    "start_time": "2022-02-22T12:22:29.947Z"
   },
   {
    "duration": 4486,
    "start_time": "2022-02-22T12:22:42.525Z"
   },
   {
    "duration": 3716,
    "start_time": "2022-02-22T12:23:19.174Z"
   },
   {
    "duration": 4857,
    "start_time": "2022-02-22T12:23:48.754Z"
   },
   {
    "duration": 6738,
    "start_time": "2022-02-22T12:27:31.265Z"
   },
   {
    "duration": 5,
    "start_time": "2022-02-22T12:27:55.834Z"
   },
   {
    "duration": 7411,
    "start_time": "2022-02-22T12:34:23.950Z"
   },
   {
    "duration": 7295,
    "start_time": "2022-02-22T12:34:31.965Z"
   },
   {
    "duration": 1765,
    "start_time": "2022-02-22T12:35:29.616Z"
   },
   {
    "duration": 1750,
    "start_time": "2022-02-22T12:35:37.124Z"
   },
   {
    "duration": 1992,
    "start_time": "2022-02-22T12:36:04.702Z"
   },
   {
    "duration": 1797,
    "start_time": "2022-02-22T12:36:13.019Z"
   },
   {
    "duration": 6791,
    "start_time": "2022-02-22T12:37:29.968Z"
   },
   {
    "duration": 6904,
    "start_time": "2022-02-22T12:37:47.369Z"
   },
   {
    "duration": 7,
    "start_time": "2022-02-22T12:57:27.678Z"
   },
   {
    "duration": 1657,
    "start_time": "2022-02-22T13:16:34.366Z"
   },
   {
    "duration": 1905,
    "start_time": "2022-02-22T13:16:47.259Z"
   },
   {
    "duration": 7,
    "start_time": "2022-02-22T13:36:11.955Z"
   },
   {
    "duration": 6,
    "start_time": "2022-02-22T13:40:14.134Z"
   },
   {
    "duration": 1689,
    "start_time": "2022-02-22T13:45:24.376Z"
   },
   {
    "duration": 2564,
    "start_time": "2022-02-22T13:45:42.354Z"
   },
   {
    "duration": 1712,
    "start_time": "2022-02-22T13:45:53.484Z"
   },
   {
    "duration": 1739,
    "start_time": "2022-02-22T13:45:57.141Z"
   },
   {
    "duration": 1753,
    "start_time": "2022-02-22T13:46:21.161Z"
   },
   {
    "duration": 2040,
    "start_time": "2022-02-22T13:46:25.539Z"
   },
   {
    "duration": 1737,
    "start_time": "2022-02-22T14:31:28.093Z"
   },
   {
    "duration": 1763,
    "start_time": "2022-02-22T14:31:48.343Z"
   },
   {
    "duration": 8492,
    "start_time": "2022-02-22T14:52:54.347Z"
   },
   {
    "duration": 9,
    "start_time": "2022-02-22T14:53:05.882Z"
   },
   {
    "duration": 8,
    "start_time": "2022-02-22T15:06:52.550Z"
   },
   {
    "duration": 9,
    "start_time": "2022-02-22T15:06:56.226Z"
   },
   {
    "duration": 9,
    "start_time": "2022-02-22T15:07:10.237Z"
   },
   {
    "duration": 9,
    "start_time": "2022-02-22T15:07:28.501Z"
   },
   {
    "duration": 1245,
    "start_time": "2022-02-23T09:36:51.676Z"
   },
   {
    "duration": 3,
    "start_time": "2022-02-23T09:36:52.924Z"
   },
   {
    "duration": 40,
    "start_time": "2022-02-23T09:36:52.929Z"
   },
   {
    "duration": 8,
    "start_time": "2022-02-23T09:36:52.971Z"
   },
   {
    "duration": 19,
    "start_time": "2022-02-23T09:36:52.980Z"
   },
   {
    "duration": 15,
    "start_time": "2022-02-23T09:36:53.001Z"
   },
   {
    "duration": 79,
    "start_time": "2022-02-23T09:36:53.019Z"
   },
   {
    "duration": 17,
    "start_time": "2022-02-23T09:36:53.100Z"
   },
   {
    "duration": 6,
    "start_time": "2022-02-23T09:36:53.119Z"
   },
   {
    "duration": 4565,
    "start_time": "2022-02-23T09:36:53.127Z"
   },
   {
    "duration": 4711,
    "start_time": "2022-02-23T09:36:57.694Z"
   },
   {
    "duration": 1296,
    "start_time": "2022-02-23T09:37:02.406Z"
   },
   {
    "duration": 1247,
    "start_time": "2022-02-23T09:37:03.704Z"
   },
   {
    "duration": 12,
    "start_time": "2022-02-23T09:37:44.293Z"
   },
   {
    "duration": 4,
    "start_time": "2022-02-23T09:39:37.147Z"
   },
   {
    "duration": 328,
    "start_time": "2022-02-23T09:40:00.651Z"
   },
   {
    "duration": 223,
    "start_time": "2022-02-23T09:40:37.924Z"
   },
   {
    "duration": 199,
    "start_time": "2022-02-23T09:41:03.906Z"
   },
   {
    "duration": 200,
    "start_time": "2022-02-23T09:41:46.781Z"
   },
   {
    "duration": 292,
    "start_time": "2022-02-23T09:42:03.484Z"
   },
   {
    "duration": 33,
    "start_time": "2022-02-23T09:43:21.653Z"
   },
   {
    "duration": 5,
    "start_time": "2022-02-23T09:43:33.922Z"
   },
   {
    "duration": 12,
    "start_time": "2022-02-23T09:43:43.935Z"
   },
   {
    "duration": 179,
    "start_time": "2022-02-23T09:46:47.145Z"
   },
   {
    "duration": 62,
    "start_time": "2022-02-23T09:47:12.156Z"
   },
   {
    "duration": 12,
    "start_time": "2022-02-23T09:52:51.187Z"
   },
   {
    "duration": 3,
    "start_time": "2022-02-23T09:57:11.152Z"
   },
   {
    "duration": 24,
    "start_time": "2022-02-23T09:59:02.175Z"
   },
   {
    "duration": 17,
    "start_time": "2022-02-23T09:59:19.639Z"
   },
   {
    "duration": 684,
    "start_time": "2022-02-23T10:03:01.377Z"
   },
   {
    "duration": 877,
    "start_time": "2022-02-23T10:03:23.477Z"
   },
   {
    "duration": 644,
    "start_time": "2022-02-23T10:05:20.291Z"
   },
   {
    "duration": 1183,
    "start_time": "2022-02-23T10:05:40.769Z"
   },
   {
    "duration": 6,
    "start_time": "2022-02-23T10:13:12.248Z"
   },
   {
    "duration": 7,
    "start_time": "2022-02-23T10:13:34.766Z"
   },
   {
    "duration": 182,
    "start_time": "2022-02-23T10:13:51.711Z"
   },
   {
    "duration": 7,
    "start_time": "2022-02-23T10:13:58.596Z"
   },
   {
    "duration": 7,
    "start_time": "2022-02-23T10:14:05.476Z"
   },
   {
    "duration": 4513,
    "start_time": "2022-02-23T10:14:53.720Z"
   },
   {
    "duration": 6,
    "start_time": "2022-02-23T10:15:06.795Z"
   },
   {
    "duration": 5,
    "start_time": "2022-02-23T10:29:15.752Z"
   },
   {
    "duration": 18,
    "start_time": "2022-02-23T10:29:55.031Z"
   },
   {
    "duration": 1257,
    "start_time": "2022-02-23T10:33:31.864Z"
   },
   {
    "duration": 1224,
    "start_time": "2022-02-23T10:34:32.553Z"
   },
   {
    "duration": 10,
    "start_time": "2022-02-23T10:36:42.355Z"
   },
   {
    "duration": 3,
    "start_time": "2022-02-23T10:36:50.454Z"
   },
   {
    "duration": 9,
    "start_time": "2022-02-23T10:36:51.839Z"
   },
   {
    "duration": 17,
    "start_time": "2022-02-23T10:36:55.775Z"
   },
   {
    "duration": 5546,
    "start_time": "2022-02-23T10:37:48.011Z"
   },
   {
    "duration": 16,
    "start_time": "2022-02-23T10:37:59.987Z"
   },
   {
    "duration": 1255,
    "start_time": "2022-02-23T10:39:18.069Z"
   },
   {
    "duration": 3,
    "start_time": "2022-02-23T10:41:21.335Z"
   },
   {
    "duration": 675,
    "start_time": "2022-02-23T10:41:35.975Z"
   },
   {
    "duration": 614,
    "start_time": "2022-02-23T10:41:46.082Z"
   },
   {
    "duration": 681,
    "start_time": "2022-02-23T10:42:08.119Z"
   },
   {
    "duration": 649,
    "start_time": "2022-02-23T10:42:19.881Z"
   },
   {
    "duration": 21,
    "start_time": "2022-02-23T10:46:41.461Z"
   },
   {
    "duration": 5,
    "start_time": "2022-02-23T10:48:01.133Z"
   },
   {
    "duration": 185,
    "start_time": "2022-02-23T10:48:05.573Z"
   },
   {
    "duration": 4,
    "start_time": "2022-02-23T10:48:08.995Z"
   },
   {
    "duration": 6,
    "start_time": "2022-02-23T10:49:34.149Z"
   },
   {
    "duration": 11,
    "start_time": "2022-02-23T10:49:38.284Z"
   },
   {
    "duration": 13,
    "start_time": "2022-02-23T10:49:52.099Z"
   },
   {
    "duration": 54,
    "start_time": "2022-02-23T10:50:41.379Z"
   },
   {
    "duration": 8,
    "start_time": "2022-02-23T10:50:47.942Z"
   },
   {
    "duration": 4,
    "start_time": "2022-02-23T10:51:59.610Z"
   },
   {
    "duration": 539,
    "start_time": "2022-02-23T10:53:39.581Z"
   },
   {
    "duration": 176,
    "start_time": "2022-02-23T10:53:57.745Z"
   },
   {
    "duration": 4,
    "start_time": "2022-02-23T10:54:14.869Z"
   },
   {
    "duration": 191,
    "start_time": "2022-02-23T10:55:06.300Z"
   },
   {
    "duration": 3,
    "start_time": "2022-02-23T10:55:43.392Z"
   },
   {
    "duration": 3,
    "start_time": "2022-02-23T10:55:49.611Z"
   },
   {
    "duration": 6,
    "start_time": "2022-02-23T10:57:01.096Z"
   },
   {
    "duration": 13,
    "start_time": "2022-02-23T10:58:41.256Z"
   },
   {
    "duration": 530,
    "start_time": "2022-02-23T11:16:06.654Z"
   },
   {
    "duration": 5,
    "start_time": "2022-02-23T11:16:13.317Z"
   },
   {
    "duration": 10,
    "start_time": "2022-02-23T11:16:32.853Z"
   },
   {
    "duration": 11,
    "start_time": "2022-02-23T11:17:47.805Z"
   },
   {
    "duration": 19,
    "start_time": "2022-02-23T11:20:37.330Z"
   },
   {
    "duration": 6,
    "start_time": "2022-02-23T11:36:14.969Z"
   },
   {
    "duration": 3,
    "start_time": "2022-02-23T11:37:57.432Z"
   },
   {
    "duration": 8,
    "start_time": "2022-02-23T11:41:06.342Z"
   },
   {
    "duration": 6,
    "start_time": "2022-02-23T11:41:12.406Z"
   },
   {
    "duration": 413,
    "start_time": "2022-02-23T11:41:30.932Z"
   },
   {
    "duration": 438,
    "start_time": "2022-02-23T11:41:48.092Z"
   },
   {
    "duration": 8,
    "start_time": "2022-02-23T11:45:33.839Z"
   },
   {
    "duration": 7,
    "start_time": "2022-02-23T11:49:24.860Z"
   },
   {
    "duration": 379,
    "start_time": "2022-02-23T11:50:24.551Z"
   },
   {
    "duration": 648,
    "start_time": "2022-02-23T11:54:15.795Z"
   },
   {
    "duration": 647,
    "start_time": "2022-02-23T11:54:20.894Z"
   },
   {
    "duration": 730,
    "start_time": "2022-02-23T11:55:20.498Z"
   },
   {
    "duration": 703,
    "start_time": "2022-02-23T11:56:22.456Z"
   },
   {
    "duration": 1050,
    "start_time": "2022-02-23T11:56:57.992Z"
   },
   {
    "duration": 904,
    "start_time": "2022-02-23T11:58:02.645Z"
   },
   {
    "duration": 703,
    "start_time": "2022-02-23T11:59:10.043Z"
   },
   {
    "duration": 623,
    "start_time": "2022-02-23T11:59:25.001Z"
   },
   {
    "duration": 28,
    "start_time": "2022-02-23T12:36:25.294Z"
   },
   {
    "duration": 191,
    "start_time": "2022-02-23T12:38:00.389Z"
   },
   {
    "duration": 21,
    "start_time": "2022-02-23T12:38:04.042Z"
   },
   {
    "duration": 22,
    "start_time": "2022-02-23T12:38:47.494Z"
   },
   {
    "duration": 17,
    "start_time": "2022-02-23T12:39:03.610Z"
   },
   {
    "duration": 27,
    "start_time": "2022-02-23T12:39:19.753Z"
   },
   {
    "duration": 173,
    "start_time": "2022-02-23T12:48:56.189Z"
   },
   {
    "duration": 38,
    "start_time": "2022-02-23T12:51:01.369Z"
   },
   {
    "duration": 226,
    "start_time": "2022-02-23T12:51:06.748Z"
   },
   {
    "duration": 12,
    "start_time": "2022-02-23T12:51:35.931Z"
   },
   {
    "duration": 416,
    "start_time": "2022-02-23T12:51:40.587Z"
   },
   {
    "duration": 3,
    "start_time": "2022-02-23T12:54:23.051Z"
   },
   {
    "duration": 10,
    "start_time": "2022-02-23T12:54:25.427Z"
   },
   {
    "duration": 260,
    "start_time": "2022-02-23T12:54:29.404Z"
   },
   {
    "duration": 505,
    "start_time": "2022-02-23T13:50:28.668Z"
   },
   {
    "duration": 191,
    "start_time": "2022-02-23T13:51:05.130Z"
   },
   {
    "duration": 574,
    "start_time": "2022-02-23T13:52:22.707Z"
   },
   {
    "duration": 224,
    "start_time": "2022-02-23T13:53:23.761Z"
   },
   {
    "duration": 550,
    "start_time": "2022-02-23T13:53:32.642Z"
   },
   {
    "duration": 4,
    "start_time": "2022-02-23T13:54:50.341Z"
   },
   {
    "duration": 1203,
    "start_time": "2022-02-23T13:54:55.579Z"
   },
   {
    "duration": 5,
    "start_time": "2022-02-23T13:54:56.784Z"
   },
   {
    "duration": 36,
    "start_time": "2022-02-23T13:54:56.791Z"
   },
   {
    "duration": 7,
    "start_time": "2022-02-23T13:54:56.829Z"
   },
   {
    "duration": 11,
    "start_time": "2022-02-23T13:54:56.838Z"
   },
   {
    "duration": 8,
    "start_time": "2022-02-23T13:54:56.858Z"
   },
   {
    "duration": 44,
    "start_time": "2022-02-23T13:54:56.868Z"
   },
   {
    "duration": 15,
    "start_time": "2022-02-23T13:54:56.915Z"
   },
   {
    "duration": 28,
    "start_time": "2022-02-23T13:54:56.932Z"
   },
   {
    "duration": 4251,
    "start_time": "2022-02-23T13:54:56.962Z"
   },
   {
    "duration": 4449,
    "start_time": "2022-02-23T13:55:01.216Z"
   },
   {
    "duration": 4,
    "start_time": "2022-02-23T13:55:05.668Z"
   },
   {
    "duration": 13,
    "start_time": "2022-02-23T13:55:05.674Z"
   },
   {
    "duration": 14,
    "start_time": "2022-02-23T13:55:05.689Z"
   },
   {
    "duration": 444,
    "start_time": "2022-02-23T13:55:05.705Z"
   },
   {
    "duration": 399,
    "start_time": "2022-02-23T13:55:06.151Z"
   },
   {
    "duration": 696,
    "start_time": "2022-02-23T13:55:06.552Z"
   },
   {
    "duration": 939,
    "start_time": "2022-02-23T13:55:07.250Z"
   },
   {
    "duration": 661,
    "start_time": "2022-02-23T13:55:08.192Z"
   },
   {
    "duration": 951,
    "start_time": "2022-02-23T13:55:08.854Z"
   },
   {
    "duration": 23,
    "start_time": "2022-02-23T13:55:09.807Z"
   },
   {
    "duration": 27,
    "start_time": "2022-02-23T13:55:09.832Z"
   },
   {
    "duration": 667,
    "start_time": "2022-02-23T13:55:09.862Z"
   },
   {
    "duration": 61,
    "start_time": "2022-02-23T14:10:18.719Z"
   },
   {
    "duration": 4,
    "start_time": "2022-02-23T14:12:24.120Z"
   },
   {
    "duration": 14,
    "start_time": "2022-02-23T14:14:42.061Z"
   },
   {
    "duration": 4,
    "start_time": "2022-02-23T14:20:33.545Z"
   },
   {
    "duration": 519,
    "start_time": "2022-02-23T14:22:05.180Z"
   },
   {
    "duration": 1224,
    "start_time": "2022-02-23T14:25:48.823Z"
   },
   {
    "duration": 4,
    "start_time": "2022-02-23T14:25:50.050Z"
   },
   {
    "duration": 44,
    "start_time": "2022-02-23T14:25:50.060Z"
   },
   {
    "duration": 6,
    "start_time": "2022-02-23T14:25:50.106Z"
   },
   {
    "duration": 9,
    "start_time": "2022-02-23T14:25:50.114Z"
   },
   {
    "duration": 8,
    "start_time": "2022-02-23T14:25:50.125Z"
   },
   {
    "duration": 71,
    "start_time": "2022-02-23T14:25:50.135Z"
   },
   {
    "duration": 17,
    "start_time": "2022-02-23T14:25:50.208Z"
   },
   {
    "duration": 5,
    "start_time": "2022-02-23T14:25:50.227Z"
   },
   {
    "duration": 4700,
    "start_time": "2022-02-23T14:25:50.234Z"
   },
   {
    "duration": 4653,
    "start_time": "2022-02-23T14:25:54.936Z"
   },
   {
    "duration": 3,
    "start_time": "2022-02-23T14:25:59.592Z"
   },
   {
    "duration": 19,
    "start_time": "2022-02-23T14:25:59.597Z"
   },
   {
    "duration": 9,
    "start_time": "2022-02-23T14:25:59.618Z"
   },
   {
    "duration": 473,
    "start_time": "2022-02-23T14:25:59.628Z"
   },
   {
    "duration": 489,
    "start_time": "2022-02-23T14:26:00.104Z"
   },
   {
    "duration": 927,
    "start_time": "2022-02-23T14:26:00.595Z"
   },
   {
    "duration": 1058,
    "start_time": "2022-02-23T14:26:01.525Z"
   },
   {
    "duration": 753,
    "start_time": "2022-02-23T14:26:02.585Z"
   },
   {
    "duration": 1027,
    "start_time": "2022-02-23T14:26:03.340Z"
   },
   {
    "duration": 26,
    "start_time": "2022-02-23T14:26:04.370Z"
   },
   {
    "duration": 28,
    "start_time": "2022-02-23T14:26:04.398Z"
   },
   {
    "duration": 30,
    "start_time": "2022-02-23T14:26:04.429Z"
   },
   {
    "duration": 40,
    "start_time": "2022-02-23T14:26:04.463Z"
   },
   {
    "duration": 777,
    "start_time": "2022-02-23T14:26:04.505Z"
   },
   {
    "duration": 11,
    "start_time": "2022-02-23T14:37:16.637Z"
   },
   {
    "duration": 7,
    "start_time": "2022-02-23T14:37:23.846Z"
   },
   {
    "duration": 264,
    "start_time": "2022-02-23T14:39:57.315Z"
   },
   {
    "duration": 3,
    "start_time": "2022-02-23T14:40:09.048Z"
   },
   {
    "duration": 177,
    "start_time": "2022-02-23T14:40:10.341Z"
   },
   {
    "duration": 94851,
    "start_time": "2022-02-23T14:40:20.417Z"
   },
   {
    "duration": 4,
    "start_time": "2022-02-23T14:43:16.708Z"
   },
   {
    "duration": 1432,
    "start_time": "2022-02-24T10:36:56.808Z"
   },
   {
    "duration": 4,
    "start_time": "2022-02-24T10:36:58.243Z"
   },
   {
    "duration": 42,
    "start_time": "2022-02-24T10:36:58.249Z"
   },
   {
    "duration": 6,
    "start_time": "2022-02-24T10:36:58.293Z"
   },
   {
    "duration": 18,
    "start_time": "2022-02-24T10:36:58.301Z"
   },
   {
    "duration": 10,
    "start_time": "2022-02-24T10:36:58.321Z"
   },
   {
    "duration": 47,
    "start_time": "2022-02-24T10:36:58.333Z"
   },
   {
    "duration": 41,
    "start_time": "2022-02-24T10:36:58.383Z"
   },
   {
    "duration": 8,
    "start_time": "2022-02-24T10:36:58.427Z"
   },
   {
    "duration": 4309,
    "start_time": "2022-02-24T10:36:58.437Z"
   },
   {
    "duration": 4176,
    "start_time": "2022-02-24T10:37:02.748Z"
   },
   {
    "duration": 3,
    "start_time": "2022-02-24T10:37:06.926Z"
   },
   {
    "duration": 11,
    "start_time": "2022-02-24T10:37:06.930Z"
   },
   {
    "duration": 14,
    "start_time": "2022-02-24T10:37:06.943Z"
   },
   {
    "duration": 418,
    "start_time": "2022-02-24T10:37:06.959Z"
   },
   {
    "duration": 402,
    "start_time": "2022-02-24T10:37:07.379Z"
   },
   {
    "duration": 685,
    "start_time": "2022-02-24T10:37:07.783Z"
   },
   {
    "duration": 842,
    "start_time": "2022-02-24T10:37:08.470Z"
   },
   {
    "duration": 642,
    "start_time": "2022-02-24T10:37:09.314Z"
   },
   {
    "duration": 865,
    "start_time": "2022-02-24T10:37:09.958Z"
   },
   {
    "duration": 21,
    "start_time": "2022-02-24T10:37:10.825Z"
   },
   {
    "duration": 7,
    "start_time": "2022-02-24T10:37:10.847Z"
   },
   {
    "duration": 10,
    "start_time": "2022-02-24T10:37:10.857Z"
   },
   {
    "duration": 3,
    "start_time": "2022-02-24T10:37:10.869Z"
   },
   {
    "duration": 708,
    "start_time": "2022-02-24T10:37:10.873Z"
   },
   {
    "duration": 8,
    "start_time": "2022-02-24T10:37:11.583Z"
   },
   {
    "duration": 90244,
    "start_time": "2022-02-24T10:37:11.592Z"
   },
   {
    "duration": 352,
    "start_time": "2022-02-24T10:44:54.979Z"
   },
   {
    "duration": 19,
    "start_time": "2022-02-24T10:45:12.033Z"
   },
   {
    "duration": 1682,
    "start_time": "2022-02-24T10:45:12.854Z"
   },
   {
    "duration": 4,
    "start_time": "2022-02-24T10:46:44.040Z"
   },
   {
    "duration": 17,
    "start_time": "2022-02-24T10:47:14.601Z"
   },
   {
    "duration": 16,
    "start_time": "2022-02-24T10:50:35.859Z"
   },
   {
    "duration": 7,
    "start_time": "2022-02-24T10:50:51.467Z"
   },
   {
    "duration": 5,
    "start_time": "2022-02-24T10:51:01.348Z"
   },
   {
    "duration": 16,
    "start_time": "2022-02-24T10:51:52.145Z"
   },
   {
    "duration": 9,
    "start_time": "2022-02-24T10:52:05.168Z"
   },
   {
    "duration": 248,
    "start_time": "2022-02-24T10:52:31.219Z"
   },
   {
    "duration": 8,
    "start_time": "2022-02-24T10:52:39.141Z"
   },
   {
    "duration": 1565,
    "start_time": "2022-02-24T11:02:14.959Z"
   },
   {
    "duration": 18,
    "start_time": "2022-02-24T11:02:37.321Z"
   },
   {
    "duration": 84,
    "start_time": "2022-02-24T11:05:36.579Z"
   },
   {
    "duration": 768,
    "start_time": "2022-02-24T11:05:47.196Z"
   },
   {
    "duration": 246,
    "start_time": "2022-02-24T11:16:13.925Z"
   },
   {
    "duration": 640,
    "start_time": "2022-02-24T11:16:33.199Z"
   },
   {
    "duration": 1266,
    "start_time": "2022-02-24T11:16:50.082Z"
   },
   {
    "duration": 260,
    "start_time": "2022-02-24T11:17:09.709Z"
   },
   {
    "duration": 603,
    "start_time": "2022-02-24T11:17:19.956Z"
   },
   {
    "duration": 1085,
    "start_time": "2022-02-24T11:23:36.034Z"
   },
   {
    "duration": 339,
    "start_time": "2022-02-24T11:23:43.491Z"
   },
   {
    "duration": 369,
    "start_time": "2022-02-24T11:24:13.358Z"
   },
   {
    "duration": 587,
    "start_time": "2022-02-24T11:26:42.012Z"
   },
   {
    "duration": 484,
    "start_time": "2022-02-24T11:27:23.364Z"
   },
   {
    "duration": 479,
    "start_time": "2022-02-24T11:27:33.685Z"
   },
   {
    "duration": 488,
    "start_time": "2022-02-24T11:28:04.879Z"
   },
   {
    "duration": 485,
    "start_time": "2022-02-24T11:28:27.150Z"
   },
   {
    "duration": 580,
    "start_time": "2022-02-24T11:30:01.838Z"
   },
   {
    "duration": 517,
    "start_time": "2022-02-24T11:30:22.353Z"
   },
   {
    "duration": 286,
    "start_time": "2022-02-24T11:30:33.678Z"
   },
   {
    "duration": 290,
    "start_time": "2022-02-24T11:31:24.537Z"
   },
   {
    "duration": 70318,
    "start_time": "2022-02-24T11:45:31.844Z"
   },
   {
    "duration": -235,
    "start_time": "2022-02-24T11:46:42.400Z"
   },
   {
    "duration": 1409,
    "start_time": "2022-02-24T11:46:48.397Z"
   },
   {
    "duration": 1536,
    "start_time": "2022-02-24T11:47:13.703Z"
   },
   {
    "duration": 433,
    "start_time": "2022-02-24T11:47:28.387Z"
   },
   {
    "duration": 467,
    "start_time": "2022-02-24T11:47:46.753Z"
   },
   {
    "duration": 425,
    "start_time": "2022-02-24T11:48:32.314Z"
   },
   {
    "duration": 489,
    "start_time": "2022-02-24T11:48:46.861Z"
   },
   {
    "duration": 625,
    "start_time": "2022-02-24T11:49:35.832Z"
   },
   {
    "duration": 1902,
    "start_time": "2022-02-24T11:50:38.233Z"
   },
   {
    "duration": 344,
    "start_time": "2022-02-24T12:06:14.502Z"
   },
   {
    "duration": 235,
    "start_time": "2022-02-24T12:06:32.150Z"
   },
   {
    "duration": 253,
    "start_time": "2022-02-24T12:06:45.450Z"
   },
   {
    "duration": 640,
    "start_time": "2022-02-24T12:06:51.361Z"
   },
   {
    "duration": 246,
    "start_time": "2022-02-24T12:08:30.899Z"
   },
   {
    "duration": 239,
    "start_time": "2022-02-24T12:08:39.133Z"
   },
   {
    "duration": 446,
    "start_time": "2022-02-24T12:12:01.743Z"
   },
   {
    "duration": 251,
    "start_time": "2022-02-24T12:13:01.966Z"
   },
   {
    "duration": 479,
    "start_time": "2022-02-24T12:14:56.826Z"
   },
   {
    "duration": 536,
    "start_time": "2022-02-24T12:16:07.618Z"
   },
   {
    "duration": 454,
    "start_time": "2022-02-24T12:16:43.471Z"
   },
   {
    "duration": 470,
    "start_time": "2022-02-24T12:17:35.792Z"
   },
   {
    "duration": 4,
    "start_time": "2022-02-24T12:40:51.677Z"
   },
   {
    "duration": 3647,
    "start_time": "2022-02-24T12:41:37.781Z"
   },
   {
    "duration": 3272,
    "start_time": "2022-02-24T12:43:28.351Z"
   },
   {
    "duration": 91776,
    "start_time": "2022-02-24T12:44:24.701Z"
   },
   {
    "duration": 5697,
    "start_time": "2022-02-24T12:45:56.479Z"
   },
   {
    "duration": 2498,
    "start_time": "2022-02-24T12:48:44.536Z"
   },
   {
    "duration": 5502,
    "start_time": "2022-02-24T12:49:50.326Z"
   },
   {
    "duration": 5181,
    "start_time": "2022-02-24T12:50:04.731Z"
   },
   {
    "duration": 2471,
    "start_time": "2022-02-24T12:53:54.932Z"
   },
   {
    "duration": 6677,
    "start_time": "2022-02-24T12:56:44.509Z"
   },
   {
    "duration": 6333,
    "start_time": "2022-02-24T12:57:52.267Z"
   },
   {
    "duration": 6840,
    "start_time": "2022-02-24T12:58:33.037Z"
   },
   {
    "duration": 6684,
    "start_time": "2022-02-24T12:59:15.879Z"
   },
   {
    "duration": 6389,
    "start_time": "2022-02-24T13:01:33.210Z"
   },
   {
    "duration": 6731,
    "start_time": "2022-02-24T13:03:44.536Z"
   },
   {
    "duration": 6757,
    "start_time": "2022-02-24T14:00:21.738Z"
   },
   {
    "duration": 6504,
    "start_time": "2022-02-24T14:00:47.335Z"
   },
   {
    "duration": 4,
    "start_time": "2022-02-24T14:01:15.464Z"
   },
   {
    "duration": 2264,
    "start_time": "2022-02-24T14:02:02.870Z"
   },
   {
    "duration": 7077,
    "start_time": "2022-02-24T14:02:19.967Z"
   },
   {
    "duration": 7079,
    "start_time": "2022-02-24T14:02:48.798Z"
   },
   {
    "duration": 6350,
    "start_time": "2022-02-24T14:03:32.480Z"
   },
   {
    "duration": 1155,
    "start_time": "2022-02-24T14:06:33.141Z"
   },
   {
    "duration": 1419,
    "start_time": "2022-02-24T14:07:24.649Z"
   },
   {
    "duration": 1136,
    "start_time": "2022-02-24T14:07:49.150Z"
   },
   {
    "duration": 1853,
    "start_time": "2022-02-24T14:13:38.460Z"
   },
   {
    "duration": 2141,
    "start_time": "2022-02-24T14:13:56.800Z"
   },
   {
    "duration": 1802,
    "start_time": "2022-02-24T14:14:00.253Z"
   },
   {
    "duration": 1099,
    "start_time": "2022-02-24T14:14:12.551Z"
   },
   {
    "duration": 1120,
    "start_time": "2022-02-24T14:14:38.939Z"
   },
   {
    "duration": 1181,
    "start_time": "2022-02-24T14:15:06.027Z"
   },
   {
    "duration": 955,
    "start_time": "2022-02-24T14:15:23.367Z"
   },
   {
    "duration": 2552,
    "start_time": "2022-02-24T14:19:18.343Z"
   },
   {
    "duration": 2291,
    "start_time": "2022-02-24T14:19:54.765Z"
   },
   {
    "duration": 2384,
    "start_time": "2022-02-24T14:20:47.160Z"
   },
   {
    "duration": 1607,
    "start_time": "2022-02-24T14:21:21.205Z"
   },
   {
    "duration": 1584,
    "start_time": "2022-02-24T14:22:07.379Z"
   },
   {
    "duration": 257,
    "start_time": "2022-02-24T14:24:50.355Z"
   },
   {
    "duration": 1260,
    "start_time": "2022-02-24T14:25:06.949Z"
   },
   {
    "duration": 11622,
    "start_time": "2022-02-24T14:26:17.003Z"
   },
   {
    "duration": 11452,
    "start_time": "2022-02-24T14:27:28.108Z"
   },
   {
    "duration": 1592,
    "start_time": "2022-02-24T14:28:32.395Z"
   },
   {
    "duration": 429,
    "start_time": "2022-02-24T14:29:17.008Z"
   },
   {
    "duration": 921,
    "start_time": "2022-02-24T14:29:28.492Z"
   },
   {
    "duration": 1436,
    "start_time": "2022-02-24T14:32:20.364Z"
   },
   {
    "duration": 1480,
    "start_time": "2022-02-24T14:32:38.842Z"
   },
   {
    "duration": 1306,
    "start_time": "2022-02-24T14:33:21.093Z"
   },
   {
    "duration": 1631,
    "start_time": "2022-02-24T14:33:35.013Z"
   },
   {
    "duration": 1654,
    "start_time": "2022-02-24T14:35:20.594Z"
   },
   {
    "duration": 1615,
    "start_time": "2022-02-24T14:35:36.258Z"
   },
   {
    "duration": 1626,
    "start_time": "2022-02-24T14:36:42.965Z"
   },
   {
    "duration": 1200,
    "start_time": "2022-02-24T14:40:47.374Z"
   },
   {
    "duration": 1520,
    "start_time": "2022-02-24T14:41:08.367Z"
   },
   {
    "duration": 495,
    "start_time": "2022-02-24T14:42:17.759Z"
   },
   {
    "duration": 1150,
    "start_time": "2022-02-24T14:43:09.858Z"
   },
   {
    "duration": 919,
    "start_time": "2022-02-24T14:43:42.791Z"
   },
   {
    "duration": 1146,
    "start_time": "2022-02-24T14:44:01.484Z"
   },
   {
    "duration": 982,
    "start_time": "2022-02-24T14:44:19.516Z"
   },
   {
    "duration": 1243,
    "start_time": "2022-02-24T14:44:45.702Z"
   },
   {
    "duration": 1055,
    "start_time": "2022-02-24T14:45:38.735Z"
   },
   {
    "duration": 945,
    "start_time": "2022-02-24T14:45:46.128Z"
   },
   {
    "duration": 241,
    "start_time": "2022-02-24T14:49:25.138Z"
   },
   {
    "duration": 9956,
    "start_time": "2022-02-24T14:49:31.985Z"
   },
   {
    "duration": 1388,
    "start_time": "2022-02-24T14:50:26.422Z"
   },
   {
    "duration": 4,
    "start_time": "2022-02-24T14:50:27.812Z"
   },
   {
    "duration": 31,
    "start_time": "2022-02-24T14:50:27.820Z"
   },
   {
    "duration": 6,
    "start_time": "2022-02-24T14:50:27.853Z"
   },
   {
    "duration": 11,
    "start_time": "2022-02-24T14:50:27.861Z"
   },
   {
    "duration": 9,
    "start_time": "2022-02-24T14:50:27.874Z"
   },
   {
    "duration": 73,
    "start_time": "2022-02-24T14:50:27.886Z"
   },
   {
    "duration": 16,
    "start_time": "2022-02-24T14:50:27.962Z"
   },
   {
    "duration": 6,
    "start_time": "2022-02-24T14:50:27.979Z"
   },
   {
    "duration": 4161,
    "start_time": "2022-02-24T14:50:27.986Z"
   },
   {
    "duration": 4135,
    "start_time": "2022-02-24T14:50:32.149Z"
   },
   {
    "duration": 5,
    "start_time": "2022-02-24T14:50:36.287Z"
   },
   {
    "duration": 27,
    "start_time": "2022-02-24T14:50:36.294Z"
   },
   {
    "duration": 14,
    "start_time": "2022-02-24T14:50:36.323Z"
   },
   {
    "duration": 398,
    "start_time": "2022-02-24T14:50:36.339Z"
   },
   {
    "duration": 409,
    "start_time": "2022-02-24T14:50:36.740Z"
   },
   {
    "duration": 640,
    "start_time": "2022-02-24T14:50:37.151Z"
   },
   {
    "duration": 899,
    "start_time": "2022-02-24T14:50:37.792Z"
   },
   {
    "duration": 674,
    "start_time": "2022-02-24T14:50:38.693Z"
   },
   {
    "duration": 903,
    "start_time": "2022-02-24T14:50:39.369Z"
   },
   {
    "duration": 22,
    "start_time": "2022-02-24T14:50:40.274Z"
   },
   {
    "duration": 7,
    "start_time": "2022-02-24T14:50:40.317Z"
   },
   {
    "duration": 14,
    "start_time": "2022-02-24T14:50:40.326Z"
   },
   {
    "duration": 6,
    "start_time": "2022-02-24T14:50:40.343Z"
   },
   {
    "duration": 667,
    "start_time": "2022-02-24T14:50:40.351Z"
   },
   {
    "duration": 7,
    "start_time": "2022-02-24T14:50:41.020Z"
   },
   {
    "duration": 90768,
    "start_time": "2022-02-24T14:50:41.029Z"
   },
   {
    "duration": 28,
    "start_time": "2022-02-24T14:52:11.799Z"
   },
   {
    "duration": 1399,
    "start_time": "2022-02-24T14:52:11.829Z"
   },
   {
    "duration": 102,
    "start_time": "2022-02-24T14:52:13.230Z"
   },
   {
    "duration": 5,
    "start_time": "2022-02-24T14:52:13.334Z"
   },
   {
    "duration": 2035,
    "start_time": "2022-02-24T14:52:13.341Z"
   },
   {
    "duration": 4,
    "start_time": "2022-02-24T14:52:15.378Z"
   },
   {
    "duration": 4355,
    "start_time": "2022-02-24T14:52:15.384Z"
   },
   {
    "duration": 11464,
    "start_time": "2022-02-24T14:52:19.741Z"
   },
   {
    "duration": 1417,
    "start_time": "2022-02-24T14:52:31.207Z"
   },
   {
    "duration": 1530,
    "start_time": "2022-02-24T14:52:32.626Z"
   },
   {
    "duration": 1769,
    "start_time": "2022-02-24T14:52:34.158Z"
   },
   {
    "duration": 6843,
    "start_time": "2022-02-24T14:52:44.477Z"
   },
   {
    "duration": 351,
    "start_time": "2022-02-24T14:52:51.322Z"
   },
   {
    "duration": -194,
    "start_time": "2022-02-24T14:52:51.868Z"
   },
   {
    "duration": -202,
    "start_time": "2022-02-24T14:52:51.877Z"
   },
   {
    "duration": -206,
    "start_time": "2022-02-24T14:52:51.882Z"
   },
   {
    "duration": -220,
    "start_time": "2022-02-24T14:52:51.897Z"
   },
   {
    "duration": 35476,
    "start_time": "2022-02-24T14:52:58.391Z"
   },
   {
    "duration": 248,
    "start_time": "2022-02-24T14:53:51.071Z"
   },
   {
    "duration": 9262,
    "start_time": "2022-02-24T14:53:57.031Z"
   },
   {
    "duration": 8687,
    "start_time": "2022-02-24T14:54:25.164Z"
   },
   {
    "duration": 642,
    "start_time": "2022-02-24T14:55:03.342Z"
   },
   {
    "duration": 1508,
    "start_time": "2022-02-24T15:01:49.475Z"
   },
   {
    "duration": 1637,
    "start_time": "2022-02-24T15:02:10.777Z"
   },
   {
    "duration": 3124,
    "start_time": "2022-02-24T15:02:37.094Z"
   },
   {
    "duration": 4,
    "start_time": "2022-02-24T15:05:08.507Z"
   },
   {
    "duration": 5,
    "start_time": "2022-02-24T15:05:24.214Z"
   },
   {
    "duration": 4,
    "start_time": "2022-02-24T15:05:52.846Z"
   },
   {
    "duration": 1516,
    "start_time": "2022-02-24T15:14:15.737Z"
   },
   {
    "duration": 1823,
    "start_time": "2022-02-24T15:14:28.968Z"
   },
   {
    "duration": 6139,
    "start_time": "2022-02-24T15:16:15.411Z"
   },
   {
    "duration": 5196,
    "start_time": "2022-02-24T15:17:10.547Z"
   },
   {
    "duration": 4626,
    "start_time": "2022-02-24T15:17:42.292Z"
   },
   {
    "duration": 3394,
    "start_time": "2022-02-24T15:18:00.085Z"
   },
   {
    "duration": 6057,
    "start_time": "2022-02-24T15:18:14.975Z"
   },
   {
    "duration": 4568,
    "start_time": "2022-02-24T15:18:36.209Z"
   },
   {
    "duration": 89,
    "start_time": "2022-02-24T15:19:45.673Z"
   },
   {
    "duration": 6428,
    "start_time": "2022-02-24T15:20:02.587Z"
   },
   {
    "duration": 6479,
    "start_time": "2022-02-24T15:20:20.703Z"
   },
   {
    "duration": 79,
    "start_time": "2022-02-24T15:21:47.158Z"
   },
   {
    "duration": 4,
    "start_time": "2022-02-24T15:22:35.707Z"
   },
   {
    "duration": 84,
    "start_time": "2022-02-24T15:23:24.765Z"
   },
   {
    "duration": 76,
    "start_time": "2022-02-24T15:23:29.529Z"
   },
   {
    "duration": 92,
    "start_time": "2022-02-24T15:23:34.143Z"
   },
   {
    "duration": 4,
    "start_time": "2022-02-24T15:23:40.167Z"
   },
   {
    "duration": 4290,
    "start_time": "2022-02-24T15:24:09.244Z"
   },
   {
    "duration": 4214,
    "start_time": "2022-02-24T15:24:56.164Z"
   },
   {
    "duration": 4581,
    "start_time": "2022-02-24T15:25:07.146Z"
   },
   {
    "duration": 4764,
    "start_time": "2022-02-24T15:25:34.958Z"
   },
   {
    "duration": 5723,
    "start_time": "2022-02-24T15:29:32.004Z"
   },
   {
    "duration": 4230,
    "start_time": "2022-02-24T15:30:19.643Z"
   },
   {
    "duration": 2724,
    "start_time": "2022-02-24T15:30:28.800Z"
   },
   {
    "duration": 4213,
    "start_time": "2022-02-24T15:30:35.205Z"
   },
   {
    "duration": 2649,
    "start_time": "2022-02-24T15:31:26.006Z"
   },
   {
    "duration": 4201,
    "start_time": "2022-02-24T15:31:32.581Z"
   },
   {
    "duration": 4341,
    "start_time": "2022-02-24T15:34:44.827Z"
   },
   {
    "duration": 2671,
    "start_time": "2022-02-24T15:35:03.414Z"
   },
   {
    "duration": 4336,
    "start_time": "2022-02-24T15:35:20.460Z"
   },
   {
    "duration": 5697,
    "start_time": "2022-02-24T15:35:40.785Z"
   },
   {
    "duration": 4288,
    "start_time": "2022-02-24T15:36:10.442Z"
   },
   {
    "duration": 7,
    "start_time": "2022-02-24T15:47:17.849Z"
   },
   {
    "duration": 1576,
    "start_time": "2022-02-24T15:59:17.845Z"
   },
   {
    "duration": 5,
    "start_time": "2022-02-24T16:00:08.363Z"
   },
   {
    "duration": 372,
    "start_time": "2022-02-24T16:01:13.565Z"
   },
   {
    "duration": 4460,
    "start_time": "2022-02-24T16:06:09.011Z"
   },
   {
    "duration": 1504,
    "start_time": "2022-02-24T16:07:41.630Z"
   },
   {
    "duration": 1354,
    "start_time": "2022-02-25T11:46:31.742Z"
   },
   {
    "duration": 4,
    "start_time": "2022-02-25T11:46:33.098Z"
   },
   {
    "duration": 35,
    "start_time": "2022-02-25T11:46:33.104Z"
   },
   {
    "duration": 6,
    "start_time": "2022-02-25T11:46:33.142Z"
   },
   {
    "duration": 10,
    "start_time": "2022-02-25T11:46:33.150Z"
   },
   {
    "duration": 8,
    "start_time": "2022-02-25T11:46:33.161Z"
   },
   {
    "duration": 63,
    "start_time": "2022-02-25T11:46:33.171Z"
   },
   {
    "duration": 15,
    "start_time": "2022-02-25T11:46:33.236Z"
   },
   {
    "duration": 4,
    "start_time": "2022-02-25T11:46:33.253Z"
   },
   {
    "duration": 4149,
    "start_time": "2022-02-25T11:46:33.259Z"
   },
   {
    "duration": 4600,
    "start_time": "2022-02-25T11:46:37.410Z"
   },
   {
    "duration": 5,
    "start_time": "2022-02-25T11:46:42.012Z"
   },
   {
    "duration": 20,
    "start_time": "2022-02-25T11:46:42.019Z"
   },
   {
    "duration": 7,
    "start_time": "2022-02-25T11:46:42.042Z"
   },
   {
    "duration": 436,
    "start_time": "2022-02-25T11:46:42.051Z"
   },
   {
    "duration": 465,
    "start_time": "2022-02-25T11:46:42.488Z"
   },
   {
    "duration": 702,
    "start_time": "2022-02-25T11:46:42.956Z"
   },
   {
    "duration": 863,
    "start_time": "2022-02-25T11:46:43.659Z"
   },
   {
    "duration": 686,
    "start_time": "2022-02-25T11:46:44.524Z"
   },
   {
    "duration": 869,
    "start_time": "2022-02-25T11:46:45.213Z"
   },
   {
    "duration": 19,
    "start_time": "2022-02-25T11:46:46.084Z"
   },
   {
    "duration": 4,
    "start_time": "2022-02-25T11:46:46.105Z"
   },
   {
    "duration": 9,
    "start_time": "2022-02-25T11:46:46.133Z"
   },
   {
    "duration": 2,
    "start_time": "2022-02-25T11:46:46.144Z"
   },
   {
    "duration": 658,
    "start_time": "2022-02-25T11:46:46.148Z"
   },
   {
    "duration": 8,
    "start_time": "2022-02-25T11:46:46.808Z"
   },
   {
    "duration": 87402,
    "start_time": "2022-02-25T11:46:46.818Z"
   },
   {
    "duration": 18,
    "start_time": "2022-02-25T11:48:14.222Z"
   },
   {
    "duration": 1397,
    "start_time": "2022-02-25T11:48:14.242Z"
   },
   {
    "duration": 101,
    "start_time": "2022-02-25T11:48:15.642Z"
   },
   {
    "duration": 6,
    "start_time": "2022-02-25T11:48:15.745Z"
   },
   {
    "duration": 4363,
    "start_time": "2022-02-25T11:48:15.752Z"
   },
   {
    "duration": 4,
    "start_time": "2022-02-25T11:48:20.116Z"
   },
   {
    "duration": 1387,
    "start_time": "2022-02-25T11:48:20.133Z"
   },
   {
    "duration": 360,
    "start_time": "2022-02-25T11:48:21.522Z"
   },
   {
    "duration": 7,
    "start_time": "2022-02-25T11:48:21.884Z"
   },
   {
    "duration": 3,
    "start_time": "2022-02-25T11:48:21.893Z"
   },
   {
    "duration": 333,
    "start_time": "2022-02-25T11:50:14.084Z"
   },
   {
    "duration": 350,
    "start_time": "2022-02-25T11:50:25.866Z"
   },
   {
    "duration": 495,
    "start_time": "2022-02-25T11:50:47.444Z"
   },
   {
    "duration": 346,
    "start_time": "2022-02-25T11:50:53.876Z"
   },
   {
    "duration": 332,
    "start_time": "2022-02-25T11:51:00.360Z"
   },
   {
    "duration": 331,
    "start_time": "2022-02-25T11:51:16.371Z"
   },
   {
    "duration": 341,
    "start_time": "2022-02-25T11:51:32.184Z"
   },
   {
    "duration": 344,
    "start_time": "2022-02-25T11:51:43.872Z"
   },
   {
    "duration": 1254,
    "start_time": "2022-02-25T11:53:29.464Z"
   },
   {
    "duration": 1117,
    "start_time": "2022-02-25T11:54:10.289Z"
   },
   {
    "duration": 1036,
    "start_time": "2022-02-25T11:55:57.161Z"
   },
   {
    "duration": 960,
    "start_time": "2022-02-25T11:56:19.621Z"
   },
   {
    "duration": 755,
    "start_time": "2022-02-25T11:56:46.094Z"
   },
   {
    "duration": 926,
    "start_time": "2022-02-25T11:57:10.487Z"
   },
   {
    "duration": 820,
    "start_time": "2022-02-25T11:57:42.228Z"
   },
   {
    "duration": 775,
    "start_time": "2022-02-25T11:57:51.385Z"
   },
   {
    "duration": 762,
    "start_time": "2022-02-25T11:57:59.140Z"
   },
   {
    "duration": 784,
    "start_time": "2022-02-25T11:58:19.826Z"
   },
   {
    "duration": 965,
    "start_time": "2022-02-25T11:58:29.681Z"
   },
   {
    "duration": 777,
    "start_time": "2022-02-25T11:58:40.992Z"
   },
   {
    "duration": 782,
    "start_time": "2022-02-25T11:58:50.540Z"
   },
   {
    "duration": 780,
    "start_time": "2022-02-25T11:59:03.269Z"
   },
   {
    "duration": 1003,
    "start_time": "2022-02-25T11:59:27.603Z"
   },
   {
    "duration": 492,
    "start_time": "2022-02-25T12:07:03.614Z"
   },
   {
    "duration": 541,
    "start_time": "2022-02-25T12:10:00.342Z"
   },
   {
    "duration": 5815,
    "start_time": "2022-02-25T12:11:23.972Z"
   },
   {
    "duration": 6224,
    "start_time": "2022-02-25T12:11:58.159Z"
   },
   {
    "duration": 6151,
    "start_time": "2022-02-25T12:12:58.264Z"
   },
   {
    "duration": 7178,
    "start_time": "2022-02-25T12:13:31.458Z"
   },
   {
    "duration": 6806,
    "start_time": "2022-02-25T12:15:42.874Z"
   },
   {
    "duration": 13,
    "start_time": "2022-02-25T12:21:06.653Z"
   },
   {
    "duration": 9,
    "start_time": "2022-02-25T12:21:14.439Z"
   },
   {
    "duration": 292,
    "start_time": "2022-02-25T12:24:11.107Z"
   },
   {
    "duration": 5,
    "start_time": "2022-02-25T12:24:33.366Z"
   },
   {
    "duration": 4,
    "start_time": "2022-02-25T12:24:37.305Z"
   },
   {
    "duration": 404,
    "start_time": "2022-02-25T12:24:40.433Z"
   },
   {
    "duration": 811,
    "start_time": "2022-02-25T12:25:24.180Z"
   },
   {
    "duration": 120,
    "start_time": "2022-02-25T12:25:32.894Z"
   },
   {
    "duration": 344,
    "start_time": "2022-02-25T12:25:46.905Z"
   },
   {
    "duration": 1052,
    "start_time": "2022-02-25T12:26:45.559Z"
   },
   {
    "duration": 615,
    "start_time": "2022-02-25T12:27:51.031Z"
   },
   {
    "duration": 1418,
    "start_time": "2022-02-25T12:31:11.243Z"
   },
   {
    "duration": 559,
    "start_time": "2022-02-25T12:31:34.200Z"
   },
   {
    "duration": 554,
    "start_time": "2022-02-25T12:31:57.142Z"
   },
   {
    "duration": 552,
    "start_time": "2022-02-25T12:32:02.590Z"
   },
   {
    "duration": 842,
    "start_time": "2022-02-25T12:32:29.933Z"
   },
   {
    "duration": 555,
    "start_time": "2022-02-25T12:32:37.030Z"
   },
   {
    "duration": 490,
    "start_time": "2022-02-25T12:33:28.409Z"
   },
   {
    "duration": 616,
    "start_time": "2022-02-25T12:33:38.327Z"
   },
   {
    "duration": 880,
    "start_time": "2022-02-25T12:33:49.033Z"
   },
   {
    "duration": 557,
    "start_time": "2022-02-25T12:33:55.404Z"
   },
   {
    "duration": 709,
    "start_time": "2022-02-25T12:37:52.165Z"
   },
   {
    "duration": 501,
    "start_time": "2022-02-25T12:39:18.721Z"
   },
   {
    "duration": 818,
    "start_time": "2022-02-25T12:39:31.288Z"
   },
   {
    "duration": 551,
    "start_time": "2022-02-25T12:40:02.851Z"
   },
   {
    "duration": 226,
    "start_time": "2022-02-25T12:42:30.276Z"
   },
   {
    "duration": 222,
    "start_time": "2022-02-25T12:42:38.236Z"
   },
   {
    "duration": 1631,
    "start_time": "2022-02-25T12:51:51.926Z"
   },
   {
    "duration": 5,
    "start_time": "2022-02-25T12:51:53.560Z"
   },
   {
    "duration": 264,
    "start_time": "2022-02-25T12:51:53.567Z"
   },
   {
    "duration": 8,
    "start_time": "2022-02-25T12:51:53.834Z"
   },
   {
    "duration": 10,
    "start_time": "2022-02-25T12:51:53.844Z"
   },
   {
    "duration": 11,
    "start_time": "2022-02-25T12:51:53.857Z"
   },
   {
    "duration": 104,
    "start_time": "2022-02-25T12:51:53.870Z"
   },
   {
    "duration": 45,
    "start_time": "2022-02-25T12:51:53.978Z"
   },
   {
    "duration": 7,
    "start_time": "2022-02-25T12:51:54.026Z"
   },
   {
    "duration": 6756,
    "start_time": "2022-02-25T12:51:54.035Z"
   },
   {
    "duration": 7384,
    "start_time": "2022-02-25T12:52:00.794Z"
   },
   {
    "duration": 5,
    "start_time": "2022-02-25T12:52:08.181Z"
   },
   {
    "duration": 27,
    "start_time": "2022-02-25T12:52:08.189Z"
   },
   {
    "duration": 13,
    "start_time": "2022-02-25T12:52:08.219Z"
   },
   {
    "duration": 673,
    "start_time": "2022-02-25T12:52:08.236Z"
   },
   {
    "duration": 683,
    "start_time": "2022-02-25T12:52:08.911Z"
   },
   {
    "duration": 941,
    "start_time": "2022-02-25T12:52:09.597Z"
   },
   {
    "duration": 1381,
    "start_time": "2022-02-25T12:52:10.541Z"
   },
   {
    "duration": 977,
    "start_time": "2022-02-25T12:52:11.924Z"
   },
   {
    "duration": 1391,
    "start_time": "2022-02-25T12:52:12.911Z"
   },
   {
    "duration": 36,
    "start_time": "2022-02-25T12:52:14.305Z"
   },
   {
    "duration": 9,
    "start_time": "2022-02-25T12:52:14.344Z"
   },
   {
    "duration": 12,
    "start_time": "2022-02-25T12:52:14.359Z"
   },
   {
    "duration": 3,
    "start_time": "2022-02-25T12:52:14.374Z"
   },
   {
    "duration": 871,
    "start_time": "2022-02-25T12:52:14.412Z"
   },
   {
    "duration": 9,
    "start_time": "2022-02-25T12:52:15.286Z"
   },
   {
    "duration": 150069,
    "start_time": "2022-02-25T12:52:15.298Z"
   },
   {
    "duration": 23,
    "start_time": "2022-02-25T12:54:45.369Z"
   },
   {
    "duration": 1830,
    "start_time": "2022-02-25T12:54:45.394Z"
   },
   {
    "duration": 28,
    "start_time": "2022-02-25T12:54:47.226Z"
   },
   {
    "duration": 7,
    "start_time": "2022-02-25T12:54:47.257Z"
   },
   {
    "duration": 7145,
    "start_time": "2022-02-25T12:54:47.267Z"
   },
   {
    "duration": 10987,
    "start_time": "2022-02-25T12:54:54.414Z"
   },
   {
    "duration": 10,
    "start_time": "2022-02-25T12:55:05.411Z"
   },
   {
    "duration": 9,
    "start_time": "2022-02-25T12:55:05.424Z"
   },
   {
    "duration": 7,
    "start_time": "2022-02-25T12:55:05.435Z"
   },
   {
    "duration": 9874,
    "start_time": "2022-02-25T12:55:05.444Z"
   },
   {
    "duration": 1393,
    "start_time": "2022-02-25T12:55:15.321Z"
   },
   {
    "duration": -1129,
    "start_time": "2022-02-25T12:55:17.846Z"
   },
   {
    "duration": -1138,
    "start_time": "2022-02-25T12:55:17.857Z"
   },
   {
    "duration": 659,
    "start_time": "2022-02-25T13:01:12.264Z"
   },
   {
    "duration": 1681,
    "start_time": "2022-02-25T13:02:28.274Z"
   },
   {
    "duration": 1692,
    "start_time": "2022-02-25T13:03:51.331Z"
   },
   {
    "duration": 730,
    "start_time": "2022-02-25T13:04:33.006Z"
   },
   {
    "duration": 11,
    "start_time": "2022-02-25T13:05:27.581Z"
   },
   {
    "duration": 863,
    "start_time": "2022-02-25T13:08:40.104Z"
   },
   {
    "duration": 465,
    "start_time": "2022-02-25T13:08:49.380Z"
   },
   {
    "duration": 811,
    "start_time": "2022-02-25T13:10:38.699Z"
   },
   {
    "duration": 11,
    "start_time": "2022-02-25T13:11:10.558Z"
   },
   {
    "duration": 5,
    "start_time": "2022-02-25T13:12:42.515Z"
   },
   {
    "duration": 7,
    "start_time": "2022-02-25T13:12:50.498Z"
   },
   {
    "duration": 414,
    "start_time": "2022-02-25T13:23:30.124Z"
   },
   {
    "duration": 6,
    "start_time": "2022-02-25T13:24:41.398Z"
   },
   {
    "duration": 437,
    "start_time": "2022-02-25T13:25:16.591Z"
   },
   {
    "duration": 524,
    "start_time": "2022-02-25T13:25:32.619Z"
   },
   {
    "duration": 382,
    "start_time": "2022-02-25T13:26:00.322Z"
   },
   {
    "duration": 1106,
    "start_time": "2022-02-25T13:26:19.550Z"
   },
   {
    "duration": 846,
    "start_time": "2022-02-25T13:26:34.142Z"
   },
   {
    "duration": 535,
    "start_time": "2022-02-25T13:26:52.061Z"
   },
   {
    "duration": 522,
    "start_time": "2022-02-25T13:27:49.508Z"
   },
   {
    "duration": 702,
    "start_time": "2022-02-25T13:27:56.580Z"
   },
   {
    "duration": 726,
    "start_time": "2022-02-25T13:28:00.615Z"
   },
   {
    "duration": 11641,
    "start_time": "2022-02-25T13:36:05.792Z"
   },
   {
    "duration": 12618,
    "start_time": "2022-02-25T13:36:52.916Z"
   },
   {
    "duration": 212,
    "start_time": "2022-02-25T13:42:36.000Z"
   },
   {
    "duration": 12400,
    "start_time": "2022-02-25T13:43:54.949Z"
   },
   {
    "duration": 14659,
    "start_time": "2022-02-25T13:45:12.679Z"
   },
   {
    "duration": 8,
    "start_time": "2022-02-25T13:48:17.928Z"
   },
   {
    "duration": 13198,
    "start_time": "2022-02-25T13:50:17.869Z"
   },
   {
    "duration": 13179,
    "start_time": "2022-02-25T13:52:54.262Z"
   },
   {
    "duration": 13827,
    "start_time": "2022-02-25T13:55:13.076Z"
   },
   {
    "duration": 134,
    "start_time": "2022-02-25T14:03:31.047Z"
   },
   {
    "duration": 12706,
    "start_time": "2022-02-25T14:03:39.683Z"
   },
   {
    "duration": 15656,
    "start_time": "2022-02-25T14:05:55.835Z"
   },
   {
    "duration": 1575,
    "start_time": "2022-02-25T14:12:11.122Z"
   },
   {
    "duration": 11275,
    "start_time": "2022-02-25T14:13:08.720Z"
   },
   {
    "duration": 1462,
    "start_time": "2022-02-25T14:13:41.325Z"
   },
   {
    "duration": 13514,
    "start_time": "2022-02-25T14:15:24.035Z"
   },
   {
    "duration": 12999,
    "start_time": "2022-02-25T14:16:57.977Z"
   },
   {
    "duration": 14169,
    "start_time": "2022-02-25T14:17:49.698Z"
   },
   {
    "duration": 10737,
    "start_time": "2022-02-25T14:21:15.227Z"
   },
   {
    "duration": 6,
    "start_time": "2022-02-25T15:07:38.778Z"
   },
   {
    "duration": 6102,
    "start_time": "2022-02-25T15:27:02.163Z"
   },
   {
    "duration": 4998,
    "start_time": "2022-02-25T15:27:16.528Z"
   },
   {
    "duration": 5083,
    "start_time": "2022-02-25T15:27:39.185Z"
   },
   {
    "duration": 1181,
    "start_time": "2022-02-26T11:59:21.209Z"
   },
   {
    "duration": 4,
    "start_time": "2022-02-26T11:59:22.391Z"
   },
   {
    "duration": 39,
    "start_time": "2022-02-26T11:59:22.397Z"
   },
   {
    "duration": 7,
    "start_time": "2022-02-26T11:59:22.438Z"
   },
   {
    "duration": 11,
    "start_time": "2022-02-26T11:59:22.447Z"
   },
   {
    "duration": 10,
    "start_time": "2022-02-26T11:59:22.461Z"
   },
   {
    "duration": 83,
    "start_time": "2022-02-26T11:59:22.473Z"
   },
   {
    "duration": 17,
    "start_time": "2022-02-26T11:59:22.559Z"
   },
   {
    "duration": 6,
    "start_time": "2022-02-26T11:59:22.579Z"
   },
   {
    "duration": 3927,
    "start_time": "2022-02-26T11:59:22.587Z"
   },
   {
    "duration": 3823,
    "start_time": "2022-02-26T11:59:26.517Z"
   },
   {
    "duration": 2,
    "start_time": "2022-02-26T11:59:30.342Z"
   },
   {
    "duration": 9,
    "start_time": "2022-02-26T11:59:30.346Z"
   },
   {
    "duration": 7,
    "start_time": "2022-02-26T11:59:30.357Z"
   },
   {
    "duration": 387,
    "start_time": "2022-02-26T11:59:30.366Z"
   },
   {
    "duration": 379,
    "start_time": "2022-02-26T11:59:30.754Z"
   },
   {
    "duration": 610,
    "start_time": "2022-02-26T11:59:31.135Z"
   },
   {
    "duration": 865,
    "start_time": "2022-02-26T11:59:31.747Z"
   },
   {
    "duration": 639,
    "start_time": "2022-02-26T11:59:32.614Z"
   },
   {
    "duration": 835,
    "start_time": "2022-02-26T11:59:33.255Z"
   },
   {
    "duration": 19,
    "start_time": "2022-02-26T11:59:34.091Z"
   },
   {
    "duration": 5,
    "start_time": "2022-02-26T11:59:34.111Z"
   },
   {
    "duration": 9,
    "start_time": "2022-02-26T11:59:34.135Z"
   },
   {
    "duration": 3,
    "start_time": "2022-02-26T11:59:34.146Z"
   },
   {
    "duration": 611,
    "start_time": "2022-02-26T11:59:34.151Z"
   },
   {
    "duration": 8,
    "start_time": "2022-02-26T11:59:34.764Z"
   },
   {
    "duration": 86126,
    "start_time": "2022-02-26T11:59:34.774Z"
   },
   {
    "duration": 13,
    "start_time": "2022-02-26T12:01:00.902Z"
   },
   {
    "duration": 1517,
    "start_time": "2022-02-26T12:01:00.916Z"
   },
   {
    "duration": 18,
    "start_time": "2022-02-26T12:01:02.435Z"
   },
   {
    "duration": 4,
    "start_time": "2022-02-26T12:01:02.455Z"
   },
   {
    "duration": 3601,
    "start_time": "2022-02-26T12:01:02.461Z"
   },
   {
    "duration": 6399,
    "start_time": "2022-02-26T12:01:06.063Z"
   },
   {
    "duration": 7,
    "start_time": "2022-02-26T12:01:12.464Z"
   },
   {
    "duration": 633,
    "start_time": "2022-02-26T12:01:12.473Z"
   },
   {
    "duration": 1148,
    "start_time": "2022-02-26T12:24:00.806Z"
   },
   {
    "duration": 3,
    "start_time": "2022-02-26T12:24:01.957Z"
   },
   {
    "duration": 35,
    "start_time": "2022-02-26T12:24:01.962Z"
   },
   {
    "duration": 6,
    "start_time": "2022-02-26T12:24:01.999Z"
   },
   {
    "duration": 12,
    "start_time": "2022-02-26T12:24:02.007Z"
   },
   {
    "duration": 17,
    "start_time": "2022-02-26T12:24:02.020Z"
   },
   {
    "duration": 41,
    "start_time": "2022-02-26T12:24:02.039Z"
   },
   {
    "duration": 14,
    "start_time": "2022-02-26T12:24:02.083Z"
   },
   {
    "duration": 35,
    "start_time": "2022-02-26T12:24:02.100Z"
   },
   {
    "duration": 3863,
    "start_time": "2022-02-26T12:24:02.137Z"
   },
   {
    "duration": 3710,
    "start_time": "2022-02-26T12:24:06.002Z"
   },
   {
    "duration": 3,
    "start_time": "2022-02-26T12:24:09.714Z"
   },
   {
    "duration": 22,
    "start_time": "2022-02-26T12:24:09.718Z"
   },
   {
    "duration": 10,
    "start_time": "2022-02-26T12:24:09.741Z"
   },
   {
    "duration": 382,
    "start_time": "2022-02-26T12:24:09.753Z"
   },
   {
    "duration": 363,
    "start_time": "2022-02-26T12:24:10.136Z"
   },
   {
    "duration": 635,
    "start_time": "2022-02-26T12:24:10.501Z"
   },
   {
    "duration": 799,
    "start_time": "2022-02-26T12:24:11.137Z"
   },
   {
    "duration": 599,
    "start_time": "2022-02-26T12:24:11.937Z"
   },
   {
    "duration": 820,
    "start_time": "2022-02-26T12:24:12.537Z"
   },
   {
    "duration": 18,
    "start_time": "2022-02-26T12:24:13.359Z"
   },
   {
    "duration": 7,
    "start_time": "2022-02-26T12:24:13.379Z"
   },
   {
    "duration": 9,
    "start_time": "2022-02-26T12:24:13.389Z"
   },
   {
    "duration": 2,
    "start_time": "2022-02-26T12:24:13.400Z"
   },
   {
    "duration": 665,
    "start_time": "2022-02-26T12:24:13.404Z"
   },
   {
    "duration": 7,
    "start_time": "2022-02-26T12:24:14.071Z"
   },
   {
    "duration": 83731,
    "start_time": "2022-02-26T12:24:14.080Z"
   },
   {
    "duration": 1423,
    "start_time": "2022-02-26T12:25:37.813Z"
   },
   {
    "duration": 107,
    "start_time": "2022-02-26T12:25:39.239Z"
   },
   {
    "duration": 6,
    "start_time": "2022-02-26T12:25:39.348Z"
   },
   {
    "duration": 3362,
    "start_time": "2022-02-26T12:25:39.355Z"
   },
   {
    "duration": 6259,
    "start_time": "2022-02-26T12:25:42.719Z"
   },
   {
    "duration": 7,
    "start_time": "2022-02-26T12:25:48.980Z"
   },
   {
    "duration": 628,
    "start_time": "2022-02-26T12:25:48.989Z"
   },
   {
    "duration": 1329,
    "start_time": "2022-02-26T12:29:15.408Z"
   },
   {
    "duration": 17,
    "start_time": "2022-02-26T12:29:18.597Z"
   },
   {
    "duration": 1175,
    "start_time": "2022-02-26T12:29:37.262Z"
   },
   {
    "duration": 3,
    "start_time": "2022-02-26T12:29:38.439Z"
   },
   {
    "duration": 30,
    "start_time": "2022-02-26T12:29:38.444Z"
   },
   {
    "duration": 5,
    "start_time": "2022-02-26T12:29:38.476Z"
   },
   {
    "duration": 8,
    "start_time": "2022-02-26T12:29:38.482Z"
   },
   {
    "duration": 8,
    "start_time": "2022-02-26T12:29:38.491Z"
   },
   {
    "duration": 62,
    "start_time": "2022-02-26T12:29:38.500Z"
   },
   {
    "duration": 14,
    "start_time": "2022-02-26T12:29:38.564Z"
   },
   {
    "duration": 4,
    "start_time": "2022-02-26T12:29:38.580Z"
   },
   {
    "duration": 3754,
    "start_time": "2022-02-26T12:29:38.585Z"
   },
   {
    "duration": 3712,
    "start_time": "2022-02-26T12:29:42.340Z"
   },
   {
    "duration": 4,
    "start_time": "2022-02-26T12:29:46.055Z"
   },
   {
    "duration": 12,
    "start_time": "2022-02-26T12:29:46.061Z"
   },
   {
    "duration": 6,
    "start_time": "2022-02-26T12:29:46.075Z"
   },
   {
    "duration": 384,
    "start_time": "2022-02-26T12:29:46.082Z"
   },
   {
    "duration": 367,
    "start_time": "2022-02-26T12:29:46.468Z"
   },
   {
    "duration": 638,
    "start_time": "2022-02-26T12:29:46.836Z"
   },
   {
    "duration": 843,
    "start_time": "2022-02-26T12:29:47.476Z"
   },
   {
    "duration": 634,
    "start_time": "2022-02-26T12:29:48.321Z"
   },
   {
    "duration": 844,
    "start_time": "2022-02-26T12:29:48.956Z"
   },
   {
    "duration": 31,
    "start_time": "2022-02-26T12:29:49.802Z"
   },
   {
    "duration": 4,
    "start_time": "2022-02-26T12:29:49.835Z"
   },
   {
    "duration": 9,
    "start_time": "2022-02-26T12:29:49.842Z"
   },
   {
    "duration": 4,
    "start_time": "2022-02-26T12:29:49.853Z"
   },
   {
    "duration": 609,
    "start_time": "2022-02-26T12:29:49.858Z"
   },
   {
    "duration": 8,
    "start_time": "2022-02-26T12:29:50.469Z"
   },
   {
    "duration": 83002,
    "start_time": "2022-02-26T12:29:50.478Z"
   },
   {
    "duration": 1452,
    "start_time": "2022-02-26T12:31:13.481Z"
   },
   {
    "duration": 17,
    "start_time": "2022-02-26T12:31:14.935Z"
   },
   {
    "duration": 4,
    "start_time": "2022-02-26T12:31:14.954Z"
   },
   {
    "duration": 3461,
    "start_time": "2022-02-26T12:31:14.960Z"
   },
   {
    "duration": 6238,
    "start_time": "2022-02-26T12:31:18.423Z"
   },
   {
    "duration": 7,
    "start_time": "2022-02-26T12:31:24.663Z"
   },
   {
    "duration": 613,
    "start_time": "2022-02-26T12:31:24.671Z"
   },
   {
    "duration": 1211,
    "start_time": "2022-02-26T12:39:37.005Z"
   },
   {
    "duration": 3,
    "start_time": "2022-02-26T12:39:38.218Z"
   },
   {
    "duration": 34,
    "start_time": "2022-02-26T12:39:38.223Z"
   },
   {
    "duration": 5,
    "start_time": "2022-02-26T12:39:38.259Z"
   },
   {
    "duration": 7,
    "start_time": "2022-02-26T12:39:38.266Z"
   },
   {
    "duration": 7,
    "start_time": "2022-02-26T12:39:38.275Z"
   },
   {
    "duration": 64,
    "start_time": "2022-02-26T12:39:38.284Z"
   },
   {
    "duration": 14,
    "start_time": "2022-02-26T12:39:38.350Z"
   },
   {
    "duration": 4,
    "start_time": "2022-02-26T12:39:38.366Z"
   },
   {
    "duration": 3737,
    "start_time": "2022-02-26T12:39:38.372Z"
   },
   {
    "duration": 3778,
    "start_time": "2022-02-26T12:39:42.111Z"
   },
   {
    "duration": 3,
    "start_time": "2022-02-26T12:39:45.891Z"
   },
   {
    "duration": 14,
    "start_time": "2022-02-26T12:39:45.895Z"
   },
   {
    "duration": 8,
    "start_time": "2022-02-26T12:39:45.910Z"
   },
   {
    "duration": 368,
    "start_time": "2022-02-26T12:39:45.920Z"
   },
   {
    "duration": 379,
    "start_time": "2022-02-26T12:39:46.290Z"
   },
   {
    "duration": 609,
    "start_time": "2022-02-26T12:39:46.671Z"
   },
   {
    "duration": 841,
    "start_time": "2022-02-26T12:39:47.282Z"
   },
   {
    "duration": 648,
    "start_time": "2022-02-26T12:39:48.125Z"
   },
   {
    "duration": 861,
    "start_time": "2022-02-26T12:39:48.774Z"
   },
   {
    "duration": 18,
    "start_time": "2022-02-26T12:39:49.637Z"
   },
   {
    "duration": 5,
    "start_time": "2022-02-26T12:39:49.657Z"
   },
   {
    "duration": 9,
    "start_time": "2022-02-26T12:39:49.665Z"
   },
   {
    "duration": 3,
    "start_time": "2022-02-26T12:39:49.676Z"
   },
   {
    "duration": 592,
    "start_time": "2022-02-26T12:39:49.680Z"
   },
   {
    "duration": 6,
    "start_time": "2022-02-26T12:39:50.273Z"
   },
   {
    "duration": 1231,
    "start_time": "2022-02-26T12:41:00.033Z"
   },
   {
    "duration": 5,
    "start_time": "2022-02-26T12:41:01.266Z"
   },
   {
    "duration": 39,
    "start_time": "2022-02-26T12:41:01.273Z"
   },
   {
    "duration": 9,
    "start_time": "2022-02-26T12:41:01.314Z"
   },
   {
    "duration": 14,
    "start_time": "2022-02-26T12:41:01.324Z"
   },
   {
    "duration": 12,
    "start_time": "2022-02-26T12:41:01.340Z"
   },
   {
    "duration": 81,
    "start_time": "2022-02-26T12:41:01.354Z"
   },
   {
    "duration": 15,
    "start_time": "2022-02-26T12:41:01.438Z"
   },
   {
    "duration": 7,
    "start_time": "2022-02-26T12:41:01.455Z"
   },
   {
    "duration": 3758,
    "start_time": "2022-02-26T12:41:01.464Z"
   },
   {
    "duration": 4123,
    "start_time": "2022-02-26T12:41:05.224Z"
   },
   {
    "duration": 3,
    "start_time": "2022-02-26T12:41:09.349Z"
   },
   {
    "duration": 8,
    "start_time": "2022-02-26T12:41:09.354Z"
   },
   {
    "duration": 11,
    "start_time": "2022-02-26T12:41:09.364Z"
   },
   {
    "duration": 391,
    "start_time": "2022-02-26T12:41:09.377Z"
   },
   {
    "duration": 413,
    "start_time": "2022-02-26T12:41:09.769Z"
   },
   {
    "duration": 600,
    "start_time": "2022-02-26T12:41:10.184Z"
   },
   {
    "duration": 932,
    "start_time": "2022-02-26T12:41:10.786Z"
   },
   {
    "duration": 764,
    "start_time": "2022-02-26T12:41:11.720Z"
   },
   {
    "duration": 834,
    "start_time": "2022-02-26T12:41:12.485Z"
   },
   {
    "duration": 24,
    "start_time": "2022-02-26T12:41:13.321Z"
   },
   {
    "duration": 5,
    "start_time": "2022-02-26T12:41:13.347Z"
   },
   {
    "duration": 8,
    "start_time": "2022-02-26T12:41:13.355Z"
   },
   {
    "duration": 5,
    "start_time": "2022-02-26T12:41:13.365Z"
   },
   {
    "duration": 609,
    "start_time": "2022-02-26T12:41:13.372Z"
   },
   {
    "duration": 7,
    "start_time": "2022-02-26T12:41:13.983Z"
   },
   {
    "duration": 85369,
    "start_time": "2022-02-26T12:41:13.991Z"
   },
   {
    "duration": 1477,
    "start_time": "2022-02-26T12:42:39.362Z"
   },
   {
    "duration": 100,
    "start_time": "2022-02-26T12:42:40.842Z"
   },
   {
    "duration": 7,
    "start_time": "2022-02-26T12:42:40.944Z"
   },
   {
    "duration": 3411,
    "start_time": "2022-02-26T12:42:40.953Z"
   },
   {
    "duration": 6142,
    "start_time": "2022-02-26T12:42:44.366Z"
   },
   {
    "duration": 7,
    "start_time": "2022-02-26T12:42:50.509Z"
   },
   {
    "duration": 615,
    "start_time": "2022-02-26T12:42:50.518Z"
   },
   {
    "duration": 3,
    "start_time": "2022-02-26T12:42:51.135Z"
   },
   {
    "duration": 509,
    "start_time": "2022-02-26T12:42:51.140Z"
   },
   {
    "duration": 9,
    "start_time": "2022-02-26T12:43:30.654Z"
   },
   {
    "duration": 2,
    "start_time": "2022-02-26T12:43:33.038Z"
   },
   {
    "duration": 512,
    "start_time": "2022-02-26T12:43:35.636Z"
   },
   {
    "duration": 3,
    "start_time": "2022-02-26T12:44:02.896Z"
   },
   {
    "duration": 555,
    "start_time": "2022-02-26T12:44:03.487Z"
   },
   {
    "duration": 1145,
    "start_time": "2022-02-26T12:44:12.200Z"
   },
   {
    "duration": 3,
    "start_time": "2022-02-26T12:44:13.347Z"
   },
   {
    "duration": 29,
    "start_time": "2022-02-26T12:44:13.352Z"
   },
   {
    "duration": 5,
    "start_time": "2022-02-26T12:44:13.382Z"
   },
   {
    "duration": 12,
    "start_time": "2022-02-26T12:44:13.389Z"
   },
   {
    "duration": 9,
    "start_time": "2022-02-26T12:44:13.402Z"
   },
   {
    "duration": 57,
    "start_time": "2022-02-26T12:44:13.413Z"
   },
   {
    "duration": 15,
    "start_time": "2022-02-26T12:44:13.472Z"
   },
   {
    "duration": 5,
    "start_time": "2022-02-26T12:44:13.489Z"
   },
   {
    "duration": 3669,
    "start_time": "2022-02-26T12:44:13.495Z"
   },
   {
    "duration": 3770,
    "start_time": "2022-02-26T12:44:17.166Z"
   },
   {
    "duration": 3,
    "start_time": "2022-02-26T12:44:20.938Z"
   },
   {
    "duration": 13,
    "start_time": "2022-02-26T12:44:20.942Z"
   },
   {
    "duration": 6,
    "start_time": "2022-02-26T12:44:20.956Z"
   },
   {
    "duration": 379,
    "start_time": "2022-02-26T12:44:20.963Z"
   },
   {
    "duration": 360,
    "start_time": "2022-02-26T12:44:21.344Z"
   },
   {
    "duration": 637,
    "start_time": "2022-02-26T12:44:21.706Z"
   },
   {
    "duration": 810,
    "start_time": "2022-02-26T12:44:22.345Z"
   },
   {
    "duration": 592,
    "start_time": "2022-02-26T12:44:23.157Z"
   },
   {
    "duration": 833,
    "start_time": "2022-02-26T12:44:23.750Z"
   },
   {
    "duration": 20,
    "start_time": "2022-02-26T12:44:24.585Z"
   },
   {
    "duration": 28,
    "start_time": "2022-02-26T12:44:24.607Z"
   },
   {
    "duration": 9,
    "start_time": "2022-02-26T12:44:24.639Z"
   },
   {
    "duration": 2,
    "start_time": "2022-02-26T12:44:24.651Z"
   },
   {
    "duration": 616,
    "start_time": "2022-02-26T12:44:24.655Z"
   },
   {
    "duration": 6,
    "start_time": "2022-02-26T12:44:25.273Z"
   },
   {
    "duration": 84211,
    "start_time": "2022-02-26T12:44:25.281Z"
   },
   {
    "duration": 1540,
    "start_time": "2022-02-26T12:45:49.494Z"
   },
   {
    "duration": 108,
    "start_time": "2022-02-26T12:45:51.038Z"
   },
   {
    "duration": 4,
    "start_time": "2022-02-26T12:45:51.148Z"
   },
   {
    "duration": 3527,
    "start_time": "2022-02-26T12:45:51.154Z"
   },
   {
    "duration": 6270,
    "start_time": "2022-02-26T12:45:54.683Z"
   },
   {
    "duration": 8,
    "start_time": "2022-02-26T12:46:00.954Z"
   },
   {
    "duration": 671,
    "start_time": "2022-02-26T12:46:00.963Z"
   },
   {
    "duration": 1560,
    "start_time": "2022-02-26T12:46:52.473Z"
   },
   {
    "duration": 17,
    "start_time": "2022-02-26T12:46:55.423Z"
   },
   {
    "duration": 1516,
    "start_time": "2022-02-26T12:47:07.729Z"
   },
   {
    "duration": 18,
    "start_time": "2022-02-26T12:47:10.442Z"
   },
   {
    "duration": 5,
    "start_time": "2022-02-26T12:47:23.226Z"
   },
   {
    "duration": 2952,
    "start_time": "2022-02-26T12:47:25.071Z"
   },
   {
    "duration": 6463,
    "start_time": "2022-02-26T12:47:45.335Z"
   },
   {
    "duration": 1532,
    "start_time": "2022-02-26T12:48:52.508Z"
   },
   {
    "duration": 19,
    "start_time": "2022-02-26T12:49:00.195Z"
   },
   {
    "duration": 1537,
    "start_time": "2022-02-26T12:49:08.896Z"
   },
   {
    "duration": 16,
    "start_time": "2022-02-26T12:49:12.094Z"
   },
   {
    "duration": 3121,
    "start_time": "2022-02-26T12:49:18.518Z"
   },
   {
    "duration": 6494,
    "start_time": "2022-02-26T12:49:29.651Z"
   },
   {
    "duration": 5,
    "start_time": "2022-02-26T12:51:03.247Z"
   },
   {
    "duration": 3213,
    "start_time": "2022-02-26T12:51:05.262Z"
   },
   {
    "duration": 6595,
    "start_time": "2022-02-26T13:02:17.659Z"
   },
   {
    "duration": 9,
    "start_time": "2022-02-26T13:23:01.119Z"
   },
   {
    "duration": 453,
    "start_time": "2022-02-26T13:23:03.029Z"
   },
   {
    "duration": 1236,
    "start_time": "2022-02-26T13:58:28.932Z"
   },
   {
    "duration": 3,
    "start_time": "2022-02-26T13:58:30.170Z"
   },
   {
    "duration": 32,
    "start_time": "2022-02-26T13:58:30.175Z"
   },
   {
    "duration": 6,
    "start_time": "2022-02-26T13:58:30.209Z"
   },
   {
    "duration": 23,
    "start_time": "2022-02-26T13:58:30.216Z"
   },
   {
    "duration": 13,
    "start_time": "2022-02-26T13:58:30.240Z"
   },
   {
    "duration": 52,
    "start_time": "2022-02-26T13:58:30.255Z"
   },
   {
    "duration": 24,
    "start_time": "2022-02-26T13:58:30.309Z"
   },
   {
    "duration": 6,
    "start_time": "2022-02-26T13:58:30.335Z"
   },
   {
    "duration": 3777,
    "start_time": "2022-02-26T13:58:30.343Z"
   },
   {
    "duration": 3737,
    "start_time": "2022-02-26T13:58:34.121Z"
   },
   {
    "duration": 3,
    "start_time": "2022-02-26T13:58:37.860Z"
   },
   {
    "duration": 10,
    "start_time": "2022-02-26T13:58:37.865Z"
   },
   {
    "duration": 6,
    "start_time": "2022-02-26T13:58:37.876Z"
   },
   {
    "duration": 380,
    "start_time": "2022-02-26T13:58:37.884Z"
   },
   {
    "duration": 368,
    "start_time": "2022-02-26T13:58:38.266Z"
   },
   {
    "duration": 636,
    "start_time": "2022-02-26T13:58:38.635Z"
   },
   {
    "duration": 851,
    "start_time": "2022-02-26T13:58:39.273Z"
   },
   {
    "duration": 625,
    "start_time": "2022-02-26T13:58:40.126Z"
   },
   {
    "duration": 857,
    "start_time": "2022-02-26T13:58:40.753Z"
   },
   {
    "duration": 27,
    "start_time": "2022-02-26T13:58:41.612Z"
   },
   {
    "duration": 5,
    "start_time": "2022-02-26T13:58:41.641Z"
   },
   {
    "duration": 8,
    "start_time": "2022-02-26T13:58:41.649Z"
   },
   {
    "duration": 2,
    "start_time": "2022-02-26T13:58:41.659Z"
   },
   {
    "duration": 644,
    "start_time": "2022-02-26T13:58:41.663Z"
   },
   {
    "duration": 7,
    "start_time": "2022-02-26T13:58:42.309Z"
   },
   {
    "duration": 84563,
    "start_time": "2022-02-26T13:58:42.318Z"
   },
   {
    "duration": 1461,
    "start_time": "2022-02-26T14:00:06.882Z"
   },
   {
    "duration": 18,
    "start_time": "2022-02-26T14:00:08.434Z"
   },
   {
    "duration": 5,
    "start_time": "2022-02-26T14:00:08.454Z"
   },
   {
    "duration": 3441,
    "start_time": "2022-02-26T14:00:08.461Z"
   },
   {
    "duration": 6160,
    "start_time": "2022-02-26T14:00:11.903Z"
   },
   {
    "duration": 8,
    "start_time": "2022-02-26T14:00:18.064Z"
   },
   {
    "duration": 662,
    "start_time": "2022-02-26T14:00:18.074Z"
   },
   {
    "duration": 1253,
    "start_time": "2022-02-27T09:04:18.846Z"
   },
   {
    "duration": 4,
    "start_time": "2022-02-27T09:04:20.101Z"
   },
   {
    "duration": 48,
    "start_time": "2022-02-27T09:04:20.107Z"
   },
   {
    "duration": 6,
    "start_time": "2022-02-27T09:04:20.156Z"
   },
   {
    "duration": 12,
    "start_time": "2022-02-27T09:04:20.164Z"
   },
   {
    "duration": 22,
    "start_time": "2022-02-27T09:04:20.178Z"
   },
   {
    "duration": 48,
    "start_time": "2022-02-27T09:04:20.202Z"
   },
   {
    "duration": 17,
    "start_time": "2022-02-27T09:04:20.252Z"
   },
   {
    "duration": 5,
    "start_time": "2022-02-27T09:04:20.278Z"
   },
   {
    "duration": 4526,
    "start_time": "2022-02-27T09:04:20.284Z"
   },
   {
    "duration": 4377,
    "start_time": "2022-02-27T09:04:24.812Z"
   },
   {
    "duration": 3,
    "start_time": "2022-02-27T09:04:29.191Z"
   },
   {
    "duration": 14,
    "start_time": "2022-02-27T09:04:29.195Z"
   },
   {
    "duration": 6,
    "start_time": "2022-02-27T09:04:29.211Z"
   },
   {
    "duration": 418,
    "start_time": "2022-02-27T09:04:29.219Z"
   },
   {
    "duration": 406,
    "start_time": "2022-02-27T09:04:29.639Z"
   },
   {
    "duration": 731,
    "start_time": "2022-02-27T09:04:30.046Z"
   },
   {
    "duration": 939,
    "start_time": "2022-02-27T09:04:30.779Z"
   },
   {
    "duration": 713,
    "start_time": "2022-02-27T09:04:31.720Z"
   },
   {
    "duration": 917,
    "start_time": "2022-02-27T09:04:32.435Z"
   },
   {
    "duration": 30,
    "start_time": "2022-02-27T09:04:33.353Z"
   },
   {
    "duration": 5,
    "start_time": "2022-02-27T09:04:33.384Z"
   },
   {
    "duration": 42,
    "start_time": "2022-02-27T09:04:33.392Z"
   },
   {
    "duration": 2,
    "start_time": "2022-02-27T09:04:33.436Z"
   },
   {
    "duration": 680,
    "start_time": "2022-02-27T09:04:33.440Z"
   },
   {
    "duration": 7,
    "start_time": "2022-02-27T09:04:34.121Z"
   },
   {
    "duration": 100346,
    "start_time": "2022-02-27T09:04:34.129Z"
   },
   {
    "duration": 1705,
    "start_time": "2022-02-27T09:06:14.477Z"
   },
   {
    "duration": 18,
    "start_time": "2022-02-27T09:06:16.184Z"
   },
   {
    "duration": 4,
    "start_time": "2022-02-27T09:06:16.204Z"
   },
   {
    "duration": 3733,
    "start_time": "2022-02-27T09:06:16.210Z"
   },
   {
    "duration": 7465,
    "start_time": "2022-02-27T09:06:19.945Z"
   },
   {
    "duration": 8,
    "start_time": "2022-02-27T09:06:27.413Z"
   },
   {
    "duration": 730,
    "start_time": "2022-02-27T09:06:27.423Z"
   },
   {
    "duration": 256,
    "start_time": "2022-03-01T11:00:06.115Z"
   },
   {
    "duration": 216,
    "start_time": "2022-03-01T11:00:12.735Z"
   },
   {
    "duration": 1216,
    "start_time": "2022-03-01T11:00:20.165Z"
   },
   {
    "duration": 4,
    "start_time": "2022-03-01T11:00:21.401Z"
   },
   {
    "duration": 31,
    "start_time": "2022-03-01T11:00:21.715Z"
   },
   {
    "duration": 6,
    "start_time": "2022-03-01T11:00:23.714Z"
   },
   {
    "duration": 7,
    "start_time": "2022-03-01T11:00:25.906Z"
   },
   {
    "duration": 8,
    "start_time": "2022-03-01T11:00:29.048Z"
   },
   {
    "duration": 42,
    "start_time": "2022-03-01T11:00:31.056Z"
   },
   {
    "duration": 15,
    "start_time": "2022-03-01T11:00:45.604Z"
   },
   {
    "duration": 6,
    "start_time": "2022-03-01T11:00:51.935Z"
   },
   {
    "duration": 3677,
    "start_time": "2022-03-01T11:00:53.432Z"
   },
   {
    "duration": 3714,
    "start_time": "2022-03-01T11:00:57.111Z"
   },
   {
    "duration": 33,
    "start_time": "2022-03-01T11:01:29.235Z"
   },
   {
    "duration": 65,
    "start_time": "2022-03-01T11:02:33.228Z"
   },
   {
    "duration": 1160,
    "start_time": "2022-03-01T11:04:20.468Z"
   },
   {
    "duration": 1195,
    "start_time": "2022-03-01T11:04:32.233Z"
   },
   {
    "duration": 279,
    "start_time": "2022-03-01T11:05:37.381Z"
   },
   {
    "duration": 204,
    "start_time": "2022-03-01T11:05:47.539Z"
   },
   {
    "duration": 206,
    "start_time": "2022-03-01T11:05:56.211Z"
   },
   {
    "duration": 228,
    "start_time": "2022-03-01T11:07:03.835Z"
   },
   {
    "duration": 65,
    "start_time": "2022-03-01T11:07:12.338Z"
   },
   {
    "duration": 55,
    "start_time": "2022-03-01T11:08:42.768Z"
   },
   {
    "duration": 334,
    "start_time": "2022-03-01T11:08:52.646Z"
   },
   {
    "duration": 58,
    "start_time": "2022-03-01T11:09:20.998Z"
   },
   {
    "duration": 57,
    "start_time": "2022-03-01T11:09:36.823Z"
   },
   {
    "duration": 59,
    "start_time": "2022-03-01T11:09:46.114Z"
   },
   {
    "duration": 63,
    "start_time": "2022-03-01T11:09:57.673Z"
   },
   {
    "duration": 58,
    "start_time": "2022-03-01T11:20:52.379Z"
   },
   {
    "duration": 18,
    "start_time": "2022-03-01T12:05:43.882Z"
   },
   {
    "duration": 5,
    "start_time": "2022-03-01T12:05:46.201Z"
   },
   {
    "duration": 11,
    "start_time": "2022-03-01T12:05:49.533Z"
   },
   {
    "duration": 3,
    "start_time": "2022-03-01T12:05:52.782Z"
   },
   {
    "duration": 3,
    "start_time": "2022-03-01T12:07:38.499Z"
   },
   {
    "duration": 1061,
    "start_time": "2022-03-01T12:07:40.305Z"
   },
   {
    "duration": 2,
    "start_time": "2022-03-01T12:08:25.959Z"
   },
   {
    "duration": 472,
    "start_time": "2022-03-01T12:08:27.682Z"
   },
   {
    "duration": 7,
    "start_time": "2022-03-01T12:09:43.169Z"
   },
   {
    "duration": 90205,
    "start_time": "2022-03-01T12:09:44.659Z"
   },
   {
    "duration": 1807,
    "start_time": "2022-03-01T12:11:14.867Z"
   },
   {
    "duration": 15,
    "start_time": "2022-03-01T12:11:16.676Z"
   },
   {
    "duration": 210,
    "start_time": "2022-03-01T12:11:16.693Z"
   },
   {
    "duration": -107,
    "start_time": "2022-03-01T12:11:17.012Z"
   },
   {
    "duration": 243,
    "start_time": "2022-03-01T12:11:28.672Z"
   },
   {
    "duration": 3,
    "start_time": "2022-03-01T12:11:48.293Z"
   },
   {
    "duration": 5,
    "start_time": "2022-03-01T12:11:56.046Z"
   },
   {
    "duration": 3474,
    "start_time": "2022-03-01T12:11:58.284Z"
   },
   {
    "duration": 215,
    "start_time": "2022-03-01T12:12:05.176Z"
   },
   {
    "duration": 220,
    "start_time": "2022-03-01T12:12:39.063Z"
   },
   {
    "duration": 304,
    "start_time": "2022-03-01T12:14:11.604Z"
   },
   {
    "duration": 5,
    "start_time": "2022-03-01T12:16:06.096Z"
   },
   {
    "duration": 3,
    "start_time": "2022-03-01T12:16:11.920Z"
   },
   {
    "duration": 1861,
    "start_time": "2022-03-01T12:16:52.046Z"
   },
   {
    "duration": 5,
    "start_time": "2022-03-01T12:18:46.662Z"
   },
   {
    "duration": 1810,
    "start_time": "2022-03-01T12:19:26.767Z"
   },
   {
    "duration": 1710,
    "start_time": "2022-03-01T12:19:46.794Z"
   },
   {
    "duration": 1980,
    "start_time": "2022-03-01T12:20:00.667Z"
   },
   {
    "duration": 1945,
    "start_time": "2022-03-01T12:20:24.633Z"
   },
   {
    "duration": 1723,
    "start_time": "2022-03-01T12:20:49.269Z"
   },
   {
    "duration": 3238,
    "start_time": "2022-03-01T12:21:16.053Z"
   },
   {
    "duration": 1757,
    "start_time": "2022-03-01T12:21:44.312Z"
   },
   {
    "duration": 1936,
    "start_time": "2022-03-01T12:40:58.330Z"
   },
   {
    "duration": 195,
    "start_time": "2022-03-01T12:43:00.375Z"
   },
   {
    "duration": 1974,
    "start_time": "2022-03-01T12:43:09.254Z"
   },
   {
    "duration": 1786,
    "start_time": "2022-03-01T12:43:32.798Z"
   },
   {
    "duration": 2232,
    "start_time": "2022-03-01T12:43:45.053Z"
   },
   {
    "duration": 1838,
    "start_time": "2022-03-01T12:43:50.032Z"
   },
   {
    "duration": 7,
    "start_time": "2022-03-01T12:45:42.438Z"
   },
   {
    "duration": 415,
    "start_time": "2022-03-01T12:46:39.384Z"
   },
   {
    "duration": 1225,
    "start_time": "2022-03-01T12:51:58.362Z"
   },
   {
    "duration": 5,
    "start_time": "2022-03-01T12:51:59.589Z"
   },
   {
    "duration": 39,
    "start_time": "2022-03-01T12:51:59.596Z"
   },
   {
    "duration": 7,
    "start_time": "2022-03-01T12:51:59.637Z"
   },
   {
    "duration": 17,
    "start_time": "2022-03-01T12:51:59.646Z"
   },
   {
    "duration": 9,
    "start_time": "2022-03-01T12:51:59.665Z"
   },
   {
    "duration": 44,
    "start_time": "2022-03-01T12:51:59.675Z"
   },
   {
    "duration": 41,
    "start_time": "2022-03-01T12:51:59.722Z"
   },
   {
    "duration": 6,
    "start_time": "2022-03-01T12:51:59.765Z"
   },
   {
    "duration": 4024,
    "start_time": "2022-03-01T12:51:59.773Z"
   },
   {
    "duration": 3939,
    "start_time": "2022-03-01T12:52:03.799Z"
   },
   {
    "duration": 3,
    "start_time": "2022-03-01T12:52:07.739Z"
   },
   {
    "duration": 24,
    "start_time": "2022-03-01T12:52:07.743Z"
   },
   {
    "duration": 16,
    "start_time": "2022-03-01T12:52:07.769Z"
   },
   {
    "duration": 392,
    "start_time": "2022-03-01T12:52:07.787Z"
   },
   {
    "duration": 383,
    "start_time": "2022-03-01T12:52:08.180Z"
   },
   {
    "duration": 634,
    "start_time": "2022-03-01T12:52:08.565Z"
   },
   {
    "duration": 831,
    "start_time": "2022-03-01T12:52:09.202Z"
   },
   {
    "duration": 634,
    "start_time": "2022-03-01T12:52:10.035Z"
   },
   {
    "duration": 868,
    "start_time": "2022-03-01T12:52:10.671Z"
   },
   {
    "duration": 71,
    "start_time": "2022-03-01T12:52:11.542Z"
   },
   {
    "duration": 18,
    "start_time": "2022-03-01T12:52:11.616Z"
   },
   {
    "duration": 25,
    "start_time": "2022-03-01T12:52:11.638Z"
   },
   {
    "duration": 13,
    "start_time": "2022-03-01T12:52:11.665Z"
   },
   {
    "duration": 3,
    "start_time": "2022-03-01T12:52:11.680Z"
   },
   {
    "duration": 624,
    "start_time": "2022-03-01T12:52:11.685Z"
   },
   {
    "duration": 6,
    "start_time": "2022-03-01T12:52:12.311Z"
   },
   {
    "duration": 84000,
    "start_time": "2022-03-01T12:52:12.319Z"
   },
   {
    "duration": 1543,
    "start_time": "2022-03-01T12:53:36.321Z"
   },
   {
    "duration": 17,
    "start_time": "2022-03-01T12:53:37.866Z"
   },
   {
    "duration": 4,
    "start_time": "2022-03-01T12:53:37.885Z"
   },
   {
    "duration": 3407,
    "start_time": "2022-03-01T12:53:37.891Z"
   },
   {
    "duration": 1888,
    "start_time": "2022-03-01T12:53:41.300Z"
   },
   {
    "duration": 8,
    "start_time": "2022-03-01T12:53:43.190Z"
   },
   {
    "duration": 580,
    "start_time": "2022-03-01T12:53:43.199Z"
   }
  ],
  "kernelspec": {
   "display_name": "Python 3 (ipykernel)",
   "language": "python",
   "name": "python3"
  },
  "language_info": {
   "codemirror_mode": {
    "name": "ipython",
    "version": 3
   },
   "file_extension": ".py",
   "mimetype": "text/x-python",
   "name": "python",
   "nbconvert_exporter": "python",
   "pygments_lexer": "ipython3",
   "version": "3.8.12"
  },
  "toc": {
   "base_numbering": 1,
   "nav_menu": {},
   "number_sections": true,
   "sideBar": true,
   "skip_h1_title": true,
   "title_cell": "Table of Contents",
   "title_sidebar": "Contents",
   "toc_cell": false,
   "toc_position": {},
   "toc_section_display": true,
   "toc_window_display": false
  }
 },
 "nbformat": 4,
 "nbformat_minor": 2
}
