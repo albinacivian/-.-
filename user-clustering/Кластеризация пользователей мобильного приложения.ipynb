{
 "cells": [
  {
   "cell_type": "markdown",
   "metadata": {},
   "source": [
    "# Кластеризация пользователей мобильного приложения\n",
    "\n",
    "**Цель проекта**.\n",
    "\n",
    "На основе поведения в мобильном приложении \"Ненужные вещи\" `выделить группы пользователей`, которые различаются по метрикам:\n",
    "\n",
    "- retention rate; \n",
    "\n",
    "\n",
    "- время, проведённое в приложении;\n",
    "\n",
    "\n",
    "- частота действий;\n",
    "\n",
    "\n",
    "- конверсия в целевое действие - просмотр контактов.\n",
    "\n",
    "**Задачи**:\n",
    "\n",
    "- Провести исследовательский анализ данных;\n",
    "\n",
    "\n",
    "- Создать профили пользователей и выбрать признаки для кластеризации;\n",
    "\n",
    "\n",
    "- Определить оптимальное количество кластеров и провести кластеризацию пользователей;\n",
    "\n",
    "\n",
    "- Проанализировать поведение групп пользователей с учетом их кластера;\n",
    "\n",
    "\n",
    "- Проверить статистические гипотезы;\n",
    "\n",
    "\n",
    "- Составить рекомендации по работе с группами пользователей на основании полученных выводов."
   ]
  },
  {
   "cell_type": "markdown",
   "metadata": {},
   "source": [
    "## Дополнительные материалы\n",
    "\n",
    "* **Презентация** для маркетингового отдела с итогами кластеризации пользователей\n",
    "\n",
    "(https://drive.google.com/file/d/10sys1lI8yltdvGYX7FKc0VCE6ci5kaXr/view?usp=sharing)\n",
    "\n",
    "\n",
    "* **Дашборд** статистики событий в приложении, включающий в себя графики:\n",
    "\n",
    "    - распределения событий по дням и их типу;\n",
    "    - количества пользователей, согласно источнику привлечения.\n",
    "\n",
    "(https://public.tableau.com/app/profile/albina4684/viz/Book1_16474434589790/Dashboard1)"
   ]
  },
  {
   "cell_type": "code",
   "execution_count": 1,
   "metadata": {},
   "outputs": [],
   "source": [
    "import pandas as pd\n",
    "import numpy as np\n",
    "import matplotlib.pyplot as plt\n",
    "import seaborn as sns\n",
    "from datetime import datetime, timedelta\n",
    "\n",
    "from sklearn.cluster import KMeans\n",
    "from sklearn.preprocessing import StandardScaler\n",
    "import scipy.stats as st"
   ]
  },
  {
   "cell_type": "code",
   "execution_count": 2,
   "metadata": {},
   "outputs": [],
   "source": [
    "#добавим стилизацию для графиков\n",
    "\n",
    "sns.set_style('darkgrid', {'axes.facecolor': '.9'})\n",
    "sns.set(palette = 'muted')"
   ]
  },
  {
   "cell_type": "code",
   "execution_count": 3,
   "metadata": {},
   "outputs": [
    {
     "data": {
      "text/html": [
       "<div>\n",
       "<style scoped>\n",
       "    .dataframe tbody tr th:only-of-type {\n",
       "        vertical-align: middle;\n",
       "    }\n",
       "\n",
       "    .dataframe tbody tr th {\n",
       "        vertical-align: top;\n",
       "    }\n",
       "\n",
       "    .dataframe thead th {\n",
       "        text-align: right;\n",
       "    }\n",
       "</style>\n",
       "<table border=\"1\" class=\"dataframe\">\n",
       "  <thead>\n",
       "    <tr style=\"text-align: right;\">\n",
       "      <th></th>\n",
       "      <th>event.time</th>\n",
       "      <th>event.name</th>\n",
       "      <th>user.id</th>\n",
       "    </tr>\n",
       "  </thead>\n",
       "  <tbody>\n",
       "    <tr>\n",
       "      <th>0</th>\n",
       "      <td>2019-10-07 00:00:00.431357</td>\n",
       "      <td>advert_open</td>\n",
       "      <td>020292ab-89bc-4156-9acf-68bc2783f894</td>\n",
       "    </tr>\n",
       "    <tr>\n",
       "      <th>1</th>\n",
       "      <td>2019-10-07 00:00:01.236320</td>\n",
       "      <td>tips_show</td>\n",
       "      <td>020292ab-89bc-4156-9acf-68bc2783f894</td>\n",
       "    </tr>\n",
       "    <tr>\n",
       "      <th>2</th>\n",
       "      <td>2019-10-07 00:00:02.245341</td>\n",
       "      <td>tips_show</td>\n",
       "      <td>cf7eda61-9349-469f-ac27-e5b6f5ec475c</td>\n",
       "    </tr>\n",
       "    <tr>\n",
       "      <th>3</th>\n",
       "      <td>2019-10-07 00:00:07.039334</td>\n",
       "      <td>tips_show</td>\n",
       "      <td>020292ab-89bc-4156-9acf-68bc2783f894</td>\n",
       "    </tr>\n",
       "    <tr>\n",
       "      <th>4</th>\n",
       "      <td>2019-10-07 00:00:56.319813</td>\n",
       "      <td>advert_open</td>\n",
       "      <td>cf7eda61-9349-469f-ac27-e5b6f5ec475c</td>\n",
       "    </tr>\n",
       "  </tbody>\n",
       "</table>\n",
       "</div>"
      ],
      "text/plain": [
       "                   event.time   event.name  \\\n",
       "0  2019-10-07 00:00:00.431357  advert_open   \n",
       "1  2019-10-07 00:00:01.236320    tips_show   \n",
       "2  2019-10-07 00:00:02.245341    tips_show   \n",
       "3  2019-10-07 00:00:07.039334    tips_show   \n",
       "4  2019-10-07 00:00:56.319813  advert_open   \n",
       "\n",
       "                                user.id  \n",
       "0  020292ab-89bc-4156-9acf-68bc2783f894  \n",
       "1  020292ab-89bc-4156-9acf-68bc2783f894  \n",
       "2  cf7eda61-9349-469f-ac27-e5b6f5ec475c  \n",
       "3  020292ab-89bc-4156-9acf-68bc2783f894  \n",
       "4  cf7eda61-9349-469f-ac27-e5b6f5ec475c  "
      ]
     },
     "metadata": {},
     "output_type": "display_data"
    },
    {
     "data": {
      "text/html": [
       "<div>\n",
       "<style scoped>\n",
       "    .dataframe tbody tr th:only-of-type {\n",
       "        vertical-align: middle;\n",
       "    }\n",
       "\n",
       "    .dataframe tbody tr th {\n",
       "        vertical-align: top;\n",
       "    }\n",
       "\n",
       "    .dataframe thead th {\n",
       "        text-align: right;\n",
       "    }\n",
       "</style>\n",
       "<table border=\"1\" class=\"dataframe\">\n",
       "  <thead>\n",
       "    <tr style=\"text-align: right;\">\n",
       "      <th></th>\n",
       "      <th>userId</th>\n",
       "      <th>source</th>\n",
       "    </tr>\n",
       "  </thead>\n",
       "  <tbody>\n",
       "    <tr>\n",
       "      <th>0</th>\n",
       "      <td>020292ab-89bc-4156-9acf-68bc2783f894</td>\n",
       "      <td>other</td>\n",
       "    </tr>\n",
       "    <tr>\n",
       "      <th>1</th>\n",
       "      <td>cf7eda61-9349-469f-ac27-e5b6f5ec475c</td>\n",
       "      <td>yandex</td>\n",
       "    </tr>\n",
       "    <tr>\n",
       "      <th>2</th>\n",
       "      <td>8c356c42-3ba9-4cb6-80b8-3f868d0192c3</td>\n",
       "      <td>yandex</td>\n",
       "    </tr>\n",
       "    <tr>\n",
       "      <th>3</th>\n",
       "      <td>d9b06b47-0f36-419b-bbb0-3533e582a6cb</td>\n",
       "      <td>other</td>\n",
       "    </tr>\n",
       "    <tr>\n",
       "      <th>4</th>\n",
       "      <td>f32e1e2a-3027-4693-b793-b7b3ff274439</td>\n",
       "      <td>google</td>\n",
       "    </tr>\n",
       "  </tbody>\n",
       "</table>\n",
       "</div>"
      ],
      "text/plain": [
       "                                 userId  source\n",
       "0  020292ab-89bc-4156-9acf-68bc2783f894   other\n",
       "1  cf7eda61-9349-469f-ac27-e5b6f5ec475c  yandex\n",
       "2  8c356c42-3ba9-4cb6-80b8-3f868d0192c3  yandex\n",
       "3  d9b06b47-0f36-419b-bbb0-3533e582a6cb   other\n",
       "4  f32e1e2a-3027-4693-b793-b7b3ff274439  google"
      ]
     },
     "metadata": {},
     "output_type": "display_data"
    }
   ],
   "source": [
    "dataset = pd.read_csv('/datasets/mobile_dataset.csv')\n",
    "sources = pd.read_csv('/datasets/mobile_soures.csv')\n",
    "\n",
    "display(\n",
    "    dataset.head(),\n",
    "    sources.head()\n",
    ")"
   ]
  },
  {
   "cell_type": "markdown",
   "metadata": {},
   "source": [
    "Описание данных таблицы `dataset`:\n",
    "\n",
    "- `event.time` — время совершения события;\n",
    "\n",
    "\n",
    "- `event.name` — название события;\n",
    "\n",
    "\n",
    "- `user.id` — идентификатор пользователя.\n",
    "\n",
    "\n",
    "Описание данных таблицы `sources`:\n",
    "\n",
    "- `userId` — идентификатор пользователя;\n",
    "\n",
    "\n",
    "- `source` — источник, с которого пользователь установил приложение.\n",
    "\n"
   ]
  },
  {
   "cell_type": "code",
   "execution_count": 4,
   "metadata": {},
   "outputs": [
    {
     "data": {
      "text/plain": [
       "array(['advert_open', 'tips_show', 'map', 'contacts_show', 'search_4',\n",
       "       'search_5', 'tips_click', 'photos_show', 'search_1', 'search_2',\n",
       "       'search_3', 'favorites_add', 'contacts_call', 'search_6',\n",
       "       'search_7', 'show_contacts'], dtype=object)"
      ]
     },
     "execution_count": 4,
     "metadata": {},
     "output_type": "execute_result"
    }
   ],
   "source": [
    "#посмотрим, какие события есть в датасете\n",
    "\n",
    "dataset['event.name'].unique()"
   ]
  },
  {
   "cell_type": "markdown",
   "metadata": {},
   "source": [
    "Расшифровки событий:\n",
    "\n",
    "- `advert_open` — открытие карточки объявления;\n",
    "\n",
    "\n",
    "- `photos_show` — просмотр фотографий в объявлении;\n",
    "\n",
    "\n",
    "- `tips_show` — пользователь увидел рекомендованные объявления;\n",
    "\n",
    "\n",
    "- `tips_click` — пользователь кликнул по рекомендованному объявлению;\n",
    "\n",
    "\n",
    "- `contacts_show` и `show_contacts` — пользователь нажал на кнопку \"посмотреть номер телефона\" на карточке объявления;\n",
    "\n",
    "\n",
    "- `contacts_call` — пользователь позвонил по номеру телефона на карточке объявления;\n",
    "\n",
    "\n",
    "- `map` — пользователь открыл карту размещенных объявлений;\n",
    "\n",
    "\n",
    "- `search_1` — `search_7` — разные события, связанные с поиском по сайту;\n",
    "\n",
    "\n",
    "- `favorites_add` — добавление объявления в избранное."
   ]
  },
  {
   "cell_type": "markdown",
   "metadata": {},
   "source": [
    "## Предобработка данных\n",
    "\n",
    "Проведем исследование:\n",
    "\n",
    "- корректности наименований колонок (изменим названия для удобства).\n",
    "\n",
    "\n",
    "- соответствия типов данных столбцов (при необходимости, переведем в подходящие для анализа типы данных);\n",
    "\n",
    "\n",
    "- пропущенных значений (если возможно, заполним их);\n",
    "\n",
    "\n",
    "- наличия дубликатов (при нахождении - удалим);\n",
    "\n",
    "Следует отметить, что названия событий `contacts_show` и `show_contacts` представляют собой одно и тоже - выберем из них тот, что указан в большинстве случаев."
   ]
  },
  {
   "cell_type": "code",
   "execution_count": 5,
   "metadata": {},
   "outputs": [
    {
     "name": "stdout",
     "output_type": "stream",
     "text": [
      "<class 'pandas.core.frame.DataFrame'>\n",
      "RangeIndex: 74197 entries, 0 to 74196\n",
      "Data columns (total 3 columns):\n",
      " #   Column      Non-Null Count  Dtype \n",
      "---  ------      --------------  ----- \n",
      " 0   event_time  74197 non-null  object\n",
      " 1   event_name  74197 non-null  object\n",
      " 2   user_id     74197 non-null  object\n",
      "dtypes: object(3)\n",
      "memory usage: 1.7+ MB\n"
     ]
    },
    {
     "data": {
      "text/plain": [
       "None"
      ]
     },
     "metadata": {},
     "output_type": "display_data"
    },
    {
     "name": "stdout",
     "output_type": "stream",
     "text": [
      "<class 'pandas.core.frame.DataFrame'>\n",
      "RangeIndex: 4293 entries, 0 to 4292\n",
      "Data columns (total 2 columns):\n",
      " #   Column   Non-Null Count  Dtype \n",
      "---  ------   --------------  ----- \n",
      " 0   user_id  4293 non-null   object\n",
      " 1   source   4293 non-null   object\n",
      "dtypes: object(2)\n",
      "memory usage: 67.2+ KB\n"
     ]
    }
   ],
   "source": [
    "#переименуем названия колонок в таблицах\n",
    "\n",
    "dataset.columns = ['event_time', 'event_name', 'user_id']\n",
    "\n",
    "sources.columns = ['user_id', 'source']\n",
    "\n",
    "#проверим типы данных колонок\n",
    "\n",
    "display(dataset.info())\n",
    "sources.info()"
   ]
  },
  {
   "cell_type": "markdown",
   "metadata": {},
   "source": [
    "`Пропусков в данных нет`, но столбец `event_time` в dataset не соответствует своему типу - переведем его `в тип данных datetime`."
   ]
  },
  {
   "cell_type": "code",
   "execution_count": 6,
   "metadata": {},
   "outputs": [
    {
     "name": "stdout",
     "output_type": "stream",
     "text": [
      "<class 'pandas.core.frame.DataFrame'>\n",
      "RangeIndex: 74197 entries, 0 to 74196\n",
      "Data columns (total 3 columns):\n",
      " #   Column      Non-Null Count  Dtype         \n",
      "---  ------      --------------  -----         \n",
      " 0   event_time  74197 non-null  datetime64[ns]\n",
      " 1   event_name  74197 non-null  object        \n",
      " 2   user_id     74197 non-null  object        \n",
      "dtypes: datetime64[ns](1), object(2)\n",
      "memory usage: 1.7+ MB\n"
     ]
    },
    {
     "data": {
      "text/plain": [
       "None"
      ]
     },
     "metadata": {},
     "output_type": "display_data"
    },
    {
     "data": {
      "text/html": [
       "<div>\n",
       "<style scoped>\n",
       "    .dataframe tbody tr th:only-of-type {\n",
       "        vertical-align: middle;\n",
       "    }\n",
       "\n",
       "    .dataframe tbody tr th {\n",
       "        vertical-align: top;\n",
       "    }\n",
       "\n",
       "    .dataframe thead th {\n",
       "        text-align: right;\n",
       "    }\n",
       "</style>\n",
       "<table border=\"1\" class=\"dataframe\">\n",
       "  <thead>\n",
       "    <tr style=\"text-align: right;\">\n",
       "      <th></th>\n",
       "      <th>event_time</th>\n",
       "      <th>event_name</th>\n",
       "      <th>user_id</th>\n",
       "    </tr>\n",
       "  </thead>\n",
       "  <tbody>\n",
       "    <tr>\n",
       "      <th>0</th>\n",
       "      <td>2019-10-07 00:00:00.431357</td>\n",
       "      <td>advert_open</td>\n",
       "      <td>020292ab-89bc-4156-9acf-68bc2783f894</td>\n",
       "    </tr>\n",
       "    <tr>\n",
       "      <th>1</th>\n",
       "      <td>2019-10-07 00:00:01.236320</td>\n",
       "      <td>tips_show</td>\n",
       "      <td>020292ab-89bc-4156-9acf-68bc2783f894</td>\n",
       "    </tr>\n",
       "    <tr>\n",
       "      <th>2</th>\n",
       "      <td>2019-10-07 00:00:02.245341</td>\n",
       "      <td>tips_show</td>\n",
       "      <td>cf7eda61-9349-469f-ac27-e5b6f5ec475c</td>\n",
       "    </tr>\n",
       "    <tr>\n",
       "      <th>3</th>\n",
       "      <td>2019-10-07 00:00:07.039334</td>\n",
       "      <td>tips_show</td>\n",
       "      <td>020292ab-89bc-4156-9acf-68bc2783f894</td>\n",
       "    </tr>\n",
       "    <tr>\n",
       "      <th>4</th>\n",
       "      <td>2019-10-07 00:00:56.319813</td>\n",
       "      <td>advert_open</td>\n",
       "      <td>cf7eda61-9349-469f-ac27-e5b6f5ec475c</td>\n",
       "    </tr>\n",
       "  </tbody>\n",
       "</table>\n",
       "</div>"
      ],
      "text/plain": [
       "                  event_time   event_name  \\\n",
       "0 2019-10-07 00:00:00.431357  advert_open   \n",
       "1 2019-10-07 00:00:01.236320    tips_show   \n",
       "2 2019-10-07 00:00:02.245341    tips_show   \n",
       "3 2019-10-07 00:00:07.039334    tips_show   \n",
       "4 2019-10-07 00:00:56.319813  advert_open   \n",
       "\n",
       "                                user_id  \n",
       "0  020292ab-89bc-4156-9acf-68bc2783f894  \n",
       "1  020292ab-89bc-4156-9acf-68bc2783f894  \n",
       "2  cf7eda61-9349-469f-ac27-e5b6f5ec475c  \n",
       "3  020292ab-89bc-4156-9acf-68bc2783f894  \n",
       "4  cf7eda61-9349-469f-ac27-e5b6f5ec475c  "
      ]
     },
     "metadata": {},
     "output_type": "display_data"
    }
   ],
   "source": [
    "dataset['event_time'] = pd.to_datetime(dataset['event_time'], format = '%Y.%m.%d %H:%M:%S')\n",
    "\n",
    "display(\n",
    "    dataset.info(),\n",
    "    dataset.head()\n",
    ")"
   ]
  },
  {
   "cell_type": "code",
   "execution_count": 7,
   "metadata": {},
   "outputs": [
    {
     "data": {
      "text/plain": [
       "0"
      ]
     },
     "metadata": {},
     "output_type": "display_data"
    },
    {
     "data": {
      "text/plain": [
       "0"
      ]
     },
     "metadata": {},
     "output_type": "display_data"
    }
   ],
   "source": [
    "#проверим таблицы на наличие дубликатов\n",
    "\n",
    "display(\n",
    "    dataset.duplicated().sum(),\n",
    "    sources.duplicated().sum()\n",
    ")"
   ]
  },
  {
   "cell_type": "markdown",
   "metadata": {},
   "source": [
    "`Дубликатов в таблицах не обнаружено`.\n",
    "\n",
    "Проверим, как часто встречаются события `contacts_show` и `show_contacts`. \n",
    "Тот, что лидирует по количеству использования, будет шаблоном для переименования второго."
   ]
  },
  {
   "cell_type": "code",
   "execution_count": 8,
   "metadata": {},
   "outputs": [
    {
     "data": {
      "text/plain": [
       "tips_show        40055\n",
       "photos_show      10012\n",
       "advert_open       6164\n",
       "contacts_show     4450\n",
       "map               3881\n",
       "search_1          3506\n",
       "favorites_add     1417\n",
       "search_5          1049\n",
       "tips_click         814\n",
       "search_4           701\n",
       "contacts_call      541\n",
       "search_3           522\n",
       "search_6           460\n",
       "search_2           324\n",
       "search_7           222\n",
       "show_contacts       79\n",
       "Name: event_name, dtype: int64"
      ]
     },
     "execution_count": 8,
     "metadata": {},
     "output_type": "execute_result"
    }
   ],
   "source": [
    "dataset['event_name'].value_counts()"
   ]
  },
  {
   "cell_type": "code",
   "execution_count": 9,
   "metadata": {},
   "outputs": [],
   "source": [
    "#переименуем событие show_contacts в contacts_show\n",
    "\n",
    "dataset['event_name'] = dataset['event_name'].replace('show_contacts', 'contacts_show')"
   ]
  },
  {
   "cell_type": "markdown",
   "metadata": {},
   "source": [
    "### Вывод\n",
    "\n",
    "В ходе предобработки данных `не были обнаружены пропуски и дубликаты`.\n",
    "\n",
    "`Колонки таблиц были переименованы` для удобства работы.\n",
    "\n",
    "В таблице dataset:\n",
    "\n",
    "- event.time в event_time;\n",
    "\n",
    "- event.name - event_name; \n",
    "\n",
    "- user.id - user_id.\n",
    "\n",
    "В таблице sources:\n",
    "\n",
    "- userId в user_id.\n",
    "\n",
    "Колонке `event_time` в таблице dataset был присвоен `тип данных datetime`, что соответствует ее содержанию.\n",
    "\n",
    "Названия событий `contacts_show` и `show_contacts` отражали одно и тоже действие, но show_contacts встречался гораздо реже, поэтому он был `переименован` в contacts_show.\n",
    "\n"
   ]
  },
  {
   "cell_type": "markdown",
   "metadata": {},
   "source": [
    "## Исследовательский анализ данных"
   ]
  },
  {
   "cell_type": "markdown",
   "metadata": {},
   "source": [
    "### DAU и WAU.\n",
    "\n",
    "Выясним, сколько людей пользуются приложением в день и неделю: \n",
    "\n",
    "- рассчитаем DAU и WAU;\n",
    "\n",
    "- отобразим изменения метрик во времени на графиках;\n",
    "\n",
    "- вычислим средние значения этих метрик за весь период. \n"
   ]
  },
  {
   "cell_type": "code",
   "execution_count": 10,
   "metadata": {},
   "outputs": [
    {
     "data": {
      "text/plain": [
       "Timestamp('2019-10-07 00:00:00.431357')"
      ]
     },
     "metadata": {},
     "output_type": "display_data"
    },
    {
     "data": {
      "text/plain": [
       "Timestamp('2019-11-03 23:58:12.532487')"
      ]
     },
     "metadata": {},
     "output_type": "display_data"
    }
   ],
   "source": [
    "# определим минимальную и максимальную даты привлечения пользователей.\n",
    "\n",
    "display(\n",
    "    dataset['event_time'].min(),\n",
    "    dataset['event_time'].max()\n",
    ")"
   ]
  },
  {
   "cell_type": "markdown",
   "metadata": {},
   "source": [
    "Мы располагаем событиями, которые совершались в период `с 7 октября по 3 ноября 2019` года включительно."
   ]
  },
  {
   "cell_type": "code",
   "execution_count": 11,
   "metadata": {},
   "outputs": [
    {
     "name": "stderr",
     "output_type": "stream",
     "text": [
      "/tmp/ipykernel_117/1379168675.py:4: FutureWarning: Series.dt.weekofyear and Series.dt.week have been deprecated.  Please use Series.dt.isocalendar().week instead.\n",
      "  dataset['week'] = dataset['event_time'].dt.week\n"
     ]
    },
    {
     "data": {
      "text/html": [
       "<div>\n",
       "<style scoped>\n",
       "    .dataframe tbody tr th:only-of-type {\n",
       "        vertical-align: middle;\n",
       "    }\n",
       "\n",
       "    .dataframe tbody tr th {\n",
       "        vertical-align: top;\n",
       "    }\n",
       "\n",
       "    .dataframe thead th {\n",
       "        text-align: right;\n",
       "    }\n",
       "</style>\n",
       "<table border=\"1\" class=\"dataframe\">\n",
       "  <thead>\n",
       "    <tr style=\"text-align: right;\">\n",
       "      <th></th>\n",
       "      <th>user_id</th>\n",
       "    </tr>\n",
       "    <tr>\n",
       "      <th>dt</th>\n",
       "      <th></th>\n",
       "    </tr>\n",
       "  </thead>\n",
       "  <tbody>\n",
       "    <tr>\n",
       "      <th>2019-10-07</th>\n",
       "      <td>204</td>\n",
       "    </tr>\n",
       "    <tr>\n",
       "      <th>2019-10-08</th>\n",
       "      <td>204</td>\n",
       "    </tr>\n",
       "    <tr>\n",
       "      <th>2019-10-09</th>\n",
       "      <td>227</td>\n",
       "    </tr>\n",
       "    <tr>\n",
       "      <th>2019-10-10</th>\n",
       "      <td>233</td>\n",
       "    </tr>\n",
       "    <tr>\n",
       "      <th>2019-10-11</th>\n",
       "      <td>206</td>\n",
       "    </tr>\n",
       "  </tbody>\n",
       "</table>\n",
       "</div>"
      ],
      "text/plain": [
       "            user_id\n",
       "dt                 \n",
       "2019-10-07      204\n",
       "2019-10-08      204\n",
       "2019-10-09      227\n",
       "2019-10-10      233\n",
       "2019-10-11      206"
      ]
     },
     "metadata": {},
     "output_type": "display_data"
    },
    {
     "data": {
      "text/html": [
       "<div>\n",
       "<style scoped>\n",
       "    .dataframe tbody tr th:only-of-type {\n",
       "        vertical-align: middle;\n",
       "    }\n",
       "\n",
       "    .dataframe tbody tr th {\n",
       "        vertical-align: top;\n",
       "    }\n",
       "\n",
       "    .dataframe thead th {\n",
       "        text-align: right;\n",
       "    }\n",
       "</style>\n",
       "<table border=\"1\" class=\"dataframe\">\n",
       "  <thead>\n",
       "    <tr style=\"text-align: right;\">\n",
       "      <th></th>\n",
       "      <th>user_id</th>\n",
       "    </tr>\n",
       "    <tr>\n",
       "      <th>week</th>\n",
       "      <th></th>\n",
       "    </tr>\n",
       "  </thead>\n",
       "  <tbody>\n",
       "    <tr>\n",
       "      <th>41</th>\n",
       "      <td>1130</td>\n",
       "    </tr>\n",
       "    <tr>\n",
       "      <th>42</th>\n",
       "      <td>1438</td>\n",
       "    </tr>\n",
       "    <tr>\n",
       "      <th>43</th>\n",
       "      <td>1546</td>\n",
       "    </tr>\n",
       "    <tr>\n",
       "      <th>44</th>\n",
       "      <td>1416</td>\n",
       "    </tr>\n",
       "  </tbody>\n",
       "</table>\n",
       "</div>"
      ],
      "text/plain": [
       "      user_id\n",
       "week         \n",
       "41       1130\n",
       "42       1438\n",
       "43       1546\n",
       "44       1416"
      ]
     },
     "metadata": {},
     "output_type": "display_data"
    }
   ],
   "source": [
    "#добавим столбцы с датой и неделей в dataset\n",
    "\n",
    "dataset['dt'] = dataset['event_time'].dt.date\n",
    "dataset['week'] = dataset['event_time'].dt.week\n",
    "\n",
    "#расчитаем dau и wau\n",
    "\n",
    "dau = (\n",
    "    dataset.groupby('dt')\n",
    "    .agg({'user_id' : 'nunique'})\n",
    ")   \n",
    "\n",
    "wau = (\n",
    "    dataset.groupby('week')\n",
    "    .agg({'user_id' : 'nunique'})\n",
    ")\n",
    "\n",
    "display(dau.head(), wau.head())"
   ]
  },
  {
   "cell_type": "code",
   "execution_count": 12,
   "metadata": {},
   "outputs": [
    {
     "data": {
      "image/png": "[encoded data removed]",
      "text/plain": [
       "<Figure size 1008x576 with 2 Axes>"
      ]
     },
     "metadata": {},
     "output_type": "display_data"
    }
   ],
   "source": [
    "#отобразим на графиках изменение метрик во времени \n",
    "\n",
    "fig, axs = plt.subplots(2, 1, figsize = (14,8)) \n",
    "plt.subplots_adjust(hspace= 0.35)\n",
    "\n",
    "dau.plot(ax = axs[0], grid=True, color = 'royalblue')\n",
    "axs[0].set_title('Изменение DAU во времени')\n",
    "axs[0].set_xlabel('Дата')\n",
    "axs[0].set_ylabel('Количество пользователей')\n",
    "\n",
    "wau.plot(ax = axs[1], grid=True, color = 'firebrick')\n",
    "axs[1].set_title('Изменение WAU во времени')\n",
    "axs[1].set_xlabel('Неделя')\n",
    "axs[1].set_ylabel('Количество пользователей')\n",
    "\n",
    "plt.show()"
   ]
  },
  {
   "cell_type": "markdown",
   "metadata": {},
   "source": [
    "Можно заметить, что `рост количества событий` наблюдается с 14.10.2019г., что соответствует второй по счету недели в датасете.\n",
    "\n",
    "В течение 3-х недель (41-43) количество событий росло, к 44 неделе наблюдалось падение."
   ]
  },
  {
   "cell_type": "code",
   "execution_count": 13,
   "metadata": {},
   "outputs": [
    {
     "data": {
      "text/plain": [
       "dau     279.0\n",
       "wau    1382.0\n",
       "dtype: float64"
      ]
     },
     "execution_count": 13,
     "metadata": {},
     "output_type": "execute_result"
    }
   ],
   "source": [
    "#вычислим средние значения DAU и WAU\n",
    "\n",
    "dau_wau_mean = pd.concat([round(dau.mean()), round(wau.mean())]).T\n",
    "dau_wau_mean.index = ['dau', 'wau']\n",
    "\n",
    "dau_wau_mean"
   ]
  },
  {
   "cell_type": "markdown",
   "metadata": {},
   "source": [
    "**Вывод**\n",
    "\n",
    "В `среднем` приложением пользуются `279 человек в день`, `в неделю` средний показатель составляет `1 382 человека`.\n",
    "\n",
    "На протяжении первой недели `активность была минимальна` и составляла до 230 человек в день. \n",
    "\n",
    "После чего (с 14 октября 2019 года) средняя посещаемость `начала заметно расти` и достигла своего пика на 43 неделе, когда средняя посещаемость составляла 275-350 человек в день и более 1 500 в течение всей недели.\n",
    "\n",
    "На `последней неделе` наблюдался `небольшой спад посещаемости` чуть больше 1 400 человек в неделю."
   ]
  },
  {
   "cell_type": "markdown",
   "metadata": {},
   "source": [
    "### События\n",
    "\n",
    "Рассмотрим, как распределяются события во времени и между пользователями."
   ]
  },
  {
   "cell_type": "code",
   "execution_count": 14,
   "metadata": {},
   "outputs": [
    {
     "name": "stderr",
     "output_type": "stream",
     "text": [
      "/opt/conda/lib/python3.9/site-packages/seaborn/distributions.py:2557: FutureWarning: `distplot` is a deprecated function and will be removed in a future version. Please adapt your code to use either `displot` (a figure-level function with similar flexibility) or `histplot` (an axes-level function for histograms).\n",
      "  warnings.warn(msg, FutureWarning)\n"
     ]
    },
    {
     "data": {
      "image/png": "[encoded data removed]",
      "text/plain": [
       "<Figure size 864x288 with 1 Axes>"
      ]
     },
     "metadata": {},
     "output_type": "display_data"
    }
   ],
   "source": [
    "#построим гистограмму распределения событий\n",
    "\n",
    "plt.figure(figsize = (12,4))\n",
    "\n",
    "sns.distplot(\n",
    "    dataset['event_time'], bins = 20, kde=False,\n",
    "    hist_kws = {'alpha':.8}, color = 'royalblue')\n",
    "\n",
    "plt.title('Распределение событий по дате и времени')\n",
    "plt.xlabel('Дата и время')\n",
    "plt.ylabel('Количество событий')\n",
    "plt.show()"
   ]
  },
  {
   "cell_type": "markdown",
   "metadata": {},
   "source": [
    "В день пользователями совершается `2 500 - 3 600 событий`.\n",
    "\n",
    "Можно заметить, что количество событий росло в течение недели."
   ]
  },
  {
   "cell_type": "code",
   "execution_count": 15,
   "metadata": {},
   "outputs": [
    {
     "data": {
      "image/png": "[encoded data removed]",
      "text/plain": [
       "<Figure size 864x288 with 1 Axes>"
      ]
     },
     "metadata": {},
     "output_type": "display_data"
    }
   ],
   "source": [
    "#рассмотрим недельные показатели\n",
    "\n",
    "plt.figure(figsize = (12,4))\n",
    "\n",
    "sns.distplot(\n",
    "    dataset['week'], bins = 20, kde=False,\n",
    "    hist_kws = {'alpha':.8}, color = 'royalblue')\n",
    "\n",
    "plt.title('Распределение событий по неделям')\n",
    "plt.xlabel('Неделя')\n",
    "plt.ylabel('Количество событий')\n",
    "plt.show()"
   ]
  },
  {
   "cell_type": "markdown",
   "metadata": {},
   "source": [
    "Рост количества событий с течением недели подтвердился.\n",
    "\n",
    "- в течение `41 недели` было совершено `более 15 000` событий;\n",
    "\n",
    "\n",
    "- в течение `42` - `более 17 500` событий;\n",
    "\n",
    "\n",
    "- `43 неделя` - `более 20 000` событий;\n",
    "\n",
    "\n",
    "- за `44 неделю` показатели немного упали - `чуть меньше 20 000`."
   ]
  },
  {
   "cell_type": "code",
   "execution_count": 16,
   "metadata": {},
   "outputs": [
    {
     "data": {
      "text/plain": [
       "2649.8928571428573"
      ]
     },
     "metadata": {},
     "output_type": "display_data"
    },
    {
     "data": {
      "text/plain": [
       "18549.25"
      ]
     },
     "metadata": {},
     "output_type": "display_data"
    }
   ],
   "source": [
    "#посмотрим средние показатели в день и неделю\n",
    "\n",
    "display(\n",
    "    dataset.groupby('dt')['event_name'].count().mean(),\n",
    "    dataset.groupby('week')['event_name'].count().mean()\n",
    ")"
   ]
  },
  {
   "cell_type": "markdown",
   "metadata": {},
   "source": [
    "**Вывод**\n",
    "\n",
    "В среднем пользователями совершается `2 650` событий в день и `18 549` в неделю.\n",
    "\n",
    "Количество событий росло с течением времени - каждую неделю показатель становился выше и достиг своего максимума на `43 неделе` (21-27 октября 2019г.). Количество событий на этой неделе составило `более 20 000`.\n",
    "\n",
    "После 43 недели (c 28.10.2019) наблюдалось небольшое падение."
   ]
  },
  {
   "cell_type": "markdown",
   "metadata": {},
   "source": [
    "Посмотрим **распределение событий между пользователями**."
   ]
  },
  {
   "cell_type": "code",
   "execution_count": 17,
   "metadata": {},
   "outputs": [
    {
     "data": {
      "text/html": [
       "<div>\n",
       "<style scoped>\n",
       "    .dataframe tbody tr th:only-of-type {\n",
       "        vertical-align: middle;\n",
       "    }\n",
       "\n",
       "    .dataframe tbody tr th {\n",
       "        vertical-align: top;\n",
       "    }\n",
       "\n",
       "    .dataframe thead th {\n",
       "        text-align: right;\n",
       "    }\n",
       "</style>\n",
       "<table border=\"1\" class=\"dataframe\">\n",
       "  <thead>\n",
       "    <tr style=\"text-align: right;\">\n",
       "      <th></th>\n",
       "      <th>event_name</th>\n",
       "      <th>count</th>\n",
       "      <th>users</th>\n",
       "      <th>count_for_user</th>\n",
       "    </tr>\n",
       "  </thead>\n",
       "  <tbody>\n",
       "    <tr>\n",
       "      <th>14</th>\n",
       "      <td>tips_show</td>\n",
       "      <td>40055</td>\n",
       "      <td>2801</td>\n",
       "      <td>14.0</td>\n",
       "    </tr>\n",
       "    <tr>\n",
       "      <th>5</th>\n",
       "      <td>photos_show</td>\n",
       "      <td>10012</td>\n",
       "      <td>1095</td>\n",
       "      <td>9.0</td>\n",
       "    </tr>\n",
       "    <tr>\n",
       "      <th>0</th>\n",
       "      <td>advert_open</td>\n",
       "      <td>6164</td>\n",
       "      <td>751</td>\n",
       "      <td>8.0</td>\n",
       "    </tr>\n",
       "    <tr>\n",
       "      <th>2</th>\n",
       "      <td>contacts_show</td>\n",
       "      <td>4529</td>\n",
       "      <td>981</td>\n",
       "      <td>5.0</td>\n",
       "    </tr>\n",
       "    <tr>\n",
       "      <th>3</th>\n",
       "      <td>favorites_add</td>\n",
       "      <td>1417</td>\n",
       "      <td>351</td>\n",
       "      <td>4.0</td>\n",
       "    </tr>\n",
       "    <tr>\n",
       "      <th>6</th>\n",
       "      <td>search_1</td>\n",
       "      <td>3506</td>\n",
       "      <td>787</td>\n",
       "      <td>4.0</td>\n",
       "    </tr>\n",
       "    <tr>\n",
       "      <th>1</th>\n",
       "      <td>contacts_call</td>\n",
       "      <td>541</td>\n",
       "      <td>213</td>\n",
       "      <td>3.0</td>\n",
       "    </tr>\n",
       "    <tr>\n",
       "      <th>4</th>\n",
       "      <td>map</td>\n",
       "      <td>3881</td>\n",
       "      <td>1456</td>\n",
       "      <td>3.0</td>\n",
       "    </tr>\n",
       "    <tr>\n",
       "      <th>8</th>\n",
       "      <td>search_3</td>\n",
       "      <td>522</td>\n",
       "      <td>208</td>\n",
       "      <td>3.0</td>\n",
       "    </tr>\n",
       "    <tr>\n",
       "      <th>13</th>\n",
       "      <td>tips_click</td>\n",
       "      <td>814</td>\n",
       "      <td>322</td>\n",
       "      <td>3.0</td>\n",
       "    </tr>\n",
       "    <tr>\n",
       "      <th>10</th>\n",
       "      <td>search_5</td>\n",
       "      <td>1049</td>\n",
       "      <td>663</td>\n",
       "      <td>2.0</td>\n",
       "    </tr>\n",
       "    <tr>\n",
       "      <th>7</th>\n",
       "      <td>search_2</td>\n",
       "      <td>324</td>\n",
       "      <td>242</td>\n",
       "      <td>1.0</td>\n",
       "    </tr>\n",
       "    <tr>\n",
       "      <th>9</th>\n",
       "      <td>search_4</td>\n",
       "      <td>701</td>\n",
       "      <td>474</td>\n",
       "      <td>1.0</td>\n",
       "    </tr>\n",
       "    <tr>\n",
       "      <th>11</th>\n",
       "      <td>search_6</td>\n",
       "      <td>460</td>\n",
       "      <td>330</td>\n",
       "      <td>1.0</td>\n",
       "    </tr>\n",
       "    <tr>\n",
       "      <th>12</th>\n",
       "      <td>search_7</td>\n",
       "      <td>222</td>\n",
       "      <td>157</td>\n",
       "      <td>1.0</td>\n",
       "    </tr>\n",
       "  </tbody>\n",
       "</table>\n",
       "</div>"
      ],
      "text/plain": [
       "       event_name  count  users  count_for_user\n",
       "14      tips_show  40055   2801            14.0\n",
       "5     photos_show  10012   1095             9.0\n",
       "0     advert_open   6164    751             8.0\n",
       "2   contacts_show   4529    981             5.0\n",
       "3   favorites_add   1417    351             4.0\n",
       "6        search_1   3506    787             4.0\n",
       "1   contacts_call    541    213             3.0\n",
       "4             map   3881   1456             3.0\n",
       "8        search_3    522    208             3.0\n",
       "13     tips_click    814    322             3.0\n",
       "10       search_5   1049    663             2.0\n",
       "7        search_2    324    242             1.0\n",
       "9        search_4    701    474             1.0\n",
       "11       search_6    460    330             1.0\n",
       "12       search_7    222    157             1.0"
      ]
     },
     "execution_count": 17,
     "metadata": {},
     "output_type": "execute_result"
    }
   ],
   "source": [
    "#построим таблицу с количеством событий и сколько пользователей их совершили хотя бы один раз\n",
    "\n",
    "users_count = (\n",
    "    dataset.groupby('event_name')\n",
    "    .agg({'event_time' : 'count',      # всего событий\n",
    "          'user_id' : 'nunique'})      # уникальные пользователи\n",
    "    .rename(columns = {\n",
    "                        'event_time' : 'count', \n",
    "                        'user_id' : 'users'\n",
    "                      })\n",
    "    .reset_index()\n",
    ")\n",
    "\n",
    "users_count['count_for_user'] = round(users_count['count'] / users_count['users']) #кол-во каждого события на пользователя\n",
    "\n",
    "users_count.sort_values(by = 'count_for_user', ascending = False)"
   ]
  },
  {
   "cell_type": "code",
   "execution_count": 18,
   "metadata": {},
   "outputs": [
    {
     "data": {
      "text/plain": [
       "17"
      ]
     },
     "execution_count": 18,
     "metadata": {},
     "output_type": "execute_result"
    }
   ],
   "source": [
    "#посмотрим, сколько действий в среднем приходится на одного пользователя\n",
    "\n",
    "round(\n",
    "    len(dataset['event_name']) / len(dataset['user_id'].unique())\n",
    ")"
   ]
  },
  {
   "cell_type": "code",
   "execution_count": 19,
   "metadata": {},
   "outputs": [
    {
     "data": {
      "text/plain": [
       "16.38"
      ]
     },
     "execution_count": 19,
     "metadata": {},
     "output_type": "execute_result"
    }
   ],
   "source": [
    "#расчитаем какую долю составляет целевое событие (\"просмотр контактов\") от общего числа событий\n",
    "\n",
    "round(\n",
    "    len(dataset['event_name']) / (len(dataset[dataset['event_name'] == 'contacts_show'])), 2\n",
    ")"
   ]
  },
  {
   "cell_type": "markdown",
   "metadata": {},
   "source": [
    "**Вывод**\n",
    "\n",
    "Среднее количество `событий на пользователя` - `17` действий.\n",
    "\n",
    "Cамое часто из них `tips_show` (увидел рекомендованные объявления) - в среднем `14 событий` на пользователя. Это событие самое частое потому, что показывается всем пользователям автоматически.\n",
    "\n",
    "Другие частые события по количеству среди пользователей:\n",
    "\n",
    "- `photos_show` (просмотр фотографий в объявлении) - `9 событий` на пользователя;\n",
    "\n",
    "\n",
    "- `advert_open` (открытие карточки объявления) - в среднем `8 событий`;\n",
    "\n",
    "\n",
    "- `contacts_show`\t(посмотрел контакты) - `5 событий`.\n",
    "\n",
    "Последнее действие (contacts_show) является целевым. Была расчитана доля переходов к этому событию - 16.38.\n",
    "\n",
    "Это говорит о тому, что `16.38%` от общего числа событий составляет `\"просмотр контактов\"`.\n"
   ]
  },
  {
   "cell_type": "markdown",
   "metadata": {},
   "source": [
    "### Источники\n",
    "\n",
    "Проверим, ***есть ли принципиальная разница*** в поведении пользователей в зависимости от источника привлечения.\n",
    "\n",
    "- оценим `распределение событий` во времени (различаются ли гистограммы по своему характеру?);\n",
    "\n",
    "\n",
    "- расчитаем, сколько в среднем `событий` приходится `на пользователя`;\n",
    "\n",
    "\n",
    "- посмотрим, какое количество `каждого события` приходится на одного пользователя."
   ]
  },
  {
   "cell_type": "code",
   "execution_count": 20,
   "metadata": {},
   "outputs": [
    {
     "data": {
      "text/plain": [
       "source\n",
       "yandex    1934\n",
       "other     1230\n",
       "google    1129\n",
       "Name: user_id, dtype: int64"
      ]
     },
     "execution_count": 20,
     "metadata": {},
     "output_type": "execute_result"
    }
   ],
   "source": [
    "#объединим таблицы dataset и sources\n",
    "\n",
    "dataset = dataset.merge(sources, on = 'user_id', how = 'left')\n",
    "\n",
    "#посмотрим, сколько пользователей пришли по каждому источнику\n",
    "\n",
    "dataset.groupby('source')['user_id'].nunique().sort_values(ascending = False)"
   ]
  },
  {
   "cell_type": "markdown",
   "metadata": {},
   "source": [
    "Большая часть пользователей установила мобильное приложение по ссылке из `Yandex` - `1 934` человека.\n",
    "\n",
    "Меньше всего пользователей пришло из `Google` - `1 129` человек.\n",
    "\n",
    "`Другой источник` для установки использовало `1 230` пользователей."
   ]
  },
  {
   "cell_type": "code",
   "execution_count": 21,
   "metadata": {},
   "outputs": [
    {
     "name": "stderr",
     "output_type": "stream",
     "text": [
      "/opt/conda/lib/python3.9/site-packages/seaborn/distributions.py:2557: FutureWarning: `distplot` is a deprecated function and will be removed in a future version. Please adapt your code to use either `displot` (a figure-level function with similar flexibility) or `histplot` (an axes-level function for histograms).\n",
      "  warnings.warn(msg, FutureWarning)\n"
     ]
    },
    {
     "data": {
      "image/png": "[encoded data removed]",
      "text/plain": [
       "<Figure size 864x1152 with 3 Axes>"
      ]
     },
     "metadata": {},
     "output_type": "display_data"
    }
   ],
   "source": [
    "#оценим распределение событий во времени по каждому источнику\n",
    "\n",
    "fig, axs = plt.subplots(3,1, figsize = (12, 16))\n",
    "plt.subplots_adjust(hspace= 0.35)\n",
    "\n",
    "colors = ['cornflowerblue', 'goldenrod', 'limegreen'] #применим разные цвета для гистограмм\n",
    "col = 0\n",
    "a = 0\n",
    "\n",
    "for name in dataset['source'].unique():\n",
    "    \n",
    "    sns.distplot(\n",
    "        dataset[dataset['source'] == name]['event_time'],\n",
    "        ax = axs[a], \n",
    "        bins = 20, \n",
    "        kde=False, \n",
    "        hist_kws = {'alpha':.8}, \n",
    "        color = colors[col]\n",
    "    )\n",
    "\n",
    "    axs[a].set_title('Распределение событий по источнику {}'.format(name))\n",
    "    axs[a].set_xlabel('Дата')\n",
    "    axs[a].set_ylabel('Количество событий')\n",
    "    \n",
    "    a += 1\n",
    "    col += 1\n",
    "    \n",
    "plt.show()"
   ]
  },
  {
   "cell_type": "markdown",
   "metadata": {},
   "source": [
    "Характер распределения `похожий` у пользователей, установивших приложение из `google и other` (других источников).\n",
    "\n",
    "События у пользователей из `yandex` распределяются `стабильнее`, но значительной разницы не наблюдается."
   ]
  },
  {
   "cell_type": "code",
   "execution_count": 22,
   "metadata": {},
   "outputs": [
    {
     "data": {
      "text/plain": [
       "source\n",
       "google    18.0\n",
       "other     16.0\n",
       "yandex    18.0\n",
       "dtype: float64"
      ]
     },
     "execution_count": 22,
     "metadata": {},
     "output_type": "execute_result"
    }
   ],
   "source": [
    "#расчитаем среднее количество событий на пользователя\n",
    "\n",
    "round(\n",
    "    dataset.groupby('source')['event_name'].count() / dataset.groupby('source')['user_id'].nunique()\n",
    ")"
   ]
  },
  {
   "cell_type": "code",
   "execution_count": 23,
   "metadata": {},
   "outputs": [
    {
     "data": {
      "text/html": [
       "<div>\n",
       "<style scoped>\n",
       "    .dataframe tbody tr th:only-of-type {\n",
       "        vertical-align: middle;\n",
       "    }\n",
       "\n",
       "    .dataframe tbody tr th {\n",
       "        vertical-align: top;\n",
       "    }\n",
       "\n",
       "    .dataframe thead th {\n",
       "        text-align: right;\n",
       "    }\n",
       "</style>\n",
       "<table border=\"1\" class=\"dataframe\">\n",
       "  <thead>\n",
       "    <tr style=\"text-align: right;\">\n",
       "      <th>source</th>\n",
       "      <th>google</th>\n",
       "      <th>other</th>\n",
       "      <th>yandex</th>\n",
       "    </tr>\n",
       "    <tr>\n",
       "      <th>event_name</th>\n",
       "      <th></th>\n",
       "      <th></th>\n",
       "      <th></th>\n",
       "    </tr>\n",
       "  </thead>\n",
       "  <tbody>\n",
       "    <tr>\n",
       "      <th>tips_show</th>\n",
       "      <td>15.0</td>\n",
       "      <td>12.0</td>\n",
       "      <td>15.0</td>\n",
       "    </tr>\n",
       "    <tr>\n",
       "      <th>advert_open</th>\n",
       "      <td>8.0</td>\n",
       "      <td>7.0</td>\n",
       "      <td>9.0</td>\n",
       "    </tr>\n",
       "    <tr>\n",
       "      <th>photos_show</th>\n",
       "      <td>10.0</td>\n",
       "      <td>10.0</td>\n",
       "      <td>8.0</td>\n",
       "    </tr>\n",
       "    <tr>\n",
       "      <th>search_1</th>\n",
       "      <td>5.0</td>\n",
       "      <td>4.0</td>\n",
       "      <td>5.0</td>\n",
       "    </tr>\n",
       "    <tr>\n",
       "      <th>favorites_add</th>\n",
       "      <td>4.0</td>\n",
       "      <td>3.0</td>\n",
       "      <td>5.0</td>\n",
       "    </tr>\n",
       "    <tr>\n",
       "      <th>contacts_show</th>\n",
       "      <td>5.0</td>\n",
       "      <td>5.0</td>\n",
       "      <td>4.0</td>\n",
       "    </tr>\n",
       "    <tr>\n",
       "      <th>map</th>\n",
       "      <td>3.0</td>\n",
       "      <td>2.0</td>\n",
       "      <td>3.0</td>\n",
       "    </tr>\n",
       "    <tr>\n",
       "      <th>search_3</th>\n",
       "      <td>3.0</td>\n",
       "      <td>2.0</td>\n",
       "      <td>3.0</td>\n",
       "    </tr>\n",
       "    <tr>\n",
       "      <th>tips_click</th>\n",
       "      <td>3.0</td>\n",
       "      <td>2.0</td>\n",
       "      <td>3.0</td>\n",
       "    </tr>\n",
       "    <tr>\n",
       "      <th>contacts_call</th>\n",
       "      <td>2.0</td>\n",
       "      <td>3.0</td>\n",
       "      <td>2.0</td>\n",
       "    </tr>\n",
       "    <tr>\n",
       "      <th>search_5</th>\n",
       "      <td>2.0</td>\n",
       "      <td>2.0</td>\n",
       "      <td>2.0</td>\n",
       "    </tr>\n",
       "    <tr>\n",
       "      <th>search_2</th>\n",
       "      <td>1.0</td>\n",
       "      <td>1.0</td>\n",
       "      <td>2.0</td>\n",
       "    </tr>\n",
       "    <tr>\n",
       "      <th>search_4</th>\n",
       "      <td>1.0</td>\n",
       "      <td>1.0</td>\n",
       "      <td>2.0</td>\n",
       "    </tr>\n",
       "    <tr>\n",
       "      <th>search_6</th>\n",
       "      <td>1.0</td>\n",
       "      <td>1.0</td>\n",
       "      <td>1.0</td>\n",
       "    </tr>\n",
       "    <tr>\n",
       "      <th>search_7</th>\n",
       "      <td>1.0</td>\n",
       "      <td>1.0</td>\n",
       "      <td>1.0</td>\n",
       "    </tr>\n",
       "  </tbody>\n",
       "</table>\n",
       "</div>"
      ],
      "text/plain": [
       "source         google  other  yandex\n",
       "event_name                          \n",
       "tips_show        15.0   12.0    15.0\n",
       "advert_open       8.0    7.0     9.0\n",
       "photos_show      10.0   10.0     8.0\n",
       "search_1          5.0    4.0     5.0\n",
       "favorites_add     4.0    3.0     5.0\n",
       "contacts_show     5.0    5.0     4.0\n",
       "map               3.0    2.0     3.0\n",
       "search_3          3.0    2.0     3.0\n",
       "tips_click        3.0    2.0     3.0\n",
       "contacts_call     2.0    3.0     2.0\n",
       "search_5          2.0    2.0     2.0\n",
       "search_2          1.0    1.0     2.0\n",
       "search_4          1.0    1.0     2.0\n",
       "search_6          1.0    1.0     1.0\n",
       "search_7          1.0    1.0     1.0"
      ]
     },
     "execution_count": 23,
     "metadata": {},
     "output_type": "execute_result"
    }
   ],
   "source": [
    "#посмотрим среднее количество каждого действия на пользователя\n",
    "(\n",
    "    round(\n",
    "    dataset.groupby(['source','event_name'])['user_id'].count() /\n",
    "    dataset.groupby(['source','event_name'])['user_id'].nunique()\n",
    "    )\n",
    "    .reset_index()\n",
    "    .pivot_table(index = 'event_name',\n",
    "                columns = 'source',\n",
    "                values = 'user_id')\n",
    "    .sort_values(by = ['yandex', 'google', 'other'], ascending  = False)\n",
    ")    "
   ]
  },
  {
   "cell_type": "markdown",
   "metadata": {},
   "source": [
    "`В среднем `на каждого пользователя, установившего приложение из `google и yandex`, приходится `18` событий.\n",
    "\n",
    "На пользователей из других источников (`other`) - `16` событий.\n",
    "\n",
    "Самые `частые события`, согласно среднему распределению на пользователя:\n",
    "\n",
    "- `tips_show`\t- увидел рекомендованные объявления (google и yandex - 15, other - 12)\n",
    "\n",
    "\n",
    "- `photos_show` - просмотр фотографий (google и yandex - 10, other - 8);\n",
    "\n",
    "\n",
    "- `advert_open` - открытие карточки объявления (google - 8, yandex - 9, other - 7);\n",
    "\n",
    "\n",
    "- `search_1` - поиск по приложению (google и yandex - 5, other - 4).\n",
    "\n",
    "\n",
    "Количество целевых событий (`contacts_call`) - минимально. \n",
    "\n",
    "В среднем их приходится на каждого пользователя из источников `google и yandex` - `по 2` события. Для пользователей из других источников (`other`) их немного больше - `3` события.\n",
    "\n",
    "\n",
    "Средние показатели у источников `google` и `yandex` часто повторяются, хотя количество людей в этих грппах разное - `1 129` и `1 934` соответственно.\n",
    "\n",
    "Среднее распределение событий по пользователям источника `other` (1 230 человек) `немного ниже`, чем у первых двух.\n",
    "\n",
    "Сказать, что пользователи в среднем по разному совершают события в зависимости от источника установки, мы не можем.\n",
    "\n",
    "Полученные средние `показатели не выявили координальных различий`."
   ]
  },
  {
   "cell_type": "markdown",
   "metadata": {},
   "source": [
    "### Вывод\n",
    "\n",
    "В ходе исследовательского анализа данных были проанализированы средние показатели по датафрейму.\n",
    "\n",
    "**DAU и WAU**. \n",
    "\n",
    "В `среднем` приложением пользуются `279 человек в день`, `в неделю` средний показатель составляет `1 382 человека`. На протяжении первой недели `активность была минимальна` и составляла до 230 человек в день. \n",
    "\n",
    "После чего (с 14 октября 2019 года) средняя посещаемость `начала заметно расти` и достигла своего пика на 43 неделе, когда средняя посещаемость составляла 275-350 человек в день и более 1 500 в течение всей недели.\n",
    "\n",
    "На `последней неделе` наблюдался `небольшой спад посещаемости` чуть больше 1 400 человек в неделю.\n",
    "\n",
    "**Событийная статистика**. \n",
    "\n",
    "В среднем пользователями совершается `2 650` событий в день и `18 549` в неделю.\n",
    "\n",
    "Количество событий росло с течением времени - каждую неделю показатель становился выше и достиг своего максимума на `43 неделе` (21-27 октября 2019г.). Количество событий на этой неделе составило `более 20 000`.\n",
    "\n",
    "После 43 недели (c 28.10.2019) наблюдалось небольшое падение.\n",
    "\n",
    "\n",
    "Среднее количество `событий на пользователя` - `17` действий.\n",
    "\n",
    "Cамое часто из них `tips_show` (увидел рекомендованные объявления) - в среднем `14 событий` на пользователя. Это событие самое частое потому, что показывается всем пользователям автоматически.\n",
    "\n",
    "Другие частые события по количеству среди пользователей:\n",
    "\n",
    "- `photos_show` (просмотр фотографий в объявлении) - `9 событий` на пользователя;\n",
    "\n",
    "\n",
    "- `advert_open` (открытие карточки объявления) - в среднем `8 событий`;\n",
    "\n",
    "\n",
    "- `contacts_show`\t(посмотрел контакты) - `5 событий`.\n",
    "\n",
    "Последнее действие (contacts_show) является целевым. Была расчитана доля переходов к этому событию - 16.38.\n",
    "\n",
    "Это говорит о тому, что `16.38%` от общего числа событий составляет `\"просмотр контактов\"`.\n",
    "\n",
    "Исследование событий по **источнику установки приложения** не выявили координальных различий между пользователями.\n",
    "\n",
    "`В среднем `на каждого пользователя, установившего приложение из `google и yandex`, приходится `18` событий.\n",
    "\n",
    "На пользователей из других источников (`other`) - `16` событий.\n",
    "\n",
    "Средние показатели у источников `google` и `yandex` часто повторяются, хотя количество людей в этих грппах разное - `1 129` и `1 934` соответственно.\n",
    "\n",
    "Среднее распределение событий по пользователям источника `other` (1 230 человек) `немного ниже`, чем у первых двух.\n",
    "\n",
    "Самые `частые события`, согласно среднему распределению на пользователя:\n",
    "\n",
    "- `tips_show`\t- увидел рекомендованные объявления (google и yandex - 15, other - 12)\n",
    "\n",
    "\n",
    "- `photos_show` - просмотр фотографий (google и yandex - 10, other - 8);\n",
    "\n",
    "\n",
    "- `advert_open` - открытие карточки объявления (google - 8, yandex - 9, other - 7);\n",
    "\n",
    "\n",
    "- `search_1` - поиск по приложению (google и yandex - 5, other - 4).\n"
   ]
  },
  {
   "cell_type": "markdown",
   "metadata": {},
   "source": [
    "## Пользовательские профили"
   ]
  },
  {
   "cell_type": "markdown",
   "metadata": {},
   "source": [
    "### Создание сессий\n",
    "\n",
    "Введем id-сесиий. Это позволит нам в дальнейшем посчитать время, которое каждый пользователь провел в приложении.\n",
    "\n",
    "Сделаем это в несколько этапов:\n",
    "\n",
    "- `расчитаем таймлаг` между соседними действиями у каждого пользователя. \n",
    "\n",
    "Это позволит нам определить, сколько времени могло длиться каждое событие до перехода к следующему. Также благодаря этому показателю, мы поймем, какое время можно считать порогом для завершения сессии.\n",
    "\n",
    "- `присвоим каждому событию номер уникальной сессии`, в которой оно произошло."
   ]
  },
  {
   "cell_type": "code",
   "execution_count": 24,
   "metadata": {},
   "outputs": [
    {
     "data": {
      "text/html": [
       "<div>\n",
       "<style scoped>\n",
       "    .dataframe tbody tr th:only-of-type {\n",
       "        vertical-align: middle;\n",
       "    }\n",
       "\n",
       "    .dataframe tbody tr th {\n",
       "        vertical-align: top;\n",
       "    }\n",
       "\n",
       "    .dataframe thead th {\n",
       "        text-align: right;\n",
       "    }\n",
       "</style>\n",
       "<table border=\"1\" class=\"dataframe\">\n",
       "  <thead>\n",
       "    <tr style=\"text-align: right;\">\n",
       "      <th></th>\n",
       "      <th>event_time</th>\n",
       "      <th>event_name</th>\n",
       "      <th>user_id</th>\n",
       "      <th>dt</th>\n",
       "      <th>week</th>\n",
       "      <th>source</th>\n",
       "      <th>time_lag</th>\n",
       "    </tr>\n",
       "  </thead>\n",
       "  <tbody>\n",
       "    <tr>\n",
       "      <th>0</th>\n",
       "      <td>2019-10-07 00:00:00.431357</td>\n",
       "      <td>advert_open</td>\n",
       "      <td>020292ab-89bc-4156-9acf-68bc2783f894</td>\n",
       "      <td>2019-10-07</td>\n",
       "      <td>41</td>\n",
       "      <td>other</td>\n",
       "      <td>NaN</td>\n",
       "    </tr>\n",
       "    <tr>\n",
       "      <th>1</th>\n",
       "      <td>2019-10-07 00:00:01.236320</td>\n",
       "      <td>tips_show</td>\n",
       "      <td>020292ab-89bc-4156-9acf-68bc2783f894</td>\n",
       "      <td>2019-10-07</td>\n",
       "      <td>41</td>\n",
       "      <td>other</td>\n",
       "      <td>0.80</td>\n",
       "    </tr>\n",
       "    <tr>\n",
       "      <th>2</th>\n",
       "      <td>2019-10-07 00:00:02.245341</td>\n",
       "      <td>tips_show</td>\n",
       "      <td>cf7eda61-9349-469f-ac27-e5b6f5ec475c</td>\n",
       "      <td>2019-10-07</td>\n",
       "      <td>41</td>\n",
       "      <td>yandex</td>\n",
       "      <td>NaN</td>\n",
       "    </tr>\n",
       "    <tr>\n",
       "      <th>3</th>\n",
       "      <td>2019-10-07 00:00:07.039334</td>\n",
       "      <td>tips_show</td>\n",
       "      <td>020292ab-89bc-4156-9acf-68bc2783f894</td>\n",
       "      <td>2019-10-07</td>\n",
       "      <td>41</td>\n",
       "      <td>other</td>\n",
       "      <td>5.80</td>\n",
       "    </tr>\n",
       "    <tr>\n",
       "      <th>4</th>\n",
       "      <td>2019-10-07 00:00:56.319813</td>\n",
       "      <td>advert_open</td>\n",
       "      <td>cf7eda61-9349-469f-ac27-e5b6f5ec475c</td>\n",
       "      <td>2019-10-07</td>\n",
       "      <td>41</td>\n",
       "      <td>yandex</td>\n",
       "      <td>54.07</td>\n",
       "    </tr>\n",
       "  </tbody>\n",
       "</table>\n",
       "</div>"
      ],
      "text/plain": [
       "                  event_time   event_name  \\\n",
       "0 2019-10-07 00:00:00.431357  advert_open   \n",
       "1 2019-10-07 00:00:01.236320    tips_show   \n",
       "2 2019-10-07 00:00:02.245341    tips_show   \n",
       "3 2019-10-07 00:00:07.039334    tips_show   \n",
       "4 2019-10-07 00:00:56.319813  advert_open   \n",
       "\n",
       "                                user_id          dt  week  source  time_lag  \n",
       "0  020292ab-89bc-4156-9acf-68bc2783f894  2019-10-07    41   other       NaN  \n",
       "1  020292ab-89bc-4156-9acf-68bc2783f894  2019-10-07    41   other      0.80  \n",
       "2  cf7eda61-9349-469f-ac27-e5b6f5ec475c  2019-10-07    41  yandex       NaN  \n",
       "3  020292ab-89bc-4156-9acf-68bc2783f894  2019-10-07    41   other      5.80  \n",
       "4  cf7eda61-9349-469f-ac27-e5b6f5ec475c  2019-10-07    41  yandex     54.07  "
      ]
     },
     "execution_count": 24,
     "metadata": {},
     "output_type": "execute_result"
    }
   ],
   "source": [
    "#расчитаем разницу во времени между текущим и последующим событием у каждого пользователя\n",
    "\n",
    "for name in dataset['user_id'].unique():\n",
    "    user = dataset[dataset['user_id'] == name].sort_values(by = 'event_time')\n",
    "    a = 1\n",
    "    for row in user.index:                   #текущий индекс\n",
    "        for next_row in user.index[a: a+1]:  #следующий индекс\n",
    "            \n",
    "            delta = user.loc[next_row, 'event_time'] - user.loc[row, 'event_time']\n",
    "            dataset.loc[next_row, 'time_lag'] = round(delta.total_seconds(), 2)\n",
    "            a += 1\n",
    "\n",
    "            \n",
    "dataset.head()"
   ]
  },
  {
   "cell_type": "markdown",
   "metadata": {},
   "source": [
    "Возьмем `для примера первого пользователя`и посмотрим распределение таймлагов."
   ]
  },
  {
   "cell_type": "code",
   "execution_count": 25,
   "metadata": {},
   "outputs": [
    {
     "data": {
      "text/html": [
       "<div>\n",
       "<style scoped>\n",
       "    .dataframe tbody tr th:only-of-type {\n",
       "        vertical-align: middle;\n",
       "    }\n",
       "\n",
       "    .dataframe tbody tr th {\n",
       "        vertical-align: top;\n",
       "    }\n",
       "\n",
       "    .dataframe thead th {\n",
       "        text-align: right;\n",
       "    }\n",
       "</style>\n",
       "<table border=\"1\" class=\"dataframe\">\n",
       "  <thead>\n",
       "    <tr style=\"text-align: right;\">\n",
       "      <th></th>\n",
       "      <th>event_time</th>\n",
       "      <th>event_name</th>\n",
       "      <th>user_id</th>\n",
       "      <th>dt</th>\n",
       "      <th>week</th>\n",
       "      <th>source</th>\n",
       "      <th>time_lag</th>\n",
       "    </tr>\n",
       "  </thead>\n",
       "  <tbody>\n",
       "    <tr>\n",
       "      <th>0</th>\n",
       "      <td>2019-10-07 00:00:00.431357</td>\n",
       "      <td>advert_open</td>\n",
       "      <td>020292ab-89bc-4156-9acf-68bc2783f894</td>\n",
       "      <td>2019-10-07</td>\n",
       "      <td>41</td>\n",
       "      <td>other</td>\n",
       "      <td>NaN</td>\n",
       "    </tr>\n",
       "    <tr>\n",
       "      <th>1</th>\n",
       "      <td>2019-10-07 00:00:01.236320</td>\n",
       "      <td>tips_show</td>\n",
       "      <td>020292ab-89bc-4156-9acf-68bc2783f894</td>\n",
       "      <td>2019-10-07</td>\n",
       "      <td>41</td>\n",
       "      <td>other</td>\n",
       "      <td>0.80</td>\n",
       "    </tr>\n",
       "    <tr>\n",
       "      <th>3</th>\n",
       "      <td>2019-10-07 00:00:07.039334</td>\n",
       "      <td>tips_show</td>\n",
       "      <td>020292ab-89bc-4156-9acf-68bc2783f894</td>\n",
       "      <td>2019-10-07</td>\n",
       "      <td>41</td>\n",
       "      <td>other</td>\n",
       "      <td>5.80</td>\n",
       "    </tr>\n",
       "    <tr>\n",
       "      <th>6</th>\n",
       "      <td>2019-10-07 00:01:27.770232</td>\n",
       "      <td>advert_open</td>\n",
       "      <td>020292ab-89bc-4156-9acf-68bc2783f894</td>\n",
       "      <td>2019-10-07</td>\n",
       "      <td>41</td>\n",
       "      <td>other</td>\n",
       "      <td>80.73</td>\n",
       "    </tr>\n",
       "    <tr>\n",
       "      <th>7</th>\n",
       "      <td>2019-10-07 00:01:34.804591</td>\n",
       "      <td>tips_show</td>\n",
       "      <td>020292ab-89bc-4156-9acf-68bc2783f894</td>\n",
       "      <td>2019-10-07</td>\n",
       "      <td>41</td>\n",
       "      <td>other</td>\n",
       "      <td>7.03</td>\n",
       "    </tr>\n",
       "  </tbody>\n",
       "</table>\n",
       "</div>"
      ],
      "text/plain": [
       "                  event_time   event_name  \\\n",
       "0 2019-10-07 00:00:00.431357  advert_open   \n",
       "1 2019-10-07 00:00:01.236320    tips_show   \n",
       "3 2019-10-07 00:00:07.039334    tips_show   \n",
       "6 2019-10-07 00:01:27.770232  advert_open   \n",
       "7 2019-10-07 00:01:34.804591    tips_show   \n",
       "\n",
       "                                user_id          dt  week source  time_lag  \n",
       "0  020292ab-89bc-4156-9acf-68bc2783f894  2019-10-07    41  other       NaN  \n",
       "1  020292ab-89bc-4156-9acf-68bc2783f894  2019-10-07    41  other      0.80  \n",
       "3  020292ab-89bc-4156-9acf-68bc2783f894  2019-10-07    41  other      5.80  \n",
       "6  020292ab-89bc-4156-9acf-68bc2783f894  2019-10-07    41  other     80.73  \n",
       "7  020292ab-89bc-4156-9acf-68bc2783f894  2019-10-07    41  other      7.03  "
      ]
     },
     "execution_count": 25,
     "metadata": {},
     "output_type": "execute_result"
    }
   ],
   "source": [
    "dataset[dataset['user_id'] == '020292ab-89bc-4156-9acf-68bc2783f894'].sort_values(by = 'event_time').head(5)"
   ]
  },
  {
   "cell_type": "code",
   "execution_count": 26,
   "metadata": {},
   "outputs": [
    {
     "data": {
      "image/png": "[encoded data removed]",
      "text/plain": [
       "<Figure size 1008x288 with 1 Axes>"
      ]
     },
     "metadata": {},
     "output_type": "display_data"
    }
   ],
   "source": [
    "#визуализируем распределение таймлагов\n",
    "\n",
    "plt.figure(figsize = (14, 4))\n",
    "\n",
    "dataset['time_lag'].hist(bins = 50)\n",
    "plt.show()       "
   ]
  },
  {
   "cell_type": "markdown",
   "metadata": {},
   "source": [
    "Гистограмма не наглядная. `Сделаем срез по оси абцисс`. \n",
    "\n",
    "Предположем, что разница между действиями до 200 секунд (около 3 минут) - вполне нормальная: пользователь мог долго просматривать фотографии объявления. \n",
    "\n",
    "Ограничим график до 1000 секунд (около 16 минут)."
   ]
  },
  {
   "cell_type": "code",
   "execution_count": 27,
   "metadata": {},
   "outputs": [
    {
     "data": {
      "image/png": "[encoded data removed]",
      "text/plain": [
       "<Figure size 1008x288 with 1 Axes>"
      ]
     },
     "metadata": {},
     "output_type": "display_data"
    }
   ],
   "source": [
    "plt.figure(figsize = (14, 4))\n",
    "\n",
    "dataset['time_lag'].hist(bins = 50, range = (200, 1000))\n",
    "plt.show() "
   ]
  },
  {
   "cell_type": "markdown",
   "metadata": {},
   "source": [
    "Когда люди активно проводят время в приложение, длительность между событиями у них +- похожа. По графику мы видим, что обычная длительность между событиями - до 350 секунд.\n",
    "\n",
    "После этого значения длительность между событиями становится все более различной у пользователей. Скажем, пользователь мог просматривать фотографии, думать и решать, параллельно искать информацию о товаре с компьютера. Мало вероятно, что все эти действия пользователь мог совершать более чем 10 минут и не сделать ни одного действия в приложении.\n",
    "\n",
    "Определим наш `порог` для завершения сессии в `600 секунд` (10 минут), как психологически удобную границу. После этого значения уже наблюдается малое количество событий, поэтому эти случаи скорее похожи на другие сессии. \n",
    "\n",
    "Теперь мы можем **присвоить** каждому событию **номер сессии**. \n",
    "\n",
    "Сделаем это в цикле: у каждого пользователя сравним значение таймлага с пороговым (600 секунд). Если оно превышает данное значение, то будем считать, что сессия завершилась, и для последующего события номер сессии увеличим на единицу. Когда перейдем к следующему пользователю, также увеличим номер сессии на единицу."
   ]
  },
  {
   "cell_type": "code",
   "execution_count": 28,
   "metadata": {},
   "outputs": [],
   "source": [
    "#заполним пропуски у таймлагов первых событий у каждого пользователя\n",
    "\n",
    "dataset['time_lag'] = dataset['time_lag'].fillna(0)"
   ]
  },
  {
   "cell_type": "code",
   "execution_count": 29,
   "metadata": {},
   "outputs": [
    {
     "data": {
      "text/html": [
       "<div>\n",
       "<style scoped>\n",
       "    .dataframe tbody tr th:only-of-type {\n",
       "        vertical-align: middle;\n",
       "    }\n",
       "\n",
       "    .dataframe tbody tr th {\n",
       "        vertical-align: top;\n",
       "    }\n",
       "\n",
       "    .dataframe thead th {\n",
       "        text-align: right;\n",
       "    }\n",
       "</style>\n",
       "<table border=\"1\" class=\"dataframe\">\n",
       "  <thead>\n",
       "    <tr style=\"text-align: right;\">\n",
       "      <th></th>\n",
       "      <th>event_time</th>\n",
       "      <th>event_name</th>\n",
       "      <th>user_id</th>\n",
       "      <th>dt</th>\n",
       "      <th>week</th>\n",
       "      <th>source</th>\n",
       "      <th>time_lag</th>\n",
       "      <th>id_session</th>\n",
       "    </tr>\n",
       "  </thead>\n",
       "  <tbody>\n",
       "    <tr>\n",
       "      <th>0</th>\n",
       "      <td>2019-10-07 00:00:00.431357</td>\n",
       "      <td>advert_open</td>\n",
       "      <td>020292ab-89bc-4156-9acf-68bc2783f894</td>\n",
       "      <td>2019-10-07</td>\n",
       "      <td>41</td>\n",
       "      <td>other</td>\n",
       "      <td>0.00</td>\n",
       "      <td>1.0</td>\n",
       "    </tr>\n",
       "    <tr>\n",
       "      <th>1</th>\n",
       "      <td>2019-10-07 00:00:01.236320</td>\n",
       "      <td>tips_show</td>\n",
       "      <td>020292ab-89bc-4156-9acf-68bc2783f894</td>\n",
       "      <td>2019-10-07</td>\n",
       "      <td>41</td>\n",
       "      <td>other</td>\n",
       "      <td>0.80</td>\n",
       "      <td>1.0</td>\n",
       "    </tr>\n",
       "    <tr>\n",
       "      <th>2</th>\n",
       "      <td>2019-10-07 00:00:02.245341</td>\n",
       "      <td>tips_show</td>\n",
       "      <td>cf7eda61-9349-469f-ac27-e5b6f5ec475c</td>\n",
       "      <td>2019-10-07</td>\n",
       "      <td>41</td>\n",
       "      <td>yandex</td>\n",
       "      <td>0.00</td>\n",
       "      <td>2.0</td>\n",
       "    </tr>\n",
       "    <tr>\n",
       "      <th>3</th>\n",
       "      <td>2019-10-07 00:00:07.039334</td>\n",
       "      <td>tips_show</td>\n",
       "      <td>020292ab-89bc-4156-9acf-68bc2783f894</td>\n",
       "      <td>2019-10-07</td>\n",
       "      <td>41</td>\n",
       "      <td>other</td>\n",
       "      <td>5.80</td>\n",
       "      <td>1.0</td>\n",
       "    </tr>\n",
       "    <tr>\n",
       "      <th>4</th>\n",
       "      <td>2019-10-07 00:00:56.319813</td>\n",
       "      <td>advert_open</td>\n",
       "      <td>cf7eda61-9349-469f-ac27-e5b6f5ec475c</td>\n",
       "      <td>2019-10-07</td>\n",
       "      <td>41</td>\n",
       "      <td>yandex</td>\n",
       "      <td>54.07</td>\n",
       "      <td>2.0</td>\n",
       "    </tr>\n",
       "  </tbody>\n",
       "</table>\n",
       "</div>"
      ],
      "text/plain": [
       "                  event_time   event_name  \\\n",
       "0 2019-10-07 00:00:00.431357  advert_open   \n",
       "1 2019-10-07 00:00:01.236320    tips_show   \n",
       "2 2019-10-07 00:00:02.245341    tips_show   \n",
       "3 2019-10-07 00:00:07.039334    tips_show   \n",
       "4 2019-10-07 00:00:56.319813  advert_open   \n",
       "\n",
       "                                user_id          dt  week  source  time_lag  \\\n",
       "0  020292ab-89bc-4156-9acf-68bc2783f894  2019-10-07    41   other      0.00   \n",
       "1  020292ab-89bc-4156-9acf-68bc2783f894  2019-10-07    41   other      0.80   \n",
       "2  cf7eda61-9349-469f-ac27-e5b6f5ec475c  2019-10-07    41  yandex      0.00   \n",
       "3  020292ab-89bc-4156-9acf-68bc2783f894  2019-10-07    41   other      5.80   \n",
       "4  cf7eda61-9349-469f-ac27-e5b6f5ec475c  2019-10-07    41  yandex     54.07   \n",
       "\n",
       "   id_session  \n",
       "0         1.0  \n",
       "1         1.0  \n",
       "2         2.0  \n",
       "3         1.0  \n",
       "4         2.0  "
      ]
     },
     "execution_count": 29,
     "metadata": {},
     "output_type": "execute_result"
    }
   ],
   "source": [
    "#создадим столбец с id-сессий\n",
    "\n",
    "n = 1 \n",
    "\n",
    "for name in dataset['user_id'].unique():\n",
    "    user = dataset[dataset['user_id'] == name].sort_values(by = 'event_time')\n",
    "    \n",
    "    for row in user.index:\n",
    "        if user.loc[row, 'time_lag'] <= 600:\n",
    "            dataset.loc[row, 'id_session'] = n\n",
    "        else:\n",
    "            n+=1\n",
    "            dataset.loc[row, 'id_session'] = n\n",
    "    n +=1\n",
    "    \n",
    "dataset.head()"
   ]
  },
  {
   "cell_type": "markdown",
   "metadata": {},
   "source": [
    "`Исправим максимальные данные`.\n",
    "\n",
    "У каждой сессии есть значение таймлага, которое превышает 600 секунд. Это был наш порог для расчета, а значит каждая сессия должна начинаться с нулевого значения."
   ]
  },
  {
   "cell_type": "code",
   "execution_count": 30,
   "metadata": {},
   "outputs": [
    {
     "data": {
      "text/html": [
       "<div>\n",
       "<style scoped>\n",
       "    .dataframe tbody tr th:only-of-type {\n",
       "        vertical-align: middle;\n",
       "    }\n",
       "\n",
       "    .dataframe tbody tr th {\n",
       "        vertical-align: top;\n",
       "    }\n",
       "\n",
       "    .dataframe thead th {\n",
       "        text-align: right;\n",
       "    }\n",
       "</style>\n",
       "<table border=\"1\" class=\"dataframe\">\n",
       "  <thead>\n",
       "    <tr style=\"text-align: right;\">\n",
       "      <th></th>\n",
       "      <th>event_time</th>\n",
       "      <th>event_name</th>\n",
       "      <th>user_id</th>\n",
       "      <th>dt</th>\n",
       "      <th>week</th>\n",
       "      <th>source</th>\n",
       "      <th>time_lag</th>\n",
       "      <th>id_session</th>\n",
       "    </tr>\n",
       "  </thead>\n",
       "  <tbody>\n",
       "    <tr>\n",
       "      <th>0</th>\n",
       "      <td>2019-10-07 00:00:00.431357</td>\n",
       "      <td>advert_open</td>\n",
       "      <td>020292ab-89bc-4156-9acf-68bc2783f894</td>\n",
       "      <td>2019-10-07</td>\n",
       "      <td>41</td>\n",
       "      <td>other</td>\n",
       "      <td>0.00</td>\n",
       "      <td>1.0</td>\n",
       "    </tr>\n",
       "    <tr>\n",
       "      <th>1</th>\n",
       "      <td>2019-10-07 00:00:01.236320</td>\n",
       "      <td>tips_show</td>\n",
       "      <td>020292ab-89bc-4156-9acf-68bc2783f894</td>\n",
       "      <td>2019-10-07</td>\n",
       "      <td>41</td>\n",
       "      <td>other</td>\n",
       "      <td>0.80</td>\n",
       "      <td>1.0</td>\n",
       "    </tr>\n",
       "    <tr>\n",
       "      <th>2</th>\n",
       "      <td>2019-10-07 00:00:02.245341</td>\n",
       "      <td>tips_show</td>\n",
       "      <td>cf7eda61-9349-469f-ac27-e5b6f5ec475c</td>\n",
       "      <td>2019-10-07</td>\n",
       "      <td>41</td>\n",
       "      <td>yandex</td>\n",
       "      <td>0.00</td>\n",
       "      <td>2.0</td>\n",
       "    </tr>\n",
       "    <tr>\n",
       "      <th>3</th>\n",
       "      <td>2019-10-07 00:00:07.039334</td>\n",
       "      <td>tips_show</td>\n",
       "      <td>020292ab-89bc-4156-9acf-68bc2783f894</td>\n",
       "      <td>2019-10-07</td>\n",
       "      <td>41</td>\n",
       "      <td>other</td>\n",
       "      <td>5.80</td>\n",
       "      <td>1.0</td>\n",
       "    </tr>\n",
       "    <tr>\n",
       "      <th>4</th>\n",
       "      <td>2019-10-07 00:00:56.319813</td>\n",
       "      <td>advert_open</td>\n",
       "      <td>cf7eda61-9349-469f-ac27-e5b6f5ec475c</td>\n",
       "      <td>2019-10-07</td>\n",
       "      <td>41</td>\n",
       "      <td>yandex</td>\n",
       "      <td>54.07</td>\n",
       "      <td>2.0</td>\n",
       "    </tr>\n",
       "  </tbody>\n",
       "</table>\n",
       "</div>"
      ],
      "text/plain": [
       "                  event_time   event_name  \\\n",
       "0 2019-10-07 00:00:00.431357  advert_open   \n",
       "1 2019-10-07 00:00:01.236320    tips_show   \n",
       "2 2019-10-07 00:00:02.245341    tips_show   \n",
       "3 2019-10-07 00:00:07.039334    tips_show   \n",
       "4 2019-10-07 00:00:56.319813  advert_open   \n",
       "\n",
       "                                user_id          dt  week  source  time_lag  \\\n",
       "0  020292ab-89bc-4156-9acf-68bc2783f894  2019-10-07    41   other      0.00   \n",
       "1  020292ab-89bc-4156-9acf-68bc2783f894  2019-10-07    41   other      0.80   \n",
       "2  cf7eda61-9349-469f-ac27-e5b6f5ec475c  2019-10-07    41  yandex      0.00   \n",
       "3  020292ab-89bc-4156-9acf-68bc2783f894  2019-10-07    41   other      5.80   \n",
       "4  cf7eda61-9349-469f-ac27-e5b6f5ec475c  2019-10-07    41  yandex     54.07   \n",
       "\n",
       "   id_session  \n",
       "0         1.0  \n",
       "1         1.0  \n",
       "2         2.0  \n",
       "3         1.0  \n",
       "4         2.0  "
      ]
     },
     "execution_count": 30,
     "metadata": {},
     "output_type": "execute_result"
    }
   ],
   "source": [
    "for session in dataset['id_session'].unique():\n",
    "    group = dataset[dataset['id_session'] == session]\n",
    "    \n",
    "    for row in group.index:         \n",
    "        if group.loc[row, 'time_lag'] > 600:        \n",
    "            dataset.loc[row, 'time_lag'] = 0\n",
    "        else:\n",
    "            continue\n",
    "            \n",
    "dataset.head()"
   ]
  },
  {
   "cell_type": "markdown",
   "metadata": {},
   "source": [
    "**Вывод**\n",
    "\n",
    "У каждого пользователя мы расчитали временную разницу между соседними событиями и определили время между сессиями: 10 минут бездействия - показатель, что `пользователь`, скорее всего, `вышел из приложения`.\n",
    "\n",
    "После чего для каждого события мы определили `номер сессии`, во время которой оно произошло. Информацию о сессиях хранит колонка 'session', а время между действиями - 'time_lag'.\n"
   ]
  },
  {
   "cell_type": "markdown",
   "metadata": {},
   "source": [
    "### Пользовательские профили\n",
    "\n",
    "В профилях пользователей отразим признаки:\n",
    "\n",
    "- `дату первого посещения` приложения;\n",
    "\n",
    "\n",
    "- `источник`, с которого пользователь установил приложение;\n",
    "\n",
    "\n",
    "- `количество дней`, на протяжении которых пользователей пользовался приложением (уникальные дни);\n",
    "\n",
    "\n",
    "- `время, проведенное в приложении` (на основе суммы длительности всех сессий);\n",
    "\n",
    "\n",
    "- количество `сессий`;\n",
    "\n",
    "\n",
    "- среднее количество `событий в одной сессии`;\n",
    "\n",
    "\n",
    "- `конверсия` в целевое действие (доля события \"посмотрел контакты\" от общего числа событий).\n"
   ]
  },
  {
   "cell_type": "code",
   "execution_count": 31,
   "metadata": {},
   "outputs": [],
   "source": [
    "def get_profiles(dataset):\n",
    "    \n",
    "    \"\"\"Эта функция создает профили пользователей.\n",
    "    \n",
    "    На вход функция принимает исходную таблицу событий.\n",
    "    Ее итогом становятся профили пользователей, включающие:\n",
    "    - id-пользователя; \n",
    "    - первый день посещения приложения;\n",
    "    - номер недели, в которую первое посещение совершилось;\n",
    "    - источник установки;\n",
    "    - время, проведенное в приложении (в секундах);\n",
    "    - количество дней, в течение которых человек пользовался приложением;\n",
    "    - количество совершенных событий;\n",
    "    - количество сессий;\n",
    "    - среднее количество действий в сессию;\n",
    "    - конверсия в целевое действие (просмотр контактов).\n",
    "    \"\"\"\n",
    "    \n",
    "    profiles = (                                              \n",
    "        dataset.groupby('user_id')\n",
    "        .agg(\n",
    "            {'event_time': ['min', 'max'],\n",
    "             'source': 'first',\n",
    "             'time_lag' : 'sum',\n",
    "             'id_session' : 'nunique',\n",
    "             'event_name' : 'count'\n",
    "            }\n",
    "        )\n",
    "        .reset_index()\n",
    "    )\n",
    "    # переименуем столбцы - так мы избавимся от мультииндекса\n",
    "    profiles.columns = ['user_id', 'first_ts', 'last_ts', 'source','spent_time', 'sessions', 'events']\n",
    "    \n",
    "    #добавим неделю, в которую совершилось первое событие\n",
    "    profiles['week'] = profiles['first_ts'].dt.week\n",
    "    \n",
    "    #добавляем количество дней\n",
    "    profiles['days'] = 1 + (profiles['last_ts'] - profiles['first_ts']).dt.days\n",
    "    \n",
    "    #считаем среднее количество действий в сессию\n",
    "    profiles['events_in_session'] = round(profiles['events'] / profiles['sessions'])\n",
    "\n",
    "    #считаем конверсию в целевое действие\n",
    "    for row in profiles.index:\n",
    "        name = profiles.loc[row, 'user_id']\n",
    "        goal = (\n",
    "            dataset[(dataset['user_id'] == name) & (dataset['event_name'] == 'contacts_show')]['event_name']\n",
    "            .count()\n",
    "        )\n",
    "        if goal == 0:\n",
    "            profiles.loc[row, 'conversion'] = 0\n",
    "        else:\n",
    "            profiles.loc[row, 'conversion'] = round(goal / profiles.loc[row, 'events'], 2)\n",
    "    \n",
    "    #удаляем столбец с последней датой\n",
    "    profiles = profiles.drop(['last_ts'], axis = 1)\n",
    "    \n",
    "\n",
    "    \n",
    "    #изменяем порядок столбцов для удобства\n",
    "    profiles = profiles[\n",
    "                    ['user_id', 'first_ts', 'week', 'source', \n",
    "                     'spent_time', 'days', 'events', 'sessions', \n",
    "                     'events_in_session', 'conversion']\n",
    "    ]\n",
    "    return profiles"
   ]
  },
  {
   "cell_type": "code",
   "execution_count": 32,
   "metadata": {},
   "outputs": [
    {
     "name": "stderr",
     "output_type": "stream",
     "text": [
      "/tmp/ipykernel_117/304583111.py:35: FutureWarning: Series.dt.weekofyear and Series.dt.week have been deprecated.  Please use Series.dt.isocalendar().week instead.\n",
      "  profiles['week'] = profiles['first_ts'].dt.week\n"
     ]
    },
    {
     "data": {
      "text/html": [
       "<div>\n",
       "<style scoped>\n",
       "    .dataframe tbody tr th:only-of-type {\n",
       "        vertical-align: middle;\n",
       "    }\n",
       "\n",
       "    .dataframe tbody tr th {\n",
       "        vertical-align: top;\n",
       "    }\n",
       "\n",
       "    .dataframe thead th {\n",
       "        text-align: right;\n",
       "    }\n",
       "</style>\n",
       "<table border=\"1\" class=\"dataframe\">\n",
       "  <thead>\n",
       "    <tr style=\"text-align: right;\">\n",
       "      <th></th>\n",
       "      <th>user_id</th>\n",
       "      <th>first_ts</th>\n",
       "      <th>week</th>\n",
       "      <th>source</th>\n",
       "      <th>spent_time</th>\n",
       "      <th>days</th>\n",
       "      <th>events</th>\n",
       "      <th>sessions</th>\n",
       "      <th>events_in_session</th>\n",
       "      <th>conversion</th>\n",
       "    </tr>\n",
       "  </thead>\n",
       "  <tbody>\n",
       "    <tr>\n",
       "      <th>0</th>\n",
       "      <td>0001b1d5-b74a-4cbf-aeb0-7df5947bf349</td>\n",
       "      <td>2019-10-07 13:39:45.989359</td>\n",
       "      <td>41</td>\n",
       "      <td>other</td>\n",
       "      <td>2760.53</td>\n",
       "      <td>15</td>\n",
       "      <td>35</td>\n",
       "      <td>4</td>\n",
       "      <td>9.0</td>\n",
       "      <td>0.00</td>\n",
       "    </tr>\n",
       "    <tr>\n",
       "      <th>1</th>\n",
       "      <td>00157779-810c-4498-9e05-a1e9e3cedf93</td>\n",
       "      <td>2019-10-19 21:34:33.849769</td>\n",
       "      <td>42</td>\n",
       "      <td>yandex</td>\n",
       "      <td>7003.27</td>\n",
       "      <td>15</td>\n",
       "      <td>71</td>\n",
       "      <td>10</td>\n",
       "      <td>7.0</td>\n",
       "      <td>0.15</td>\n",
       "    </tr>\n",
       "    <tr>\n",
       "      <th>2</th>\n",
       "      <td>00463033-5717-4bf1-91b4-09183923b9df</td>\n",
       "      <td>2019-11-01 13:54:35.385028</td>\n",
       "      <td>44</td>\n",
       "      <td>yandex</td>\n",
       "      <td>1482.47</td>\n",
       "      <td>1</td>\n",
       "      <td>10</td>\n",
       "      <td>1</td>\n",
       "      <td>10.0</td>\n",
       "      <td>0.00</td>\n",
       "    </tr>\n",
       "    <tr>\n",
       "      <th>3</th>\n",
       "      <td>004690c3-5a84-4bb7-a8af-e0c8f8fca64e</td>\n",
       "      <td>2019-10-18 22:14:05.555052</td>\n",
       "      <td>42</td>\n",
       "      <td>google</td>\n",
       "      <td>2014.10</td>\n",
       "      <td>13</td>\n",
       "      <td>32</td>\n",
       "      <td>10</td>\n",
       "      <td>3.0</td>\n",
       "      <td>0.00</td>\n",
       "    </tr>\n",
       "    <tr>\n",
       "      <th>4</th>\n",
       "      <td>00551e79-152e-4441-9cf7-565d7eb04090</td>\n",
       "      <td>2019-10-25 16:44:41.263364</td>\n",
       "      <td>43</td>\n",
       "      <td>yandex</td>\n",
       "      <td>559.65</td>\n",
       "      <td>4</td>\n",
       "      <td>8</td>\n",
       "      <td>3</td>\n",
       "      <td>3.0</td>\n",
       "      <td>0.38</td>\n",
       "    </tr>\n",
       "  </tbody>\n",
       "</table>\n",
       "</div>"
      ],
      "text/plain": [
       "                                user_id                   first_ts  week  \\\n",
       "0  0001b1d5-b74a-4cbf-aeb0-7df5947bf349 2019-10-07 13:39:45.989359    41   \n",
       "1  00157779-810c-4498-9e05-a1e9e3cedf93 2019-10-19 21:34:33.849769    42   \n",
       "2  00463033-5717-4bf1-91b4-09183923b9df 2019-11-01 13:54:35.385028    44   \n",
       "3  004690c3-5a84-4bb7-a8af-e0c8f8fca64e 2019-10-18 22:14:05.555052    42   \n",
       "4  00551e79-152e-4441-9cf7-565d7eb04090 2019-10-25 16:44:41.263364    43   \n",
       "\n",
       "   source  spent_time  days  events  sessions  events_in_session  conversion  \n",
       "0   other     2760.53    15      35         4                9.0        0.00  \n",
       "1  yandex     7003.27    15      71        10                7.0        0.15  \n",
       "2  yandex     1482.47     1      10         1               10.0        0.00  \n",
       "3  google     2014.10    13      32        10                3.0        0.00  \n",
       "4  yandex      559.65     4       8         3                3.0        0.38  "
      ]
     },
     "execution_count": 32,
     "metadata": {},
     "output_type": "execute_result"
    }
   ],
   "source": [
    "profiles = get_profiles(dataset)\n",
    "\n",
    "profiles.head()"
   ]
  },
  {
   "cell_type": "markdown",
   "metadata": {},
   "source": [
    "**Вывод**\n",
    "\n",
    "На данном этапе были сделаны:\n",
    "\n",
    "- `расчет сессий` для каждого пользователя;\n",
    "\n",
    "\n",
    "- подсчитана `длительность` между ближайшими `событиями`;\n",
    "\n",
    "\n",
    "- созданы `профили` пользователей.\n",
    "\n",
    "**В структуре профилей** сохранены такие признаки, как:\n",
    "\n",
    "- `user_id` - id-пользователя; \n",
    "\n",
    "\n",
    "- `first_ts` - дата и время первого посещения;\n",
    "\n",
    "\n",
    "- `week` - неделя, первого посещения;\n",
    "\n",
    "\n",
    "- `source` - источник, с которого пользователь установил приложение;\n",
    "\n",
    "\n",
    "- `spent_time` - время, проведенное в приложении (в секундах);\n",
    "\n",
    "\n",
    "- `days` - количество дней, в течение которых человек пользовался приложением;\n",
    "\n",
    "\n",
    "- `events` - количество совершенных событий;\n",
    "\n",
    "\n",
    "- `sessions` -  количество сессий;\n",
    "\n",
    "\n",
    "- `events_in_session` - среднее количество действий в сессию;\n",
    "\n",
    "\n",
    "- `conversion` - конверсия в целевое действие (просмотр контактов)."
   ]
  },
  {
   "cell_type": "markdown",
   "metadata": {},
   "source": [
    "### Удержание пользователей\n",
    "\n",
    "Перед расчетом удержания важно отметить, что мобильное приложение \"Ненужные вещи\" `нельзя назвать сервисом ежедневного пользования`. \n",
    "\n",
    "Не факт, что пользователь зайдет в него на следующий день после регистрации. Также пользователь может найти нужное ему предложение, посмотреть контакты, а в следующий раз зайти, скажем, через неделю.\n",
    "\n",
    "Поэтому расчет удержания по \"дням жизни\" покажет нам, вероятнее всего, плачевную картину. \n",
    "\n",
    "Мы будем отталкиваться от принципа `\"хотя бы раз зашел в приложение в течение недели\"`.\n",
    "\n",
    "Выделим этапы:\n",
    "\n",
    "- `Создадим функцию`, которая будет рассчитывать удержание с возможностью указания дополнительного признака;\n",
    "\n",
    "\n",
    "- Визуализируем `когортный анализ по лайфтайму` (хотя бы раз заходил в неделю); \n",
    "\n",
    "\n",
    "- Отдельно рассмотрим `удержание` пользователей в зависимости `недели 1-ого посещения` и `источника` установки приложения."
   ]
  },
  {
   "cell_type": "code",
   "execution_count": 33,
   "metadata": {},
   "outputs": [],
   "source": [
    "def get_retention(\n",
    "    profiles,\n",
    "    dataset,\n",
    "    dimensions=[],\n",
    "    ignore_horizon=False):\n",
    " \n",
    "    \"\"\"Эта функция расчитывает удержание пользователей по указанному признаку.\n",
    "    \n",
    "    На вход функция принимает профили пользователей, датасет с сессиями\n",
    "    и желаемые признаки для группировки.\n",
    "    \n",
    "    Здесь мы не учитываем момент и горизонт анализа, так как хотим понять, \n",
    "    заходил ли пользователь в приложение хотя бы раз в неделю на протяжении всех дней его \"жизни\".\n",
    "    \n",
    "    На выходе мы получаем \"сырую\" таблицу с расчетами и таблицу удержания пользователей.\n",
    "    \"\"\"\n",
    "    \n",
    "    result_raw = profiles\n",
    "    \n",
    "    # собираем «сырые» данные для расчёта удержания\n",
    "    result_raw = result_raw.merge(\n",
    "        dataset[['user_id', 'event_time']], on='user_id', how='left'\n",
    "    )\n",
    "        \n",
    "    result_raw['lifetime'] = (\n",
    "        result_raw['event_time'] - result_raw['first_ts']\n",
    "    ).dt.days\n",
    "    \n",
    "    #функция для преобразования lifetime из дней в недели\n",
    "    def get_week(lifetime):\n",
    "        if lifetime == 0:                     #первый день в приложении\n",
    "            return '0'\n",
    "        \n",
    "        if lifetime > 0 and lifetime <= 6:    #заходил в течение недели\n",
    "            return '1'\n",
    "        \n",
    "        if lifetime > 6 and lifetime <= 13:   #заходил в течение 2 недели\n",
    "            return '2'\n",
    "        \n",
    "        if lifetime > 13 and lifetime <= 21:  #заходил в течение 3 недели\n",
    "            return '3'\n",
    "        \n",
    "        return '4'                            #заходил в течение 4 недели\n",
    "    \n",
    "    result_raw.loc[:, 'lifetime'] = result_raw.loc[:, 'lifetime'].apply(get_week)\n",
    "\n",
    "    # функция для группировки таблицы по желаемым признакам\n",
    "    def group_by_dimensions(df, dims):\n",
    "        result = df.pivot_table(\n",
    "            index=dims, columns='lifetime', values='user_id', aggfunc='nunique'\n",
    "        )\n",
    "        cohort_sizes = (\n",
    "            df.groupby(dims)\n",
    "            .agg({'user_id': 'nunique'})\n",
    "            .rename(columns={'user_id': 'cohort_size'})\n",
    "        )\n",
    "        result = cohort_sizes.merge(result, on=dims, how='left').fillna(0)\n",
    "        result = result.div(result['cohort_size'], axis=0)\n",
    "        \n",
    "        #восстанавливаем число пользователей в когортах\n",
    "        result['cohort_size'] = cohort_sizes\n",
    "        return result\n",
    "\n",
    "    # получаем таблицу удержания\n",
    "    result_grouped = group_by_dimensions(result_raw, dimensions)\n",
    "    \n",
    "\n",
    "    # возвращаем \"сырые данные\" и таблицу удержания\n",
    "    return result_raw, result_grouped"
   ]
  },
  {
   "cell_type": "code",
   "execution_count": 34,
   "metadata": {},
   "outputs": [
    {
     "data": {
      "text/html": [
       "<div>\n",
       "<style scoped>\n",
       "    .dataframe tbody tr th:only-of-type {\n",
       "        vertical-align: middle;\n",
       "    }\n",
       "\n",
       "    .dataframe tbody tr th {\n",
       "        vertical-align: top;\n",
       "    }\n",
       "\n",
       "    .dataframe thead th {\n",
       "        text-align: right;\n",
       "    }\n",
       "</style>\n",
       "<table border=\"1\" class=\"dataframe\">\n",
       "  <thead>\n",
       "    <tr style=\"text-align: right;\">\n",
       "      <th></th>\n",
       "      <th>cohort_size</th>\n",
       "      <th>0</th>\n",
       "      <th>1</th>\n",
       "      <th>2</th>\n",
       "      <th>3</th>\n",
       "      <th>4</th>\n",
       "    </tr>\n",
       "    <tr>\n",
       "      <th>week</th>\n",
       "      <th></th>\n",
       "      <th></th>\n",
       "      <th></th>\n",
       "      <th></th>\n",
       "      <th></th>\n",
       "      <th></th>\n",
       "    </tr>\n",
       "  </thead>\n",
       "  <tbody>\n",
       "    <tr>\n",
       "      <th>41</th>\n",
       "      <td>1130</td>\n",
       "      <td>1.0</td>\n",
       "      <td>0.284071</td>\n",
       "      <td>0.184071</td>\n",
       "      <td>0.133628</td>\n",
       "      <td>0.052212</td>\n",
       "    </tr>\n",
       "    <tr>\n",
       "      <th>42</th>\n",
       "      <td>1166</td>\n",
       "      <td>1.0</td>\n",
       "      <td>0.283877</td>\n",
       "      <td>0.172384</td>\n",
       "      <td>0.074614</td>\n",
       "      <td>0.000000</td>\n",
       "    </tr>\n",
       "    <tr>\n",
       "      <th>43</th>\n",
       "      <td>1094</td>\n",
       "      <td>1.0</td>\n",
       "      <td>0.265082</td>\n",
       "      <td>0.100548</td>\n",
       "      <td>0.000000</td>\n",
       "      <td>0.000000</td>\n",
       "    </tr>\n",
       "    <tr>\n",
       "      <th>44</th>\n",
       "      <td>903</td>\n",
       "      <td>1.0</td>\n",
       "      <td>0.160576</td>\n",
       "      <td>0.000000</td>\n",
       "      <td>0.000000</td>\n",
       "      <td>0.000000</td>\n",
       "    </tr>\n",
       "  </tbody>\n",
       "</table>\n",
       "</div>"
      ],
      "text/plain": [
       "      cohort_size    0         1         2         3         4\n",
       "week                                                          \n",
       "41           1130  1.0  0.284071  0.184071  0.133628  0.052212\n",
       "42           1166  1.0  0.283877  0.172384  0.074614  0.000000\n",
       "43           1094  1.0  0.265082  0.100548  0.000000  0.000000\n",
       "44            903  1.0  0.160576  0.000000  0.000000  0.000000"
      ]
     },
     "metadata": {},
     "output_type": "display_data"
    },
    {
     "data": {
      "text/html": [
       "<div>\n",
       "<style scoped>\n",
       "    .dataframe tbody tr th:only-of-type {\n",
       "        vertical-align: middle;\n",
       "    }\n",
       "\n",
       "    .dataframe tbody tr th {\n",
       "        vertical-align: top;\n",
       "    }\n",
       "\n",
       "    .dataframe thead th {\n",
       "        text-align: right;\n",
       "    }\n",
       "</style>\n",
       "<table border=\"1\" class=\"dataframe\">\n",
       "  <thead>\n",
       "    <tr style=\"text-align: right;\">\n",
       "      <th></th>\n",
       "      <th>cohort_size</th>\n",
       "      <th>0</th>\n",
       "      <th>1</th>\n",
       "      <th>2</th>\n",
       "      <th>3</th>\n",
       "      <th>4</th>\n",
       "    </tr>\n",
       "    <tr>\n",
       "      <th>source</th>\n",
       "      <th></th>\n",
       "      <th></th>\n",
       "      <th></th>\n",
       "      <th></th>\n",
       "      <th></th>\n",
       "      <th></th>\n",
       "    </tr>\n",
       "  </thead>\n",
       "  <tbody>\n",
       "    <tr>\n",
       "      <th>google</th>\n",
       "      <td>1129</td>\n",
       "      <td>1.0</td>\n",
       "      <td>0.243578</td>\n",
       "      <td>0.117803</td>\n",
       "      <td>0.046058</td>\n",
       "      <td>0.016829</td>\n",
       "    </tr>\n",
       "    <tr>\n",
       "      <th>other</th>\n",
       "      <td>1230</td>\n",
       "      <td>1.0</td>\n",
       "      <td>0.256911</td>\n",
       "      <td>0.122764</td>\n",
       "      <td>0.065854</td>\n",
       "      <td>0.015447</td>\n",
       "    </tr>\n",
       "    <tr>\n",
       "      <th>yandex</th>\n",
       "      <td>1934</td>\n",
       "      <td>1.0</td>\n",
       "      <td>0.256463</td>\n",
       "      <td>0.121510</td>\n",
       "      <td>0.054292</td>\n",
       "      <td>0.010858</td>\n",
       "    </tr>\n",
       "  </tbody>\n",
       "</table>\n",
       "</div>"
      ],
      "text/plain": [
       "        cohort_size    0         1         2         3         4\n",
       "source                                                          \n",
       "google         1129  1.0  0.243578  0.117803  0.046058  0.016829\n",
       "other          1230  1.0  0.256911  0.122764  0.065854  0.015447\n",
       "yandex         1934  1.0  0.256463  0.121510  0.054292  0.010858"
      ]
     },
     "metadata": {},
     "output_type": "display_data"
    }
   ],
   "source": [
    "#применим функцию с группировкой по неделям привлечения\n",
    "retention_raw, retention = get_retention(\n",
    "    profiles, dataset, dimensions = ['week'])\n",
    "\n",
    "#таблицы по источникам установки\n",
    "retention_raw_source, retention_source = get_retention(\n",
    "    profiles, dataset, dimensions = ['source'])\n",
    "\n",
    "\n",
    "display(\n",
    "    retention,\n",
    "    retention_source\n",
    ")"
   ]
  },
  {
   "cell_type": "code",
   "execution_count": 35,
   "metadata": {},
   "outputs": [
    {
     "data": {
      "image/png": "[encoded data removed]",
      "text/plain": [
       "<Figure size 1152x432 with 4 Axes>"
      ]
     },
     "metadata": {},
     "output_type": "display_data"
    }
   ],
   "source": [
    "# строим хитмэпы\n",
    "fig, axs = plt.subplots(1, 2, figsize = (16, 6))\n",
    "\n",
    "#хитпэм удержания по неделям привлечения\n",
    "sns.heatmap(\n",
    "    retention.drop(columns=['cohort_size', '0']), #удаляем размеры когорт и выборку на первый день\n",
    "    ax = axs[0], \n",
    "    annot=True, \n",
    "    fmt='.2%'  # переводим значения в проценты\n",
    ")\n",
    "axs[0].set_title('Тепловая карта удержания по неделям') \n",
    "axs[0].set_xlabel('Недели')\n",
    "\n",
    "#хитпэм удержания по источникам установки\n",
    "sns.heatmap(\n",
    "    retention_source.drop(columns=['cohort_size', '0']),\n",
    "    ax = axs[1], \n",
    "    annot=True, \n",
    "    fmt='.2%'      \n",
    ")\n",
    "axs[1].set_title('Тепловая карта удержания по источникам') \n",
    "axs[1].set_xlabel('Недели')\n",
    "\n",
    "plt.show()"
   ]
  },
  {
   "cell_type": "markdown",
   "metadata": {},
   "source": [
    "**Удержание по неделе** первого посещения.\n",
    "\n",
    "`Доля пользователей`, совершивших первое действие в приложении на `41 неделе`:\n",
    "\n",
    "- 28.41% зашли в приложение еще раз в течение недели;\n",
    "\n",
    "- 18.41% заходили в приложение на следующей неделе;\n",
    "\n",
    "- 13.36% заходили на 3 по счету неделе;\n",
    "\n",
    "- 5.22% заходили в конце месяца (4 неделя).\n",
    "\n",
    "`Пользователи`, привлеченные `на 42 неделе`:\n",
    "\n",
    "- 28.39% зашли еще раз в течение недели;\n",
    "\n",
    "- 17.24% зашли в приложение на следующей неделе;\n",
    "\n",
    "- 7.48% зашли на 3 по счету неделе.\n",
    "\n",
    "`Когорта пользователей`, пришедших в приложение `на 43 неделе`:\n",
    "\n",
    "- 26.51% зашли еще раз в течение недели;\n",
    "\n",
    "- 10.05% зашли в течение следующей недели (последней с учетом максимальной даты, которой мы располагаем).\n",
    "\n",
    "`Пользователи 44 недели`:\n",
    "\n",
    "- 16.06% заходили еще раз в течение недели (последней с учетом максимальной даты, которой мы располагаем).\n",
    "\n",
    "**Удержание по источнику**, с которого пользователь установил приложение.\n",
    "\n",
    "Пользователи, установившие приложение с разных источников, показывают близкое удержание.\n",
    "\n",
    "- `google` - `24.36%` (в течение недели), `11.78%` (следующая неделя), `4.61%` (на 3-ей неделе), `1.68%` (последняя неделя).\n",
    "\n",
    "\n",
    "- `yandex` - `25.65%` (в течение недели), `12.15%` (следующая неделя), `5.43%` (на 3-ей неделе), `1.09%` (последняя неделя).\n",
    "\n",
    "\n",
    "- `other` - `25.69%` (в течение недели), `12.28%` (следующая неделя), `6.59% `(на 3-ей неделе), `1.54%` (последняя неделя).\n"
   ]
  },
  {
   "cell_type": "markdown",
   "metadata": {},
   "source": [
    "### Вывод\n",
    "\n",
    "В ходе подготовки профилей пользователей к кластеризации, были выполнены шаги:\n",
    "\n",
    "- `расчет сессий и их длительности` для каждого пользователя;\n",
    "\n",
    "- созданы `профили` пользователей;\n",
    "\n",
    "- оценено `удержание пользователей` в зависимости от недели привлечения и источника установки.\n",
    "\n",
    "***В структуре профилей*** сохранены такие признаки, как:\n",
    "\n",
    "- `user_id` - id-пользователя; \n",
    "\n",
    "- `first_ts` - дата и время первого посещения;\n",
    "\n",
    "\n",
    "- `week` - неделя, первого посещения;\n",
    "\n",
    "- `source` - источник, с которого пользователь установил приложение;\n",
    "\n",
    "- `spent_time` - время, проведенное в приложении (в секундах);\n",
    "\n",
    "- `days` - количество дней, в течение которых человек пользовался приложением;\n",
    "\n",
    "- `events` - количество совершенных событий;\n",
    "\n",
    "- `sessions` -  количество сессий;\n",
    "\n",
    "- `events_in_session` - среднее количество действий в сессию;\n",
    "\n",
    "- `conversion` - конверсия в целевое действие (просмотр контактов).\n",
    "\n",
    "***Среднее удержание*** пользователей в зависимости от недели первого посещения:\n",
    "\n",
    "- `16 - 29%` пользователей заходят в приложение еще раз в течение недели;\n",
    "\n",
    "- `10 - 19%` заходят еще раз в течение следующей недели;\n",
    "\n",
    "- `7 - 14%` заходят в течение 3-ей недели со дня первого посещения;\n",
    "\n",
    "- `до 6%` заходят в течение последней недели датасета (когорта 41 недели).\n",
    "\n",
    "***Удержание по источникам*** установки не выявило существенных различий между группами.\n",
    "\n",
    "- `24 - 26%` заходят еще раз в течение недели;\n",
    "\n",
    "- `11 - 12%` заходят в течение следующей недели;\n",
    "\n",
    "- `4 - 7%` заходят в течение 3 недели со дня первого посещения;\n",
    "\n",
    "- `до 2%` заходят в течение последней недели датасета."
   ]
  },
  {
   "cell_type": "markdown",
   "metadata": {},
   "source": [
    "**Вывод**\n",
    "\n",
    "У каждого пользователя мы расчитали временную разницу между соседними событиями и определили время между сессиями: 10 минут бездействия - показатель, что `пользователь`, скорее всего, `вышел из приложения`.\n",
    "\n",
    "После чего для каждого события мы определили `номер сессии`, во время которой оно произошло. Информацию о сессиях хранит колонка 'session', а время между действиями - 'time_lag'.\n",
    "\n",
    "**Вывод**\n",
    "\n",
    "На данном этапе были сделаны:\n",
    "\n",
    "- `расчет сессий` для каждого пользователя;\n",
    "\n",
    "\n",
    "- подсчитана `длительность` между ближайшими `событиями`;\n",
    "\n",
    "\n",
    "- созданы `профили` пользователей.\n",
    "\n",
    "**В структуре профилей** сохранены такие признаки, как:\n",
    "\n",
    "- `user_id` - id-пользователя; \n",
    "\n",
    "\n",
    "- `first_ts` - дата и время первого посещения;\n",
    "\n",
    "\n",
    "- `week` - неделя, первого посещения;\n",
    "\n",
    "\n",
    "- `source` - источник, с которого пользователь установил приложение;\n",
    "\n",
    "\n",
    "- `spent_time` - время, проведенное в приложении (в секундах);\n",
    "\n",
    "\n",
    "- `days` - количество дней, в течение которых человек пользовался приложением;\n",
    "\n",
    "\n",
    "- `events` - количество совершенных событий;\n",
    "\n",
    "\n",
    "- `sessions` -  количество сессий;\n",
    "\n",
    "\n",
    "- `events_in_session` - среднее количество действий в сессию;\n",
    "\n",
    "\n",
    "- `conversion` - конверсия в целевое действие (просмотр контактов)."
   ]
  },
  {
   "cell_type": "markdown",
   "metadata": {},
   "source": [
    "## Кластеризация пользователей\n"
   ]
  },
  {
   "cell_type": "markdown",
   "metadata": {},
   "source": [
    "### Корреляция признаков"
   ]
  },
  {
   "cell_type": "markdown",
   "metadata": {},
   "source": [
    "Перед началом кластеризации оценим `средние показатели и корреляцию` между признаками в профилях пользователей."
   ]
  },
  {
   "cell_type": "code",
   "execution_count": 36,
   "metadata": {},
   "outputs": [
    {
     "data": {
      "text/html": [
       "<div>\n",
       "<style scoped>\n",
       "    .dataframe tbody tr th:only-of-type {\n",
       "        vertical-align: middle;\n",
       "    }\n",
       "\n",
       "    .dataframe tbody tr th {\n",
       "        vertical-align: top;\n",
       "    }\n",
       "\n",
       "    .dataframe thead th {\n",
       "        text-align: right;\n",
       "    }\n",
       "</style>\n",
       "<table border=\"1\" class=\"dataframe\">\n",
       "  <thead>\n",
       "    <tr style=\"text-align: right;\">\n",
       "      <th></th>\n",
       "      <th>user_id</th>\n",
       "      <th>first_ts</th>\n",
       "      <th>week</th>\n",
       "      <th>source</th>\n",
       "      <th>spent_time</th>\n",
       "      <th>days</th>\n",
       "      <th>events</th>\n",
       "      <th>sessions</th>\n",
       "      <th>events_in_session</th>\n",
       "      <th>conversion</th>\n",
       "    </tr>\n",
       "  </thead>\n",
       "  <tbody>\n",
       "    <tr>\n",
       "      <th>0</th>\n",
       "      <td>0001b1d5-b74a-4cbf-aeb0-7df5947bf349</td>\n",
       "      <td>2019-10-07 13:39:45.989359</td>\n",
       "      <td>41</td>\n",
       "      <td>other</td>\n",
       "      <td>2760.53</td>\n",
       "      <td>15</td>\n",
       "      <td>35</td>\n",
       "      <td>4</td>\n",
       "      <td>9.0</td>\n",
       "      <td>0.00</td>\n",
       "    </tr>\n",
       "    <tr>\n",
       "      <th>1</th>\n",
       "      <td>00157779-810c-4498-9e05-a1e9e3cedf93</td>\n",
       "      <td>2019-10-19 21:34:33.849769</td>\n",
       "      <td>42</td>\n",
       "      <td>yandex</td>\n",
       "      <td>7003.27</td>\n",
       "      <td>15</td>\n",
       "      <td>71</td>\n",
       "      <td>10</td>\n",
       "      <td>7.0</td>\n",
       "      <td>0.15</td>\n",
       "    </tr>\n",
       "    <tr>\n",
       "      <th>2</th>\n",
       "      <td>00463033-5717-4bf1-91b4-09183923b9df</td>\n",
       "      <td>2019-11-01 13:54:35.385028</td>\n",
       "      <td>44</td>\n",
       "      <td>yandex</td>\n",
       "      <td>1482.47</td>\n",
       "      <td>1</td>\n",
       "      <td>10</td>\n",
       "      <td>1</td>\n",
       "      <td>10.0</td>\n",
       "      <td>0.00</td>\n",
       "    </tr>\n",
       "    <tr>\n",
       "      <th>3</th>\n",
       "      <td>004690c3-5a84-4bb7-a8af-e0c8f8fca64e</td>\n",
       "      <td>2019-10-18 22:14:05.555052</td>\n",
       "      <td>42</td>\n",
       "      <td>google</td>\n",
       "      <td>2014.10</td>\n",
       "      <td>13</td>\n",
       "      <td>32</td>\n",
       "      <td>10</td>\n",
       "      <td>3.0</td>\n",
       "      <td>0.00</td>\n",
       "    </tr>\n",
       "    <tr>\n",
       "      <th>4</th>\n",
       "      <td>00551e79-152e-4441-9cf7-565d7eb04090</td>\n",
       "      <td>2019-10-25 16:44:41.263364</td>\n",
       "      <td>43</td>\n",
       "      <td>yandex</td>\n",
       "      <td>559.65</td>\n",
       "      <td>4</td>\n",
       "      <td>8</td>\n",
       "      <td>3</td>\n",
       "      <td>3.0</td>\n",
       "      <td>0.38</td>\n",
       "    </tr>\n",
       "  </tbody>\n",
       "</table>\n",
       "</div>"
      ],
      "text/plain": [
       "                                user_id                   first_ts  week  \\\n",
       "0  0001b1d5-b74a-4cbf-aeb0-7df5947bf349 2019-10-07 13:39:45.989359    41   \n",
       "1  00157779-810c-4498-9e05-a1e9e3cedf93 2019-10-19 21:34:33.849769    42   \n",
       "2  00463033-5717-4bf1-91b4-09183923b9df 2019-11-01 13:54:35.385028    44   \n",
       "3  004690c3-5a84-4bb7-a8af-e0c8f8fca64e 2019-10-18 22:14:05.555052    42   \n",
       "4  00551e79-152e-4441-9cf7-565d7eb04090 2019-10-25 16:44:41.263364    43   \n",
       "\n",
       "   source  spent_time  days  events  sessions  events_in_session  conversion  \n",
       "0   other     2760.53    15      35         4                9.0        0.00  \n",
       "1  yandex     7003.27    15      71        10                7.0        0.15  \n",
       "2  yandex     1482.47     1      10         1               10.0        0.00  \n",
       "3  google     2014.10    13      32        10                3.0        0.00  \n",
       "4  yandex      559.65     4       8         3                3.0        0.38  "
      ]
     },
     "execution_count": 36,
     "metadata": {},
     "output_type": "execute_result"
    }
   ],
   "source": [
    "#вспомним таблицу с профилями пользователей\n",
    "\n",
    "profiles.head()"
   ]
  },
  {
   "cell_type": "markdown",
   "metadata": {},
   "source": [
    "Оценим `средние значения и стандартные отклонения`."
   ]
  },
  {
   "cell_type": "code",
   "execution_count": 37,
   "metadata": {},
   "outputs": [
    {
     "data": {
      "text/html": [
       "<div>\n",
       "<style scoped>\n",
       "    .dataframe tbody tr th:only-of-type {\n",
       "        vertical-align: middle;\n",
       "    }\n",
       "\n",
       "    .dataframe tbody tr th {\n",
       "        vertical-align: top;\n",
       "    }\n",
       "\n",
       "    .dataframe thead th {\n",
       "        text-align: right;\n",
       "    }\n",
       "</style>\n",
       "<table border=\"1\" class=\"dataframe\">\n",
       "  <thead>\n",
       "    <tr style=\"text-align: right;\">\n",
       "      <th></th>\n",
       "      <th>week</th>\n",
       "      <th>spent_time</th>\n",
       "      <th>days</th>\n",
       "      <th>events</th>\n",
       "      <th>sessions</th>\n",
       "      <th>events_in_session</th>\n",
       "      <th>conversion</th>\n",
       "    </tr>\n",
       "  </thead>\n",
       "  <tbody>\n",
       "    <tr>\n",
       "      <th>count</th>\n",
       "      <td>4293.000000</td>\n",
       "      <td>4293.000000</td>\n",
       "      <td>4293.000000</td>\n",
       "      <td>4293.000000</td>\n",
       "      <td>4293.000000</td>\n",
       "      <td>4293.000000</td>\n",
       "      <td>4293.000000</td>\n",
       "    </tr>\n",
       "    <tr>\n",
       "      <th>mean</th>\n",
       "      <td>42.412299</td>\n",
       "      <td>1325.809189</td>\n",
       "      <td>3.437223</td>\n",
       "      <td>17.283252</td>\n",
       "      <td>2.956208</td>\n",
       "      <td>7.100862</td>\n",
       "      <td>0.058374</td>\n",
       "    </tr>\n",
       "    <tr>\n",
       "      <th>std</th>\n",
       "      <td>1.090738</td>\n",
       "      <td>2405.407164</td>\n",
       "      <td>5.059348</td>\n",
       "      <td>29.130677</td>\n",
       "      <td>4.740561</td>\n",
       "      <td>7.276898</td>\n",
       "      <td>0.154266</td>\n",
       "    </tr>\n",
       "    <tr>\n",
       "      <th>min</th>\n",
       "      <td>41.000000</td>\n",
       "      <td>0.000000</td>\n",
       "      <td>1.000000</td>\n",
       "      <td>1.000000</td>\n",
       "      <td>1.000000</td>\n",
       "      <td>1.000000</td>\n",
       "      <td>0.000000</td>\n",
       "    </tr>\n",
       "    <tr>\n",
       "      <th>25%</th>\n",
       "      <td>41.000000</td>\n",
       "      <td>304.140000</td>\n",
       "      <td>1.000000</td>\n",
       "      <td>5.000000</td>\n",
       "      <td>1.000000</td>\n",
       "      <td>3.000000</td>\n",
       "      <td>0.000000</td>\n",
       "    </tr>\n",
       "    <tr>\n",
       "      <th>50%</th>\n",
       "      <td>42.000000</td>\n",
       "      <td>677.400000</td>\n",
       "      <td>1.000000</td>\n",
       "      <td>9.000000</td>\n",
       "      <td>2.000000</td>\n",
       "      <td>5.000000</td>\n",
       "      <td>0.000000</td>\n",
       "    </tr>\n",
       "    <tr>\n",
       "      <th>75%</th>\n",
       "      <td>43.000000</td>\n",
       "      <td>1436.020000</td>\n",
       "      <td>3.000000</td>\n",
       "      <td>17.000000</td>\n",
       "      <td>3.000000</td>\n",
       "      <td>8.000000</td>\n",
       "      <td>0.000000</td>\n",
       "    </tr>\n",
       "    <tr>\n",
       "      <th>max</th>\n",
       "      <td>44.000000</td>\n",
       "      <td>49085.590000</td>\n",
       "      <td>27.000000</td>\n",
       "      <td>478.000000</td>\n",
       "      <td>124.000000</td>\n",
       "      <td>97.000000</td>\n",
       "      <td>1.000000</td>\n",
       "    </tr>\n",
       "  </tbody>\n",
       "</table>\n",
       "</div>"
      ],
      "text/plain": [
       "              week    spent_time         days       events     sessions  \\\n",
       "count  4293.000000   4293.000000  4293.000000  4293.000000  4293.000000   \n",
       "mean     42.412299   1325.809189     3.437223    17.283252     2.956208   \n",
       "std       1.090738   2405.407164     5.059348    29.130677     4.740561   \n",
       "min      41.000000      0.000000     1.000000     1.000000     1.000000   \n",
       "25%      41.000000    304.140000     1.000000     5.000000     1.000000   \n",
       "50%      42.000000    677.400000     1.000000     9.000000     2.000000   \n",
       "75%      43.000000   1436.020000     3.000000    17.000000     3.000000   \n",
       "max      44.000000  49085.590000    27.000000   478.000000   124.000000   \n",
       "\n",
       "       events_in_session   conversion  \n",
       "count        4293.000000  4293.000000  \n",
       "mean            7.100862     0.058374  \n",
       "std             7.276898     0.154266  \n",
       "min             1.000000     0.000000  \n",
       "25%             3.000000     0.000000  \n",
       "50%             5.000000     0.000000  \n",
       "75%             8.000000     0.000000  \n",
       "max            97.000000     1.000000  "
      ]
     },
     "execution_count": 37,
     "metadata": {},
     "output_type": "execute_result"
    }
   ],
   "source": [
    "profiles.describe()"
   ]
  },
  {
   "cell_type": "markdown",
   "metadata": {},
   "source": [
    "Средние показатели о пользователях:\n",
    "\n",
    "- `spent_time` - провел в приложении 1325.8 секунд (22 минуты);\n",
    "\n",
    "\n",
    "- `days` - пользовался приложением в течение 3 дней;\n",
    "\n",
    "\n",
    "- `events` - совершил в среднем 17 действий в приложении;\n",
    "\n",
    "\n",
    "- `sessions` - состоялись 3 сессии за весь период;\n",
    "\n",
    "\n",
    "- `events_in_session` - совершал в среднем 7 действий в сессию;\n",
    "\n",
    "\n",
    "- `conversion` - конверсия в целевое действие 5.84%.\n",
    "\n",
    "Мы наблюдаем в данных `большие стандартные отклонения`. \n",
    "\n",
    "Это говорит о том, что пользователи ведут себя по разному, и данные `не подчиняются закону нормального распределения`.\n",
    "\n",
    "И данные необходимо будет `стандартизировать перед обучением` модели кластеризации."
   ]
  },
  {
   "cell_type": "markdown",
   "metadata": {},
   "source": [
    "**Приступим к расчету корреляции**.\n",
    "\n",
    "В нашем наборе признаков количественные значения, и они не подчиняются закону нормального распределения. Поэтому для расчета корреляции мы воспользуемся `методом Спирмена`.\n",
    "\n",
    "Определим степень зависимости признаков по шкале Чеддока:\n",
    "\n",
    "<html>\n",
    " <head>\n",
    "  <meta charset=\"utf-8\">\n",
    " </head>\n",
    " <body>\n",
    "  <table border=\"1\", align=\"left\">\n",
    "   <tr>\n",
    "    <th>Значение</th>\n",
    "    <th>Связь</th>\n",
    "   </tr>\n",
    "   <tr>\n",
    "    <td>0.1 - 0.3</td>\n",
    "    <td>Слабая</td>\n",
    "   </tr>   \n",
    "   <tr>\n",
    "    <td>0.3 - 0.5</td>\n",
    "    <td>Умеренная</td>\n",
    "    </tr>\n",
    "    <tr>\n",
    "    <td>0.5 - 0.7</td>\n",
    "    <td>Заметная</td>\n",
    "    </tr>\n",
    "    <tr>\n",
    "    <td>0.7 - 0.9</td>\n",
    "    <td>Высокая</td>\n",
    "    </tr>\n",
    "    <tr>\n",
    "    <td>0.9 - 0,99</td>\n",
    "    <td>Весьма высокая</td>\n",
    "  </tr>\n",
    " </table>\n",
    " </body>\n",
    "</html>\n"
   ]
  },
  {
   "cell_type": "code",
   "execution_count": 38,
   "metadata": {},
   "outputs": [
    {
     "data": {
      "image/png": "[encoded data removed]",
      "text/plain": [
       "<Figure size 1008x504 with 2 Axes>"
      ]
     },
     "metadata": {},
     "output_type": "display_data"
    }
   ],
   "source": [
    "#построим матрицу корреляции\n",
    "\n",
    "plt.figure(figsize = (14,7))\n",
    "sns.heatmap(profiles.corr(method='spearman'), annot = True, fmt = '.2f',  square=True)\n",
    "\n",
    "plt.title('Матрица корреляции признаков')\n",
    "plt.show()"
   ]
  },
  {
   "cell_type": "markdown",
   "metadata": {},
   "source": [
    "**Умеренные взаимосвязи** были обранужены между признаками:\n",
    "\n",
    "- `'spent_time' - 'sessions'` (0.37);\n",
    "\n",
    "Чем больше пользователь провел времени в приложении, тем, вероятнее всего, он больше совершил сессий.\n",
    "\n",
    "- `days - events` (0.37);\n",
    "\n",
    "Чем дольше пользователь пользовался приложением, тем больше всего он совершил событий.\n",
    "\n",
    "- `'sessions' - 'events_in_sessions'` (-0.33).\n",
    "\n",
    "Чем больше пользователь совершает сессий, тем меньше действий в них входит.\n",
    "\n",
    "\n",
    "**Заметные взаимосвязи** наблюдаются между:\n",
    "\n",
    "- `'spent_time' - 'events_in_session'` (0.55);\n",
    "\n",
    "Чем больше пользователь провел времени в приложении, тем выше показатель количества действий, которые он совершил в течение сессии.\n",
    "\n",
    "- `'events' - 'sessions'` (0.5);\n",
    "\n",
    "Чем больше пользователь совершил действий, тем, вероятнее всего, он овершал больше сессий в приложении.\n",
    "\n",
    "- `'events' - 'events_in_session'` (0.61).\n",
    "\n",
    "Чем больше событий совершено пользователем, тем выше их количество в течение одной сессии.\n",
    "\n",
    "**Высокие корреляции** наблюдаются между:\n",
    "\n",
    "- `'days' - 'sessions'` (0.71);\n",
    "\n",
    "Чем больше дней пользователь пользовался приложением, тем больше он совершил сессий.\n",
    "\n",
    "- `'spent_time' - 'events'` (0.83).\n",
    "\n",
    "Чем больше пользователь провел времени в приложении, тем болше действий он совершил.\n",
    "\n",
    "\n",
    "Отметим, что признак `events_in_session` функциональный по отношению к `events` и `sessions` - наблюдается **полная коллинеарность**.\n",
    "\n",
    "При обучении модели кластеризации мы не будем учитывать этот признак."
   ]
  },
  {
   "cell_type": "markdown",
   "metadata": {},
   "source": [
    "### Кластеры и обучение\n",
    "\n",
    "- Определим оптимальное количество кластеров с помощью \"метода локтя\".\n",
    "\n",
    "\n",
    "- Обучим модель кластеризации на основании алгоритма K-Means и спрогнозируем кластеры клиентов.\n",
    "\n",
    "\n",
    "- оценим средние показатели поведения кластеров."
   ]
  },
  {
   "cell_type": "code",
   "execution_count": 39,
   "metadata": {},
   "outputs": [],
   "source": [
    "# обучаем нормализатор и преобразуем набор данных\n",
    "\n",
    "scaler = StandardScaler()\n",
    "\n",
    "x_sc = scaler.fit_transform(profiles.drop(columns = ['user_id', 'first_ts', 'source', 'week', 'events_in_session'])) "
   ]
  },
  {
   "cell_type": "code",
   "execution_count": 40,
   "metadata": {},
   "outputs": [
    {
     "data": {
      "image/png": "[encoded data removed]",
      "text/plain": [
       "<Figure size 1008x360 with 1 Axes>"
      ]
     },
     "metadata": {},
     "output_type": "display_data"
    }
   ],
   "source": [
    "#применим \"метод локтя\" для определения оптимального кол-ва кластеров\n",
    "\n",
    "distortion = []\n",
    "K = range(1, 10)\n",
    "for k in K:\n",
    "    model = KMeans(n_clusters=k, random_state=123)\n",
    "    model.fit(x_sc)\n",
    "    distortion.append(model.inertia_)\n",
    "    \n",
    "#визуализируем метод\n",
    "plt.figure(figsize=(14, 5))\n",
    "plt.plot(K, distortion, 'bx-')\n",
    "plt.xlabel('Число кластеров')\n",
    "plt.ylabel('Значение целевой функции')\n",
    "plt.show()"
   ]
  },
  {
   "cell_type": "markdown",
   "metadata": {},
   "source": [
    "После `5 точки` наблюдается плавное снижение.\n",
    "\n",
    "`Обучим модель кластеризации` на основании алгоритма `K-Means` и `спрогнозируем кластеры` клиентов. \n",
    "\n",
    "Укажем число кластеров `5`."
   ]
  },
  {
   "cell_type": "code",
   "execution_count": 41,
   "metadata": {},
   "outputs": [],
   "source": [
    "km = KMeans(n_clusters = 5, random_state = 123)\n",
    "labels = km.fit_predict(x_sc)\n",
    "\n",
    "# сохраняем метки кластера в поле нашего датасета\n",
    "profiles['cluster'] = labels"
   ]
  },
  {
   "cell_type": "code",
   "execution_count": 42,
   "metadata": {},
   "outputs": [
    {
     "data": {
      "text/html": [
       "<div>\n",
       "<style scoped>\n",
       "    .dataframe tbody tr th:only-of-type {\n",
       "        vertical-align: middle;\n",
       "    }\n",
       "\n",
       "    .dataframe tbody tr th {\n",
       "        vertical-align: top;\n",
       "    }\n",
       "\n",
       "    .dataframe thead th {\n",
       "        text-align: right;\n",
       "    }\n",
       "</style>\n",
       "<table border=\"1\" class=\"dataframe\">\n",
       "  <thead>\n",
       "    <tr style=\"text-align: right;\">\n",
       "      <th></th>\n",
       "      <th>week</th>\n",
       "      <th>spent_time</th>\n",
       "      <th>days</th>\n",
       "      <th>events</th>\n",
       "      <th>sessions</th>\n",
       "      <th>events_in_session</th>\n",
       "      <th>conversion</th>\n",
       "    </tr>\n",
       "    <tr>\n",
       "      <th>cluster</th>\n",
       "      <th></th>\n",
       "      <th></th>\n",
       "      <th></th>\n",
       "      <th></th>\n",
       "      <th></th>\n",
       "      <th></th>\n",
       "      <th></th>\n",
       "    </tr>\n",
       "  </thead>\n",
       "  <tbody>\n",
       "    <tr>\n",
       "      <th>0</th>\n",
       "      <td>42.533193</td>\n",
       "      <td>906.058129</td>\n",
       "      <td>1.516596</td>\n",
       "      <td>11.808087</td>\n",
       "      <td>1.898310</td>\n",
       "      <td>7.415812</td>\n",
       "      <td>0.019046</td>\n",
       "    </tr>\n",
       "    <tr>\n",
       "      <th>1</th>\n",
       "      <td>41.729675</td>\n",
       "      <td>1441.386382</td>\n",
       "      <td>13.514228</td>\n",
       "      <td>19.648374</td>\n",
       "      <td>4.922764</td>\n",
       "      <td>4.583333</td>\n",
       "      <td>0.038333</td>\n",
       "    </tr>\n",
       "    <tr>\n",
       "      <th>2</th>\n",
       "      <td>42.038674</td>\n",
       "      <td>7587.990552</td>\n",
       "      <td>11.734807</td>\n",
       "      <td>94.895028</td>\n",
       "      <td>13.972376</td>\n",
       "      <td>9.988950</td>\n",
       "      <td>0.049945</td>\n",
       "    </tr>\n",
       "    <tr>\n",
       "      <th>3</th>\n",
       "      <td>42.474403</td>\n",
       "      <td>838.105666</td>\n",
       "      <td>2.320819</td>\n",
       "      <td>12.255973</td>\n",
       "      <td>2.597270</td>\n",
       "      <td>5.860068</td>\n",
       "      <td>0.538567</td>\n",
       "    </tr>\n",
       "    <tr>\n",
       "      <th>4</th>\n",
       "      <td>41.230769</td>\n",
       "      <td>27759.143077</td>\n",
       "      <td>21.307692</td>\n",
       "      <td>356.230769</td>\n",
       "      <td>52.923077</td>\n",
       "      <td>9.846154</td>\n",
       "      <td>0.136923</td>\n",
       "    </tr>\n",
       "  </tbody>\n",
       "</table>\n",
       "</div>"
      ],
      "text/plain": [
       "              week    spent_time       days      events   sessions  \\\n",
       "cluster                                                              \n",
       "0        42.533193    906.058129   1.516596   11.808087   1.898310   \n",
       "1        41.729675   1441.386382  13.514228   19.648374   4.922764   \n",
       "2        42.038674   7587.990552  11.734807   94.895028  13.972376   \n",
       "3        42.474403    838.105666   2.320819   12.255973   2.597270   \n",
       "4        41.230769  27759.143077  21.307692  356.230769  52.923077   \n",
       "\n",
       "         events_in_session  conversion  \n",
       "cluster                                 \n",
       "0                 7.415812    0.019046  \n",
       "1                 4.583333    0.038333  \n",
       "2                 9.988950    0.049945  \n",
       "3                 5.860068    0.538567  \n",
       "4                 9.846154    0.136923  "
      ]
     },
     "metadata": {},
     "output_type": "display_data"
    },
    {
     "data": {
      "text/plain": [
       "0    3314\n",
       "1     492\n",
       "3     293\n",
       "2     181\n",
       "4      13\n",
       "Name: cluster, dtype: int64"
      ]
     },
     "metadata": {},
     "output_type": "display_data"
    }
   ],
   "source": [
    "#рассмотрим средние значения и сколько пользователей попало в группы\n",
    "\n",
    "display(\n",
    "    profiles.groupby('cluster').mean(),\n",
    "    profiles['cluster'].value_counts()\n",
    ")"
   ]
  },
  {
   "cell_type": "markdown",
   "metadata": {},
   "source": [
    "**Вывод**\n",
    "\n",
    "Приведем подробное описание средних показателей по кластерам.\n",
    "\n",
    "В **0 кластер** вошло `3 314` пользователей. Для них свойствены средние показатели:\n",
    "\n",
    "- `spent_time` (время, проведенное в приложении) - 906.06 секунд (`около 15 минут`);\n",
    "\n",
    "- `days` (кол-во дней, в течение которых чуловек пользовался приложением) - `около 2 дней`;\n",
    "\n",
    "- `events` (кол-во совершенных действий) - `около 12 событий`;\n",
    "\n",
    "- `sessions` (кол-во сессий) - `около 2 сессий`;\n",
    "\n",
    "- `events_in_session` (кол-во событий в сессии) - `7 событий в сессию`;\n",
    "\n",
    "- `conversion` (конверсия в целевое действие) - `1.9%`.\n",
    "\n",
    "В **1 кластер** вошло `492` пользователя. Для них свойствены средние показатели:\n",
    "\n",
    "- `spent_time` (время, проведенное в приложении) - 1 441.39 секунд (`около 24 минут`);\n",
    "\n",
    "- `days` (кол-во дней, в течение которых чуловек пользовался приложением) - `около 13 дней`;\n",
    "\n",
    "- `events` (кол-во совершенных действий) -`около 20 событий`;\n",
    "\n",
    "- `sessions` (кол-во сессий) - `около 5 сессий`;\n",
    "\n",
    "- `events_in_session` (кол-во событий в сессии) - `5 событий в сессию`;\n",
    "\n",
    "- `conversion` (конверсия в целевое действие) - `3.83%`.\n",
    "\n",
    "\n",
    "В **2 кластер** вошло `181` пользователь. Для них свойствены средние показатели:\n",
    "\n",
    "- `spent_time` (время, проведенное в приложении) - 7 588 секунд (`около 2 часов`);\n",
    "\n",
    "- `days` (кол-во дней, в течение которых чуловек пользовался приложением) - `около 12 дней`;\n",
    "\n",
    "- `events` (кол-во совершенных действий) - `около 95 событий`;\n",
    "\n",
    "- `sessions` (кол-во сессий) - `около 14 сессий`;\n",
    "\n",
    "- `events_in_session` (кол-во событий в сессии) - `10 событий в сессию`;\n",
    "\n",
    "- `conversion` (конверсия в целевое действие) - `5%`.\n",
    "\n",
    "Во **3 кластер** вошло `293` пользователя. Для них свойствены средние показатели:\n",
    "\n",
    "- `spent_time` (время, проведенное в приложении) - 838.1 секунд (`около 14 минут`);\n",
    "\n",
    "- `days` (кол-во дней, в течение которых чуловек пользовался приложением) - `около 2 дней`;\n",
    "\n",
    "- `events` (кол-во совершенных действий) - `около 12 событий`;\n",
    "\n",
    "- `sessions` (кол-во сессий) - `около 3 сессий`;\n",
    "\n",
    "- `events_in_session` (кол-во событий в сессии) - `6 событий в сессию`;\n",
    "\n",
    "- `conversion` (конверсия в целевое действие) - `53.85%`.\n",
    "\n",
    "В **4 кластер** вошло всего лишь `13` пользователей. Для них свойствены средние показатели:\n",
    "\n",
    "- `spent_time` (время, проведенное в приложении) - 27 759.14 секунд (`около 8 часов`);\n",
    "\n",
    "- `days` (кол-во дней, в течение которых чуловек пользовался приложением) - `около 21 дня`;\n",
    "\n",
    "- `events` (кол-во совершенных действий) - `около 356 событий`;\n",
    "\n",
    "- `sessions` (кол-во сессий) - `около 53 сессии`;\n",
    "\n",
    "- `events_in_session` (кол-во событий в сессии) - `10 событий в сессию`;\n",
    "\n",
    "- `conversion` (конверсия в целевое действие) - `13.69%`."
   ]
  },
  {
   "cell_type": "markdown",
   "metadata": {},
   "source": [
    "### Анализ поведения групп.\n",
    "\n",
    "1. ***Проанализируем данные*** в каждой группе по:\n",
    "\n",
    "- `времени`, проведённом в приложении;\n",
    "\n",
    "\n",
    "- `частоте действий`;\n",
    "\n",
    "\n",
    "- `конверсии` в целевое действие - просмотр контактов.\n",
    "\n",
    "\n",
    "2. Построим тепловую карту ***удержания*** с указанием признака \"кластер\"."
   ]
  },
  {
   "cell_type": "code",
   "execution_count": 43,
   "metadata": {},
   "outputs": [
    {
     "data": {
      "image/png": "[encoded data removed]",
      "text/plain": [
       "<Figure size 1152x1296 with 6 Axes>"
      ]
     },
     "metadata": {},
     "output_type": "display_data"
    }
   ],
   "source": [
    "fig, axs = plt.subplots(3, 2, figsize = (16,18))\n",
    "a = 0\n",
    "b = 0\n",
    "\n",
    "for col in profiles.drop(columns = ['user_id','first_ts', 'week', 'source', 'cluster']).columns:\n",
    "    sns.boxplot(ax = axs[a, b], x ='cluster', y = col, data = profiles)\n",
    "    axs[a, b].set_title(col)\n",
    "    axs[a, b].set_xlabel(\"\")\n",
    "    if b == 0:\n",
    "         b = 1\n",
    "    else:\n",
    "        a += 1\n",
    "        b = 0\n"
   ]
  },
  {
   "cell_type": "markdown",
   "metadata": {},
   "source": [
    "По распределению признаком можно выделить `4 группы по общему поведению`:\n",
    "\n",
    "`Основным показателем` для разделения служит `конверсия` в целевое действие.\n",
    "\n",
    "***\"Золотые\" пользователи***\n",
    "\n",
    "К ним относится `3 кластер` пользователей (293 человека).\n",
    "\n",
    "- `конверсия` в целевое действие `40 - 70%`;\n",
    "\n",
    "\n",
    "- `немного времени` провели в приложении - `до 2 000 секунд` (около 33 минуты);\n",
    "\n",
    "\n",
    "- совершили `до 50 действий` в приложении;\n",
    "\n",
    "\n",
    "- частота действий в сессию - `около 6 событий в сессию`.\n",
    "\n",
    "***Активные пользователи***\n",
    "\n",
    "К ним относится `4 кластер` пользователей (13 человек).\n",
    "\n",
    "- `конверсия` в целевое действие `до 21%`;\n",
    "\n",
    "\n",
    "- `много времени` провели в приложении - `20 000 - 35 000 секунд` (5 - 10 часов);\n",
    "\n",
    "\n",
    "- совершили `300 - 400 действий` в приложении;\n",
    "\n",
    "\n",
    "- частота действий в сессию - `около 10 событий в сессию`.\n",
    "\n",
    "***Среднестатистические пользователи***\n",
    "\n",
    "К ним относятся `1 и 2 кластеры` пользователей (673 человека).\n",
    "\n",
    "- `конверсия` в целевое действие `до 10%`;\n",
    "\n",
    "\n",
    "- `среднее время`, проведенное в приложении - `2 000 - 10 000 секунд` (от 33 минут до - 3 часов);\n",
    "\n",
    "\n",
    "- совершили либо `до 50 действий`, либо `50 - 120 действий` в приложении;\n",
    "\n",
    "\n",
    "- частота действий в сессию - `около 5 - 10 событий в сессию`.\n",
    "\n",
    "***Пользователи, склонные к оттоку***\n",
    "\n",
    "К ним относится `0 кластер` пользователей (3 314 человек).\n",
    "\n",
    "- `конверсия` в целевое действие `ближется к 0` (среднее - 1.98%);\n",
    "\n",
    "\n",
    "- `немного времени` провели в приложении - `до 2 000 секунд` (около 33 минуты);\n",
    "\n",
    "\n",
    "- совершили `до 50 действий`;\n",
    "\n",
    "\n",
    "- частота действий в сессию - `около 7 событий в сессию`."
   ]
  },
  {
   "cell_type": "markdown",
   "metadata": {},
   "source": [
    "**Удержание пользователей по кластерам**"
   ]
  },
  {
   "cell_type": "code",
   "execution_count": 44,
   "metadata": {},
   "outputs": [
    {
     "data": {
      "text/html": [
       "<div>\n",
       "<style scoped>\n",
       "    .dataframe tbody tr th:only-of-type {\n",
       "        vertical-align: middle;\n",
       "    }\n",
       "\n",
       "    .dataframe tbody tr th {\n",
       "        vertical-align: top;\n",
       "    }\n",
       "\n",
       "    .dataframe thead th {\n",
       "        text-align: right;\n",
       "    }\n",
       "</style>\n",
       "<table border=\"1\" class=\"dataframe\">\n",
       "  <thead>\n",
       "    <tr style=\"text-align: right;\">\n",
       "      <th></th>\n",
       "      <th></th>\n",
       "      <th>cohort_size</th>\n",
       "      <th>0</th>\n",
       "      <th>1</th>\n",
       "      <th>2</th>\n",
       "      <th>3</th>\n",
       "      <th>4</th>\n",
       "    </tr>\n",
       "    <tr>\n",
       "      <th>cluster</th>\n",
       "      <th>week</th>\n",
       "      <th></th>\n",
       "      <th></th>\n",
       "      <th></th>\n",
       "      <th></th>\n",
       "      <th></th>\n",
       "      <th></th>\n",
       "    </tr>\n",
       "  </thead>\n",
       "  <tbody>\n",
       "    <tr>\n",
       "      <th rowspan=\"4\" valign=\"top\">0</th>\n",
       "      <th>41</th>\n",
       "      <td>764</td>\n",
       "      <td>1.0</td>\n",
       "      <td>0.181937</td>\n",
       "      <td>0.003927</td>\n",
       "      <td>0.00000</td>\n",
       "      <td>0.00000</td>\n",
       "    </tr>\n",
       "    <tr>\n",
       "      <th>42</th>\n",
       "      <td>841</td>\n",
       "      <td>1.0</td>\n",
       "      <td>0.181926</td>\n",
       "      <td>0.005945</td>\n",
       "      <td>0.00000</td>\n",
       "      <td>0.00000</td>\n",
       "    </tr>\n",
       "    <tr>\n",
       "      <th>43</th>\n",
       "      <td>887</td>\n",
       "      <td>1.0</td>\n",
       "      <td>0.188275</td>\n",
       "      <td>0.012401</td>\n",
       "      <td>0.00000</td>\n",
       "      <td>0.00000</td>\n",
       "    </tr>\n",
       "    <tr>\n",
       "      <th>44</th>\n",
       "      <td>822</td>\n",
       "      <td>1.0</td>\n",
       "      <td>0.136253</td>\n",
       "      <td>0.000000</td>\n",
       "      <td>0.00000</td>\n",
       "      <td>0.00000</td>\n",
       "    </tr>\n",
       "    <tr>\n",
       "      <th>1</th>\n",
       "      <th>41</th>\n",
       "      <td>219</td>\n",
       "      <td>1.0</td>\n",
       "      <td>0.438356</td>\n",
       "      <td>0.648402</td>\n",
       "      <td>0.47032</td>\n",
       "      <td>0.16895</td>\n",
       "    </tr>\n",
       "  </tbody>\n",
       "</table>\n",
       "</div>"
      ],
      "text/plain": [
       "              cohort_size    0         1         2        3        4\n",
       "cluster week                                                        \n",
       "0       41            764  1.0  0.181937  0.003927  0.00000  0.00000\n",
       "        42            841  1.0  0.181926  0.005945  0.00000  0.00000\n",
       "        43            887  1.0  0.188275  0.012401  0.00000  0.00000\n",
       "        44            822  1.0  0.136253  0.000000  0.00000  0.00000\n",
       "1       41            219  1.0  0.438356  0.648402  0.47032  0.16895"
      ]
     },
     "execution_count": 44,
     "metadata": {},
     "output_type": "execute_result"
    }
   ],
   "source": [
    "retention_raw_clusters, retention_clusters = get_retention(\n",
    "    profiles, dataset, dimensions = ['cluster', 'week'])\n",
    "\n",
    "retention_clusters.head()"
   ]
  },
  {
   "cell_type": "code",
   "execution_count": 45,
   "metadata": {},
   "outputs": [
    {
     "data": {
      "image/png": "[encoded data removed]",
      "text/plain": [
       "<Figure size 1152x1296 with 11 Axes>"
      ]
     },
     "metadata": {},
     "output_type": "display_data"
    }
   ],
   "source": [
    "#построим тепловые карты удержания\n",
    "\n",
    "fig, axs = plt.subplots(3, 2, figsize = (16,18))\n",
    "plt.subplots_adjust(hspace= 0.3)\n",
    "\n",
    "a = 0\n",
    "b = 0\n",
    "\n",
    "for cluster in profiles['cluster'].unique(): # построим график по каждому кластеру\n",
    "    cluster = cluster\n",
    "    sns.heatmap(\n",
    "        (\n",
    "    retention_clusters             # преобразуем таблицу удержания\n",
    "    .reset_index()                 # удалим мультииндекс\n",
    "    .query('cluster == @cluster')  # сделаем срез по кластеру\n",
    "    .set_index('week')             # недели привлечения делаем индексом\n",
    "    ) \n",
    "    .drop(columns=['cluster', 'cohort_size', '0']),  #исключаем колонки с кластером, размером когорты и 1 день посещения\n",
    "    ax = axs[a, b], \n",
    "        annot=True, \n",
    "        fmt='.2%'      \n",
    "    )\n",
    "    axs[a, b].set_title('Тепловая карта удержания {} кластера'.format(cluster)) \n",
    "    axs[a, b].set_xlabel('Недели')\n",
    "    \n",
    "    if b == 0:\n",
    "        b = 1\n",
    "    else:\n",
    "        a += 1\n",
    "        b = 0\n",
    "    "
   ]
  },
  {
   "cell_type": "markdown",
   "metadata": {},
   "source": [
    "В кластеры попали пользоатели из разных недель привлечения.\n",
    "\n",
    "Кто-то `удерживался до конца 4 недели` со дня первого посещения, кто-то `попал в отток`, а какие-то группы просто `не успели \"дожить\"` до 4 недели со дня своего привлечения.\n",
    "\n",
    "Поэтому мы расчитаем `среднее удержание по кластерам`, учитывая момент, что определенные пользователи могли не \"дожить\" до последней недели анализа.\n",
    "\n",
    "Если этого не сделать, то среднее недельное удержание сильно снизится из-за наличия 0% в \"недоживших\" группах.\n",
    "\n",
    "Будем исключать нулевое удержание."
   ]
  },
  {
   "cell_type": "code",
   "execution_count": 46,
   "metadata": {},
   "outputs": [
    {
     "data": {
      "text/html": [
       "<div>\n",
       "<style scoped>\n",
       "    .dataframe tbody tr th:only-of-type {\n",
       "        vertical-align: middle;\n",
       "    }\n",
       "\n",
       "    .dataframe tbody tr th {\n",
       "        vertical-align: top;\n",
       "    }\n",
       "\n",
       "    .dataframe thead th {\n",
       "        text-align: right;\n",
       "    }\n",
       "</style>\n",
       "<table border=\"1\" class=\"dataframe\">\n",
       "  <thead>\n",
       "    <tr style=\"text-align: right;\">\n",
       "      <th></th>\n",
       "      <th>cluster</th>\n",
       "      <th>week</th>\n",
       "      <th>1</th>\n",
       "      <th>2</th>\n",
       "      <th>3</th>\n",
       "      <th>4</th>\n",
       "    </tr>\n",
       "  </thead>\n",
       "  <tbody>\n",
       "    <tr>\n",
       "      <th>0</th>\n",
       "      <td>0</td>\n",
       "      <td>41</td>\n",
       "      <td>0.181937</td>\n",
       "      <td>0.003927</td>\n",
       "      <td>0.00000</td>\n",
       "      <td>0.00000</td>\n",
       "    </tr>\n",
       "    <tr>\n",
       "      <th>1</th>\n",
       "      <td>0</td>\n",
       "      <td>42</td>\n",
       "      <td>0.181926</td>\n",
       "      <td>0.005945</td>\n",
       "      <td>0.00000</td>\n",
       "      <td>0.00000</td>\n",
       "    </tr>\n",
       "    <tr>\n",
       "      <th>2</th>\n",
       "      <td>0</td>\n",
       "      <td>43</td>\n",
       "      <td>0.188275</td>\n",
       "      <td>0.012401</td>\n",
       "      <td>0.00000</td>\n",
       "      <td>0.00000</td>\n",
       "    </tr>\n",
       "    <tr>\n",
       "      <th>3</th>\n",
       "      <td>0</td>\n",
       "      <td>44</td>\n",
       "      <td>0.136253</td>\n",
       "      <td>0.000000</td>\n",
       "      <td>0.00000</td>\n",
       "      <td>0.00000</td>\n",
       "    </tr>\n",
       "    <tr>\n",
       "      <th>4</th>\n",
       "      <td>1</td>\n",
       "      <td>41</td>\n",
       "      <td>0.438356</td>\n",
       "      <td>0.648402</td>\n",
       "      <td>0.47032</td>\n",
       "      <td>0.16895</td>\n",
       "    </tr>\n",
       "  </tbody>\n",
       "</table>\n",
       "</div>"
      ],
      "text/plain": [
       "   cluster  week         1         2        3        4\n",
       "0        0    41  0.181937  0.003927  0.00000  0.00000\n",
       "1        0    42  0.181926  0.005945  0.00000  0.00000\n",
       "2        0    43  0.188275  0.012401  0.00000  0.00000\n",
       "3        0    44  0.136253  0.000000  0.00000  0.00000\n",
       "4        1    41  0.438356  0.648402  0.47032  0.16895"
      ]
     },
     "execution_count": 46,
     "metadata": {},
     "output_type": "execute_result"
    }
   ],
   "source": [
    "#создадим датафрейм, удалив мультииндекс, размер когорты и 0 неделю удержания (100%)\n",
    "\n",
    "df = (\n",
    "    retention_clusters\n",
    "    .reset_index()\n",
    "    .drop(columns = ['cohort_size', '0'])\n",
    ")\n",
    "\n",
    "df.head()"
   ]
  },
  {
   "cell_type": "code",
   "execution_count": 47,
   "metadata": {},
   "outputs": [],
   "source": [
    "retention_cluster = pd.DataFrame(index = [0, 1, 2, 3 ,4]) #создадим пустой датафрейм с кластерами в индексах\n",
    "\n",
    "for cluster in df['cluster'].unique():\n",
    "    data = df[df['cluster'] == cluster] # срез таблицы по каждому кластеру\n",
    "    \n",
    "    for col in df[['1', '2', '3', '4']]: \n",
    "        data_col = data[col]\n",
    "        data_col = data_col.replace(0, np.nan).dropna()  #заполним в столбце и удалим nan\n",
    "        mean = data_col.mean()                           #посчитаем среднее\n",
    "        retention_cluster.loc[cluster, col] = mean       #сохраним среднее по неделе в созданном датафрейме"
   ]
  },
  {
   "cell_type": "code",
   "execution_count": 48,
   "metadata": {},
   "outputs": [
    {
     "data": {
      "text/html": [
       "<div>\n",
       "<style scoped>\n",
       "    .dataframe tbody tr th:only-of-type {\n",
       "        vertical-align: middle;\n",
       "    }\n",
       "\n",
       "    .dataframe tbody tr th {\n",
       "        vertical-align: top;\n",
       "    }\n",
       "\n",
       "    .dataframe thead th {\n",
       "        text-align: right;\n",
       "    }\n",
       "</style>\n",
       "<table border=\"1\" class=\"dataframe\">\n",
       "  <thead>\n",
       "    <tr style=\"text-align: right;\">\n",
       "      <th></th>\n",
       "      <th>1</th>\n",
       "      <th>2</th>\n",
       "      <th>3</th>\n",
       "      <th>4</th>\n",
       "    </tr>\n",
       "  </thead>\n",
       "  <tbody>\n",
       "    <tr>\n",
       "      <th>0</th>\n",
       "      <td>0.172098</td>\n",
       "      <td>0.007424</td>\n",
       "      <td>NaN</td>\n",
       "      <td>NaN</td>\n",
       "    </tr>\n",
       "    <tr>\n",
       "      <th>1</th>\n",
       "      <td>0.661676</td>\n",
       "      <td>0.759946</td>\n",
       "      <td>0.409763</td>\n",
       "      <td>0.168950</td>\n",
       "    </tr>\n",
       "    <tr>\n",
       "      <th>2</th>\n",
       "      <td>0.916508</td>\n",
       "      <td>0.672052</td>\n",
       "      <td>0.439789</td>\n",
       "      <td>0.220588</td>\n",
       "    </tr>\n",
       "    <tr>\n",
       "      <th>3</th>\n",
       "      <td>0.296750</td>\n",
       "      <td>0.070652</td>\n",
       "      <td>0.013496</td>\n",
       "      <td>NaN</td>\n",
       "    </tr>\n",
       "    <tr>\n",
       "      <th>4</th>\n",
       "      <td>0.900000</td>\n",
       "      <td>0.950000</td>\n",
       "      <td>0.950000</td>\n",
       "      <td>0.700000</td>\n",
       "    </tr>\n",
       "  </tbody>\n",
       "</table>\n",
       "</div>"
      ],
      "text/plain": [
       "          1         2         3         4\n",
       "0  0.172098  0.007424       NaN       NaN\n",
       "1  0.661676  0.759946  0.409763  0.168950\n",
       "2  0.916508  0.672052  0.439789  0.220588\n",
       "3  0.296750  0.070652  0.013496       NaN\n",
       "4  0.900000  0.950000  0.950000  0.700000"
      ]
     },
     "execution_count": 48,
     "metadata": {},
     "output_type": "execute_result"
    }
   ],
   "source": [
    "retention_cluster"
   ]
  },
  {
   "cell_type": "code",
   "execution_count": 49,
   "metadata": {},
   "outputs": [
    {
     "data": {
      "image/png": "[encoded data removed]",
      "text/plain": [
       "<Figure size 576x432 with 2 Axes>"
      ]
     },
     "metadata": {},
     "output_type": "display_data"
    }
   ],
   "source": [
    "#визуализируем удержание по кластерам\n",
    "\n",
    "plt.figure(figsize = (8, 6)) \n",
    "\n",
    "sns.heatmap(\n",
    "            retention_cluster, \n",
    "            annot = True,  \n",
    "            fmt = '.2%' \n",
    "           )\n",
    "plt.title('Тепловая карта удержания по кластерам') \n",
    "plt.xlabel('Недели')\n",
    "\n",
    "plt.show()"
   ]
  },
  {
   "cell_type": "markdown",
   "metadata": {},
   "source": [
    "***Пользователи, склонные к оттоку*** (0 кластер) `удерживаются обычно 2 недели`:\n",
    "\n",
    "- `17.21%` пользователей заходили в приложении еще раз в течение недели со дня первого посещения;\n",
    "- `0.74%` заходили на следующей неделе.\n",
    "\n",
    "***Среднестатистические пользователи*** удерживались на протяжении 4-х недель.\n",
    "\n",
    "`1 кластер`:\n",
    "\n",
    "- `66.17%` пользователей заходили в приложении еще раз в течение недели со дня первого посещения;\n",
    "- `75.99%` зашли на следующей неделе;\n",
    "\n",
    "Показатель выше предыдущего. Это говорит о том, что некоторая часть пользователей зашла в приложение еще раз только через неделю со дня первого посещения.\n",
    "\n",
    "- `40.98%` зашли в приложении на 3 неделе;\n",
    "- `16.89%` зашли в приложении на 4 неделе.\n",
    "\n",
    "`2 кластер`:\n",
    "\n",
    "- `91.65%` пользователей заходили в приложении еще раз в течение недели со дня первого посещения;\n",
    "- `67.21%` зашли на следующей неделе;\n",
    "- `43.98%` зашли в приложении на 3 неделе;\n",
    "- `22.06%` зашли в приложении на 4 неделе.\n",
    "\n",
    "***Золотые пользователи*** , привлеченные на 41 неделе в данном кластере, не заходили на 4 неделе, а пользователи из других недель привлечения \"не дожили\" до 4 недели анализа. Нельзя сказать, что они попали в отток: пользователи могли зайти через неделю или две, но этими данными аналитик не располагает.\n",
    "\n",
    "`3 кластер`:\n",
    "\n",
    "- `29.68%` пользователей заходили в приложении еще раз в течение недели со дня первого посещения;\n",
    "- `7.07%` зашли на следующей неделе;\n",
    "- `1.35%` зашли в приложении на 3 неделе.\n",
    "\n",
    "***Активные пользователи*** (4 кластер) показывают самые высокие проценты удержания.\n",
    "\n",
    "- `90%` пользователей заходили в приложении еще раз в течение недели со дня первого посещения;\n",
    "- `95%` зашли на следующей неделе;\n",
    "\n",
    "Показатель выше предыдущего. Это говорит о том, что некоторая часть пользователей зашла в приложение еще раз только через неделю со дня первого посещения.\n",
    "\n",
    "- `95%` зашли в приложении на 3 неделе;\n",
    "- `70%` зашли в приложении на 4 неделе.\n"
   ]
  },
  {
   "cell_type": "markdown",
   "metadata": {},
   "source": [
    "### Вывод\n",
    "\n",
    "В результате кластеризации были определены `5 кластеров` пользователей, различающихся по своему поведению в приложении: \n",
    "\n",
    "- по удержанию (retention rate); \n",
    "\n",
    "- времени, проведённом в приложении;\n",
    "\n",
    "- количеству совершенных событий;\n",
    "\n",
    "- частоте действий;\n",
    "\n",
    "- конверсии в целевое действие — просмотр контактов.\n",
    "\n",
    "\n",
    "***Среднестатистические пользователи.*** К ним относятся `1 и 2 кластеры` пользователей (492 и 181 пользователей соответственно).\n",
    "\n",
    "- удержание пользователей на первой неделе со дня привлечения составляет `66.17 - 91.65%`. На последней 4 неделе в датасете удерживается `16.89 - 22.06%` пользователей.\n",
    "\n",
    "\n",
    "- `среднее время`, проведенное в приложении - `2 000 - 10 000 секунд` (от 33 минут до - 3 часов);\n",
    "\n",
    "\n",
    "- совершили либо `до 50 действий`, либо `50 - 120 действий` в приложении;\n",
    "\n",
    "\n",
    "- частота действий в сессию - `около 5 - 10 событий в сессию`;\n",
    "\n",
    "\n",
    "- `конверсия` в целевое действие `до 10%`.\n",
    "\n",
    "\n",
    "***Золотые пользователи.*** К ним относится `3 кластер` пользователей (293 человека).\n",
    "\n",
    "- долго не удерживаются (нашли, что искали, и забывают о приложении);\n",
    "\n",
    "Среднее удержание пользователей на первой неделе со дня привлечения (зашли хотя бы раз на текущей неделе) составляет `29.68%`. На последней 3 неделе удержание значительно снижается `1.35%`. За 4 неделю в датасете нет данных об этих пользователях.\n",
    "\n",
    "- `немного времени` провели в приложении - `до 2 000 секунд` (около 33 минуты);\n",
    "\n",
    "\n",
    "- совершили `до 50 действий` в приложении;\n",
    "\n",
    "\n",
    "- частота действий в сессию - `около 6 событий в сессию`;\n",
    "\n",
    "\n",
    "- `конверсия` в целевое действие `40 - 70%`.\n",
    "\n",
    "***Активные пользователи.*** К ним относится `4 кластер` пользователей (13 человек).\n",
    "\n",
    "- самые высокие проценты удержания.\n",
    "\n",
    "Среднее удержание пользователей на первой неделе со дня привлечения (зашли хотя бы раз на текущей неделе) составляет `90%`. \n",
    "\n",
    "На последней 4 неделе в датасете удержание значительно снижается `70%`.\n",
    "\n",
    "- `много времени` провели в приложении - `20 000 - 35 000 секунд` (5 - 10 часов);\n",
    "\n",
    "\n",
    "- совершили `300 - 400 действий` в приложении;\n",
    "\n",
    "\n",
    "- частота действий в сессию - `около 10 событий в сессию`;\n",
    "\n",
    "\n",
    "- `конверсия` в целевое действие `до 21%`.\n",
    "\n",
    "\n",
    "***Пользователи, склонные к оттоку.*** К ним относится `0 кластер` пользователей (3 314 человек).\n",
    "\n",
    "- `удерживаются обычно 2 недели`;\n",
    "\n",
    "`17.21%` пользователей заходили в приложении еще раз в течение недели со дня первого посещения. \n",
    "\n",
    "`0.74%` заходили на следующей неделе.\n",
    "\n",
    "- `немного времени` провели в приложении - `до 2 000 секунд` (около 33 минуты);\n",
    "\n",
    "\n",
    "- совершили `до 50 действий`;\n",
    "\n",
    "\n",
    "- частота действий в сессию - `около 7 событий в сессию`;\n",
    "\n",
    "\n",
    "- `конверсия` в целевое действие `ближется к 0` (среднее - 1.98%).\n"
   ]
  },
  {
   "cell_type": "markdown",
   "metadata": {},
   "source": [
    "## Проверка статистических гипотез\n",
    "\n",
    "**1 гипотеза** \n",
    "\n",
    "Некоторые пользователи установили приложение по ссылке из `yandex`, другие — из `google`. \n",
    "\n",
    "`Нулевая гипотеза`: две эти группы демонстрируют `одинаковую конверсию` в просмотры контактов.\n",
    "\n",
    "`Альтернативная гипотеза`: группы демонстрируют`разную конверсию `в просмотры контактов."
   ]
  },
  {
   "cell_type": "markdown",
   "metadata": {},
   "source": [
    "Используем `T-критерий Стьюдента` для оценки выборок."
   ]
  },
  {
   "cell_type": "code",
   "execution_count": 50,
   "metadata": {},
   "outputs": [],
   "source": [
    "#определим уровень статистической значимости\n",
    "\n",
    "alpha = 0.05 "
   ]
  },
  {
   "cell_type": "code",
   "execution_count": 51,
   "metadata": {},
   "outputs": [],
   "source": [
    "result_source = st.ttest_ind(profiles[profiles['source'] == 'google']['conversion'],\n",
    "                            profiles[profiles['source'] == 'yandex']['conversion'])"
   ]
  },
  {
   "cell_type": "code",
   "execution_count": 52,
   "metadata": {},
   "outputs": [
    {
     "name": "stdout",
     "output_type": "stream",
     "text": [
      "0.84418359340046 \n",
      "Не удалось отвергнуть нулевую гипотезу\n"
     ]
    }
   ],
   "source": [
    "if result_source.pvalue < alpha:\n",
    "    print(result_source.pvalue, '\\nОтвергаем нулевую гипотезу')\n",
    "else:\n",
    "    print(result_source.pvalue,'\\nНе удалось отвергнуть нулевую гипотезу')"
   ]
  },
  {
   "cell_type": "markdown",
   "metadata": {},
   "source": [
    "Мы `не можем утвердать`, что пользователи, установившие приложение из \"google\" и \"yandex\" демонстрируют`разную конверсию `в просмотры контактов.\n",
    "\n",
    "Вероятнее всего, не этот признак влияет на поведение пользователей в приложении."
   ]
  },
  {
   "cell_type": "markdown",
   "metadata": {},
   "source": [
    "**2 гипотеза**\n",
    "\n",
    "Кластеры пользователей, у которых средняя частота событий за сессию выше, чаще просматривают контакты (целевое событие).\n",
    "\n",
    "`Нулевая гипотеза`: кластеры с высокой средней частотой событий за сессию и минимальной демонстрируют `одинаковую конверсию` в просмотры контактов.\n",
    "\n",
    "`Альтернативная гипотеза`: кластеры с высокой частотой событий за сессию и минимальной демонстрируют`разную конверсию `в просмотры контактов.\n"
   ]
  },
  {
   "cell_type": "code",
   "execution_count": 53,
   "metadata": {},
   "outputs": [
    {
     "data": {
      "text/plain": [
       "cluster\n",
       "0    7.415812\n",
       "1    4.583333\n",
       "2    9.988950\n",
       "3    5.860068\n",
       "4    9.846154\n",
       "Name: events_in_session, dtype: float64"
      ]
     },
     "execution_count": 53,
     "metadata": {},
     "output_type": "execute_result"
    }
   ],
   "source": [
    "#рассмотрим среднюю частоту действий в сессию по кластерам\n",
    "\n",
    "profiles.groupby('cluster')['events_in_session'].mean()"
   ]
  },
  {
   "cell_type": "markdown",
   "metadata": {},
   "source": [
    "`2 и 4` класстеры отличаются по своим средним показателям (почти 10 дейстий за сессию).\n",
    "\n",
    "Условно объединим их `в одну группу` с высокой частотой действий.\n",
    "\n",
    "`Во второй` группе будут `0, 1 и 3` кластеры со средней частотой до 7 действий."
   ]
  },
  {
   "cell_type": "markdown",
   "metadata": {},
   "source": [
    "Воспользуемся снова `T-критерием Стьюдента`."
   ]
  },
  {
   "cell_type": "code",
   "execution_count": 54,
   "metadata": {},
   "outputs": [],
   "source": [
    "result_events = st.ttest_ind(profiles[(profiles['cluster'] == 2) | (profiles['cluster'] == 4)]['conversion'],\n",
    "                            profiles[(profiles['cluster'] != 2) | (profiles['cluster'] != 4)]['conversion'])"
   ]
  },
  {
   "cell_type": "code",
   "execution_count": 55,
   "metadata": {},
   "outputs": [
    {
     "name": "stdout",
     "output_type": "stream",
     "text": [
      "0.8158362280563208 \n",
      "Не удалось отвергнуть нулевую гипотезу\n"
     ]
    }
   ],
   "source": [
    "if result_events.pvalue < alpha:\n",
    "    print(result_events.pvalue, '\\nОтвергаем нулевую гипотезу')\n",
    "else:\n",
    "    print(result_events.pvalue, '\\nНе удалось отвергнуть нулевую гипотезу')"
   ]
  },
  {
   "cell_type": "markdown",
   "metadata": {},
   "source": [
    "Мы `не можем утверждать`, что кластеры с высокой частотой событий за сессию и минимальной демонстрируют `разную конверсию `в целевое действие (просмотры контактов)."
   ]
  },
  {
   "cell_type": "markdown",
   "metadata": {},
   "source": [
    "**Вывод**\n",
    "\n",
    "Нами были проанализированы 2 гипотезы влияние признаков на конверию в целевое действие.\n",
    "\n",
    "***В 1 гипотезе*** были рассмотрены источники, с которых пользователь установил приложение: \"google\" и \"yandex\".\n",
    "\n",
    "Нам `не удалось отвергнуть нулевую гипотезу`. \n",
    "\n",
    "Мы `не можем утвердать`, что пользователи, установившие приложение из \"google\" и \"yandex\" демонстрируют `разную конверсию `в просмотры контактов.\n",
    "\n",
    "Вероятнее всего, не этот признак влияет на поведение пользователей в приложении.\n",
    "\n",
    "***Во 2 гипотезе*** мы разделили кластеры пользователей на 2 условных группы: кластеры с высокой средней частотой событий за сессию и минимальной.\n",
    "\n",
    "В ходе анализа мы `не смогли отвергнуть нулевую гипотезу` о том, что условные группы показывают одинаковую конверсию.\n",
    "\n",
    "Мы `не можем утверждать`, что кластеры с высокой частотой событий за сессию и минимальной демонстрируют `разную конверсию `в целевое действие (просмотры контактов)."
   ]
  },
  {
   "cell_type": "markdown",
   "metadata": {},
   "source": [
    "## Рекомендации\n",
    "\n",
    "**Краткий вывод**\n",
    "\n",
    "`Самое лучшее удержание` показывают пользователи из `4` (13 человек) и `2` (181 пользователь) кластеров.\n",
    "\n",
    "Их количество достаточно мало по сравнению с общим объемом пользователей. Это говорит о том, что значительная часть пользователей показывает либо среднее удержание (66.17% заходили еще раз в течение недели), либо низкое и склонное к оттоку.\n",
    "\n",
    "- `1 кластер` (492 пользователя) показывает `среднее удержание`:\n",
    "\n",
    "`66.17%` пользователей заходили в приложении еще раз в течение недели со дня первого посещения;\n",
    "\n",
    "`16.89%` зашли в приложении на 4 неделе (к концу месяца).\n",
    "\n",
    "\n",
    "- `3 кластер` (293 человека);\n",
    "\n",
    "Группа пользователей обладает самой высокой конверсией в целевое действие - `40 - 70%`.\n",
    "\n",
    "`29.68%` пользователей зашли на первой неделе со дня привлечения. \n",
    "\n",
    "`1.35%` зашли в приложении на 4 неделе (к концу месяца).\n",
    "\n",
    "\n",
    "- `0 кластер` (3 314 человек) - 77% всех пользователей, которые удерживаются только 2 недели.\n",
    "\n",
    "`17.21%` пользователей заходили в приложении еще раз в течение недели со дня первого посещения.\n",
    "\n",
    "`0.74%` заходили на следующей неделе.\n",
    "\n",
    "\n",
    "Последние 3 группы составляют 95% от общего количества пользователей. Необходимо обратить внимание их удержание.\n",
    "\n",
    "**Возможные причины потери интереса**\n",
    "\n",
    "Выделим три основные причины:\n",
    "\n",
    "- неудачный интерфейс;\n",
    "- плохое первое впечатление;\n",
    "- несоответствие ожиданиям.\n",
    "\n",
    "`3 кластер` показывает высокую конверсию, но в течение недели в приложение вновь заходит только 29.68% пользователей. \n",
    "\n",
    "Если после первого дня использования представитель этого кластера больше не использует продукт, следовательно, причина либо в неудачном интерфейсе, либо в обманутых ожиданиях.\n",
    "\n",
    "Также обратим внимание, что пользователи чаще находят то, что искали, и впоследствии перестают заходить в приложение в течение длительного времени.\n",
    "\n",
    "`0 кластер` изначально склонен к оттоку: он демнстрирует низкое удержание и практически нулевую конверсию в целевое действие.\n",
    "\n",
    "Причины оттока также могут быть связаны с плохим первым впечатлением о приложении, либо в обманутых ожиданиях (пользователи не нашли то, что искали).\n",
    "\n",
    "**Рекомендации по удержанию пользователей**\n",
    "\n",
    "1. Использовать персонализированные ***Push-уведомления***.\n",
    "\n",
    "Например, `3 кластеру` стоит напоминать о себе и стимулировать его снова совершить целевое действие. \n",
    "\n",
    "Это могут быть напоминания о:\n",
    "\n",
    "- отложенных товарах;\n",
    "\n",
    "- появлении новых товаров из частых категории;\n",
    "\n",
    "- новых предложениях у человека, с которым пользователь уже совершал сделки;\n",
    "\n",
    "- появлении товара поблизости.\n",
    "\n",
    "\n",
    "2. ***Вовлекать пользователей*** в улучшение приложения.\n",
    "\n",
    "У `0 кластера` скорее всего изначально сформировалось плохое впечатление о приложении.\n",
    "\n",
    "Push-уведомление или email с просьбой оценить приложение и написать отзыв могут сподвигнуть некоторых пользователей дать обратную связь, чтобы отделам маркетинга и разработки было понятно, над чем необходимо поработать.\n",
    "\n",
    "3. ***Ввести элемент игры***\n",
    "\n",
    "Основная ценность приложения состоит в том, что дать старым вещам новую жизнь.\n",
    "\n",
    "Элемент игры в приложении может стимулировать желание людей совершать сделать (как отдавать, так и забирать).\n",
    "\n",
    "Например, это могут быть `уровневые статусы` (условно, от новичка до завсегдатая по количеству совершенных сделок). Так профиль пользователя может стать интереснее и казаться более надежным для других пользователей. \n",
    "\n",
    "Если для определенных статусов будут `проводиться розыгрыши или конкурсы призов` от партнеров, то совершать сделки и повышать свой статус становится еще интереснее."
   ]
  }
 ],
 "metadata": {
  "ExecuteTimeLog": [
   {
    "duration": 574,
    "start_time": "2022-03-08T08:33:37.109Z"
   },
   {
    "duration": 131,
    "start_time": "2022-03-08T08:35:24.302Z"
   },
   {
    "duration": 7,
    "start_time": "2022-03-08T08:38:59.750Z"
   },
   {
    "duration": 6,
    "start_time": "2022-03-08T08:39:27.944Z"
   },
   {
    "duration": 4,
    "start_time": "2022-03-08T08:46:37.138Z"
   },
   {
    "duration": 4,
    "start_time": "2022-03-08T08:47:09.066Z"
   },
   {
    "duration": 3,
    "start_time": "2022-03-08T08:47:24.312Z"
   },
   {
    "duration": 21,
    "start_time": "2022-03-08T08:48:11.368Z"
   },
   {
    "duration": 32,
    "start_time": "2022-03-08T08:52:00.341Z"
   },
   {
    "duration": 34,
    "start_time": "2022-03-08T08:52:25.439Z"
   },
   {
    "duration": 34,
    "start_time": "2022-03-08T08:55:20.325Z"
   },
   {
    "duration": 21,
    "start_time": "2022-03-08T08:55:38.136Z"
   },
   {
    "duration": 337,
    "start_time": "2022-03-08T08:57:31.371Z"
   },
   {
    "duration": 24,
    "start_time": "2022-03-08T08:57:37.493Z"
   },
   {
    "duration": 18,
    "start_time": "2022-03-08T08:57:57.338Z"
   },
   {
    "duration": 18,
    "start_time": "2022-03-08T08:58:20.826Z"
   },
   {
    "duration": 16,
    "start_time": "2022-03-08T08:58:28.723Z"
   },
   {
    "duration": 17,
    "start_time": "2022-03-08T08:58:43.566Z"
   },
   {
    "duration": 95,
    "start_time": "2022-03-08T08:59:03.101Z"
   },
   {
    "duration": 267,
    "start_time": "2022-03-08T08:59:09.524Z"
   },
   {
    "duration": 18,
    "start_time": "2022-03-08T08:59:19.395Z"
   },
   {
    "duration": 17,
    "start_time": "2022-03-08T08:59:23.061Z"
   },
   {
    "duration": 20,
    "start_time": "2022-03-08T08:59:50.436Z"
   },
   {
    "duration": 17,
    "start_time": "2022-03-08T08:59:58.202Z"
   },
   {
    "duration": 17,
    "start_time": "2022-03-08T09:00:22.898Z"
   },
   {
    "duration": 115,
    "start_time": "2022-03-08T09:00:42.528Z"
   },
   {
    "duration": 34,
    "start_time": "2022-03-08T09:01:05.241Z"
   },
   {
    "duration": 6349,
    "start_time": "2022-03-08T09:03:52.531Z"
   },
   {
    "duration": 6511,
    "start_time": "2022-03-08T09:04:20.249Z"
   },
   {
    "duration": 19,
    "start_time": "2022-03-08T09:05:21.385Z"
   },
   {
    "duration": 40,
    "start_time": "2022-03-08T09:05:24.147Z"
   },
   {
    "duration": 24,
    "start_time": "2022-03-08T09:05:27.080Z"
   },
   {
    "duration": 12,
    "start_time": "2022-03-08T09:05:29.504Z"
   },
   {
    "duration": 15,
    "start_time": "2022-03-08T09:07:49.723Z"
   },
   {
    "duration": 7,
    "start_time": "2022-03-08T09:08:06.010Z"
   },
   {
    "duration": 11,
    "start_time": "2022-03-08T09:24:01.949Z"
   },
   {
    "duration": 175,
    "start_time": "2022-03-08T11:39:23.091Z"
   },
   {
    "duration": 635,
    "start_time": "2022-03-08T11:39:47.635Z"
   },
   {
    "duration": 3,
    "start_time": "2022-03-08T11:40:14.021Z"
   },
   {
    "duration": 278,
    "start_time": "2022-03-08T11:40:15.895Z"
   },
   {
    "duration": 281,
    "start_time": "2022-03-08T11:40:35.962Z"
   },
   {
    "duration": 324,
    "start_time": "2022-03-08T11:40:48.014Z"
   },
   {
    "duration": 148,
    "start_time": "2022-03-08T11:41:26.020Z"
   },
   {
    "duration": 278,
    "start_time": "2022-03-08T11:41:32.283Z"
   },
   {
    "duration": 269,
    "start_time": "2022-03-08T11:41:34.214Z"
   },
   {
    "duration": 279,
    "start_time": "2022-03-08T11:51:26.627Z"
   },
   {
    "duration": 282,
    "start_time": "2022-03-08T11:54:28.345Z"
   },
   {
    "duration": 254,
    "start_time": "2022-03-08T11:54:49.685Z"
   },
   {
    "duration": 543,
    "start_time": "2022-03-08T11:55:35.562Z"
   },
   {
    "duration": 630,
    "start_time": "2022-03-08T11:55:58.329Z"
   },
   {
    "duration": 622,
    "start_time": "2022-03-08T11:56:12.387Z"
   },
   {
    "duration": 709,
    "start_time": "2022-03-08T11:56:27.017Z"
   },
   {
    "duration": 472,
    "start_time": "2022-03-08T11:56:33.048Z"
   },
   {
    "duration": 86,
    "start_time": "2022-03-08T11:58:27.756Z"
   },
   {
    "duration": 540,
    "start_time": "2022-03-08T11:58:40.810Z"
   },
   {
    "duration": 278,
    "start_time": "2022-03-08T12:00:08.693Z"
   },
   {
    "duration": 488,
    "start_time": "2022-03-08T12:00:45.021Z"
   },
   {
    "duration": 462,
    "start_time": "2022-03-08T12:00:58.707Z"
   },
   {
    "duration": 488,
    "start_time": "2022-03-08T12:01:35.877Z"
   },
   {
    "duration": 485,
    "start_time": "2022-03-08T12:01:44.407Z"
   },
   {
    "duration": 509,
    "start_time": "2022-03-08T12:01:53.483Z"
   },
   {
    "duration": 502,
    "start_time": "2022-03-08T12:02:02.712Z"
   },
   {
    "duration": 8,
    "start_time": "2022-03-08T12:06:36.439Z"
   },
   {
    "duration": 8,
    "start_time": "2022-03-08T12:06:49.089Z"
   },
   {
    "duration": 7,
    "start_time": "2022-03-08T12:08:11.542Z"
   },
   {
    "duration": 7,
    "start_time": "2022-03-08T12:09:20.104Z"
   },
   {
    "duration": 7,
    "start_time": "2022-03-08T12:09:30.692Z"
   },
   {
    "duration": 10,
    "start_time": "2022-03-08T12:13:12.774Z"
   },
   {
    "duration": 481,
    "start_time": "2022-03-08T12:16:57.192Z"
   },
   {
    "duration": 487,
    "start_time": "2022-03-08T12:17:14.499Z"
   },
   {
    "duration": 500,
    "start_time": "2022-03-08T12:18:16.739Z"
   },
   {
    "duration": 337,
    "start_time": "2022-03-08T12:18:46.286Z"
   },
   {
    "duration": 300,
    "start_time": "2022-03-08T12:19:06.664Z"
   },
   {
    "duration": 331,
    "start_time": "2022-03-08T12:19:15.607Z"
   },
   {
    "duration": 292,
    "start_time": "2022-03-08T12:19:34.553Z"
   },
   {
    "duration": 5,
    "start_time": "2022-03-08T12:20:03.569Z"
   },
   {
    "duration": 735,
    "start_time": "2022-03-08T12:20:05.289Z"
   },
   {
    "duration": 391,
    "start_time": "2022-03-08T12:20:23.199Z"
   },
   {
    "duration": 392,
    "start_time": "2022-03-08T12:20:42.409Z"
   },
   {
    "duration": 392,
    "start_time": "2022-03-08T12:20:47.660Z"
   },
   {
    "duration": 411,
    "start_time": "2022-03-08T12:21:06.607Z"
   },
   {
    "duration": 302,
    "start_time": "2022-03-08T12:24:30.367Z"
   },
   {
    "duration": 15,
    "start_time": "2022-03-08T12:25:07.076Z"
   },
   {
    "duration": 7,
    "start_time": "2022-03-08T12:25:45.161Z"
   },
   {
    "duration": 7,
    "start_time": "2022-03-08T12:25:52.152Z"
   },
   {
    "duration": 14,
    "start_time": "2022-03-08T12:26:57.434Z"
   },
   {
    "duration": 13,
    "start_time": "2022-03-08T12:27:01.446Z"
   },
   {
    "duration": 13,
    "start_time": "2022-03-08T12:27:08.733Z"
   },
   {
    "duration": 9,
    "start_time": "2022-03-08T12:27:24.797Z"
   },
   {
    "duration": 9,
    "start_time": "2022-03-08T12:27:38.711Z"
   },
   {
    "duration": 13,
    "start_time": "2022-03-08T12:28:14.857Z"
   },
   {
    "duration": 62,
    "start_time": "2022-03-08T12:29:06.201Z"
   },
   {
    "duration": 70,
    "start_time": "2022-03-08T12:30:14.343Z"
   },
   {
    "duration": 25,
    "start_time": "2022-03-08T12:33:39.950Z"
   },
   {
    "duration": 66,
    "start_time": "2022-03-08T12:34:08.828Z"
   },
   {
    "duration": 6437,
    "start_time": "2022-03-08T14:00:16.206Z"
   },
   {
    "duration": 59,
    "start_time": "2022-03-08T14:00:32.153Z"
   },
   {
    "duration": 354,
    "start_time": "2022-03-08T14:01:00.715Z"
   },
   {
    "duration": 58,
    "start_time": "2022-03-08T14:01:18.205Z"
   },
   {
    "duration": 59,
    "start_time": "2022-03-08T14:01:28.591Z"
   },
   {
    "duration": 59,
    "start_time": "2022-03-08T14:02:17.305Z"
   },
   {
    "duration": 85,
    "start_time": "2022-03-08T14:02:26.184Z"
   },
   {
    "duration": 15,
    "start_time": "2022-03-08T14:02:36.089Z"
   },
   {
    "duration": 309,
    "start_time": "2022-03-08T14:03:15.701Z"
   },
   {
    "duration": 14,
    "start_time": "2022-03-08T14:03:18.996Z"
   },
   {
    "duration": 9,
    "start_time": "2022-03-08T14:03:37.733Z"
   },
   {
    "duration": 15,
    "start_time": "2022-03-08T14:03:49.189Z"
   },
   {
    "duration": 17,
    "start_time": "2022-03-08T14:04:16.532Z"
   },
   {
    "duration": 17,
    "start_time": "2022-03-08T14:04:43.274Z"
   },
   {
    "duration": 59,
    "start_time": "2022-03-08T14:04:58.831Z"
   },
   {
    "duration": 58,
    "start_time": "2022-03-08T14:05:13.375Z"
   },
   {
    "duration": 61,
    "start_time": "2022-03-08T14:05:37.122Z"
   },
   {
    "duration": 62,
    "start_time": "2022-03-08T14:05:59.585Z"
   },
   {
    "duration": 66,
    "start_time": "2022-03-08T14:06:17.661Z"
   },
   {
    "duration": 69,
    "start_time": "2022-03-08T14:06:26.501Z"
   },
   {
    "duration": 89,
    "start_time": "2022-03-08T14:06:45.081Z"
   },
   {
    "duration": 65,
    "start_time": "2022-03-08T14:08:06.894Z"
   },
   {
    "duration": 68,
    "start_time": "2022-03-08T14:08:38.306Z"
   },
   {
    "duration": 4,
    "start_time": "2022-03-08T14:09:07.236Z"
   },
   {
    "duration": 9,
    "start_time": "2022-03-08T14:09:32.640Z"
   },
   {
    "duration": 9,
    "start_time": "2022-03-08T14:09:40.474Z"
   },
   {
    "duration": 271,
    "start_time": "2022-03-08T14:12:12.128Z"
   },
   {
    "duration": 252,
    "start_time": "2022-03-08T14:12:22.011Z"
   },
   {
    "duration": 11,
    "start_time": "2022-03-08T14:12:34.650Z"
   },
   {
    "duration": 17,
    "start_time": "2022-03-08T14:12:55.749Z"
   },
   {
    "duration": 15,
    "start_time": "2022-03-08T14:13:14.999Z"
   },
   {
    "duration": 414,
    "start_time": "2022-03-08T14:16:14.604Z"
   },
   {
    "duration": 17,
    "start_time": "2022-03-08T14:17:04.615Z"
   },
   {
    "duration": 13,
    "start_time": "2022-03-08T14:17:11.630Z"
   },
   {
    "duration": 87,
    "start_time": "2022-03-08T14:17:36.060Z"
   },
   {
    "duration": 20,
    "start_time": "2022-03-08T14:17:40.341Z"
   },
   {
    "duration": 143,
    "start_time": "2022-03-08T14:24:34.904Z"
   },
   {
    "duration": 141,
    "start_time": "2022-03-08T14:24:48.038Z"
   },
   {
    "duration": 148,
    "start_time": "2022-03-08T14:25:09.825Z"
   },
   {
    "duration": 4,
    "start_time": "2022-03-08T14:29:11.539Z"
   },
   {
    "duration": 6,
    "start_time": "2022-03-08T14:29:12.316Z"
   },
   {
    "duration": 390,
    "start_time": "2022-03-08T14:33:36.660Z"
   },
   {
    "duration": 19,
    "start_time": "2022-03-08T14:35:22.757Z"
   },
   {
    "duration": 68,
    "start_time": "2022-03-08T14:39:06.326Z"
   },
   {
    "duration": 1754,
    "start_time": "2022-03-08T14:40:32.790Z"
   },
   {
    "duration": 1155,
    "start_time": "2022-03-08T14:41:03.941Z"
   },
   {
    "duration": 588,
    "start_time": "2022-03-08T14:41:17.085Z"
   },
   {
    "duration": 403,
    "start_time": "2022-03-08T14:41:28.960Z"
   },
   {
    "duration": 64,
    "start_time": "2022-03-08T14:42:20.466Z"
   },
   {
    "duration": 575,
    "start_time": "2022-03-08T14:42:26.571Z"
   },
   {
    "duration": 386,
    "start_time": "2022-03-08T14:42:42.456Z"
   },
   {
    "duration": 266,
    "start_time": "2022-03-08T14:43:46.595Z"
   },
   {
    "duration": 390,
    "start_time": "2022-03-08T14:43:57.228Z"
   },
   {
    "duration": 19,
    "start_time": "2022-03-08T14:45:13.423Z"
   },
   {
    "duration": 375,
    "start_time": "2022-03-08T14:46:08.972Z"
   },
   {
    "duration": 372,
    "start_time": "2022-03-08T14:46:16.674Z"
   },
   {
    "duration": 380,
    "start_time": "2022-03-08T14:46:35.405Z"
   },
   {
    "duration": 7,
    "start_time": "2022-03-08T14:53:12.478Z"
   },
   {
    "duration": 9,
    "start_time": "2022-03-08T14:53:19.343Z"
   },
   {
    "duration": 9,
    "start_time": "2022-03-08T14:55:43.602Z"
   },
   {
    "duration": 9,
    "start_time": "2022-03-08T14:55:53.658Z"
   },
   {
    "duration": 9,
    "start_time": "2022-03-08T14:56:48.133Z"
   },
   {
    "duration": 65,
    "start_time": "2022-03-08T15:03:19.351Z"
   },
   {
    "duration": 760,
    "start_time": "2022-03-08T15:13:02.905Z"
   },
   {
    "duration": 661,
    "start_time": "2022-03-08T15:13:43.277Z"
   },
   {
    "duration": 667,
    "start_time": "2022-03-08T15:14:17.421Z"
   },
   {
    "duration": 651,
    "start_time": "2022-03-08T15:14:34.767Z"
   },
   {
    "duration": 656,
    "start_time": "2022-03-08T15:14:56.635Z"
   },
   {
    "duration": 653,
    "start_time": "2022-03-08T15:15:03.622Z"
   },
   {
    "duration": 695,
    "start_time": "2022-03-08T15:15:45.311Z"
   },
   {
    "duration": 7,
    "start_time": "2022-03-08T15:30:28.485Z"
   },
   {
    "duration": 26,
    "start_time": "2022-03-08T15:32:32.522Z"
   },
   {
    "duration": 28,
    "start_time": "2022-03-08T15:33:12.717Z"
   },
   {
    "duration": 1153,
    "start_time": "2022-03-08T15:34:19.904Z"
   },
   {
    "duration": 4,
    "start_time": "2022-03-08T15:34:21.059Z"
   },
   {
    "duration": 140,
    "start_time": "2022-03-08T15:34:21.078Z"
   },
   {
    "duration": 9,
    "start_time": "2022-03-08T15:34:21.220Z"
   },
   {
    "duration": 27,
    "start_time": "2022-03-08T15:34:21.231Z"
   },
   {
    "duration": 50,
    "start_time": "2022-03-08T15:34:21.260Z"
   },
   {
    "duration": 24,
    "start_time": "2022-03-08T15:34:21.313Z"
   },
   {
    "duration": 12,
    "start_time": "2022-03-08T15:34:21.339Z"
   },
   {
    "duration": 7,
    "start_time": "2022-03-08T15:34:21.378Z"
   },
   {
    "duration": 20,
    "start_time": "2022-03-08T15:34:21.387Z"
   },
   {
    "duration": 166,
    "start_time": "2022-03-08T15:34:21.409Z"
   },
   {
    "duration": 673,
    "start_time": "2022-03-08T15:34:21.577Z"
   },
   {
    "duration": 7,
    "start_time": "2022-03-08T15:34:22.252Z"
   },
   {
    "duration": 405,
    "start_time": "2022-03-08T15:34:22.260Z"
   },
   {
    "duration": 381,
    "start_time": "2022-03-08T15:34:22.667Z"
   },
   {
    "duration": 30,
    "start_time": "2022-03-08T15:34:23.050Z"
   },
   {
    "duration": 83,
    "start_time": "2022-03-08T15:34:23.082Z"
   },
   {
    "duration": 10,
    "start_time": "2022-03-08T15:34:23.167Z"
   },
   {
    "duration": 33,
    "start_time": "2022-03-08T15:34:23.179Z"
   },
   {
    "duration": 89,
    "start_time": "2022-03-08T15:34:23.214Z"
   },
   {
    "duration": 1198,
    "start_time": "2022-03-08T15:34:50.653Z"
   },
   {
    "duration": 4,
    "start_time": "2022-03-08T15:34:51.853Z"
   },
   {
    "duration": 138,
    "start_time": "2022-03-08T15:34:51.859Z"
   },
   {
    "duration": 8,
    "start_time": "2022-03-08T15:34:51.999Z"
   },
   {
    "duration": 20,
    "start_time": "2022-03-08T15:34:52.009Z"
   },
   {
    "duration": 58,
    "start_time": "2022-03-08T15:34:52.031Z"
   },
   {
    "duration": 24,
    "start_time": "2022-03-08T15:34:52.091Z"
   },
   {
    "duration": 12,
    "start_time": "2022-03-08T15:34:52.117Z"
   },
   {
    "duration": 10,
    "start_time": "2022-03-08T15:34:52.131Z"
   },
   {
    "duration": 9,
    "start_time": "2022-03-08T15:34:52.143Z"
   },
   {
    "duration": 162,
    "start_time": "2022-03-08T15:34:52.177Z"
   },
   {
    "duration": 670,
    "start_time": "2022-03-08T15:34:52.340Z"
   },
   {
    "duration": 7,
    "start_time": "2022-03-08T15:34:53.013Z"
   },
   {
    "duration": 409,
    "start_time": "2022-03-08T15:34:53.022Z"
   },
   {
    "duration": 379,
    "start_time": "2022-03-08T15:34:53.433Z"
   },
   {
    "duration": 20,
    "start_time": "2022-03-08T15:34:53.814Z"
   },
   {
    "duration": 88,
    "start_time": "2022-03-08T15:34:53.835Z"
   },
   {
    "duration": 11,
    "start_time": "2022-03-08T15:34:53.926Z"
   },
   {
    "duration": 12,
    "start_time": "2022-03-08T15:34:53.938Z"
   },
   {
    "duration": 104,
    "start_time": "2022-03-08T15:34:53.952Z"
   },
   {
    "duration": 384,
    "start_time": "2022-03-08T15:40:41.005Z"
   },
   {
    "duration": 805,
    "start_time": "2022-03-08T15:41:04.669Z"
   },
   {
    "duration": 1271,
    "start_time": "2022-03-08T15:42:03.744Z"
   },
   {
    "duration": 1116,
    "start_time": "2022-03-08T15:42:31.584Z"
   },
   {
    "duration": 14,
    "start_time": "2022-03-08T18:53:34.394Z"
   },
   {
    "duration": 388,
    "start_time": "2022-03-08T18:54:39.755Z"
   },
   {
    "duration": 38,
    "start_time": "2022-03-08T18:54:48.085Z"
   },
   {
    "duration": 1047,
    "start_time": "2022-03-09T09:46:48.140Z"
   },
   {
    "duration": 3,
    "start_time": "2022-03-09T09:46:49.189Z"
   },
   {
    "duration": 179,
    "start_time": "2022-03-09T09:46:49.194Z"
   },
   {
    "duration": 7,
    "start_time": "2022-03-09T09:46:49.375Z"
   },
   {
    "duration": 17,
    "start_time": "2022-03-09T09:46:49.384Z"
   },
   {
    "duration": 40,
    "start_time": "2022-03-09T09:46:49.402Z"
   },
   {
    "duration": 21,
    "start_time": "2022-03-09T09:46:49.443Z"
   },
   {
    "duration": 10,
    "start_time": "2022-03-09T09:46:49.466Z"
   },
   {
    "duration": 10,
    "start_time": "2022-03-09T09:46:49.477Z"
   },
   {
    "duration": 5,
    "start_time": "2022-03-09T09:46:49.489Z"
   },
   {
    "duration": 164,
    "start_time": "2022-03-09T09:46:49.495Z"
   },
   {
    "duration": 563,
    "start_time": "2022-03-09T09:46:49.660Z"
   },
   {
    "duration": 7,
    "start_time": "2022-03-09T09:46:50.232Z"
   },
   {
    "duration": 346,
    "start_time": "2022-03-09T09:46:50.241Z"
   },
   {
    "duration": 297,
    "start_time": "2022-03-09T09:46:50.589Z"
   },
   {
    "duration": 16,
    "start_time": "2022-03-09T09:46:50.888Z"
   },
   {
    "duration": 71,
    "start_time": "2022-03-09T09:46:50.906Z"
   },
   {
    "duration": 9,
    "start_time": "2022-03-09T09:46:50.978Z"
   },
   {
    "duration": 8,
    "start_time": "2022-03-09T09:46:50.989Z"
   },
   {
    "duration": 94,
    "start_time": "2022-03-09T09:46:50.999Z"
   },
   {
    "duration": 988,
    "start_time": "2022-03-09T09:46:51.095Z"
   },
   {
    "duration": 30,
    "start_time": "2022-03-09T09:46:52.084Z"
   },
   {
    "duration": 15,
    "start_time": "2022-03-09T11:32:06.423Z"
   },
   {
    "duration": 17,
    "start_time": "2022-03-09T11:32:47.978Z"
   },
   {
    "duration": 7,
    "start_time": "2022-03-09T11:32:55.656Z"
   },
   {
    "duration": 14,
    "start_time": "2022-03-09T11:33:19.753Z"
   },
   {
    "duration": 12,
    "start_time": "2022-03-09T11:34:16.269Z"
   },
   {
    "duration": 21,
    "start_time": "2022-03-09T11:34:31.079Z"
   },
   {
    "duration": 11,
    "start_time": "2022-03-09T11:34:43.998Z"
   },
   {
    "duration": 294,
    "start_time": "2022-03-09T11:52:06.507Z"
   },
   {
    "duration": 24,
    "start_time": "2022-03-09T11:52:14.627Z"
   },
   {
    "duration": 14,
    "start_time": "2022-03-09T11:53:54.956Z"
   },
   {
    "duration": 2257,
    "start_time": "2022-03-09T11:54:59.737Z"
   },
   {
    "duration": 170,
    "start_time": "2022-03-09T11:56:58.720Z"
   },
   {
    "duration": 7,
    "start_time": "2022-03-09T11:57:32.034Z"
   },
   {
    "duration": 183,
    "start_time": "2022-03-09T11:57:33.390Z"
   },
   {
    "duration": 31,
    "start_time": "2022-03-09T11:57:50.131Z"
   },
   {
    "duration": 28,
    "start_time": "2022-03-09T11:58:22.088Z"
   },
   {
    "duration": 191,
    "start_time": "2022-03-09T12:00:10.677Z"
   },
   {
    "duration": 7,
    "start_time": "2022-03-09T12:00:21.550Z"
   },
   {
    "duration": 17,
    "start_time": "2022-03-09T12:00:22.745Z"
   },
   {
    "duration": 201,
    "start_time": "2022-03-09T12:00:25.036Z"
   },
   {
    "duration": 4348,
    "start_time": "2022-03-09T12:00:28.439Z"
   },
   {
    "duration": 4,
    "start_time": "2022-03-09T12:00:44.480Z"
   },
   {
    "duration": 4,
    "start_time": "2022-03-09T12:01:03.185Z"
   },
   {
    "duration": 171,
    "start_time": "2022-03-09T12:01:35.587Z"
   },
   {
    "duration": 170,
    "start_time": "2022-03-09T12:01:38.432Z"
   },
   {
    "duration": 5,
    "start_time": "2022-03-09T12:02:58.489Z"
   },
   {
    "duration": 4,
    "start_time": "2022-03-09T12:03:05.899Z"
   },
   {
    "duration": 5,
    "start_time": "2022-03-09T12:03:11.213Z"
   },
   {
    "duration": 4,
    "start_time": "2022-03-09T12:03:55.701Z"
   },
   {
    "duration": 146,
    "start_time": "2022-03-09T12:05:17.278Z"
   },
   {
    "duration": 474,
    "start_time": "2022-03-09T12:05:30.263Z"
   },
   {
    "duration": 596,
    "start_time": "2022-03-09T12:05:53.549Z"
   },
   {
    "duration": 441,
    "start_time": "2022-03-09T12:06:24.047Z"
   },
   {
    "duration": 36,
    "start_time": "2022-03-09T12:07:12.634Z"
   },
   {
    "duration": 55,
    "start_time": "2022-03-09T12:07:26.158Z"
   },
   {
    "duration": 454,
    "start_time": "2022-03-09T12:07:59.119Z"
   },
   {
    "duration": 476,
    "start_time": "2022-03-09T12:08:15.747Z"
   },
   {
    "duration": 11,
    "start_time": "2022-03-09T12:08:36.337Z"
   },
   {
    "duration": 16,
    "start_time": "2022-03-09T12:08:39.961Z"
   },
   {
    "duration": 4,
    "start_time": "2022-03-09T12:08:55.412Z"
   },
   {
    "duration": 8,
    "start_time": "2022-03-09T12:09:08.253Z"
   },
   {
    "duration": 13,
    "start_time": "2022-03-09T12:09:10.258Z"
   },
   {
    "duration": 4,
    "start_time": "2022-03-09T12:09:13.686Z"
   },
   {
    "duration": 546,
    "start_time": "2022-03-09T12:09:32.449Z"
   },
   {
    "duration": 13,
    "start_time": "2022-03-09T12:09:57.247Z"
   },
   {
    "duration": 449,
    "start_time": "2022-03-09T12:10:26.108Z"
   },
   {
    "duration": 61,
    "start_time": "2022-03-09T12:10:53.948Z"
   },
   {
    "duration": 19,
    "start_time": "2022-03-09T12:11:00.326Z"
   },
   {
    "duration": 62,
    "start_time": "2022-03-09T12:11:25.294Z"
   },
   {
    "duration": 15,
    "start_time": "2022-03-09T12:11:27.394Z"
   },
   {
    "duration": 272,
    "start_time": "2022-03-09T12:11:59.176Z"
   },
   {
    "duration": 263,
    "start_time": "2022-03-09T12:12:10.729Z"
   },
   {
    "duration": 246,
    "start_time": "2022-03-09T12:12:27.680Z"
   },
   {
    "duration": 254,
    "start_time": "2022-03-09T12:12:34.286Z"
   },
   {
    "duration": 242,
    "start_time": "2022-03-09T12:12:46.456Z"
   },
   {
    "duration": 249,
    "start_time": "2022-03-09T12:12:56.672Z"
   },
   {
    "duration": 262,
    "start_time": "2022-03-09T12:13:07.178Z"
   },
   {
    "duration": 264,
    "start_time": "2022-03-09T12:13:12.812Z"
   },
   {
    "duration": 15,
    "start_time": "2022-03-09T12:19:37.160Z"
   },
   {
    "duration": 31,
    "start_time": "2022-03-09T12:19:55.648Z"
   },
   {
    "duration": 30,
    "start_time": "2022-03-09T12:20:07.871Z"
   },
   {
    "duration": 281,
    "start_time": "2022-03-09T12:21:20.108Z"
   },
   {
    "duration": 466,
    "start_time": "2022-03-09T12:21:37.140Z"
   },
   {
    "duration": 408,
    "start_time": "2022-03-09T12:21:52.457Z"
   },
   {
    "duration": 313,
    "start_time": "2022-03-09T12:22:04.413Z"
   },
   {
    "duration": 190,
    "start_time": "2022-03-09T12:33:26.816Z"
   },
   {
    "duration": 497,
    "start_time": "2022-03-09T12:33:40.673Z"
   },
   {
    "duration": 58243,
    "start_time": "2022-03-09T12:38:45.172Z"
   },
   {
    "duration": 66,
    "start_time": "2022-03-09T12:39:55.476Z"
   },
   {
    "duration": 13,
    "start_time": "2022-03-09T12:40:25.147Z"
   },
   {
    "duration": 9784,
    "start_time": "2022-03-09T12:41:12.954Z"
   },
   {
    "duration": 57,
    "start_time": "2022-03-09T12:41:28.746Z"
   },
   {
    "duration": 69554,
    "start_time": "2022-03-09T12:41:49.496Z"
   },
   {
    "duration": 10,
    "start_time": "2022-03-09T12:43:23.412Z"
   },
   {
    "duration": 10,
    "start_time": "2022-03-09T12:43:41.658Z"
   },
   {
    "duration": 20,
    "start_time": "2022-03-09T12:44:02.343Z"
   },
   {
    "duration": 10,
    "start_time": "2022-03-09T12:44:53.294Z"
   },
   {
    "duration": 17,
    "start_time": "2022-03-09T12:45:03.973Z"
   },
   {
    "duration": 15,
    "start_time": "2022-03-09T12:45:14.385Z"
   },
   {
    "duration": 15,
    "start_time": "2022-03-09T12:45:21.971Z"
   },
   {
    "duration": 15,
    "start_time": "2022-03-09T12:45:28.305Z"
   },
   {
    "duration": 15,
    "start_time": "2022-03-09T12:45:43.878Z"
   },
   {
    "duration": 434,
    "start_time": "2022-03-09T12:47:25.947Z"
   },
   {
    "duration": 355,
    "start_time": "2022-03-09T12:47:34.572Z"
   },
   {
    "duration": 359,
    "start_time": "2022-03-09T12:47:42.593Z"
   },
   {
    "duration": 340,
    "start_time": "2022-03-09T12:47:47.010Z"
   },
   {
    "duration": 444,
    "start_time": "2022-03-09T12:47:52.533Z"
   },
   {
    "duration": 348,
    "start_time": "2022-03-09T12:48:14.124Z"
   },
   {
    "duration": 508,
    "start_time": "2022-03-09T12:48:31.807Z"
   },
   {
    "duration": 355,
    "start_time": "2022-03-09T12:48:46.180Z"
   },
   {
    "duration": 365,
    "start_time": "2022-03-09T12:48:52.077Z"
   },
   {
    "duration": 339,
    "start_time": "2022-03-09T12:49:00.579Z"
   },
   {
    "duration": 425,
    "start_time": "2022-03-09T12:49:06.489Z"
   },
   {
    "duration": 358,
    "start_time": "2022-03-09T12:49:20.078Z"
   },
   {
    "duration": 355,
    "start_time": "2022-03-09T12:49:32.762Z"
   },
   {
    "duration": 399,
    "start_time": "2022-03-09T12:49:47.461Z"
   },
   {
    "duration": 353,
    "start_time": "2022-03-09T12:50:16.495Z"
   },
   {
    "duration": 379,
    "start_time": "2022-03-09T12:50:51.395Z"
   },
   {
    "duration": 13,
    "start_time": "2022-03-09T13:26:44.564Z"
   },
   {
    "duration": 5,
    "start_time": "2022-03-09T13:27:04.277Z"
   },
   {
    "duration": 14,
    "start_time": "2022-03-09T13:27:49.684Z"
   },
   {
    "duration": 7,
    "start_time": "2022-03-09T13:28:47.333Z"
   },
   {
    "duration": 14,
    "start_time": "2022-03-09T13:29:06.750Z"
   },
   {
    "duration": 15,
    "start_time": "2022-03-09T13:29:39.358Z"
   },
   {
    "duration": 19,
    "start_time": "2022-03-09T13:30:15.255Z"
   },
   {
    "duration": 5,
    "start_time": "2022-03-09T13:31:24.447Z"
   },
   {
    "duration": 97,
    "start_time": "2022-03-09T13:34:34.024Z"
   },
   {
    "duration": 17,
    "start_time": "2022-03-09T13:34:50.326Z"
   },
   {
    "duration": 22,
    "start_time": "2022-03-09T13:35:05.336Z"
   },
   {
    "duration": 345,
    "start_time": "2022-03-09T13:35:56.218Z"
   },
   {
    "duration": 332,
    "start_time": "2022-03-09T13:36:22.762Z"
   },
   {
    "duration": 5,
    "start_time": "2022-03-09T13:39:31.511Z"
   },
   {
    "duration": 6,
    "start_time": "2022-03-09T13:39:39.403Z"
   },
   {
    "duration": 318,
    "start_time": "2022-03-09T13:39:57.005Z"
   },
   {
    "duration": 342,
    "start_time": "2022-03-09T13:40:04.010Z"
   },
   {
    "duration": 181,
    "start_time": "2022-03-09T13:41:14.319Z"
   },
   {
    "duration": 21,
    "start_time": "2022-03-09T13:41:36.962Z"
   },
   {
    "duration": 49,
    "start_time": "2022-03-09T13:41:38.534Z"
   },
   {
    "duration": 59,
    "start_time": "2022-03-09T13:41:45.936Z"
   },
   {
    "duration": 18,
    "start_time": "2022-03-09T13:42:02.230Z"
   },
   {
    "duration": 57943,
    "start_time": "2022-03-09T13:46:12.926Z"
   },
   {
    "duration": 15,
    "start_time": "2022-03-09T13:47:14.689Z"
   },
   {
    "duration": 15,
    "start_time": "2022-03-09T13:48:23.454Z"
   },
   {
    "duration": 201,
    "start_time": "2022-03-09T13:48:39.530Z"
   },
   {
    "duration": 17,
    "start_time": "2022-03-09T13:48:57.102Z"
   },
   {
    "duration": 15,
    "start_time": "2022-03-09T13:49:06.969Z"
   },
   {
    "duration": 16,
    "start_time": "2022-03-09T13:49:25.646Z"
   },
   {
    "duration": 664,
    "start_time": "2022-03-09T13:49:45.539Z"
   },
   {
    "duration": 11,
    "start_time": "2022-03-09T13:50:00.815Z"
   },
   {
    "duration": 55,
    "start_time": "2022-03-09T13:50:20.188Z"
   },
   {
    "duration": 19,
    "start_time": "2022-03-09T13:50:37.765Z"
   },
   {
    "duration": 20,
    "start_time": "2022-03-09T13:51:05.011Z"
   },
   {
    "duration": 39,
    "start_time": "2022-03-09T13:51:14.422Z"
   },
   {
    "duration": 24,
    "start_time": "2022-03-09T13:51:36.039Z"
   },
   {
    "duration": 24,
    "start_time": "2022-03-09T13:52:07.191Z"
   },
   {
    "duration": 12,
    "start_time": "2022-03-09T13:53:18.242Z"
   },
   {
    "duration": 167,
    "start_time": "2022-03-09T13:53:34.548Z"
   },
   {
    "duration": 6,
    "start_time": "2022-03-09T13:53:47.226Z"
   },
   {
    "duration": 11,
    "start_time": "2022-03-09T13:53:53.156Z"
   },
   {
    "duration": 165,
    "start_time": "2022-03-09T13:54:03.406Z"
   },
   {
    "duration": 6,
    "start_time": "2022-03-09T13:54:13.986Z"
   },
   {
    "duration": 389,
    "start_time": "2022-03-09T13:54:50.253Z"
   },
   {
    "duration": 476,
    "start_time": "2022-03-09T13:55:09.479Z"
   },
   {
    "duration": 11,
    "start_time": "2022-03-09T13:55:36.297Z"
   },
   {
    "duration": 16,
    "start_time": "2022-03-09T13:55:45.854Z"
   },
   {
    "duration": 8,
    "start_time": "2022-03-09T13:55:58.980Z"
   },
   {
    "duration": 6,
    "start_time": "2022-03-09T13:56:11.009Z"
   },
   {
    "duration": 1832,
    "start_time": "2022-03-09T13:56:48.553Z"
   },
   {
    "duration": 19177,
    "start_time": "2022-03-09T13:58:27.574Z"
   },
   {
    "duration": 59098,
    "start_time": "2022-03-09T13:59:22.955Z"
   },
   {
    "duration": 16858,
    "start_time": "2022-03-09T14:00:27.305Z"
   },
   {
    "duration": 466,
    "start_time": "2022-03-09T14:01:38.875Z"
   },
   {
    "duration": 442,
    "start_time": "2022-03-09T14:02:34.027Z"
   },
   {
    "duration": 15374,
    "start_time": "2022-03-09T14:03:45.565Z"
   },
   {
    "duration": 17,
    "start_time": "2022-03-09T14:04:36.192Z"
   },
   {
    "duration": 15540,
    "start_time": "2022-03-09T14:07:10.549Z"
   },
   {
    "duration": 16,
    "start_time": "2022-03-09T14:07:37.342Z"
   },
   {
    "duration": 23297,
    "start_time": "2022-03-09T14:08:30.243Z"
   },
   {
    "duration": 4584,
    "start_time": "2022-03-09T14:12:29.150Z"
   },
   {
    "duration": 4722,
    "start_time": "2022-03-09T14:13:12.407Z"
   },
   {
    "duration": 17513,
    "start_time": "2022-03-09T14:15:44.724Z"
   },
   {
    "duration": 17,
    "start_time": "2022-03-09T14:16:06.130Z"
   },
   {
    "duration": 14,
    "start_time": "2022-03-09T14:16:14.732Z"
   },
   {
    "duration": 14,
    "start_time": "2022-03-09T14:16:21.921Z"
   },
   {
    "duration": 326,
    "start_time": "2022-03-09T14:29:15.069Z"
   },
   {
    "duration": 77847,
    "start_time": "2022-03-09T14:29:24.367Z"
   },
   {
    "duration": 22,
    "start_time": "2022-03-09T14:30:42.215Z"
   },
   {
    "duration": 336,
    "start_time": "2022-03-09T14:30:42.239Z"
   },
   {
    "duration": 4,
    "start_time": "2022-03-09T14:35:02.453Z"
   },
   {
    "duration": 1160,
    "start_time": "2022-03-09T14:41:06.321Z"
   },
   {
    "duration": 4,
    "start_time": "2022-03-09T14:41:07.483Z"
   },
   {
    "duration": 110,
    "start_time": "2022-03-09T14:41:07.489Z"
   },
   {
    "duration": 7,
    "start_time": "2022-03-09T14:41:07.601Z"
   },
   {
    "duration": 31,
    "start_time": "2022-03-09T14:41:07.610Z"
   },
   {
    "duration": 35,
    "start_time": "2022-03-09T14:41:07.642Z"
   },
   {
    "duration": 22,
    "start_time": "2022-03-09T14:41:07.678Z"
   },
   {
    "duration": 36,
    "start_time": "2022-03-09T14:41:07.702Z"
   },
   {
    "duration": 9,
    "start_time": "2022-03-09T14:41:07.741Z"
   },
   {
    "duration": 7,
    "start_time": "2022-03-09T14:41:07.751Z"
   },
   {
    "duration": 162,
    "start_time": "2022-03-09T14:41:07.759Z"
   },
   {
    "duration": 609,
    "start_time": "2022-03-09T14:41:07.923Z"
   },
   {
    "duration": 6,
    "start_time": "2022-03-09T14:41:08.535Z"
   },
   {
    "duration": 343,
    "start_time": "2022-03-09T14:41:08.543Z"
   },
   {
    "duration": 321,
    "start_time": "2022-03-09T14:41:08.888Z"
   },
   {
    "duration": 24,
    "start_time": "2022-03-09T14:41:09.211Z"
   },
   {
    "duration": 62,
    "start_time": "2022-03-09T14:41:09.237Z"
   },
   {
    "duration": 32,
    "start_time": "2022-03-09T14:41:09.302Z"
   },
   {
    "duration": 9,
    "start_time": "2022-03-09T14:41:09.336Z"
   },
   {
    "duration": 90,
    "start_time": "2022-03-09T14:41:09.347Z"
   },
   {
    "duration": 1020,
    "start_time": "2022-03-09T14:41:09.438Z"
   },
   {
    "duration": 30,
    "start_time": "2022-03-09T14:41:10.460Z"
   },
   {
    "duration": 66830,
    "start_time": "2022-03-09T14:41:10.493Z"
   },
   {
    "duration": 19,
    "start_time": "2022-03-09T14:42:17.325Z"
   },
   {
    "duration": 424,
    "start_time": "2022-03-09T14:42:17.346Z"
   },
   {
    "duration": 363,
    "start_time": "2022-03-09T14:42:17.772Z"
   },
   {
    "duration": 4,
    "start_time": "2022-03-09T14:42:18.136Z"
   },
   {
    "duration": 58932,
    "start_time": "2022-03-09T14:42:18.142Z"
   },
   {
    "duration": 17682,
    "start_time": "2022-03-09T14:43:17.076Z"
   },
   {
    "duration": 11870,
    "start_time": "2022-03-09T14:45:14.191Z"
   },
   {
    "duration": 16,
    "start_time": "2022-03-09T15:46:11.324Z"
   },
   {
    "duration": 51,
    "start_time": "2022-03-09T15:53:54.519Z"
   },
   {
    "duration": 58,
    "start_time": "2022-03-09T15:54:01.741Z"
   },
   {
    "duration": 57,
    "start_time": "2022-03-09T15:54:06.237Z"
   },
   {
    "duration": 308,
    "start_time": "2022-03-09T15:55:04.482Z"
   },
   {
    "duration": 58,
    "start_time": "2022-03-09T15:55:08.709Z"
   },
   {
    "duration": 59548,
    "start_time": "2022-03-09T15:58:31.720Z"
   },
   {
    "duration": 3903,
    "start_time": "2022-03-09T15:59:31.270Z"
   },
   {
    "duration": 58,
    "start_time": "2022-03-09T16:03:28.020Z"
   },
   {
    "duration": 59,
    "start_time": "2022-03-09T16:03:58.789Z"
   },
   {
    "duration": 409,
    "start_time": "2022-03-09T16:06:35.481Z"
   },
   {
    "duration": 402,
    "start_time": "2022-03-09T16:07:11.984Z"
   },
   {
    "duration": 350,
    "start_time": "2022-03-09T16:07:48.037Z"
   },
   {
    "duration": 362,
    "start_time": "2022-03-09T16:08:34.838Z"
   },
   {
    "duration": 20,
    "start_time": "2022-03-09T16:09:32.779Z"
   },
   {
    "duration": 2,
    "start_time": "2022-03-09T16:10:27.061Z"
   },
   {
    "duration": 3,
    "start_time": "2022-03-09T16:10:27.272Z"
   },
   {
    "duration": 100,
    "start_time": "2022-03-09T16:10:27.449Z"
   },
   {
    "duration": 7,
    "start_time": "2022-03-09T16:10:27.786Z"
   },
   {
    "duration": 17,
    "start_time": "2022-03-09T16:10:28.283Z"
   },
   {
    "duration": 34,
    "start_time": "2022-03-09T16:10:28.613Z"
   },
   {
    "duration": 21,
    "start_time": "2022-03-09T16:10:28.770Z"
   },
   {
    "duration": 10,
    "start_time": "2022-03-09T16:10:29.091Z"
   },
   {
    "duration": 6,
    "start_time": "2022-03-09T16:10:29.253Z"
   },
   {
    "duration": 7,
    "start_time": "2022-03-09T16:10:30.204Z"
   },
   {
    "duration": 134,
    "start_time": "2022-03-09T16:10:30.613Z"
   },
   {
    "duration": 547,
    "start_time": "2022-03-09T16:10:30.788Z"
   },
   {
    "duration": 7,
    "start_time": "2022-03-09T16:10:31.337Z"
   },
   {
    "duration": 330,
    "start_time": "2022-03-09T16:10:32.371Z"
   },
   {
    "duration": 289,
    "start_time": "2022-03-09T16:10:33.348Z"
   },
   {
    "duration": 19,
    "start_time": "2022-03-09T16:10:34.412Z"
   },
   {
    "duration": 64,
    "start_time": "2022-03-09T16:10:36.411Z"
   },
   {
    "duration": 9,
    "start_time": "2022-03-09T16:10:39.125Z"
   },
   {
    "duration": 10,
    "start_time": "2022-03-09T16:10:39.389Z"
   },
   {
    "duration": 73,
    "start_time": "2022-03-09T16:10:41.865Z"
   },
   {
    "duration": 944,
    "start_time": "2022-03-09T16:10:43.024Z"
   },
   {
    "duration": 28,
    "start_time": "2022-03-09T16:10:47.145Z"
   },
   {
    "duration": 66839,
    "start_time": "2022-03-09T16:10:52.947Z"
   },
   {
    "duration": 14,
    "start_time": "2022-03-09T16:11:59.788Z"
   },
   {
    "duration": 15,
    "start_time": "2022-03-09T16:12:06.913Z"
   },
   {
    "duration": 322,
    "start_time": "2022-03-09T16:12:09.246Z"
   },
   {
    "duration": 421,
    "start_time": "2022-03-09T16:12:11.475Z"
   },
   {
    "duration": 4,
    "start_time": "2022-03-09T16:12:18.487Z"
   },
   {
    "duration": 58788,
    "start_time": "2022-03-09T16:12:26.506Z"
   },
   {
    "duration": 21,
    "start_time": "2022-03-09T16:13:50.629Z"
   },
   {
    "duration": 15274,
    "start_time": "2022-03-09T16:14:00.576Z"
   },
   {
    "duration": 16,
    "start_time": "2022-03-09T16:14:15.853Z"
   },
   {
    "duration": 20,
    "start_time": "2022-03-09T16:14:22.066Z"
   },
   {
    "duration": 355,
    "start_time": "2022-03-09T16:14:28.012Z"
   },
   {
    "duration": 360,
    "start_time": "2022-03-09T16:14:53.368Z"
   },
   {
    "duration": 9,
    "start_time": "2022-03-09T16:30:34.775Z"
   },
   {
    "duration": 192,
    "start_time": "2022-03-09T16:30:43.540Z"
   },
   {
    "duration": 10,
    "start_time": "2022-03-09T16:30:50.833Z"
   },
   {
    "duration": 20,
    "start_time": "2022-03-09T16:34:57.596Z"
   },
   {
    "duration": 21,
    "start_time": "2022-03-09T16:35:44.537Z"
   },
   {
    "duration": 14,
    "start_time": "2022-03-09T16:35:57.658Z"
   },
   {
    "duration": 4453,
    "start_time": "2022-03-09T16:36:09.171Z"
   },
   {
    "duration": 13,
    "start_time": "2022-03-09T16:36:26.337Z"
   },
   {
    "duration": 14,
    "start_time": "2022-03-09T16:37:11.191Z"
   },
   {
    "duration": 15,
    "start_time": "2022-03-09T16:37:23.023Z"
   },
   {
    "duration": 12,
    "start_time": "2022-03-09T16:37:34.827Z"
   },
   {
    "duration": 13,
    "start_time": "2022-03-09T16:37:51.480Z"
   },
   {
    "duration": 12,
    "start_time": "2022-03-09T16:40:35.587Z"
   },
   {
    "duration": 12,
    "start_time": "2022-03-09T16:40:49.683Z"
   },
   {
    "duration": 4,
    "start_time": "2022-03-09T16:42:23.413Z"
   },
   {
    "duration": 3356,
    "start_time": "2022-03-09T16:45:17.243Z"
   },
   {
    "duration": 3626,
    "start_time": "2022-03-09T16:45:43.747Z"
   },
   {
    "duration": 32715,
    "start_time": "2022-03-09T16:46:53.274Z"
   },
   {
    "duration": 32703,
    "start_time": "2022-03-09T16:48:02.177Z"
   },
   {
    "duration": 32478,
    "start_time": "2022-03-09T16:49:20.325Z"
   },
   {
    "duration": 17,
    "start_time": "2022-03-09T16:49:54.901Z"
   },
   {
    "duration": 14,
    "start_time": "2022-03-09T16:50:17.195Z"
   },
   {
    "duration": 15,
    "start_time": "2022-03-09T16:50:24.868Z"
   },
   {
    "duration": 20,
    "start_time": "2022-03-09T16:50:31.611Z"
   },
   {
    "duration": 16,
    "start_time": "2022-03-09T16:50:48.385Z"
   },
   {
    "duration": 63,
    "start_time": "2022-03-09T16:55:42.123Z"
   },
   {
    "duration": 363,
    "start_time": "2022-03-09T16:55:48.528Z"
   },
   {
    "duration": 26,
    "start_time": "2022-03-09T16:56:15.399Z"
   },
   {
    "duration": 176,
    "start_time": "2022-03-09T16:56:38.470Z"
   },
   {
    "duration": 219,
    "start_time": "2022-03-09T16:56:40.337Z"
   },
   {
    "duration": 209,
    "start_time": "2022-03-09T16:56:55.737Z"
   },
   {
    "duration": 171,
    "start_time": "2022-03-09T16:56:59.851Z"
   },
   {
    "duration": 370,
    "start_time": "2022-03-09T16:57:11.297Z"
   },
   {
    "duration": 13,
    "start_time": "2022-03-09T16:57:25.084Z"
   },
   {
    "duration": 195,
    "start_time": "2022-03-09T16:57:39.346Z"
   },
   {
    "duration": 25,
    "start_time": "2022-03-09T16:57:42.321Z"
   },
   {
    "duration": 12,
    "start_time": "2022-03-09T17:02:12.302Z"
   },
   {
    "duration": 26,
    "start_time": "2022-03-09T17:04:38.233Z"
   },
   {
    "duration": 4460,
    "start_time": "2022-03-09T17:11:21.264Z"
   },
   {
    "duration": -393,
    "start_time": "2022-03-09T17:11:26.119Z"
   },
   {
    "duration": 4179,
    "start_time": "2022-03-09T17:12:12.221Z"
   },
   {
    "duration": -366,
    "start_time": "2022-03-09T17:12:16.768Z"
   },
   {
    "duration": 32756,
    "start_time": "2022-03-09T17:12:47.684Z"
   },
   {
    "duration": 15,
    "start_time": "2022-03-09T17:13:20.442Z"
   },
   {
    "duration": 246,
    "start_time": "2022-03-09T17:20:01.681Z"
   },
   {
    "duration": 4,
    "start_time": "2022-03-09T17:20:07.904Z"
   },
   {
    "duration": 10,
    "start_time": "2022-03-09T17:20:09.369Z"
   },
   {
    "duration": 13,
    "start_time": "2022-03-09T17:21:53.599Z"
   },
   {
    "duration": 171,
    "start_time": "2022-03-09T17:22:52.079Z"
   },
   {
    "duration": 370,
    "start_time": "2022-03-09T17:23:05.167Z"
   },
   {
    "duration": 13,
    "start_time": "2022-03-09T17:23:07.006Z"
   },
   {
    "duration": 28,
    "start_time": "2022-03-09T17:23:08.924Z"
   },
   {
    "duration": 12,
    "start_time": "2022-03-09T17:23:10.898Z"
   },
   {
    "duration": 32989,
    "start_time": "2022-03-09T17:23:14.711Z"
   },
   {
    "duration": 18,
    "start_time": "2022-03-09T17:23:47.702Z"
   },
   {
    "duration": 362,
    "start_time": "2022-03-09T17:24:36.430Z"
   },
   {
    "duration": 11,
    "start_time": "2022-03-09T17:24:38.618Z"
   },
   {
    "duration": 26,
    "start_time": "2022-03-09T17:24:40.871Z"
   },
   {
    "duration": 16,
    "start_time": "2022-03-09T17:24:54.893Z"
   },
   {
    "duration": 5219,
    "start_time": "2022-03-09T17:25:00.981Z"
   },
   {
    "duration": -331,
    "start_time": "2022-03-09T17:25:06.533Z"
   },
   {
    "duration": 33241,
    "start_time": "2022-03-09T17:25:18.242Z"
   },
   {
    "duration": 15,
    "start_time": "2022-03-09T17:25:51.484Z"
   },
   {
    "duration": 6,
    "start_time": "2022-03-09T17:26:21.283Z"
   },
   {
    "duration": 14,
    "start_time": "2022-03-09T17:26:42.887Z"
   },
   {
    "duration": 2,
    "start_time": "2022-03-09T18:40:43.404Z"
   },
   {
    "duration": 6,
    "start_time": "2022-03-09T18:45:20.276Z"
   },
   {
    "duration": 187,
    "start_time": "2022-03-09T18:45:58.874Z"
   },
   {
    "duration": 7,
    "start_time": "2022-03-09T18:46:09.175Z"
   },
   {
    "duration": 50057,
    "start_time": "2022-03-09T18:46:11.001Z"
   },
   {
    "duration": 7,
    "start_time": "2022-03-09T18:53:49.314Z"
   },
   {
    "duration": 33775,
    "start_time": "2022-03-09T18:53:59.475Z"
   },
   {
    "duration": 7,
    "start_time": "2022-03-09T19:06:48.984Z"
   },
   {
    "duration": 11,
    "start_time": "2022-03-09T19:07:39.953Z"
   },
   {
    "duration": 9,
    "start_time": "2022-03-09T19:08:28.741Z"
   },
   {
    "duration": 56,
    "start_time": "2022-03-09T19:08:53.404Z"
   },
   {
    "duration": 9,
    "start_time": "2022-03-09T19:08:58.206Z"
   },
   {
    "duration": 69,
    "start_time": "2022-03-09T19:09:02.699Z"
   },
   {
    "duration": 18,
    "start_time": "2022-03-09T19:10:06.189Z"
   },
   {
    "duration": 9,
    "start_time": "2022-03-09T19:11:31.426Z"
   },
   {
    "duration": 9,
    "start_time": "2022-03-09T19:11:36.274Z"
   },
   {
    "duration": 8,
    "start_time": "2022-03-09T19:12:19.862Z"
   },
   {
    "duration": 8,
    "start_time": "2022-03-09T19:13:21.057Z"
   },
   {
    "duration": 8,
    "start_time": "2022-03-09T19:13:27.726Z"
   },
   {
    "duration": 9,
    "start_time": "2022-03-09T19:13:34.948Z"
   },
   {
    "duration": 6,
    "start_time": "2022-03-09T19:13:40.516Z"
   },
   {
    "duration": 8,
    "start_time": "2022-03-09T19:13:42.317Z"
   },
   {
    "duration": 17,
    "start_time": "2022-03-09T19:13:48.063Z"
   },
   {
    "duration": 8,
    "start_time": "2022-03-09T19:13:55.037Z"
   },
   {
    "duration": 26,
    "start_time": "2022-03-09T19:13:59.509Z"
   },
   {
    "duration": 7,
    "start_time": "2022-03-09T19:15:06.989Z"
   },
   {
    "duration": 691,
    "start_time": "2022-03-09T19:15:08.926Z"
   },
   {
    "duration": 10,
    "start_time": "2022-03-09T19:16:00.327Z"
   },
   {
    "duration": 33900,
    "start_time": "2022-03-09T19:16:02.365Z"
   },
   {
    "duration": 8,
    "start_time": "2022-03-09T19:17:12.537Z"
   },
   {
    "duration": 1479,
    "start_time": "2022-03-10T07:56:53.425Z"
   },
   {
    "duration": 4,
    "start_time": "2022-03-10T07:56:54.905Z"
   },
   {
    "duration": 113,
    "start_time": "2022-03-10T07:56:56.623Z"
   },
   {
    "duration": 8,
    "start_time": "2022-03-10T07:57:01.710Z"
   },
   {
    "duration": 19,
    "start_time": "2022-03-10T07:57:05.915Z"
   },
   {
    "duration": 38,
    "start_time": "2022-03-10T07:57:10.234Z"
   },
   {
    "duration": 22,
    "start_time": "2022-03-10T07:57:15.052Z"
   },
   {
    "duration": 11,
    "start_time": "2022-03-10T07:57:17.773Z"
   },
   {
    "duration": 7,
    "start_time": "2022-03-10T07:57:25.139Z"
   },
   {
    "duration": 285,
    "start_time": "2022-03-10T07:57:54.532Z"
   },
   {
    "duration": 6,
    "start_time": "2022-03-10T07:58:04.921Z"
   },
   {
    "duration": 7,
    "start_time": "2022-03-10T07:58:14.131Z"
   },
   {
    "duration": 145,
    "start_time": "2022-03-10T07:58:20.410Z"
   },
   {
    "duration": 632,
    "start_time": "2022-03-10T07:58:24.811Z"
   },
   {
    "duration": 375,
    "start_time": "2022-03-10T08:02:10.376Z"
   },
   {
    "duration": 352,
    "start_time": "2022-03-10T08:02:15.548Z"
   },
   {
    "duration": 340,
    "start_time": "2022-03-10T08:02:44.368Z"
   },
   {
    "duration": 354,
    "start_time": "2022-03-10T08:02:49.202Z"
   },
   {
    "duration": 18,
    "start_time": "2022-03-10T08:02:58.969Z"
   },
   {
    "duration": 67,
    "start_time": "2022-03-10T08:03:08.114Z"
   },
   {
    "duration": 9,
    "start_time": "2022-03-10T08:03:14.245Z"
   },
   {
    "duration": 9,
    "start_time": "2022-03-10T08:03:16.681Z"
   },
   {
    "duration": 73,
    "start_time": "2022-03-10T08:03:39.886Z"
   },
   {
    "duration": 253,
    "start_time": "2022-03-10T08:04:11.269Z"
   },
   {
    "duration": 3,
    "start_time": "2022-03-10T08:04:22.689Z"
   },
   {
    "duration": 4,
    "start_time": "2022-03-10T08:04:23.708Z"
   },
   {
    "duration": 100,
    "start_time": "2022-03-10T08:04:23.714Z"
   },
   {
    "duration": 6,
    "start_time": "2022-03-10T08:04:23.816Z"
   },
   {
    "duration": 18,
    "start_time": "2022-03-10T08:04:23.823Z"
   },
   {
    "duration": 38,
    "start_time": "2022-03-10T08:04:23.940Z"
   },
   {
    "duration": 23,
    "start_time": "2022-03-10T08:04:24.097Z"
   },
   {
    "duration": 11,
    "start_time": "2022-03-10T08:04:24.395Z"
   },
   {
    "duration": 6,
    "start_time": "2022-03-10T08:04:24.543Z"
   },
   {
    "duration": 6,
    "start_time": "2022-03-10T08:04:25.174Z"
   },
   {
    "duration": 137,
    "start_time": "2022-03-10T08:04:25.829Z"
   },
   {
    "duration": 692,
    "start_time": "2022-03-10T08:04:26.044Z"
   },
   {
    "duration": 6,
    "start_time": "2022-03-10T08:04:26.738Z"
   },
   {
    "duration": 344,
    "start_time": "2022-03-10T08:04:28.304Z"
   },
   {
    "duration": 344,
    "start_time": "2022-03-10T08:04:39.151Z"
   },
   {
    "duration": 17,
    "start_time": "2022-03-10T08:04:40.131Z"
   },
   {
    "duration": 63,
    "start_time": "2022-03-10T08:04:41.770Z"
   },
   {
    "duration": 9,
    "start_time": "2022-03-10T08:04:42.209Z"
   },
   {
    "duration": 15,
    "start_time": "2022-03-10T08:04:43.106Z"
   },
   {
    "duration": 72,
    "start_time": "2022-03-10T08:04:46.375Z"
   },
   {
    "duration": 202,
    "start_time": "2022-03-10T08:07:20.633Z"
   },
   {
    "duration": 581,
    "start_time": "2022-03-10T08:07:44.923Z"
   },
   {
    "duration": 152,
    "start_time": "2022-03-10T08:08:21.130Z"
   },
   {
    "duration": 152,
    "start_time": "2022-03-10T08:09:28.193Z"
   },
   {
    "duration": 150,
    "start_time": "2022-03-10T08:10:14.750Z"
   },
   {
    "duration": 148,
    "start_time": "2022-03-10T08:10:18.608Z"
   },
   {
    "duration": 152,
    "start_time": "2022-03-10T08:10:26.403Z"
   },
   {
    "duration": 154,
    "start_time": "2022-03-10T08:10:40.214Z"
   },
   {
    "duration": 369,
    "start_time": "2022-03-10T08:15:17.826Z"
   },
   {
    "duration": 191,
    "start_time": "2022-03-10T08:15:29.390Z"
   },
   {
    "duration": 173,
    "start_time": "2022-03-10T08:16:29.664Z"
   },
   {
    "duration": 162,
    "start_time": "2022-03-10T08:17:08.693Z"
   },
   {
    "duration": 568,
    "start_time": "2022-03-10T08:33:09.434Z"
   },
   {
    "duration": 5761,
    "start_time": "2022-03-10T08:34:09.179Z"
   },
   {
    "duration": 1259,
    "start_time": "2022-03-10T08:34:35.259Z"
   },
   {
    "duration": 1112,
    "start_time": "2022-03-10T08:35:25.822Z"
   },
   {
    "duration": 1155,
    "start_time": "2022-03-10T08:36:04.638Z"
   },
   {
    "duration": 1186,
    "start_time": "2022-03-10T08:36:26.999Z"
   },
   {
    "duration": 1106,
    "start_time": "2022-03-10T08:37:23.136Z"
   },
   {
    "duration": 140,
    "start_time": "2022-03-10T08:37:44.805Z"
   },
   {
    "duration": 137,
    "start_time": "2022-03-10T08:37:53.240Z"
   },
   {
    "duration": 1085,
    "start_time": "2022-03-10T08:38:13.719Z"
   },
   {
    "duration": 1152,
    "start_time": "2022-03-10T08:39:47.988Z"
   },
   {
    "duration": 54,
    "start_time": "2022-03-10T08:43:33.226Z"
   },
   {
    "duration": 53,
    "start_time": "2022-03-10T08:43:42.555Z"
   },
   {
    "duration": 57,
    "start_time": "2022-03-10T08:44:13.135Z"
   },
   {
    "duration": 62,
    "start_time": "2022-03-10T08:44:26.354Z"
   },
   {
    "duration": 12,
    "start_time": "2022-03-10T08:46:51.936Z"
   },
   {
    "duration": 17,
    "start_time": "2022-03-10T08:48:13.823Z"
   },
   {
    "duration": 70,
    "start_time": "2022-03-10T08:48:38.190Z"
   },
   {
    "duration": 71,
    "start_time": "2022-03-10T08:48:59.203Z"
   },
   {
    "duration": 70,
    "start_time": "2022-03-10T08:49:17.946Z"
   },
   {
    "duration": 69,
    "start_time": "2022-03-10T08:49:58.453Z"
   },
   {
    "duration": 75,
    "start_time": "2022-03-10T08:50:14.850Z"
   },
   {
    "duration": 141,
    "start_time": "2022-03-10T08:52:14.254Z"
   },
   {
    "duration": 83,
    "start_time": "2022-03-10T08:52:19.239Z"
   },
   {
    "duration": 491,
    "start_time": "2022-03-10T08:53:36.528Z"
   },
   {
    "duration": 87,
    "start_time": "2022-03-10T08:53:45.949Z"
   },
   {
    "duration": 1026,
    "start_time": "2022-03-10T08:55:42.348Z"
   },
   {
    "duration": 69041,
    "start_time": "2022-03-10T10:13:34.294Z"
   },
   {
    "duration": 15,
    "start_time": "2022-03-10T10:14:43.336Z"
   },
   {
    "duration": 385,
    "start_time": "2022-03-10T10:14:43.353Z"
   },
   {
    "duration": 401,
    "start_time": "2022-03-10T10:14:43.740Z"
   },
   {
    "duration": 4,
    "start_time": "2022-03-10T10:14:44.142Z"
   },
   {
    "duration": 60670,
    "start_time": "2022-03-10T10:14:44.147Z"
   },
   {
    "duration": 16689,
    "start_time": "2022-03-10T10:15:44.819Z"
   },
   {
    "duration": 11,
    "start_time": "2022-03-10T10:17:11.786Z"
   },
   {
    "duration": 36105,
    "start_time": "2022-03-10T10:17:13.838Z"
   },
   {
    "duration": 3,
    "start_time": "2022-03-10T10:19:59.255Z"
   },
   {
    "duration": 2,
    "start_time": "2022-03-10T10:22:14.302Z"
   },
   {
    "duration": 6,
    "start_time": "2022-03-10T10:22:20.404Z"
   },
   {
    "duration": 8,
    "start_time": "2022-03-10T10:24:16.319Z"
   },
   {
    "duration": 379,
    "start_time": "2022-03-10T10:24:41.923Z"
   },
   {
    "duration": 6,
    "start_time": "2022-03-10T10:26:01.162Z"
   },
   {
    "duration": 451,
    "start_time": "2022-03-10T10:26:06.662Z"
   },
   {
    "duration": 3,
    "start_time": "2022-03-10T10:26:56.415Z"
   },
   {
    "duration": 15,
    "start_time": "2022-03-10T10:27:29.616Z"
   },
   {
    "duration": 6,
    "start_time": "2022-03-10T10:28:08.384Z"
   },
   {
    "duration": 6985,
    "start_time": "2022-03-10T10:28:10.982Z"
   },
   {
    "duration": 6,
    "start_time": "2022-03-10T10:28:28.755Z"
   },
   {
    "duration": 492,
    "start_time": "2022-03-10T10:28:32.010Z"
   },
   {
    "duration": 10,
    "start_time": "2022-03-10T10:29:00.287Z"
   },
   {
    "duration": 7,
    "start_time": "2022-03-10T10:29:03.717Z"
   },
   {
    "duration": 18,
    "start_time": "2022-03-10T10:29:09.894Z"
   },
   {
    "duration": 7,
    "start_time": "2022-03-10T10:29:43.103Z"
   },
   {
    "duration": 675,
    "start_time": "2022-03-10T10:29:45.571Z"
   },
   {
    "duration": 578,
    "start_time": "2022-03-10T10:31:21.987Z"
   },
   {
    "duration": 9,
    "start_time": "2022-03-10T10:32:29.091Z"
   },
   {
    "duration": 841,
    "start_time": "2022-03-10T10:32:30.841Z"
   },
   {
    "duration": 3,
    "start_time": "2022-03-10T10:33:23.666Z"
   },
   {
    "duration": 4,
    "start_time": "2022-03-10T10:33:32.268Z"
   },
   {
    "duration": 7,
    "start_time": "2022-03-10T10:42:00.003Z"
   },
   {
    "duration": 6740,
    "start_time": "2022-03-10T10:42:04.351Z"
   },
   {
    "duration": 8,
    "start_time": "2022-03-10T10:43:41.947Z"
   },
   {
    "duration": 35562,
    "start_time": "2022-03-10T10:43:44.887Z"
   },
   {
    "duration": 9,
    "start_time": "2022-03-10T10:44:24.719Z"
   },
   {
    "duration": 68,
    "start_time": "2022-03-10T10:45:43.260Z"
   },
   {
    "duration": 263,
    "start_time": "2022-03-10T10:45:56.858Z"
   },
   {
    "duration": 211,
    "start_time": "2022-03-10T10:46:01.685Z"
   },
   {
    "duration": 6,
    "start_time": "2022-03-10T10:46:29.353Z"
   },
   {
    "duration": 243,
    "start_time": "2022-03-10T10:46:31.091Z"
   },
   {
    "duration": 6,
    "start_time": "2022-03-10T10:46:56.961Z"
   },
   {
    "duration": 25,
    "start_time": "2022-03-10T10:46:58.599Z"
   },
   {
    "duration": 13,
    "start_time": "2022-03-10T10:47:07.426Z"
   },
   {
    "duration": 256,
    "start_time": "2022-03-10T10:47:28.539Z"
   },
   {
    "duration": 197,
    "start_time": "2022-03-10T10:47:39.358Z"
   },
   {
    "duration": 19,
    "start_time": "2022-03-10T10:47:54.727Z"
   },
   {
    "duration": 12,
    "start_time": "2022-03-10T10:48:03.517Z"
   },
   {
    "duration": 17,
    "start_time": "2022-03-10T10:48:28.280Z"
   },
   {
    "duration": 194,
    "start_time": "2022-03-10T10:48:31.671Z"
   },
   {
    "duration": 18,
    "start_time": "2022-03-10T10:48:41.929Z"
   },
   {
    "duration": 5,
    "start_time": "2022-03-10T10:50:01.724Z"
   },
   {
    "duration": 185,
    "start_time": "2022-03-10T10:50:28.859Z"
   },
   {
    "duration": 239,
    "start_time": "2022-03-10T10:50:35.477Z"
   },
   {
    "duration": 41,
    "start_time": "2022-03-10T10:52:42.910Z"
   },
   {
    "duration": 28,
    "start_time": "2022-03-10T10:53:40.929Z"
   },
   {
    "duration": 3625,
    "start_time": "2022-03-10T10:54:18.286Z"
   },
   {
    "duration": 28,
    "start_time": "2022-03-10T10:55:01.851Z"
   },
   {
    "duration": 248,
    "start_time": "2022-03-10T10:55:04.991Z"
   },
   {
    "duration": 18,
    "start_time": "2022-03-10T10:55:25.015Z"
   },
   {
    "duration": 233,
    "start_time": "2022-03-10T10:55:30.857Z"
   },
   {
    "duration": 194,
    "start_time": "2022-03-10T10:55:46.111Z"
   },
   {
    "duration": 13,
    "start_time": "2022-03-10T10:55:55.944Z"
   },
   {
    "duration": 14,
    "start_time": "2022-03-10T10:55:57.952Z"
   },
   {
    "duration": 17,
    "start_time": "2022-03-10T10:56:04.667Z"
   },
   {
    "duration": 37,
    "start_time": "2022-03-10T10:56:09.999Z"
   },
   {
    "duration": 29,
    "start_time": "2022-03-10T10:56:10.659Z"
   },
   {
    "duration": 7,
    "start_time": "2022-03-10T11:03:08.329Z"
   },
   {
    "duration": 95,
    "start_time": "2022-03-10T11:03:18.499Z"
   },
   {
    "duration": 1391,
    "start_time": "2022-03-10T11:03:32.090Z"
   },
   {
    "duration": 6,
    "start_time": "2022-03-10T11:06:56.060Z"
   },
   {
    "duration": 98,
    "start_time": "2022-03-10T11:06:58.433Z"
   },
   {
    "duration": 7,
    "start_time": "2022-03-10T11:07:17.751Z"
   },
   {
    "duration": 111,
    "start_time": "2022-03-10T11:07:20.203Z"
   },
   {
    "duration": 1317,
    "start_time": "2022-03-10T11:07:35.025Z"
   },
   {
    "duration": 22,
    "start_time": "2022-03-10T11:08:19.787Z"
   },
   {
    "duration": 31,
    "start_time": "2022-03-10T11:08:45.707Z"
   },
   {
    "duration": 13,
    "start_time": "2022-03-10T11:09:18.822Z"
   },
   {
    "duration": 35590,
    "start_time": "2022-03-10T11:11:23.304Z"
   },
   {
    "duration": 7,
    "start_time": "2022-03-10T11:15:04.379Z"
   },
   {
    "duration": 26,
    "start_time": "2022-03-10T11:15:06.975Z"
   },
   {
    "duration": 15,
    "start_time": "2022-03-10T11:15:09.355Z"
   },
   {
    "duration": 18,
    "start_time": "2022-03-10T11:15:15.371Z"
   },
   {
    "duration": 56,
    "start_time": "2022-03-10T11:15:29.721Z"
   },
   {
    "duration": 55,
    "start_time": "2022-03-10T11:16:22.819Z"
   },
   {
    "duration": 27,
    "start_time": "2022-03-10T11:17:23.209Z"
   },
   {
    "duration": 23,
    "start_time": "2022-03-10T11:17:27.405Z"
   },
   {
    "duration": 26,
    "start_time": "2022-03-10T11:17:41.488Z"
   },
   {
    "duration": 7,
    "start_time": "2022-03-10T11:51:04.678Z"
   },
   {
    "duration": 7486,
    "start_time": "2022-03-10T11:51:06.073Z"
   },
   {
    "duration": 407,
    "start_time": "2022-03-10T11:52:36.573Z"
   },
   {
    "duration": 15,
    "start_time": "2022-03-10T11:53:03.923Z"
   },
   {
    "duration": 442,
    "start_time": "2022-03-10T11:59:17.664Z"
   },
   {
    "duration": 392,
    "start_time": "2022-03-10T12:00:19.781Z"
   },
   {
    "duration": 458,
    "start_time": "2022-03-10T12:02:40.734Z"
   },
   {
    "duration": 402,
    "start_time": "2022-03-10T12:02:50.350Z"
   },
   {
    "duration": 401,
    "start_time": "2022-03-10T12:03:44.911Z"
   },
   {
    "duration": 392,
    "start_time": "2022-03-10T12:03:54.025Z"
   },
   {
    "duration": 399,
    "start_time": "2022-03-10T12:04:02.083Z"
   },
   {
    "duration": 414,
    "start_time": "2022-03-10T12:04:43.369Z"
   },
   {
    "duration": 423,
    "start_time": "2022-03-10T12:06:59.311Z"
   },
   {
    "duration": 596,
    "start_time": "2022-03-10T12:07:11.698Z"
   },
   {
    "duration": 397,
    "start_time": "2022-03-10T12:07:35.194Z"
   },
   {
    "duration": 412,
    "start_time": "2022-03-10T12:08:01.720Z"
   },
   {
    "duration": 422,
    "start_time": "2022-03-10T12:08:13.115Z"
   },
   {
    "duration": 390,
    "start_time": "2022-03-10T12:08:19.525Z"
   },
   {
    "duration": 407,
    "start_time": "2022-03-10T12:09:22.413Z"
   },
   {
    "duration": 1181,
    "start_time": "2022-03-10T12:10:28.287Z"
   },
   {
    "duration": 400,
    "start_time": "2022-03-10T12:10:55.205Z"
   },
   {
    "duration": 6,
    "start_time": "2022-03-10T12:13:23.488Z"
   },
   {
    "duration": 5301,
    "start_time": "2022-03-10T12:13:25.459Z"
   },
   {
    "duration": 7,
    "start_time": "2022-03-10T12:14:28.864Z"
   },
   {
    "duration": 35908,
    "start_time": "2022-03-10T12:14:30.968Z"
   },
   {
    "duration": 7,
    "start_time": "2022-03-10T12:15:37.027Z"
   },
   {
    "duration": 11,
    "start_time": "2022-03-10T12:15:39.418Z"
   },
   {
    "duration": 36071,
    "start_time": "2022-03-10T12:15:41.286Z"
   },
   {
    "duration": 8,
    "start_time": "2022-03-10T12:16:22.137Z"
   },
   {
    "duration": 7,
    "start_time": "2022-03-10T12:17:36.902Z"
   },
   {
    "duration": 36066,
    "start_time": "2022-03-10T12:17:38.766Z"
   },
   {
    "duration": 9,
    "start_time": "2022-03-10T12:18:19.482Z"
   },
   {
    "duration": 7,
    "start_time": "2022-03-10T12:19:52.322Z"
   },
   {
    "duration": 764,
    "start_time": "2022-03-10T12:19:53.859Z"
   },
   {
    "duration": 7,
    "start_time": "2022-03-10T12:22:23.982Z"
   },
   {
    "duration": 759,
    "start_time": "2022-03-10T12:22:25.574Z"
   },
   {
    "duration": 9,
    "start_time": "2022-03-10T12:22:33.755Z"
   },
   {
    "duration": 815,
    "start_time": "2022-03-10T12:22:35.134Z"
   },
   {
    "duration": 7,
    "start_time": "2022-03-10T12:23:07.210Z"
   },
   {
    "duration": 36185,
    "start_time": "2022-03-10T12:23:08.702Z"
   },
   {
    "duration": 9,
    "start_time": "2022-03-10T12:24:37.395Z"
   },
   {
    "duration": 3,
    "start_time": "2022-03-10T12:25:04.616Z"
   },
   {
    "duration": 7,
    "start_time": "2022-03-10T12:25:30.970Z"
   },
   {
    "duration": 22,
    "start_time": "2022-03-10T12:25:47.973Z"
   },
   {
    "duration": 13,
    "start_time": "2022-03-10T12:25:54.226Z"
   },
   {
    "duration": 18,
    "start_time": "2022-03-10T12:26:25.713Z"
   },
   {
    "duration": 14,
    "start_time": "2022-03-10T12:26:32.952Z"
   },
   {
    "duration": 5944,
    "start_time": "2022-03-10T12:26:56.310Z"
   },
   {
    "duration": 19,
    "start_time": "2022-03-10T12:27:17.644Z"
   },
   {
    "duration": 56,
    "start_time": "2022-03-10T12:27:23.669Z"
   },
   {
    "duration": 53,
    "start_time": "2022-03-10T12:27:36.002Z"
   },
   {
    "duration": 27,
    "start_time": "2022-03-10T12:27:52.631Z"
   },
   {
    "duration": 27,
    "start_time": "2022-03-10T12:27:55.938Z"
   },
   {
    "duration": 6,
    "start_time": "2022-03-10T12:30:53.946Z"
   },
   {
    "duration": 90,
    "start_time": "2022-03-10T12:30:59.218Z"
   },
   {
    "duration": 1273,
    "start_time": "2022-03-10T12:31:06.818Z"
   },
   {
    "duration": 3,
    "start_time": "2022-03-10T12:33:32.121Z"
   },
   {
    "duration": 441,
    "start_time": "2022-03-10T12:37:14.221Z"
   },
   {
    "duration": 30,
    "start_time": "2022-03-10T12:38:21.635Z"
   },
   {
    "duration": 14,
    "start_time": "2022-03-10T12:38:56.265Z"
   },
   {
    "duration": 469,
    "start_time": "2022-03-10T12:39:01.673Z"
   },
   {
    "duration": 9,
    "start_time": "2022-03-10T12:40:35.007Z"
   },
   {
    "duration": 90,
    "start_time": "2022-03-10T12:40:54.461Z"
   },
   {
    "duration": 464,
    "start_time": "2022-03-10T12:41:18.943Z"
   },
   {
    "duration": 12,
    "start_time": "2022-03-10T12:41:43.691Z"
   },
   {
    "duration": 294,
    "start_time": "2022-03-10T12:41:45.368Z"
   },
   {
    "duration": 192,
    "start_time": "2022-03-10T12:47:56.614Z"
   },
   {
    "duration": 401,
    "start_time": "2022-03-10T12:48:00.570Z"
   },
   {
    "duration": 8,
    "start_time": "2022-03-10T12:50:02.221Z"
   },
   {
    "duration": 93,
    "start_time": "2022-03-10T12:50:05.370Z"
   },
   {
    "duration": 6,
    "start_time": "2022-03-10T12:50:12.210Z"
   },
   {
    "duration": 92,
    "start_time": "2022-03-10T12:50:15.407Z"
   },
   {
    "duration": 16,
    "start_time": "2022-03-10T12:50:30.756Z"
   },
   {
    "duration": 10,
    "start_time": "2022-03-10T12:58:24.986Z"
   },
   {
    "duration": 90,
    "start_time": "2022-03-10T12:58:35.441Z"
   },
   {
    "duration": 61,
    "start_time": "2022-03-10T12:58:42.136Z"
   },
   {
    "duration": 62,
    "start_time": "2022-03-10T12:58:52.826Z"
   },
   {
    "duration": 98,
    "start_time": "2022-03-10T12:59:13.094Z"
   },
   {
    "duration": 109,
    "start_time": "2022-03-10T12:59:21.177Z"
   },
   {
    "duration": 11,
    "start_time": "2022-03-10T13:00:30.167Z"
   },
   {
    "duration": 100,
    "start_time": "2022-03-10T13:00:32.219Z"
   },
   {
    "duration": 17,
    "start_time": "2022-03-10T13:00:49.142Z"
   },
   {
    "duration": 302,
    "start_time": "2022-03-10T13:00:53.279Z"
   },
   {
    "duration": 398,
    "start_time": "2022-03-10T13:00:56.678Z"
   },
   {
    "duration": 12,
    "start_time": "2022-03-10T13:07:24.468Z"
   },
   {
    "duration": 22,
    "start_time": "2022-03-10T13:08:00.297Z"
   },
   {
    "duration": 6,
    "start_time": "2022-03-10T13:23:03.949Z"
   },
   {
    "duration": 94,
    "start_time": "2022-03-10T13:23:05.720Z"
   },
   {
    "duration": 6,
    "start_time": "2022-03-10T13:23:51.744Z"
   },
   {
    "duration": 99,
    "start_time": "2022-03-10T13:23:54.611Z"
   },
   {
    "duration": 6,
    "start_time": "2022-03-10T13:25:53.014Z"
   },
   {
    "duration": 362,
    "start_time": "2022-03-10T13:25:55.788Z"
   },
   {
    "duration": 5,
    "start_time": "2022-03-10T13:26:28.218Z"
   },
   {
    "duration": 104,
    "start_time": "2022-03-10T13:26:30.959Z"
   },
   {
    "duration": 6,
    "start_time": "2022-03-10T13:26:56.115Z"
   },
   {
    "duration": 88,
    "start_time": "2022-03-10T13:26:58.426Z"
   },
   {
    "duration": 83,
    "start_time": "2022-03-10T13:28:46.344Z"
   },
   {
    "duration": 95,
    "start_time": "2022-03-10T13:28:50.918Z"
   },
   {
    "duration": 4,
    "start_time": "2022-03-10T13:55:49.501Z"
   },
   {
    "duration": 4,
    "start_time": "2022-03-10T13:56:04.474Z"
   },
   {
    "duration": 197,
    "start_time": "2022-03-10T13:56:22.432Z"
   },
   {
    "duration": 194,
    "start_time": "2022-03-10T13:56:27.006Z"
   },
   {
    "duration": 4,
    "start_time": "2022-03-10T13:56:36.710Z"
   },
   {
    "duration": 5,
    "start_time": "2022-03-10T13:57:50.866Z"
   },
   {
    "duration": 4,
    "start_time": "2022-03-10T13:58:01.765Z"
   },
   {
    "duration": 190,
    "start_time": "2022-03-10T13:58:15.132Z"
   },
   {
    "duration": 190,
    "start_time": "2022-03-10T13:58:20.624Z"
   },
   {
    "duration": 5,
    "start_time": "2022-03-10T13:58:40.519Z"
   },
   {
    "duration": 185,
    "start_time": "2022-03-10T13:58:46.734Z"
   },
   {
    "duration": 192,
    "start_time": "2022-03-10T13:58:54.220Z"
   },
   {
    "duration": 34,
    "start_time": "2022-03-10T14:30:45.989Z"
   },
   {
    "duration": 4,
    "start_time": "2022-03-10T14:41:58.475Z"
   },
   {
    "duration": 58,
    "start_time": "2022-03-10T14:42:02.651Z"
   },
   {
    "duration": 4,
    "start_time": "2022-03-10T14:42:30.826Z"
   },
   {
    "duration": 182,
    "start_time": "2022-03-10T14:42:34.046Z"
   },
   {
    "duration": 41,
    "start_time": "2022-03-10T14:42:48.813Z"
   },
   {
    "duration": 24,
    "start_time": "2022-03-10T14:42:55.337Z"
   },
   {
    "duration": 7,
    "start_time": "2022-03-10T14:43:31.210Z"
   },
   {
    "duration": 82,
    "start_time": "2022-03-10T14:45:09.698Z"
   },
   {
    "duration": 8,
    "start_time": "2022-03-10T14:45:18.844Z"
   },
   {
    "duration": 7,
    "start_time": "2022-03-10T14:45:59.278Z"
   },
   {
    "duration": 6,
    "start_time": "2022-03-10T14:46:16.514Z"
   },
   {
    "duration": 387,
    "start_time": "2022-03-10T14:47:02.901Z"
   },
   {
    "duration": 6,
    "start_time": "2022-03-10T14:48:06.428Z"
   },
   {
    "duration": 412,
    "start_time": "2022-03-10T14:48:08.346Z"
   },
   {
    "duration": 8,
    "start_time": "2022-03-10T14:48:21.973Z"
   },
   {
    "duration": 137,
    "start_time": "2022-03-10T14:48:24.577Z"
   },
   {
    "duration": 273,
    "start_time": "2022-03-10T14:49:11.583Z"
   },
   {
    "duration": 13,
    "start_time": "2022-03-10T14:49:39.286Z"
   },
   {
    "duration": 903,
    "start_time": "2022-03-10T14:49:44.368Z"
   },
   {
    "duration": 840,
    "start_time": "2022-03-10T14:50:23.582Z"
   },
   {
    "duration": 919,
    "start_time": "2022-03-10T14:53:59.168Z"
   },
   {
    "duration": 7,
    "start_time": "2022-03-10T14:56:09.268Z"
   },
   {
    "duration": 116,
    "start_time": "2022-03-10T14:56:11.523Z"
   },
   {
    "duration": 10,
    "start_time": "2022-03-10T14:58:30.057Z"
   },
   {
    "duration": 36917,
    "start_time": "2022-03-10T14:58:31.965Z"
   },
   {
    "duration": 8,
    "start_time": "2022-03-10T14:59:51.247Z"
   },
   {
    "duration": 114,
    "start_time": "2022-03-10T14:59:52.986Z"
   },
   {
    "duration": 6,
    "start_time": "2022-03-10T15:01:18.014Z"
   },
   {
    "duration": 580,
    "start_time": "2022-03-10T15:01:20.171Z"
   },
   {
    "duration": 8,
    "start_time": "2022-03-10T15:01:30.858Z"
   },
   {
    "duration": 81,
    "start_time": "2022-03-10T15:01:33.358Z"
   },
   {
    "duration": 11,
    "start_time": "2022-03-10T15:01:46.462Z"
   },
   {
    "duration": 281,
    "start_time": "2022-03-10T15:02:04.289Z"
   },
   {
    "duration": 397,
    "start_time": "2022-03-10T15:02:15.122Z"
   },
   {
    "duration": 82,
    "start_time": "2022-03-10T15:04:09.313Z"
   },
   {
    "duration": 437,
    "start_time": "2022-03-10T15:04:17.906Z"
   },
   {
    "duration": 9,
    "start_time": "2022-03-10T15:04:29.513Z"
   },
   {
    "duration": 120,
    "start_time": "2022-03-10T15:04:31.258Z"
   },
   {
    "duration": 206,
    "start_time": "2022-03-10T15:04:34.085Z"
   },
   {
    "duration": 383,
    "start_time": "2022-03-10T15:04:50.692Z"
   },
   {
    "duration": 6,
    "start_time": "2022-03-10T15:07:18.658Z"
   },
   {
    "duration": 88,
    "start_time": "2022-03-10T15:07:22.065Z"
   },
   {
    "duration": 286,
    "start_time": "2022-03-10T15:07:32.507Z"
   },
   {
    "duration": 419,
    "start_time": "2022-03-10T15:07:38.403Z"
   },
   {
    "duration": 13,
    "start_time": "2022-03-10T15:07:52.660Z"
   },
   {
    "duration": 372,
    "start_time": "2022-03-10T15:08:00.129Z"
   },
   {
    "duration": 291,
    "start_time": "2022-03-10T15:08:34.813Z"
   },
   {
    "duration": 408,
    "start_time": "2022-03-10T15:08:46.234Z"
   },
   {
    "duration": 73,
    "start_time": "2022-03-10T15:25:59.598Z"
   },
   {
    "duration": 499,
    "start_time": "2022-03-10T15:26:03.255Z"
   },
   {
    "duration": 125,
    "start_time": "2022-03-10T15:26:23.682Z"
   },
   {
    "duration": 385,
    "start_time": "2022-03-10T15:26:49.488Z"
   },
   {
    "duration": 7,
    "start_time": "2022-03-10T15:27:22.420Z"
   },
   {
    "duration": 87,
    "start_time": "2022-03-10T15:27:31.718Z"
   },
   {
    "duration": 288,
    "start_time": "2022-03-10T15:27:35.025Z"
   },
   {
    "duration": 383,
    "start_time": "2022-03-10T15:27:38.213Z"
   },
   {
    "duration": 104,
    "start_time": "2022-03-10T15:27:40.964Z"
   },
   {
    "duration": 281,
    "start_time": "2022-03-10T15:27:42.912Z"
   },
   {
    "duration": 695,
    "start_time": "2022-03-10T15:31:41.347Z"
   },
   {
    "duration": 695,
    "start_time": "2022-03-10T15:31:57.603Z"
   },
   {
    "duration": 589,
    "start_time": "2022-03-10T15:32:12.055Z"
   },
   {
    "duration": 721,
    "start_time": "2022-03-10T15:32:37.702Z"
   },
   {
    "duration": 599,
    "start_time": "2022-03-10T15:32:53.770Z"
   },
   {
    "duration": 603,
    "start_time": "2022-03-10T15:39:10.467Z"
   },
   {
    "duration": 628,
    "start_time": "2022-03-10T15:39:27.746Z"
   },
   {
    "duration": 8,
    "start_time": "2022-03-10T15:46:04.160Z"
   },
   {
    "duration": 87,
    "start_time": "2022-03-10T15:46:11.776Z"
   },
   {
    "duration": 469,
    "start_time": "2022-03-10T15:46:26.423Z"
   },
   {
    "duration": 8,
    "start_time": "2022-03-10T15:48:10.637Z"
   },
   {
    "duration": 463,
    "start_time": "2022-03-10T15:48:40.765Z"
   },
   {
    "duration": 7,
    "start_time": "2022-03-10T15:48:50.514Z"
   },
   {
    "duration": 318,
    "start_time": "2022-03-10T15:48:52.582Z"
   },
   {
    "duration": 6,
    "start_time": "2022-03-10T15:49:08.766Z"
   },
   {
    "duration": 148,
    "start_time": "2022-03-10T15:49:10.787Z"
   },
   {
    "duration": 484,
    "start_time": "2022-03-10T15:52:54.172Z"
   },
   {
    "duration": 831,
    "start_time": "2022-03-10T15:53:14.835Z"
   },
   {
    "duration": 696,
    "start_time": "2022-03-10T15:53:59.519Z"
   },
   {
    "duration": 765,
    "start_time": "2022-03-10T15:54:31.912Z"
   },
   {
    "duration": 544,
    "start_time": "2022-03-10T15:56:26.317Z"
   },
   {
    "duration": 7,
    "start_time": "2022-03-10T15:58:54.298Z"
   },
   {
    "duration": 89,
    "start_time": "2022-03-10T15:59:01.275Z"
   },
   {
    "duration": 606,
    "start_time": "2022-03-10T16:00:03.469Z"
   },
   {
    "duration": 628,
    "start_time": "2022-03-10T16:00:10.749Z"
   },
   {
    "duration": 88,
    "start_time": "2022-03-10T16:04:29.702Z"
   },
   {
    "duration": 86,
    "start_time": "2022-03-10T16:04:31.913Z"
   },
   {
    "duration": 625,
    "start_time": "2022-03-10T16:05:12.229Z"
   },
   {
    "duration": 294,
    "start_time": "2022-03-10T16:18:35.250Z"
   },
   {
    "duration": 6,
    "start_time": "2022-03-10T16:20:25.350Z"
   },
   {
    "duration": 91,
    "start_time": "2022-03-10T16:20:27.694Z"
   },
   {
    "duration": 295,
    "start_time": "2022-03-10T16:20:48.690Z"
   },
   {
    "duration": 4,
    "start_time": "2022-03-10T16:21:57.310Z"
   },
   {
    "duration": 6,
    "start_time": "2022-03-10T16:23:04.273Z"
   },
   {
    "duration": 85,
    "start_time": "2022-03-10T16:23:08.238Z"
   },
   {
    "duration": 293,
    "start_time": "2022-03-10T16:24:25.172Z"
   },
   {
    "duration": 270,
    "start_time": "2022-03-10T16:24:39.675Z"
   },
   {
    "duration": 276,
    "start_time": "2022-03-10T16:24:45.021Z"
   },
   {
    "duration": 95,
    "start_time": "2022-03-10T16:25:02.158Z"
   },
   {
    "duration": 287,
    "start_time": "2022-03-10T16:26:01.608Z"
   },
   {
    "duration": 281,
    "start_time": "2022-03-10T16:26:08.876Z"
   },
   {
    "duration": 7,
    "start_time": "2022-03-10T16:31:12.112Z"
   },
   {
    "duration": 85,
    "start_time": "2022-03-10T16:31:38.996Z"
   },
   {
    "duration": 181,
    "start_time": "2022-03-10T16:33:07.937Z"
   },
   {
    "duration": 174,
    "start_time": "2022-03-10T16:34:51.420Z"
   },
   {
    "duration": 179,
    "start_time": "2022-03-10T16:35:00.376Z"
   },
   {
    "duration": 269,
    "start_time": "2022-03-10T16:40:57.741Z"
   },
   {
    "duration": 554,
    "start_time": "2022-03-10T16:44:28.430Z"
   },
   {
    "duration": 633,
    "start_time": "2022-03-10T16:44:54.565Z"
   },
   {
    "duration": 536,
    "start_time": "2022-03-10T16:47:35.809Z"
   },
   {
    "duration": 8,
    "start_time": "2022-03-10T18:07:25.369Z"
   },
   {
    "duration": 1535,
    "start_time": "2022-03-10T18:07:47.218Z"
   },
   {
    "duration": 8,
    "start_time": "2022-03-10T18:09:14.816Z"
   },
   {
    "duration": 1488,
    "start_time": "2022-03-10T18:09:18.249Z"
   },
   {
    "duration": 8,
    "start_time": "2022-03-10T18:10:14.146Z"
   },
   {
    "duration": 256,
    "start_time": "2022-03-10T18:10:15.771Z"
   },
   {
    "duration": 7,
    "start_time": "2022-03-10T18:10:39.428Z"
   },
   {
    "duration": 258,
    "start_time": "2022-03-10T18:10:42.625Z"
   },
   {
    "duration": 8,
    "start_time": "2022-03-10T18:16:44.649Z"
   },
   {
    "duration": 488,
    "start_time": "2022-03-10T18:17:06.514Z"
   },
   {
    "duration": 8,
    "start_time": "2022-03-10T18:17:23.450Z"
   },
   {
    "duration": 425,
    "start_time": "2022-03-10T18:17:24.873Z"
   },
   {
    "duration": 7,
    "start_time": "2022-03-10T18:17:36.054Z"
   },
   {
    "duration": 269,
    "start_time": "2022-03-10T18:17:37.552Z"
   },
   {
    "duration": 419,
    "start_time": "2022-03-10T18:19:12.891Z"
   },
   {
    "duration": 795,
    "start_time": "2022-03-10T18:22:15.779Z"
   },
   {
    "duration": 790,
    "start_time": "2022-03-10T18:22:29.875Z"
   },
   {
    "duration": 798,
    "start_time": "2022-03-10T18:24:52.212Z"
   },
   {
    "duration": 822,
    "start_time": "2022-03-10T18:25:09.656Z"
   },
   {
    "duration": 902,
    "start_time": "2022-03-10T18:25:38.501Z"
   },
   {
    "duration": 925,
    "start_time": "2022-03-10T18:26:41.394Z"
   },
   {
    "duration": 792,
    "start_time": "2022-03-10T18:26:53.605Z"
   },
   {
    "duration": 668,
    "start_time": "2022-03-10T18:27:03.567Z"
   },
   {
    "duration": 702,
    "start_time": "2022-03-10T18:27:59.920Z"
   },
   {
    "duration": 668,
    "start_time": "2022-03-10T18:29:28.985Z"
   },
   {
    "duration": 771,
    "start_time": "2022-03-10T18:30:06.401Z"
   },
   {
    "duration": 729,
    "start_time": "2022-03-10T18:30:27.732Z"
   },
   {
    "duration": 659,
    "start_time": "2022-03-10T18:30:34.392Z"
   },
   {
    "duration": 697,
    "start_time": "2022-03-10T18:30:41.521Z"
   },
   {
    "duration": 7,
    "start_time": "2022-03-10T18:37:29.318Z"
   },
   {
    "duration": 251,
    "start_time": "2022-03-10T18:37:31.525Z"
   },
   {
    "duration": 714,
    "start_time": "2022-03-10T18:37:52.429Z"
   },
   {
    "duration": 1016,
    "start_time": "2022-03-11T08:06:32.302Z"
   },
   {
    "duration": 3,
    "start_time": "2022-03-11T08:06:33.320Z"
   },
   {
    "duration": 118,
    "start_time": "2022-03-11T08:06:33.325Z"
   },
   {
    "duration": 6,
    "start_time": "2022-03-11T08:06:33.444Z"
   },
   {
    "duration": 17,
    "start_time": "2022-03-11T08:06:33.451Z"
   },
   {
    "duration": 30,
    "start_time": "2022-03-11T08:06:33.469Z"
   },
   {
    "duration": 18,
    "start_time": "2022-03-11T08:06:33.500Z"
   },
   {
    "duration": 9,
    "start_time": "2022-03-11T08:06:33.519Z"
   },
   {
    "duration": 5,
    "start_time": "2022-03-11T08:06:33.531Z"
   },
   {
    "duration": 8,
    "start_time": "2022-03-11T08:06:33.537Z"
   },
   {
    "duration": 145,
    "start_time": "2022-03-11T08:06:33.546Z"
   },
   {
    "duration": 508,
    "start_time": "2022-03-11T08:06:33.692Z"
   },
   {
    "duration": 6,
    "start_time": "2022-03-11T08:06:34.201Z"
   },
   {
    "duration": 278,
    "start_time": "2022-03-11T08:06:34.208Z"
   },
   {
    "duration": 279,
    "start_time": "2022-03-11T08:06:34.488Z"
   },
   {
    "duration": 15,
    "start_time": "2022-03-11T08:06:34.769Z"
   },
   {
    "duration": 67,
    "start_time": "2022-03-11T08:06:34.785Z"
   },
   {
    "duration": 7,
    "start_time": "2022-03-11T08:06:34.853Z"
   },
   {
    "duration": 7,
    "start_time": "2022-03-11T08:06:34.862Z"
   },
   {
    "duration": 79,
    "start_time": "2022-03-11T08:06:34.871Z"
   },
   {
    "duration": 836,
    "start_time": "2022-03-11T08:06:34.951Z"
   },
   {
    "duration": 58,
    "start_time": "2022-03-11T08:06:35.789Z"
   },
   {
    "duration": 79,
    "start_time": "2022-03-11T08:06:35.848Z"
   },
   {
    "duration": 68592,
    "start_time": "2022-03-11T08:06:35.929Z"
   },
   {
    "duration": 12,
    "start_time": "2022-03-11T08:07:44.523Z"
   },
   {
    "duration": 350,
    "start_time": "2022-03-11T08:07:44.536Z"
   },
   {
    "duration": 317,
    "start_time": "2022-03-11T08:07:44.889Z"
   },
   {
    "duration": 3,
    "start_time": "2022-03-11T08:07:45.208Z"
   },
   {
    "duration": 58287,
    "start_time": "2022-03-11T08:07:45.212Z"
   },
   {
    "duration": 14267,
    "start_time": "2022-03-11T08:08:43.500Z"
   },
   {
    "duration": 7,
    "start_time": "2022-03-11T08:08:57.769Z"
   },
   {
    "duration": 31648,
    "start_time": "2022-03-11T08:08:57.777Z"
   },
   {
    "duration": 6,
    "start_time": "2022-03-11T08:09:29.427Z"
   },
   {
    "duration": 236,
    "start_time": "2022-03-11T08:09:29.434Z"
   },
   {
    "duration": 583,
    "start_time": "2022-03-11T08:09:29.672Z"
   },
   {
    "duration": 19,
    "start_time": "2022-03-11T08:50:33.202Z"
   },
   {
    "duration": 26,
    "start_time": "2022-03-11T08:50:41.804Z"
   },
   {
    "duration": 563,
    "start_time": "2022-03-11T09:00:28.074Z"
   },
   {
    "duration": 9,
    "start_time": "2022-03-11T09:03:06.373Z"
   },
   {
    "duration": 8000,
    "start_time": "2022-03-11T09:03:08.066Z"
   },
   {
    "duration": 8,
    "start_time": "2022-03-11T09:03:39.503Z"
   },
   {
    "duration": 33656,
    "start_time": "2022-03-11T09:03:42.912Z"
   },
   {
    "duration": 6,
    "start_time": "2022-03-11T09:05:24.942Z"
   },
   {
    "duration": 7,
    "start_time": "2022-03-11T09:05:35.744Z"
   },
   {
    "duration": 226,
    "start_time": "2022-03-11T09:05:47.837Z"
   },
   {
    "duration": 630,
    "start_time": "2022-03-11T09:05:50.189Z"
   },
   {
    "duration": 26,
    "start_time": "2022-03-11T09:06:13.190Z"
   },
   {
    "duration": 4,
    "start_time": "2022-03-11T09:06:23.335Z"
   },
   {
    "duration": 242,
    "start_time": "2022-03-11T09:16:59.075Z"
   },
   {
    "duration": 236,
    "start_time": "2022-03-11T09:17:08.285Z"
   },
   {
    "duration": 72212,
    "start_time": "2022-03-11T09:17:29.055Z"
   },
   {
    "duration": 17,
    "start_time": "2022-03-11T09:20:35.952Z"
   },
   {
    "duration": 4,
    "start_time": "2022-03-11T09:29:22.678Z"
   },
   {
    "duration": 302,
    "start_time": "2022-03-11T09:29:32.292Z"
   },
   {
    "duration": 373,
    "start_time": "2022-03-11T09:29:37.062Z"
   },
   {
    "duration": 4,
    "start_time": "2022-03-11T09:29:41.822Z"
   },
   {
    "duration": 292,
    "start_time": "2022-03-11T09:29:51.513Z"
   },
   {
    "duration": 4,
    "start_time": "2022-03-11T09:29:56.630Z"
   },
   {
    "duration": 307,
    "start_time": "2022-03-11T09:31:05.040Z"
   },
   {
    "duration": 4,
    "start_time": "2022-03-11T09:31:17.126Z"
   },
   {
    "duration": 2,
    "start_time": "2022-03-11T09:34:06.776Z"
   },
   {
    "duration": 2122,
    "start_time": "2022-03-11T09:35:02.127Z"
   },
   {
    "duration": 1666,
    "start_time": "2022-03-11T09:35:17.931Z"
   },
   {
    "duration": 4,
    "start_time": "2022-03-11T09:36:59.234Z"
   },
   {
    "duration": 309,
    "start_time": "2022-03-11T09:37:26.445Z"
   },
   {
    "duration": 307,
    "start_time": "2022-03-11T09:37:30.434Z"
   },
   {
    "duration": 5,
    "start_time": "2022-03-11T09:38:45.137Z"
   },
   {
    "duration": 3,
    "start_time": "2022-03-11T09:40:09.520Z"
   },
   {
    "duration": 2193,
    "start_time": "2022-03-11T09:40:41.543Z"
   },
   {
    "duration": 3,
    "start_time": "2022-03-11T09:40:53.935Z"
   },
   {
    "duration": 2524,
    "start_time": "2022-03-11T09:40:55.969Z"
   },
   {
    "duration": 2,
    "start_time": "2022-03-11T09:41:12.790Z"
   },
   {
    "duration": 15,
    "start_time": "2022-03-11T09:41:14.609Z"
   },
   {
    "duration": 8,
    "start_time": "2022-03-11T09:44:25.505Z"
   },
   {
    "duration": 10,
    "start_time": "2022-03-11T09:44:33.765Z"
   },
   {
    "duration": 5,
    "start_time": "2022-03-11T09:46:20.200Z"
   },
   {
    "duration": 3543,
    "start_time": "2022-03-11T09:47:20.068Z"
   },
   {
    "duration": 2147,
    "start_time": "2022-03-11T09:47:26.393Z"
   },
   {
    "duration": 1967,
    "start_time": "2022-03-11T09:47:36.641Z"
   },
   {
    "duration": 29,
    "start_time": "2022-03-11T09:48:50.122Z"
   },
   {
    "duration": 603,
    "start_time": "2022-03-11T09:54:01.707Z"
   },
   {
    "duration": 574,
    "start_time": "2022-03-11T09:54:45.433Z"
   },
   {
    "duration": 615,
    "start_time": "2022-03-11T09:55:08.308Z"
   },
   {
    "duration": 610,
    "start_time": "2022-03-11T09:55:15.279Z"
   },
   {
    "duration": 610,
    "start_time": "2022-03-11T09:55:18.404Z"
   },
   {
    "duration": 4,
    "start_time": "2022-03-11T10:06:22.390Z"
   },
   {
    "duration": 558,
    "start_time": "2022-03-11T10:20:38.525Z"
   },
   {
    "duration": 4,
    "start_time": "2022-03-11T10:59:12.193Z"
   },
   {
    "duration": 60,
    "start_time": "2022-03-11T11:10:00.434Z"
   },
   {
    "duration": 4,
    "start_time": "2022-03-11T11:11:03.194Z"
   },
   {
    "duration": 356,
    "start_time": "2022-03-11T11:11:28.449Z"
   },
   {
    "duration": 6,
    "start_time": "2022-03-11T11:12:39.754Z"
   },
   {
    "duration": 357,
    "start_time": "2022-03-11T11:14:05.280Z"
   },
   {
    "duration": 336,
    "start_time": "2022-03-11T11:14:23.678Z"
   },
   {
    "duration": 6872,
    "start_time": "2022-03-11T11:14:49.634Z"
   },
   {
    "duration": 604,
    "start_time": "2022-03-11T11:15:00.257Z"
   },
   {
    "duration": 3,
    "start_time": "2022-03-11T11:15:58.623Z"
   },
   {
    "duration": 7086,
    "start_time": "2022-03-11T11:16:21.223Z"
   },
   {
    "duration": 293,
    "start_time": "2022-03-11T11:16:30.033Z"
   },
   {
    "duration": 9695,
    "start_time": "2022-03-11T11:16:41.215Z"
   },
   {
    "duration": 300,
    "start_time": "2022-03-11T11:16:52.018Z"
   },
   {
    "duration": 88887,
    "start_time": "2022-03-11T11:16:57.433Z"
   },
   {
    "duration": 18284,
    "start_time": "2022-03-11T11:18:26.322Z"
   },
   {
    "duration": 287,
    "start_time": "2022-03-11T11:18:46.385Z"
   },
   {
    "duration": 18544,
    "start_time": "2022-03-11T11:18:58.065Z"
   },
   {
    "duration": 305,
    "start_time": "2022-03-11T11:19:16.611Z"
   },
   {
    "duration": 259,
    "start_time": "2022-03-11T11:21:56.332Z"
   },
   {
    "duration": 278,
    "start_time": "2022-03-11T11:22:02.446Z"
   },
   {
    "duration": 1469,
    "start_time": "2022-03-11T11:22:49.442Z"
   },
   {
    "duration": 14,
    "start_time": "2022-03-11T11:23:09.511Z"
   },
   {
    "duration": 20,
    "start_time": "2022-03-11T11:23:27.335Z"
   },
   {
    "duration": 7,
    "start_time": "2022-03-11T11:25:01.465Z"
   },
   {
    "duration": 19908,
    "start_time": "2022-03-11T11:37:09.400Z"
   },
   {
    "duration": 13,
    "start_time": "2022-03-11T11:40:38.083Z"
   },
   {
    "duration": 17,
    "start_time": "2022-03-11T11:41:03.938Z"
   },
   {
    "duration": 16,
    "start_time": "2022-03-11T11:45:12.911Z"
   },
   {
    "duration": 21,
    "start_time": "2022-03-11T11:45:37.659Z"
   },
   {
    "duration": 17,
    "start_time": "2022-03-11T11:45:48.677Z"
   },
   {
    "duration": 18,
    "start_time": "2022-03-11T11:45:54.453Z"
   },
   {
    "duration": 296,
    "start_time": "2022-03-11T14:11:28.147Z"
   },
   {
    "duration": 10,
    "start_time": "2022-03-11T14:11:32.504Z"
   },
   {
    "duration": 7,
    "start_time": "2022-03-11T14:11:39.412Z"
   },
   {
    "duration": 7,
    "start_time": "2022-03-11T14:26:05.303Z"
   },
   {
    "duration": 18006,
    "start_time": "2022-03-11T14:26:08.578Z"
   },
   {
    "duration": 1315,
    "start_time": "2022-03-11T14:26:38.490Z"
   },
   {
    "duration": 18,
    "start_time": "2022-03-11T14:26:42.056Z"
   },
   {
    "duration": 6,
    "start_time": "2022-03-11T14:28:35.751Z"
   },
   {
    "duration": 18128,
    "start_time": "2022-03-11T14:28:37.755Z"
   },
   {
    "duration": 934,
    "start_time": "2022-03-11T14:29:07.377Z"
   },
   {
    "duration": 15,
    "start_time": "2022-03-11T14:29:09.620Z"
   },
   {
    "duration": 1384,
    "start_time": "2022-03-11T14:31:20.422Z"
   },
   {
    "duration": 16,
    "start_time": "2022-03-11T14:31:22.664Z"
   },
   {
    "duration": 7,
    "start_time": "2022-03-11T14:32:30.801Z"
   },
   {
    "duration": 17550,
    "start_time": "2022-03-11T14:32:32.751Z"
   },
   {
    "duration": 860,
    "start_time": "2022-03-11T14:32:59.546Z"
   },
   {
    "duration": 16,
    "start_time": "2022-03-11T14:33:03.052Z"
   },
   {
    "duration": 18,
    "start_time": "2022-03-11T14:33:56.080Z"
   },
   {
    "duration": 8,
    "start_time": "2022-03-11T14:35:07.045Z"
   },
   {
    "duration": 17805,
    "start_time": "2022-03-11T14:35:13.880Z"
   },
   {
    "duration": 8943,
    "start_time": "2022-03-11T14:35:44.852Z"
   },
   {
    "duration": 1203,
    "start_time": "2022-03-11T14:36:05.403Z"
   },
   {
    "duration": 15,
    "start_time": "2022-03-11T14:36:08.028Z"
   },
   {
    "duration": 1118,
    "start_time": "2022-03-11T14:37:15.888Z"
   },
   {
    "duration": 16,
    "start_time": "2022-03-11T14:37:17.799Z"
   },
   {
    "duration": 1065,
    "start_time": "2022-03-11T14:39:57.441Z"
   },
   {
    "duration": 17,
    "start_time": "2022-03-11T14:40:00.110Z"
   },
   {
    "duration": 1006,
    "start_time": "2022-03-11T14:41:03.204Z"
   },
   {
    "duration": 18,
    "start_time": "2022-03-11T14:41:04.749Z"
   },
   {
    "duration": 7,
    "start_time": "2022-03-11T14:42:33.853Z"
   },
   {
    "duration": 9235,
    "start_time": "2022-03-11T14:42:44.658Z"
   },
   {
    "duration": 1127,
    "start_time": "2022-03-11T14:43:22.080Z"
   },
   {
    "duration": 16,
    "start_time": "2022-03-11T14:43:24.650Z"
   },
   {
    "duration": 1222,
    "start_time": "2022-03-11T14:45:03.590Z"
   },
   {
    "duration": 17,
    "start_time": "2022-03-11T14:45:06.052Z"
   },
   {
    "duration": 1151,
    "start_time": "2022-03-11T14:48:29.254Z"
   },
   {
    "duration": 3,
    "start_time": "2022-03-11T14:48:30.407Z"
   },
   {
    "duration": 129,
    "start_time": "2022-03-11T14:48:30.412Z"
   },
   {
    "duration": 6,
    "start_time": "2022-03-11T14:48:30.543Z"
   },
   {
    "duration": 27,
    "start_time": "2022-03-11T14:48:30.550Z"
   },
   {
    "duration": 36,
    "start_time": "2022-03-11T14:48:30.578Z"
   },
   {
    "duration": 21,
    "start_time": "2022-03-11T14:48:30.616Z"
   },
   {
    "duration": 18,
    "start_time": "2022-03-11T14:48:30.639Z"
   },
   {
    "duration": 17,
    "start_time": "2022-03-11T14:48:30.659Z"
   },
   {
    "duration": 23,
    "start_time": "2022-03-11T14:48:30.678Z"
   },
   {
    "duration": 140,
    "start_time": "2022-03-11T14:48:30.703Z"
   },
   {
    "duration": 560,
    "start_time": "2022-03-11T14:48:30.845Z"
   },
   {
    "duration": 6,
    "start_time": "2022-03-11T14:48:31.407Z"
   },
   {
    "duration": 312,
    "start_time": "2022-03-11T14:48:31.414Z"
   },
   {
    "duration": 308,
    "start_time": "2022-03-11T14:48:31.728Z"
   },
   {
    "duration": 17,
    "start_time": "2022-03-11T14:48:32.038Z"
   },
   {
    "duration": 78,
    "start_time": "2022-03-11T14:48:32.056Z"
   },
   {
    "duration": 9,
    "start_time": "2022-03-11T14:48:32.135Z"
   },
   {
    "duration": 13,
    "start_time": "2022-03-11T14:48:32.145Z"
   },
   {
    "duration": 87,
    "start_time": "2022-03-11T14:48:32.159Z"
   },
   {
    "duration": 967,
    "start_time": "2022-03-11T14:48:32.248Z"
   },
   {
    "duration": 54,
    "start_time": "2022-03-11T14:48:33.216Z"
   },
   {
    "duration": 102,
    "start_time": "2022-03-11T14:48:33.274Z"
   },
   {
    "duration": 66305,
    "start_time": "2022-03-11T14:48:33.378Z"
   },
   {
    "duration": 23,
    "start_time": "2022-03-11T14:49:39.685Z"
   },
   {
    "duration": 318,
    "start_time": "2022-03-11T14:49:39.709Z"
   },
   {
    "duration": 357,
    "start_time": "2022-03-11T14:49:40.029Z"
   },
   {
    "duration": 3,
    "start_time": "2022-03-11T14:49:40.387Z"
   },
   {
    "duration": 59558,
    "start_time": "2022-03-11T14:49:40.392Z"
   },
   {
    "duration": 15268,
    "start_time": "2022-03-11T14:50:39.951Z"
   },
   {
    "duration": 8,
    "start_time": "2022-03-11T14:50:55.221Z"
   },
   {
    "duration": 33030,
    "start_time": "2022-03-11T14:50:55.230Z"
   },
   {
    "duration": 8,
    "start_time": "2022-03-11T14:51:28.262Z"
   },
   {
    "duration": 244,
    "start_time": "2022-03-11T14:51:28.272Z"
   },
   {
    "duration": 717,
    "start_time": "2022-03-11T14:51:28.518Z"
   },
   {
    "duration": 16,
    "start_time": "2022-03-11T14:51:29.236Z"
   },
   {
    "duration": 25,
    "start_time": "2022-03-11T14:51:29.253Z"
   },
   {
    "duration": 594,
    "start_time": "2022-03-11T14:51:29.280Z"
   },
   {
    "duration": 7,
    "start_time": "2022-03-11T14:51:29.876Z"
   },
   {
    "duration": 9623,
    "start_time": "2022-03-11T14:51:29.884Z"
   },
   {
    "duration": 1298,
    "start_time": "2022-03-11T14:51:39.508Z"
   },
   {
    "duration": 15,
    "start_time": "2022-03-11T14:51:40.807Z"
   },
   {
    "duration": 649,
    "start_time": "2022-03-11T14:54:47.262Z"
   },
   {
    "duration": 595,
    "start_time": "2022-03-11T14:55:41.917Z"
   },
   {
    "duration": 3,
    "start_time": "2022-03-11T15:03:45.115Z"
   },
   {
    "duration": 4,
    "start_time": "2022-03-11T15:03:45.519Z"
   },
   {
    "duration": 112,
    "start_time": "2022-03-11T15:03:45.716Z"
   },
   {
    "duration": 7,
    "start_time": "2022-03-11T15:03:46.075Z"
   },
   {
    "duration": 19,
    "start_time": "2022-03-11T15:03:46.646Z"
   },
   {
    "duration": 36,
    "start_time": "2022-03-11T15:03:46.813Z"
   },
   {
    "duration": 19,
    "start_time": "2022-03-11T15:03:46.971Z"
   },
   {
    "duration": 11,
    "start_time": "2022-03-11T15:03:47.252Z"
   },
   {
    "duration": 6,
    "start_time": "2022-03-11T15:03:47.402Z"
   },
   {
    "duration": 6,
    "start_time": "2022-03-11T15:03:48.011Z"
   },
   {
    "duration": 213,
    "start_time": "2022-03-11T15:03:48.339Z"
   },
   {
    "duration": 546,
    "start_time": "2022-03-11T15:03:48.554Z"
   },
   {
    "duration": 6,
    "start_time": "2022-03-11T15:03:49.102Z"
   },
   {
    "duration": 286,
    "start_time": "2022-03-11T15:03:49.359Z"
   },
   {
    "duration": 300,
    "start_time": "2022-03-11T15:03:49.968Z"
   },
   {
    "duration": 17,
    "start_time": "2022-03-11T15:03:50.270Z"
   },
   {
    "duration": 58,
    "start_time": "2022-03-11T15:03:50.629Z"
   },
   {
    "duration": 9,
    "start_time": "2022-03-11T15:03:51.093Z"
   },
   {
    "duration": 9,
    "start_time": "2022-03-11T15:03:51.465Z"
   },
   {
    "duration": 67,
    "start_time": "2022-03-11T15:03:52.240Z"
   },
   {
    "duration": 1014,
    "start_time": "2022-03-11T15:03:52.567Z"
   },
   {
    "duration": 65,
    "start_time": "2022-03-11T15:03:53.583Z"
   },
   {
    "duration": 85,
    "start_time": "2022-03-11T15:03:53.650Z"
   },
   {
    "duration": 66914,
    "start_time": "2022-03-11T15:03:55.150Z"
   },
   {
    "duration": 13,
    "start_time": "2022-03-11T15:05:02.066Z"
   },
   {
    "duration": 325,
    "start_time": "2022-03-11T15:05:02.082Z"
   },
   {
    "duration": 351,
    "start_time": "2022-03-11T15:05:02.410Z"
   },
   {
    "duration": 4,
    "start_time": "2022-03-11T15:05:02.763Z"
   },
   {
    "duration": 59213,
    "start_time": "2022-03-11T15:05:02.768Z"
   },
   {
    "duration": 15310,
    "start_time": "2022-03-11T15:06:01.983Z"
   },
   {
    "duration": 11,
    "start_time": "2022-03-11T15:06:17.296Z"
   },
   {
    "duration": 32463,
    "start_time": "2022-03-11T15:06:17.309Z"
   },
   {
    "duration": 6,
    "start_time": "2022-03-11T15:06:49.774Z"
   },
   {
    "duration": 237,
    "start_time": "2022-03-11T15:06:49.782Z"
   },
   {
    "duration": 581,
    "start_time": "2022-03-11T15:06:50.020Z"
   },
   {
    "duration": 10,
    "start_time": "2022-03-11T15:06:50.603Z"
   },
   {
    "duration": 26,
    "start_time": "2022-03-11T15:06:50.615Z"
   },
   {
    "duration": 662,
    "start_time": "2022-03-11T15:06:50.643Z"
   },
   {
    "duration": 7,
    "start_time": "2022-03-11T15:18:36.448Z"
   },
   {
    "duration": 8857,
    "start_time": "2022-03-11T15:18:42.621Z"
   },
   {
    "duration": 953,
    "start_time": "2022-03-11T15:19:05.453Z"
   },
   {
    "duration": 14,
    "start_time": "2022-03-11T15:19:08.229Z"
   },
   {
    "duration": 6,
    "start_time": "2022-03-11T15:36:12.813Z"
   },
   {
    "duration": 8244,
    "start_time": "2022-03-11T15:36:17.057Z"
   },
   {
    "duration": 669,
    "start_time": "2022-03-11T15:36:43.137Z"
   },
   {
    "duration": 15,
    "start_time": "2022-03-11T15:36:45.276Z"
   },
   {
    "duration": 11,
    "start_time": "2022-03-11T15:51:28.036Z"
   },
   {
    "duration": 235,
    "start_time": "2022-03-11T15:52:17.527Z"
   },
   {
    "duration": 255,
    "start_time": "2022-03-11T15:52:47.304Z"
   },
   {
    "duration": 236,
    "start_time": "2022-03-11T15:53:20.128Z"
   },
   {
    "duration": 233,
    "start_time": "2022-03-11T15:53:33.299Z"
   },
   {
    "duration": 242,
    "start_time": "2022-03-11T15:53:39.195Z"
   },
   {
    "duration": 253,
    "start_time": "2022-03-11T15:53:48.861Z"
   },
   {
    "duration": 256,
    "start_time": "2022-03-11T15:54:11.218Z"
   },
   {
    "duration": 400,
    "start_time": "2022-03-11T15:55:20.610Z"
   },
   {
    "duration": 748,
    "start_time": "2022-03-11T15:57:11.178Z"
   },
   {
    "duration": -495,
    "start_time": "2022-03-11T15:58:17.191Z"
   },
   {
    "duration": 54699,
    "start_time": "2022-03-11T15:58:32.247Z"
   },
   {
    "duration": 548,
    "start_time": "2022-03-11T16:00:32.918Z"
   },
   {
    "duration": 5,
    "start_time": "2022-03-11T16:01:00.698Z"
   },
   {
    "duration": 542,
    "start_time": "2022-03-11T16:01:08.430Z"
   },
   {
    "duration": 5,
    "start_time": "2022-03-11T16:01:37.224Z"
   },
   {
    "duration": 1269,
    "start_time": "2022-03-11T16:02:39.297Z"
   },
   {
    "duration": 109,
    "start_time": "2022-03-11T16:31:14.971Z"
   },
   {
    "duration": 306,
    "start_time": "2022-03-11T16:31:43.172Z"
   },
   {
    "duration": 311,
    "start_time": "2022-03-11T16:31:58.519Z"
   },
   {
    "duration": 5,
    "start_time": "2022-03-11T16:40:10.304Z"
   },
   {
    "duration": 8,
    "start_time": "2022-03-11T16:40:13.957Z"
   },
   {
    "duration": 5,
    "start_time": "2022-03-11T16:40:27.616Z"
   },
   {
    "duration": 95,
    "start_time": "2022-03-11T16:40:34.227Z"
   },
   {
    "duration": 318,
    "start_time": "2022-03-11T16:40:44.053Z"
   },
   {
    "duration": 290,
    "start_time": "2022-03-11T16:41:25.100Z"
   },
   {
    "duration": 321,
    "start_time": "2022-03-11T16:41:29.910Z"
   },
   {
    "duration": 318,
    "start_time": "2022-03-11T16:41:38.339Z"
   },
   {
    "duration": 285,
    "start_time": "2022-03-11T16:41:43.499Z"
   },
   {
    "duration": 310,
    "start_time": "2022-03-11T16:42:25.346Z"
   },
   {
    "duration": 345,
    "start_time": "2022-03-11T16:42:37.204Z"
   },
   {
    "duration": 95,
    "start_time": "2022-03-11T16:43:08.831Z"
   },
   {
    "duration": 351,
    "start_time": "2022-03-11T16:43:11.357Z"
   },
   {
    "duration": 309,
    "start_time": "2022-03-11T16:43:36.464Z"
   },
   {
    "duration": 4,
    "start_time": "2022-03-11T16:43:41.993Z"
   },
   {
    "duration": 346,
    "start_time": "2022-03-11T16:43:48.997Z"
   },
   {
    "duration": 298,
    "start_time": "2022-03-11T16:43:51.693Z"
   },
   {
    "duration": 3,
    "start_time": "2022-03-11T16:43:59.496Z"
   },
   {
    "duration": 304,
    "start_time": "2022-03-11T16:44:17.104Z"
   },
   {
    "duration": 389,
    "start_time": "2022-03-11T16:44:38.183Z"
   },
   {
    "duration": 4,
    "start_time": "2022-03-11T16:44:45.135Z"
   },
   {
    "duration": 7,
    "start_time": "2022-03-11T16:45:11.975Z"
   },
   {
    "duration": 5,
    "start_time": "2022-03-11T16:45:14.575Z"
   },
   {
    "duration": 91,
    "start_time": "2022-03-11T16:45:20.559Z"
   },
   {
    "duration": 277,
    "start_time": "2022-03-11T16:45:22.749Z"
   },
   {
    "duration": 5,
    "start_time": "2022-03-11T16:45:51.780Z"
   },
   {
    "duration": 6,
    "start_time": "2022-03-11T16:45:57.098Z"
   },
   {
    "duration": 5,
    "start_time": "2022-03-11T16:46:34.648Z"
   },
   {
    "duration": 4,
    "start_time": "2022-03-11T16:46:40.640Z"
   },
   {
    "duration": 6,
    "start_time": "2022-03-11T16:48:09.858Z"
   },
   {
    "duration": 4,
    "start_time": "2022-03-11T16:48:14.566Z"
   },
   {
    "duration": 60,
    "start_time": "2022-03-11T16:48:51.140Z"
   },
   {
    "duration": 314,
    "start_time": "2022-03-11T16:48:53.406Z"
   },
   {
    "duration": 3,
    "start_time": "2022-03-11T16:49:28.337Z"
   },
   {
    "duration": 113,
    "start_time": "2022-03-11T16:49:35.632Z"
   },
   {
    "duration": 513,
    "start_time": "2022-03-11T16:49:37.837Z"
   },
   {
    "duration": 299,
    "start_time": "2022-03-11T16:50:20.332Z"
   },
   {
    "duration": 641,
    "start_time": "2022-03-11T16:50:25.355Z"
   },
   {
    "duration": 10,
    "start_time": "2022-03-11T16:53:12.916Z"
   },
   {
    "duration": 23,
    "start_time": "2022-03-11T16:53:25.891Z"
   },
   {
    "duration": 12,
    "start_time": "2022-03-11T16:54:27.590Z"
   },
   {
    "duration": 5,
    "start_time": "2022-03-11T16:54:32.417Z"
   },
   {
    "duration": 13,
    "start_time": "2022-03-11T16:58:40.316Z"
   },
   {
    "duration": 11,
    "start_time": "2022-03-11T16:58:46.173Z"
   },
   {
    "duration": 11,
    "start_time": "2022-03-11T16:59:03.550Z"
   },
   {
    "duration": 6,
    "start_time": "2022-03-11T16:59:49.934Z"
   },
   {
    "duration": 9,
    "start_time": "2022-03-11T17:00:04.561Z"
   },
   {
    "duration": 4,
    "start_time": "2022-03-11T17:01:13.109Z"
   },
   {
    "duration": 9,
    "start_time": "2022-03-11T17:01:16.449Z"
   },
   {
    "duration": 9,
    "start_time": "2022-03-11T17:01:38.890Z"
   },
   {
    "duration": 12,
    "start_time": "2022-03-11T17:03:50.678Z"
   },
   {
    "duration": 320,
    "start_time": "2022-03-11T17:04:06.125Z"
   },
   {
    "duration": 11,
    "start_time": "2022-03-11T17:04:16.386Z"
   },
   {
    "duration": 305,
    "start_time": "2022-03-11T17:04:36.981Z"
   },
   {
    "duration": 6,
    "start_time": "2022-03-11T17:04:44.110Z"
   },
   {
    "duration": 301,
    "start_time": "2022-03-11T17:05:31.629Z"
   },
   {
    "duration": 10,
    "start_time": "2022-03-11T17:06:08.174Z"
   },
   {
    "duration": 7,
    "start_time": "2022-03-11T17:06:45.876Z"
   },
   {
    "duration": 292,
    "start_time": "2022-03-11T17:07:24.654Z"
   },
   {
    "duration": 307,
    "start_time": "2022-03-11T17:07:33.561Z"
   },
   {
    "duration": 307,
    "start_time": "2022-03-11T17:08:00.746Z"
   },
   {
    "duration": 295,
    "start_time": "2022-03-11T17:08:10.944Z"
   },
   {
    "duration": 318,
    "start_time": "2022-03-11T17:08:19.705Z"
   },
   {
    "duration": 6,
    "start_time": "2022-03-11T17:09:28.140Z"
   },
   {
    "duration": 6,
    "start_time": "2022-03-11T17:09:52.910Z"
   },
   {
    "duration": 6,
    "start_time": "2022-03-11T17:10:04.637Z"
   },
   {
    "duration": 15,
    "start_time": "2022-03-11T17:10:06.688Z"
   },
   {
    "duration": 381,
    "start_time": "2022-03-11T17:10:16.314Z"
   },
   {
    "duration": 15,
    "start_time": "2022-03-11T17:10:30.519Z"
   },
   {
    "duration": 14,
    "start_time": "2022-03-11T17:12:04.118Z"
   },
   {
    "duration": 15,
    "start_time": "2022-03-11T17:12:12.868Z"
   },
   {
    "duration": 13,
    "start_time": "2022-03-11T17:15:20.526Z"
   },
   {
    "duration": 12,
    "start_time": "2022-03-11T17:15:33.252Z"
   },
   {
    "duration": 115,
    "start_time": "2022-03-11T17:53:52.644Z"
   },
   {
    "duration": 938,
    "start_time": "2022-03-11T17:54:12.377Z"
   },
   {
    "duration": 308,
    "start_time": "2022-03-11T17:54:29.800Z"
   },
   {
    "duration": 907,
    "start_time": "2022-03-11T17:54:42.014Z"
   },
   {
    "duration": 2066,
    "start_time": "2022-03-11T17:56:38.152Z"
   },
   {
    "duration": 1834,
    "start_time": "2022-03-11T17:57:59.176Z"
   },
   {
    "duration": 2307,
    "start_time": "2022-03-11T17:58:11.505Z"
   },
   {
    "duration": 4050,
    "start_time": "2022-03-11T17:59:25.768Z"
   },
   {
    "duration": 2214,
    "start_time": "2022-03-11T17:59:34.381Z"
   },
   {
    "duration": 1752,
    "start_time": "2022-03-13T16:04:17.300Z"
   },
   {
    "duration": 7,
    "start_time": "2022-03-13T16:04:19.055Z"
   },
   {
    "duration": 449,
    "start_time": "2022-03-13T16:04:19.066Z"
   },
   {
    "duration": 9,
    "start_time": "2022-03-13T16:04:19.518Z"
   },
   {
    "duration": 26,
    "start_time": "2022-03-13T16:04:19.530Z"
   },
   {
    "duration": 85,
    "start_time": "2022-03-13T16:04:19.559Z"
   },
   {
    "duration": 75,
    "start_time": "2022-03-13T16:04:19.647Z"
   },
   {
    "duration": 14,
    "start_time": "2022-03-13T16:04:19.725Z"
   },
   {
    "duration": 8,
    "start_time": "2022-03-13T16:04:19.745Z"
   },
   {
    "duration": 44,
    "start_time": "2022-03-13T16:04:19.757Z"
   },
   {
    "duration": 247,
    "start_time": "2022-03-13T16:04:19.805Z"
   },
   {
    "duration": 1074,
    "start_time": "2022-03-13T16:04:20.055Z"
   },
   {
    "duration": 11,
    "start_time": "2022-03-13T16:04:21.131Z"
   },
   {
    "duration": 590,
    "start_time": "2022-03-13T16:04:21.145Z"
   },
   {
    "duration": 607,
    "start_time": "2022-03-13T16:04:21.739Z"
   },
   {
    "duration": 43,
    "start_time": "2022-03-13T16:04:22.349Z"
   },
   {
    "duration": 117,
    "start_time": "2022-03-13T16:04:22.395Z"
   },
   {
    "duration": 12,
    "start_time": "2022-03-13T16:04:22.515Z"
   },
   {
    "duration": 12,
    "start_time": "2022-03-13T16:04:22.530Z"
   },
   {
    "duration": 154,
    "start_time": "2022-03-13T16:04:22.545Z"
   },
   {
    "duration": 1900,
    "start_time": "2022-03-13T16:04:22.702Z"
   },
   {
    "duration": 101,
    "start_time": "2022-03-13T16:04:24.605Z"
   },
   {
    "duration": 144,
    "start_time": "2022-03-13T16:04:24.708Z"
   },
   {
    "duration": 107172,
    "start_time": "2022-03-13T16:04:24.854Z"
   },
   {
    "duration": 23,
    "start_time": "2022-03-13T16:06:12.029Z"
   },
   {
    "duration": 638,
    "start_time": "2022-03-13T16:06:12.055Z"
   },
   {
    "duration": 692,
    "start_time": "2022-03-13T16:06:12.704Z"
   },
   {
    "duration": 11,
    "start_time": "2022-03-13T16:06:13.400Z"
   },
   {
    "duration": 96575,
    "start_time": "2022-03-13T16:06:13.415Z"
   },
   {
    "duration": 26566,
    "start_time": "2022-03-13T16:07:49.996Z"
   },
   {
    "duration": 21,
    "start_time": "2022-03-13T16:08:16.566Z"
   },
   {
    "duration": 53523,
    "start_time": "2022-03-13T16:08:16.590Z"
   },
   {
    "duration": 10,
    "start_time": "2022-03-13T16:09:10.116Z"
   },
   {
    "duration": 407,
    "start_time": "2022-03-13T16:09:10.128Z"
   },
   {
    "duration": 1056,
    "start_time": "2022-03-13T16:09:10.538Z"
   },
   {
    "duration": 18,
    "start_time": "2022-03-13T16:09:11.598Z"
   },
   {
    "duration": 50,
    "start_time": "2022-03-13T16:09:11.618Z"
   },
   {
    "duration": 961,
    "start_time": "2022-03-13T16:09:11.687Z"
   },
   {
    "duration": 9,
    "start_time": "2022-03-13T16:09:12.650Z"
   },
   {
    "duration": 9093,
    "start_time": "2022-03-13T16:09:12.661Z"
   },
   {
    "duration": 930,
    "start_time": "2022-03-13T16:09:21.758Z"
   },
   {
    "duration": 120,
    "start_time": "2022-03-13T16:09:22.692Z"
   },
   {
    "duration": 2632,
    "start_time": "2022-03-13T16:09:22.815Z"
   },
   {
    "duration": 482,
    "start_time": "2022-03-13T16:09:25.449Z"
   },
   {
    "duration": -1069,
    "start_time": "2022-03-13T16:09:27.002Z"
   },
   {
    "duration": 202,
    "start_time": "2022-03-13T16:09:38.355Z"
   },
   {
    "duration": 2876,
    "start_time": "2022-03-13T16:09:40.030Z"
   },
   {
    "duration": 4299,
    "start_time": "2022-03-13T16:09:45.588Z"
   },
   {
    "duration": 15,
    "start_time": "2022-03-13T16:09:57.435Z"
   },
   {
    "duration": 18,
    "start_time": "2022-03-13T16:10:25.438Z"
   },
   {
    "duration": 241,
    "start_time": "2022-03-13T16:11:52.556Z"
   },
   {
    "duration": 18,
    "start_time": "2022-03-13T16:12:01.063Z"
   },
   {
    "duration": 6,
    "start_time": "2022-03-13T16:14:59.692Z"
   },
   {
    "duration": 25,
    "start_time": "2022-03-13T16:17:38.619Z"
   },
   {
    "duration": 73,
    "start_time": "2022-03-13T16:18:35.650Z"
   },
   {
    "duration": 124,
    "start_time": "2022-03-13T16:18:39.450Z"
   },
   {
    "duration": 21,
    "start_time": "2022-03-13T16:18:50.058Z"
   },
   {
    "duration": 24,
    "start_time": "2022-03-13T16:19:05.451Z"
   },
   {
    "duration": 28,
    "start_time": "2022-03-13T16:20:40.273Z"
   },
   {
    "duration": 29,
    "start_time": "2022-03-13T16:20:48.128Z"
   },
   {
    "duration": 617,
    "start_time": "2022-03-13T16:20:54.155Z"
   },
   {
    "duration": 63,
    "start_time": "2022-03-13T16:21:10.677Z"
   },
   {
    "duration": 15,
    "start_time": "2022-03-13T16:22:34.897Z"
   },
   {
    "duration": 13,
    "start_time": "2022-03-13T16:22:42.457Z"
   },
   {
    "duration": 8,
    "start_time": "2022-03-13T16:22:56.371Z"
   },
   {
    "duration": 13,
    "start_time": "2022-03-13T16:22:58.174Z"
   },
   {
    "duration": 680,
    "start_time": "2022-03-13T16:23:31.009Z"
   },
   {
    "duration": 239,
    "start_time": "2022-03-13T16:23:52.858Z"
   },
   {
    "duration": 9,
    "start_time": "2022-03-13T16:25:22.240Z"
   },
   {
    "duration": 13,
    "start_time": "2022-03-13T16:25:29.858Z"
   },
   {
    "duration": 13,
    "start_time": "2022-03-13T16:26:13.634Z"
   },
   {
    "duration": 13,
    "start_time": "2022-03-13T16:26:35.667Z"
   },
   {
    "duration": 9,
    "start_time": "2022-03-13T16:26:45.510Z"
   },
   {
    "duration": 14,
    "start_time": "2022-03-13T16:26:50.311Z"
   },
   {
    "duration": 13,
    "start_time": "2022-03-13T16:28:12.539Z"
   },
   {
    "duration": 4,
    "start_time": "2022-03-13T16:28:21.604Z"
   },
   {
    "duration": 13,
    "start_time": "2022-03-13T16:28:34.440Z"
   },
   {
    "duration": 272,
    "start_time": "2022-03-13T16:28:51.070Z"
   },
   {
    "duration": 9,
    "start_time": "2022-03-13T16:29:17.518Z"
   },
   {
    "duration": 15,
    "start_time": "2022-03-13T16:29:22.751Z"
   },
   {
    "duration": 11,
    "start_time": "2022-03-13T16:36:33.762Z"
   },
   {
    "duration": 15,
    "start_time": "2022-03-13T16:36:36.454Z"
   },
   {
    "duration": 14,
    "start_time": "2022-03-13T16:37:06.537Z"
   },
   {
    "duration": 14,
    "start_time": "2022-03-13T16:37:56.174Z"
   },
   {
    "duration": 236,
    "start_time": "2022-03-13T16:41:41.052Z"
   },
   {
    "duration": 13,
    "start_time": "2022-03-13T16:42:08.236Z"
   },
   {
    "duration": 15,
    "start_time": "2022-03-13T16:42:38.304Z"
   },
   {
    "duration": 15,
    "start_time": "2022-03-13T16:43:56.362Z"
   },
   {
    "duration": 14,
    "start_time": "2022-03-13T16:44:02.063Z"
   },
   {
    "duration": 14,
    "start_time": "2022-03-13T16:44:07.406Z"
   },
   {
    "duration": 17,
    "start_time": "2022-03-13T16:44:12.850Z"
   },
   {
    "duration": 251,
    "start_time": "2022-03-13T16:44:36.368Z"
   },
   {
    "duration": 21,
    "start_time": "2022-03-13T16:44:44.310Z"
   },
   {
    "duration": 21,
    "start_time": "2022-03-13T16:45:11.735Z"
   },
   {
    "duration": 23,
    "start_time": "2022-03-13T16:45:56.253Z"
   },
   {
    "duration": 5923,
    "start_time": "2022-03-13T16:46:17.698Z"
   },
   {
    "duration": 23,
    "start_time": "2022-03-13T16:46:38.442Z"
   },
   {
    "duration": 7,
    "start_time": "2022-03-13T16:46:43.761Z"
   },
   {
    "duration": 25,
    "start_time": "2022-03-13T16:47:06.938Z"
   },
   {
    "duration": 504,
    "start_time": "2022-03-13T16:47:31.851Z"
   },
   {
    "duration": 25,
    "start_time": "2022-03-13T16:47:47.613Z"
   },
   {
    "duration": 7,
    "start_time": "2022-03-13T16:49:56.645Z"
   },
   {
    "duration": 7,
    "start_time": "2022-03-13T16:50:01.070Z"
   },
   {
    "duration": 395,
    "start_time": "2022-03-13T16:50:05.610Z"
   },
   {
    "duration": 8,
    "start_time": "2022-03-13T16:50:17.319Z"
   },
   {
    "duration": 9,
    "start_time": "2022-03-13T16:50:36.354Z"
   },
   {
    "duration": 8,
    "start_time": "2022-03-13T16:50:40.527Z"
   },
   {
    "duration": 5,
    "start_time": "2022-03-13T17:26:11.960Z"
   },
   {
    "duration": 6,
    "start_time": "2022-03-13T17:26:43.997Z"
   },
   {
    "duration": 2159,
    "start_time": "2022-03-14T08:50:31.064Z"
   },
   {
    "duration": 5,
    "start_time": "2022-03-14T08:50:33.226Z"
   },
   {
    "duration": 170,
    "start_time": "2022-03-14T08:50:33.234Z"
   },
   {
    "duration": 8,
    "start_time": "2022-03-14T08:50:33.407Z"
   },
   {
    "duration": 39,
    "start_time": "2022-03-14T08:50:33.418Z"
   },
   {
    "duration": 48,
    "start_time": "2022-03-14T08:50:33.459Z"
   },
   {
    "duration": 66,
    "start_time": "2022-03-14T08:50:33.510Z"
   },
   {
    "duration": 14,
    "start_time": "2022-03-14T08:50:33.579Z"
   },
   {
    "duration": 11,
    "start_time": "2022-03-14T08:50:33.596Z"
   },
   {
    "duration": 14,
    "start_time": "2022-03-14T08:50:33.609Z"
   },
   {
    "duration": 405,
    "start_time": "2022-03-14T08:50:33.652Z"
   },
   {
    "duration": 1162,
    "start_time": "2022-03-14T08:50:34.060Z"
   },
   {
    "duration": 9,
    "start_time": "2022-03-14T08:50:35.226Z"
   },
   {
    "duration": 618,
    "start_time": "2022-03-14T08:50:35.252Z"
   },
   {
    "duration": 878,
    "start_time": "2022-03-14T08:50:35.873Z"
   },
   {
    "duration": 25,
    "start_time": "2022-03-14T08:50:36.754Z"
   },
   {
    "duration": 202,
    "start_time": "2022-03-14T08:50:36.781Z"
   },
   {
    "duration": 69,
    "start_time": "2022-03-14T08:50:36.986Z"
   },
   {
    "duration": 15,
    "start_time": "2022-03-14T08:50:37.058Z"
   },
   {
    "duration": 284,
    "start_time": "2022-03-14T08:50:37.076Z"
   },
   {
    "duration": 2138,
    "start_time": "2022-03-14T08:50:37.363Z"
   },
   {
    "duration": 93,
    "start_time": "2022-03-14T08:50:39.503Z"
   },
   {
    "duration": 152,
    "start_time": "2022-03-14T08:50:39.601Z"
   },
   {
    "duration": 109315,
    "start_time": "2022-03-14T08:50:39.756Z"
   },
   {
    "duration": 24,
    "start_time": "2022-03-14T08:52:29.074Z"
   },
   {
    "duration": 594,
    "start_time": "2022-03-14T08:52:29.101Z"
   },
   {
    "duration": 608,
    "start_time": "2022-03-14T08:52:29.697Z"
   },
   {
    "duration": 6,
    "start_time": "2022-03-14T08:52:30.308Z"
   },
   {
    "duration": 93445,
    "start_time": "2022-03-14T08:52:30.317Z"
   },
   {
    "duration": 27869,
    "start_time": "2022-03-14T08:54:03.765Z"
   },
   {
    "duration": 18,
    "start_time": "2022-03-14T08:54:31.636Z"
   },
   {
    "duration": 49813,
    "start_time": "2022-03-14T08:54:31.657Z"
   },
   {
    "duration": 14,
    "start_time": "2022-03-14T08:55:21.474Z"
   },
   {
    "duration": 379,
    "start_time": "2022-03-14T08:55:21.491Z"
   },
   {
    "duration": 1508,
    "start_time": "2022-03-14T08:55:21.873Z"
   },
   {
    "duration": 37,
    "start_time": "2022-03-14T08:55:23.384Z"
   },
   {
    "duration": 52,
    "start_time": "2022-03-14T08:55:23.424Z"
   },
   {
    "duration": 946,
    "start_time": "2022-03-14T08:55:23.480Z"
   },
   {
    "duration": 9,
    "start_time": "2022-03-14T08:55:24.428Z"
   },
   {
    "duration": 14247,
    "start_time": "2022-03-14T08:55:24.453Z"
   },
   {
    "duration": 851,
    "start_time": "2022-03-14T08:55:38.702Z"
   },
   {
    "duration": 105,
    "start_time": "2022-03-14T08:55:39.556Z"
   },
   {
    "duration": 2337,
    "start_time": "2022-03-14T08:55:39.664Z"
   },
   {
    "duration": 191,
    "start_time": "2022-03-14T08:55:42.004Z"
   },
   {
    "duration": 3931,
    "start_time": "2022-03-14T08:55:42.197Z"
   },
   {
    "duration": 39,
    "start_time": "2022-03-14T08:55:46.131Z"
   },
   {
    "duration": 9,
    "start_time": "2022-03-14T08:55:46.173Z"
   },
   {
    "duration": 13,
    "start_time": "2022-03-14T08:55:46.185Z"
   },
   {
    "duration": 8,
    "start_time": "2022-03-14T08:55:46.201Z"
   },
   {
    "duration": 41,
    "start_time": "2022-03-14T08:55:46.212Z"
   },
   {
    "duration": 31,
    "start_time": "2022-03-14T08:55:46.256Z"
   },
   {
    "duration": 16,
    "start_time": "2022-03-14T08:55:46.290Z"
   },
   {
    "duration": 695,
    "start_time": "2022-03-14T08:55:46.308Z"
   },
   {
    "duration": -1850,
    "start_time": "2022-03-14T08:55:48.856Z"
   },
   {
    "duration": 18,
    "start_time": "2022-03-14T09:09:06.699Z"
   },
   {
    "duration": 5,
    "start_time": "2022-03-14T09:16:28.051Z"
   },
   {
    "duration": 8,
    "start_time": "2022-03-14T09:16:31.739Z"
   },
   {
    "duration": 5,
    "start_time": "2022-03-14T09:16:38.667Z"
   },
   {
    "duration": 24,
    "start_time": "2022-03-14T09:18:27.974Z"
   },
   {
    "duration": 176,
    "start_time": "2022-03-14T09:18:59.088Z"
   },
   {
    "duration": 478,
    "start_time": "2022-03-14T09:21:21.187Z"
   },
   {
    "duration": 5,
    "start_time": "2022-03-14T09:23:03.874Z"
   },
   {
    "duration": 8,
    "start_time": "2022-03-14T09:23:08.285Z"
   },
   {
    "duration": 10,
    "start_time": "2022-03-14T09:24:19.485Z"
   },
   {
    "duration": 10,
    "start_time": "2022-03-14T09:24:30.276Z"
   },
   {
    "duration": 296,
    "start_time": "2022-03-14T09:25:12.284Z"
   },
   {
    "duration": 10,
    "start_time": "2022-03-14T09:25:20.545Z"
   },
   {
    "duration": 272,
    "start_time": "2022-03-14T09:25:41.215Z"
   },
   {
    "duration": 8,
    "start_time": "2022-03-14T09:25:51.729Z"
   },
   {
    "duration": 5,
    "start_time": "2022-03-14T09:26:01.779Z"
   },
   {
    "duration": 57,
    "start_time": "2022-03-14T09:26:55.127Z"
   },
   {
    "duration": 11,
    "start_time": "2022-03-14T09:27:02.065Z"
   },
   {
    "duration": 40,
    "start_time": "2022-03-14T09:27:23.609Z"
   },
   {
    "duration": 11,
    "start_time": "2022-03-14T09:27:25.281Z"
   },
   {
    "duration": 47,
    "start_time": "2022-03-14T09:28:29.488Z"
   },
   {
    "duration": 11,
    "start_time": "2022-03-14T09:28:30.909Z"
   },
   {
    "duration": 8161,
    "start_time": "2022-03-14T09:31:25.074Z"
   },
   {
    "duration": 9273,
    "start_time": "2022-03-14T09:31:41.204Z"
   },
   {
    "duration": 16,
    "start_time": "2022-03-14T09:32:19.740Z"
   },
   {
    "duration": 18,
    "start_time": "2022-03-14T09:32:29.292Z"
   },
   {
    "duration": 12,
    "start_time": "2022-03-14T09:32:44.384Z"
   },
   {
    "duration": 14,
    "start_time": "2022-03-14T09:33:12.550Z"
   },
   {
    "duration": 13,
    "start_time": "2022-03-14T09:33:33.431Z"
   },
   {
    "duration": 15,
    "start_time": "2022-03-14T09:33:46.741Z"
   },
   {
    "duration": 8,
    "start_time": "2022-03-14T09:34:00.716Z"
   },
   {
    "duration": 4047,
    "start_time": "2022-03-14T09:34:12.732Z"
   },
   {
    "duration": 4045,
    "start_time": "2022-03-14T09:34:21.970Z"
   },
   {
    "duration": 3716,
    "start_time": "2022-03-14T09:34:43.469Z"
   },
   {
    "duration": 3612,
    "start_time": "2022-03-14T09:34:56.169Z"
   },
   {
    "duration": 297,
    "start_time": "2022-03-14T09:35:06.901Z"
   },
   {
    "duration": 407,
    "start_time": "2022-03-14T09:35:23.126Z"
   },
   {
    "duration": 5456,
    "start_time": "2022-03-14T09:35:38.775Z"
   },
   {
    "duration": 3444,
    "start_time": "2022-03-14T09:35:48.607Z"
   },
   {
    "duration": 19,
    "start_time": "2022-03-14T09:35:54.848Z"
   },
   {
    "duration": 9,
    "start_time": "2022-03-14T09:36:07.451Z"
   },
   {
    "duration": 7,
    "start_time": "2022-03-14T09:36:22.291Z"
   },
   {
    "duration": 10,
    "start_time": "2022-03-14T09:36:28.918Z"
   },
   {
    "duration": 3,
    "start_time": "2022-03-14T09:37:40.194Z"
   },
   {
    "duration": 7,
    "start_time": "2022-03-14T09:37:45.652Z"
   },
   {
    "duration": 14,
    "start_time": "2022-03-14T09:37:49.686Z"
   },
   {
    "duration": 7,
    "start_time": "2022-03-14T09:37:52.125Z"
   },
   {
    "duration": 7,
    "start_time": "2022-03-14T09:38:12.036Z"
   },
   {
    "duration": 8,
    "start_time": "2022-03-14T09:38:17.175Z"
   },
   {
    "duration": 54,
    "start_time": "2022-03-14T09:39:08.764Z"
   },
   {
    "duration": 12,
    "start_time": "2022-03-14T09:39:10.498Z"
   },
   {
    "duration": 614,
    "start_time": "2022-03-14T09:41:02.421Z"
   },
   {
    "duration": 511,
    "start_time": "2022-03-14T09:41:12.266Z"
   },
   {
    "duration": 525,
    "start_time": "2022-03-14T09:42:23.914Z"
   },
   {
    "duration": 5,
    "start_time": "2022-03-14T09:42:53.830Z"
   },
   {
    "duration": 18,
    "start_time": "2022-03-14T09:44:43.065Z"
   },
   {
    "duration": 18,
    "start_time": "2022-03-14T09:45:50.588Z"
   },
   {
    "duration": 74,
    "start_time": "2022-03-14T09:45:52.830Z"
   },
   {
    "duration": 12,
    "start_time": "2022-03-14T09:45:54.567Z"
   },
   {
    "duration": 569,
    "start_time": "2022-03-14T09:46:07.704Z"
   },
   {
    "duration": 1497,
    "start_time": "2022-03-14T12:32:20.687Z"
   },
   {
    "duration": 5,
    "start_time": "2022-03-14T12:32:22.187Z"
   },
   {
    "duration": 146,
    "start_time": "2022-03-14T12:32:22.195Z"
   },
   {
    "duration": 11,
    "start_time": "2022-03-14T12:32:22.344Z"
   },
   {
    "duration": 27,
    "start_time": "2022-03-14T12:32:22.358Z"
   },
   {
    "duration": 93,
    "start_time": "2022-03-14T12:32:22.387Z"
   },
   {
    "duration": 33,
    "start_time": "2022-03-14T12:32:22.482Z"
   },
   {
    "duration": 43,
    "start_time": "2022-03-14T12:32:22.518Z"
   },
   {
    "duration": 10,
    "start_time": "2022-03-14T12:32:22.567Z"
   },
   {
    "duration": 21,
    "start_time": "2022-03-14T12:32:22.580Z"
   },
   {
    "duration": 283,
    "start_time": "2022-03-14T12:32:22.604Z"
   },
   {
    "duration": 968,
    "start_time": "2022-03-14T12:32:22.890Z"
   },
   {
    "duration": 12,
    "start_time": "2022-03-14T12:32:23.861Z"
   },
   {
    "duration": 575,
    "start_time": "2022-03-14T12:32:23.876Z"
   },
   {
    "duration": 561,
    "start_time": "2022-03-14T12:32:24.454Z"
   },
   {
    "duration": 27,
    "start_time": "2022-03-14T12:32:25.018Z"
   },
   {
    "duration": 100,
    "start_time": "2022-03-14T12:32:25.051Z"
   },
   {
    "duration": 13,
    "start_time": "2022-03-14T12:32:25.153Z"
   },
   {
    "duration": 15,
    "start_time": "2022-03-14T12:32:25.169Z"
   },
   {
    "duration": 113,
    "start_time": "2022-03-14T12:32:25.187Z"
   },
   {
    "duration": 1880,
    "start_time": "2022-03-14T12:32:25.303Z"
   },
   {
    "duration": 88,
    "start_time": "2022-03-14T12:32:27.186Z"
   },
   {
    "duration": 137,
    "start_time": "2022-03-14T12:32:27.276Z"
   },
   {
    "duration": 96184,
    "start_time": "2022-03-14T12:32:27.415Z"
   },
   {
    "duration": 22,
    "start_time": "2022-03-14T12:34:03.601Z"
   },
   {
    "duration": 661,
    "start_time": "2022-03-14T12:34:03.626Z"
   },
   {
    "duration": 686,
    "start_time": "2022-03-14T12:34:04.292Z"
   },
   {
    "duration": 6,
    "start_time": "2022-03-14T12:34:04.981Z"
   },
   {
    "duration": 94280,
    "start_time": "2022-03-14T12:34:04.989Z"
   },
   {
    "duration": 27119,
    "start_time": "2022-03-14T12:35:39.272Z"
   },
   {
    "duration": 13,
    "start_time": "2022-03-14T12:36:06.394Z"
   },
   {
    "duration": 49705,
    "start_time": "2022-03-14T12:36:06.410Z"
   },
   {
    "duration": 11,
    "start_time": "2022-03-14T12:36:56.117Z"
   },
   {
    "duration": 388,
    "start_time": "2022-03-14T12:36:56.131Z"
   },
   {
    "duration": 950,
    "start_time": "2022-03-14T12:36:56.522Z"
   },
   {
    "duration": 17,
    "start_time": "2022-03-14T12:36:57.475Z"
   },
   {
    "duration": 82,
    "start_time": "2022-03-14T12:36:57.495Z"
   },
   {
    "duration": 1169,
    "start_time": "2022-03-14T12:36:57.579Z"
   },
   {
    "duration": 11,
    "start_time": "2022-03-14T12:36:58.752Z"
   },
   {
    "duration": 12539,
    "start_time": "2022-03-14T12:36:58.766Z"
   },
   {
    "duration": 1143,
    "start_time": "2022-03-14T12:37:11.309Z"
   },
   {
    "duration": 26,
    "start_time": "2022-03-14T12:37:12.454Z"
   },
   {
    "duration": 3617,
    "start_time": "2022-03-14T12:37:12.483Z"
   },
   {
    "duration": 289,
    "start_time": "2022-03-14T12:37:16.103Z"
   },
   {
    "duration": 5279,
    "start_time": "2022-03-14T12:37:16.395Z"
   },
   {
    "duration": 27,
    "start_time": "2022-03-14T12:37:21.678Z"
   },
   {
    "duration": 86,
    "start_time": "2022-03-14T12:37:21.708Z"
   },
   {
    "duration": 39,
    "start_time": "2022-03-14T12:37:21.798Z"
   },
   {
    "duration": 525,
    "start_time": "2022-03-14T12:37:21.840Z"
   },
   {
    "duration": 301,
    "start_time": "2022-03-14T13:13:47.785Z"
   },
   {
    "duration": 17,
    "start_time": "2022-03-14T14:46:21.776Z"
   },
   {
    "duration": 17,
    "start_time": "2022-03-14T14:46:24.244Z"
   },
   {
    "duration": 33533,
    "start_time": "2022-03-14T14:52:49.496Z"
   },
   {
    "duration": 893,
    "start_time": "2022-03-14T14:53:24.371Z"
   },
   {
    "duration": 4,
    "start_time": "2022-03-14T14:56:23.302Z"
   },
   {
    "duration": 4,
    "start_time": "2022-03-14T14:57:28.362Z"
   },
   {
    "duration": 14,
    "start_time": "2022-03-14T14:58:30.415Z"
   },
   {
    "duration": 408,
    "start_time": "2022-03-14T14:59:25.921Z"
   },
   {
    "duration": 4,
    "start_time": "2022-03-14T14:59:37.442Z"
   },
   {
    "duration": 12,
    "start_time": "2022-03-14T14:59:38.948Z"
   },
   {
    "duration": 6,
    "start_time": "2022-03-14T14:59:50.716Z"
   },
   {
    "duration": 13,
    "start_time": "2022-03-14T15:01:35.990Z"
   },
   {
    "duration": 12,
    "start_time": "2022-03-14T15:02:28.631Z"
   },
   {
    "duration": 11,
    "start_time": "2022-03-14T15:03:04.332Z"
   },
   {
    "duration": 9,
    "start_time": "2022-03-14T15:03:11.146Z"
   },
   {
    "duration": 9,
    "start_time": "2022-03-14T15:03:18.035Z"
   },
   {
    "duration": 9,
    "start_time": "2022-03-14T15:03:20.237Z"
   },
   {
    "duration": 12,
    "start_time": "2022-03-14T15:04:58.817Z"
   },
   {
    "duration": 13,
    "start_time": "2022-03-14T15:05:21.005Z"
   },
   {
    "duration": 5,
    "start_time": "2022-03-14T15:43:50.523Z"
   },
   {
    "duration": 3,
    "start_time": "2022-03-14T15:46:59.425Z"
   },
   {
    "duration": 374,
    "start_time": "2022-03-14T15:47:02.812Z"
   },
   {
    "duration": 11,
    "start_time": "2022-03-14T15:47:07.284Z"
   },
   {
    "duration": 264,
    "start_time": "2022-03-14T15:47:08.634Z"
   },
   {
    "duration": 5,
    "start_time": "2022-03-14T15:47:19.408Z"
   },
   {
    "duration": 5,
    "start_time": "2022-03-14T15:47:42.382Z"
   },
   {
    "duration": 5,
    "start_time": "2022-03-14T15:47:49.287Z"
   },
   {
    "duration": 6,
    "start_time": "2022-03-14T15:48:37.187Z"
   },
   {
    "duration": 5,
    "start_time": "2022-03-14T15:48:47.328Z"
   },
   {
    "duration": 5,
    "start_time": "2022-03-14T15:48:53.301Z"
   },
   {
    "duration": 6,
    "start_time": "2022-03-14T15:49:23.860Z"
   },
   {
    "duration": 5,
    "start_time": "2022-03-14T15:49:39.055Z"
   },
   {
    "duration": 6,
    "start_time": "2022-03-14T15:50:09.248Z"
   },
   {
    "duration": 5,
    "start_time": "2022-03-14T15:50:14.288Z"
   },
   {
    "duration": 5,
    "start_time": "2022-03-14T15:50:21.959Z"
   },
   {
    "duration": 4,
    "start_time": "2022-03-14T15:50:38.489Z"
   },
   {
    "duration": 421,
    "start_time": "2022-03-14T15:51:44.946Z"
   },
   {
    "duration": 10,
    "start_time": "2022-03-14T15:51:51.868Z"
   },
   {
    "duration": 17,
    "start_time": "2022-03-14T15:55:37.971Z"
   },
   {
    "duration": 28,
    "start_time": "2022-03-14T15:55:49.268Z"
   },
   {
    "duration": 16,
    "start_time": "2022-03-14T15:56:20.372Z"
   },
   {
    "duration": 32,
    "start_time": "2022-03-14T15:56:26.320Z"
   },
   {
    "duration": 14,
    "start_time": "2022-03-14T15:56:56.766Z"
   },
   {
    "duration": 9,
    "start_time": "2022-03-14T15:57:11.434Z"
   },
   {
    "duration": 291,
    "start_time": "2022-03-14T15:57:19.677Z"
   },
   {
    "duration": 87,
    "start_time": "2022-03-14T15:59:48.865Z"
   },
   {
    "duration": 257,
    "start_time": "2022-03-14T15:59:58.812Z"
   },
   {
    "duration": 89,
    "start_time": "2022-03-14T16:00:46.661Z"
   },
   {
    "duration": 109,
    "start_time": "2022-03-14T16:01:01.601Z"
   },
   {
    "duration": 281,
    "start_time": "2022-03-14T16:01:23.297Z"
   },
   {
    "duration": 34,
    "start_time": "2022-03-14T16:01:48.424Z"
   },
   {
    "duration": 14,
    "start_time": "2022-03-14T16:02:28.659Z"
   },
   {
    "duration": 269,
    "start_time": "2022-03-14T16:05:44.813Z"
   },
   {
    "duration": 4,
    "start_time": "2022-03-14T16:05:51.310Z"
   },
   {
    "duration": 10,
    "start_time": "2022-03-14T16:06:13.495Z"
   },
   {
    "duration": 17,
    "start_time": "2022-03-14T16:06:40.419Z"
   },
   {
    "duration": 3,
    "start_time": "2022-03-14T16:08:54.306Z"
   },
   {
    "duration": 6,
    "start_time": "2022-03-14T16:09:05.569Z"
   },
   {
    "duration": 9,
    "start_time": "2022-03-14T16:13:57.137Z"
   },
   {
    "duration": 14,
    "start_time": "2022-03-14T16:20:04.734Z"
   },
   {
    "duration": 13,
    "start_time": "2022-03-14T16:20:14.096Z"
   },
   {
    "duration": 15,
    "start_time": "2022-03-14T16:20:17.018Z"
   },
   {
    "duration": 6,
    "start_time": "2022-03-14T16:20:20.504Z"
   },
   {
    "duration": 5,
    "start_time": "2022-03-14T16:27:57.642Z"
   },
   {
    "duration": 5,
    "start_time": "2022-03-14T16:28:11.205Z"
   },
   {
    "duration": 13,
    "start_time": "2022-03-14T16:28:19.158Z"
   },
   {
    "duration": 8,
    "start_time": "2022-03-14T16:28:21.165Z"
   },
   {
    "duration": 6,
    "start_time": "2022-03-14T16:28:35.731Z"
   },
   {
    "duration": 102,
    "start_time": "2022-03-14T16:28:54.472Z"
   },
   {
    "duration": 5,
    "start_time": "2022-03-14T16:29:00.139Z"
   },
   {
    "duration": 1199,
    "start_time": "2022-03-15T07:23:19.924Z"
   },
   {
    "duration": 3,
    "start_time": "2022-03-15T07:23:21.125Z"
   },
   {
    "duration": 2618,
    "start_time": "2022-03-15T07:23:21.130Z"
   },
   {
    "duration": 6,
    "start_time": "2022-03-15T07:23:23.749Z"
   },
   {
    "duration": 16,
    "start_time": "2022-03-15T07:23:23.757Z"
   },
   {
    "duration": 34,
    "start_time": "2022-03-15T07:23:23.774Z"
   },
   {
    "duration": 18,
    "start_time": "2022-03-15T07:23:23.809Z"
   },
   {
    "duration": 10,
    "start_time": "2022-03-15T07:23:23.828Z"
   },
   {
    "duration": 6,
    "start_time": "2022-03-15T07:23:23.840Z"
   },
   {
    "duration": 6,
    "start_time": "2022-03-15T07:23:23.847Z"
   },
   {
    "duration": 156,
    "start_time": "2022-03-15T07:23:23.854Z"
   },
   {
    "duration": 543,
    "start_time": "2022-03-15T07:23:24.011Z"
   },
   {
    "duration": 5,
    "start_time": "2022-03-15T07:23:24.556Z"
   },
   {
    "duration": 301,
    "start_time": "2022-03-15T07:23:24.563Z"
   },
   {
    "duration": 287,
    "start_time": "2022-03-15T07:23:24.866Z"
   },
   {
    "duration": 16,
    "start_time": "2022-03-15T07:23:25.154Z"
   },
   {
    "duration": 65,
    "start_time": "2022-03-15T07:23:25.172Z"
   },
   {
    "duration": 10,
    "start_time": "2022-03-15T07:23:25.239Z"
   },
   {
    "duration": 8,
    "start_time": "2022-03-15T07:23:25.250Z"
   },
   {
    "duration": 87,
    "start_time": "2022-03-15T07:23:25.260Z"
   },
   {
    "duration": 1203,
    "start_time": "2022-03-15T07:23:25.349Z"
   },
   {
    "duration": 66,
    "start_time": "2022-03-15T07:23:26.554Z"
   },
   {
    "duration": 86,
    "start_time": "2022-03-15T07:23:26.622Z"
   },
   {
    "duration": 64939,
    "start_time": "2022-03-15T07:23:26.710Z"
   },
   {
    "duration": 13,
    "start_time": "2022-03-15T07:24:31.651Z"
   },
   {
    "duration": 308,
    "start_time": "2022-03-15T07:24:31.665Z"
   },
   {
    "duration": 327,
    "start_time": "2022-03-15T07:24:31.976Z"
   },
   {
    "duration": 4,
    "start_time": "2022-03-15T07:24:32.308Z"
   },
   {
    "duration": 57178,
    "start_time": "2022-03-15T07:24:32.316Z"
   },
   {
    "duration": 14724,
    "start_time": "2022-03-15T07:25:29.496Z"
   },
   {
    "duration": 6,
    "start_time": "2022-03-15T07:25:44.222Z"
   },
   {
    "duration": 31082,
    "start_time": "2022-03-15T07:25:44.230Z"
   },
   {
    "duration": 6,
    "start_time": "2022-03-15T07:26:15.314Z"
   },
   {
    "duration": 241,
    "start_time": "2022-03-15T07:26:15.322Z"
   },
   {
    "duration": 650,
    "start_time": "2022-03-15T07:26:15.565Z"
   },
   {
    "duration": 10,
    "start_time": "2022-03-15T07:26:16.217Z"
   },
   {
    "duration": 28,
    "start_time": "2022-03-15T07:26:16.228Z"
   },
   {
    "duration": 586,
    "start_time": "2022-03-15T07:26:16.257Z"
   },
   {
    "duration": 6,
    "start_time": "2022-03-15T07:26:16.845Z"
   },
   {
    "duration": 8600,
    "start_time": "2022-03-15T07:26:16.852Z"
   },
   {
    "duration": 828,
    "start_time": "2022-03-15T07:26:25.453Z"
   },
   {
    "duration": 14,
    "start_time": "2022-03-15T07:26:26.283Z"
   },
   {
    "duration": 1351,
    "start_time": "2022-03-15T07:26:26.298Z"
   },
   {
    "duration": 136,
    "start_time": "2022-03-15T07:26:27.650Z"
   },
   {
    "duration": 2142,
    "start_time": "2022-03-15T07:26:27.788Z"
   },
   {
    "duration": 11,
    "start_time": "2022-03-15T07:26:29.931Z"
   },
   {
    "duration": 49,
    "start_time": "2022-03-15T07:26:29.944Z"
   },
   {
    "duration": 13,
    "start_time": "2022-03-15T07:26:29.994Z"
   },
   {
    "duration": 319,
    "start_time": "2022-03-15T07:26:30.009Z"
   },
   {
    "duration": 3,
    "start_time": "2022-03-15T07:26:30.329Z"
   },
   {
    "duration": 13,
    "start_time": "2022-03-15T07:26:30.333Z"
   },
   {
    "duration": 3,
    "start_time": "2022-03-15T07:26:30.347Z"
   },
   {
    "duration": 8,
    "start_time": "2022-03-15T07:26:30.352Z"
   },
   {
    "duration": 7,
    "start_time": "2022-03-15T07:26:30.381Z"
   },
   {
    "duration": 12,
    "start_time": "2022-03-15T07:26:30.389Z"
   },
   {
    "duration": 368,
    "start_time": "2022-03-15T11:16:51.182Z"
   },
   {
    "duration": 6,
    "start_time": "2022-03-15T11:17:01.160Z"
   },
   {
    "duration": 8,
    "start_time": "2022-03-15T11:18:01.341Z"
   },
   {
    "duration": 7,
    "start_time": "2022-03-15T11:18:41.001Z"
   },
   {
    "duration": 7,
    "start_time": "2022-03-15T11:23:41.831Z"
   },
   {
    "duration": 8,
    "start_time": "2022-03-15T11:24:07.188Z"
   },
   {
    "duration": 7,
    "start_time": "2022-03-15T11:24:19.898Z"
   },
   {
    "duration": 4,
    "start_time": "2022-03-15T11:24:39.778Z"
   },
   {
    "duration": 2434,
    "start_time": "2022-03-15T14:21:27.785Z"
   },
   {
    "duration": 2119,
    "start_time": "2022-03-15T14:22:09.966Z"
   },
   {
    "duration": 1209,
    "start_time": "2022-03-15T14:22:19.239Z"
   },
   {
    "duration": 18,
    "start_time": "2022-03-15T18:24:28.991Z"
   },
   {
    "duration": 1337,
    "start_time": "2022-03-16T15:23:18.616Z"
   },
   {
    "duration": 4,
    "start_time": "2022-03-16T15:23:19.955Z"
   },
   {
    "duration": 220,
    "start_time": "2022-03-16T15:23:19.961Z"
   },
   {
    "duration": 7,
    "start_time": "2022-03-16T15:23:20.183Z"
   },
   {
    "duration": 24,
    "start_time": "2022-03-16T15:23:20.191Z"
   },
   {
    "duration": 36,
    "start_time": "2022-03-16T15:23:20.217Z"
   },
   {
    "duration": 25,
    "start_time": "2022-03-16T15:23:20.255Z"
   },
   {
    "duration": 12,
    "start_time": "2022-03-16T15:23:20.284Z"
   },
   {
    "duration": 10,
    "start_time": "2022-03-16T15:23:20.298Z"
   },
   {
    "duration": 30,
    "start_time": "2022-03-16T15:23:20.310Z"
   },
   {
    "duration": 166,
    "start_time": "2022-03-16T15:23:20.342Z"
   },
   {
    "duration": 640,
    "start_time": "2022-03-16T15:23:20.510Z"
   },
   {
    "duration": 8,
    "start_time": "2022-03-16T15:23:21.152Z"
   },
   {
    "duration": 390,
    "start_time": "2022-03-16T15:23:21.162Z"
   },
   {
    "duration": 342,
    "start_time": "2022-03-16T15:23:21.554Z"
   },
   {
    "duration": 18,
    "start_time": "2022-03-16T15:23:21.897Z"
   },
   {
    "duration": 86,
    "start_time": "2022-03-16T15:23:21.916Z"
   },
   {
    "duration": 9,
    "start_time": "2022-03-16T15:23:22.004Z"
   },
   {
    "duration": 13,
    "start_time": "2022-03-16T15:23:22.015Z"
   },
   {
    "duration": 74,
    "start_time": "2022-03-16T15:23:22.038Z"
   },
   {
    "duration": 1050,
    "start_time": "2022-03-16T15:23:22.113Z"
   },
   {
    "duration": 58,
    "start_time": "2022-03-16T15:23:23.165Z"
   },
   {
    "duration": 90,
    "start_time": "2022-03-16T15:23:23.226Z"
   },
   {
    "duration": 1177,
    "start_time": "2022-03-16T15:24:26.475Z"
   },
   {
    "duration": 4,
    "start_time": "2022-03-16T15:24:27.653Z"
   },
   {
    "duration": 119,
    "start_time": "2022-03-16T15:24:27.659Z"
   },
   {
    "duration": 7,
    "start_time": "2022-03-16T15:24:27.780Z"
   },
   {
    "duration": 20,
    "start_time": "2022-03-16T15:24:27.788Z"
   },
   {
    "duration": 47,
    "start_time": "2022-03-16T15:24:27.809Z"
   },
   {
    "duration": 22,
    "start_time": "2022-03-16T15:24:27.858Z"
   },
   {
    "duration": 11,
    "start_time": "2022-03-16T15:24:27.882Z"
   },
   {
    "duration": 8,
    "start_time": "2022-03-16T15:24:27.895Z"
   },
   {
    "duration": 37,
    "start_time": "2022-03-16T15:24:27.904Z"
   },
   {
    "duration": 142,
    "start_time": "2022-03-16T15:24:27.943Z"
   },
   {
    "duration": 604,
    "start_time": "2022-03-16T15:24:28.087Z"
   },
   {
    "duration": 7,
    "start_time": "2022-03-16T15:24:28.693Z"
   },
   {
    "duration": 365,
    "start_time": "2022-03-16T15:24:28.702Z"
   },
   {
    "duration": 346,
    "start_time": "2022-03-16T15:24:29.068Z"
   },
   {
    "duration": 27,
    "start_time": "2022-03-16T15:24:29.415Z"
   },
   {
    "duration": 62,
    "start_time": "2022-03-16T15:24:29.444Z"
   },
   {
    "duration": 30,
    "start_time": "2022-03-16T15:24:29.508Z"
   },
   {
    "duration": 10,
    "start_time": "2022-03-16T15:24:29.539Z"
   },
   {
    "duration": 88,
    "start_time": "2022-03-16T15:24:29.551Z"
   },
   {
    "duration": 1098,
    "start_time": "2022-03-16T15:24:29.640Z"
   },
   {
    "duration": 58,
    "start_time": "2022-03-16T15:24:30.740Z"
   },
   {
    "duration": 98,
    "start_time": "2022-03-16T15:24:30.802Z"
   },
   {
    "duration": 67917,
    "start_time": "2022-03-16T15:24:30.902Z"
   },
   {
    "duration": 24,
    "start_time": "2022-03-16T15:25:38.821Z"
   },
   {
    "duration": 357,
    "start_time": "2022-03-16T15:25:38.847Z"
   },
   {
    "duration": 381,
    "start_time": "2022-03-16T15:25:39.206Z"
   },
   {
    "duration": 4,
    "start_time": "2022-03-16T15:25:39.589Z"
   },
   {
    "duration": 60504,
    "start_time": "2022-03-16T15:25:39.594Z"
   },
   {
    "duration": 15264,
    "start_time": "2022-03-16T15:26:40.100Z"
   },
   {
    "duration": 6,
    "start_time": "2022-03-16T15:26:55.366Z"
   },
   {
    "duration": 34249,
    "start_time": "2022-03-16T15:26:55.374Z"
   },
   {
    "duration": 12,
    "start_time": "2022-03-16T15:27:29.625Z"
   },
   {
    "duration": 282,
    "start_time": "2022-03-16T15:27:29.639Z"
   },
   {
    "duration": 698,
    "start_time": "2022-03-16T15:27:29.922Z"
   },
   {
    "duration": 16,
    "start_time": "2022-03-16T15:27:30.622Z"
   },
   {
    "duration": 30,
    "start_time": "2022-03-16T15:27:30.640Z"
   },
   {
    "duration": 673,
    "start_time": "2022-03-16T15:27:30.672Z"
   },
   {
    "duration": 7,
    "start_time": "2022-03-16T15:27:31.347Z"
   },
   {
    "duration": 9299,
    "start_time": "2022-03-16T15:27:31.356Z"
   },
   {
    "duration": 988,
    "start_time": "2022-03-16T15:27:40.658Z"
   },
   {
    "duration": 19,
    "start_time": "2022-03-16T15:27:41.739Z"
   },
   {
    "duration": 1533,
    "start_time": "2022-03-16T15:27:41.760Z"
   },
   {
    "duration": 138,
    "start_time": "2022-03-16T15:27:43.295Z"
   },
   {
    "duration": 2571,
    "start_time": "2022-03-16T15:27:43.435Z"
   },
   {
    "duration": 13,
    "start_time": "2022-03-16T15:27:46.009Z"
   },
   {
    "duration": 48,
    "start_time": "2022-03-16T15:27:46.024Z"
   },
   {
    "duration": 17,
    "start_time": "2022-03-16T15:27:46.074Z"
   },
   {
    "duration": 428,
    "start_time": "2022-03-16T15:27:46.093Z"
   },
   {
    "duration": 2,
    "start_time": "2022-03-16T15:27:46.523Z"
   },
   {
    "duration": 37,
    "start_time": "2022-03-16T15:27:46.527Z"
   },
   {
    "duration": 34,
    "start_time": "2022-03-16T15:27:46.566Z"
   },
   {
    "duration": 30,
    "start_time": "2022-03-16T15:27:46.602Z"
   },
   {
    "duration": 19,
    "start_time": "2022-03-16T15:27:46.633Z"
   },
   {
    "duration": 19,
    "start_time": "2022-03-16T15:27:46.654Z"
   },
   {
    "duration": 10,
    "start_time": "2022-03-16T15:48:07.663Z"
   },
   {
    "duration": 2991,
    "start_time": "2022-03-17T08:52:42.024Z"
   },
   {
    "duration": 6,
    "start_time": "2022-03-17T08:52:45.019Z"
   },
   {
    "duration": 171,
    "start_time": "2022-03-17T08:52:45.028Z"
   },
   {
    "duration": 15,
    "start_time": "2022-03-17T08:52:45.208Z"
   },
   {
    "duration": 69,
    "start_time": "2022-03-17T08:52:45.225Z"
   },
   {
    "duration": 59,
    "start_time": "2022-03-17T08:52:45.297Z"
   },
   {
    "duration": 49,
    "start_time": "2022-03-17T08:52:45.382Z"
   },
   {
    "duration": 21,
    "start_time": "2022-03-17T08:52:45.434Z"
   },
   {
    "duration": 33,
    "start_time": "2022-03-17T08:52:45.457Z"
   },
   {
    "duration": 21,
    "start_time": "2022-03-17T08:52:45.495Z"
   },
   {
    "duration": 132,
    "start_time": "2022-03-17T08:52:45.518Z"
   },
   {
    "duration": 963,
    "start_time": "2022-03-17T08:52:45.654Z"
   },
   {
    "duration": 14,
    "start_time": "2022-03-17T08:52:46.619Z"
   },
   {
    "duration": 353,
    "start_time": "2022-03-17T08:52:46.635Z"
   },
   {
    "duration": 495,
    "start_time": "2022-03-17T08:52:46.991Z"
   },
   {
    "duration": 37,
    "start_time": "2022-03-17T08:52:47.489Z"
   },
   {
    "duration": 91,
    "start_time": "2022-03-17T08:52:47.529Z"
   },
   {
    "duration": 14,
    "start_time": "2022-03-17T08:52:47.622Z"
   },
   {
    "duration": 31,
    "start_time": "2022-03-17T08:52:47.639Z"
   },
   {
    "duration": 137,
    "start_time": "2022-03-17T08:52:47.683Z"
   },
   {
    "duration": 1071,
    "start_time": "2022-03-17T08:52:47.823Z"
   },
   {
    "duration": 54,
    "start_time": "2022-03-17T08:52:48.897Z"
   },
   {
    "duration": 107,
    "start_time": "2022-03-17T08:52:48.954Z"
   },
   {
    "duration": 92040,
    "start_time": "2022-03-17T08:52:49.064Z"
   },
   {
    "duration": 29,
    "start_time": "2022-03-17T08:54:21.106Z"
   },
   {
    "duration": 410,
    "start_time": "2022-03-17T08:54:21.138Z"
   },
   {
    "duration": 393,
    "start_time": "2022-03-17T08:54:21.550Z"
   },
   {
    "duration": 6,
    "start_time": "2022-03-17T08:54:21.950Z"
   },
   {
    "duration": 84626,
    "start_time": "2022-03-17T08:54:21.958Z"
   },
   {
    "duration": 20675,
    "start_time": "2022-03-17T08:55:46.586Z"
   },
   {
    "duration": 19,
    "start_time": "2022-03-17T08:56:07.264Z"
   },
   {
    "duration": 57749,
    "start_time": "2022-03-17T08:56:07.285Z"
   },
   {
    "duration": 11,
    "start_time": "2022-03-17T08:57:05.037Z"
   },
   {
    "duration": 322,
    "start_time": "2022-03-17T08:57:05.051Z"
   },
   {
    "duration": 1009,
    "start_time": "2022-03-17T08:57:05.383Z"
   },
   {
    "duration": 19,
    "start_time": "2022-03-17T08:57:06.394Z"
   },
   {
    "duration": 71,
    "start_time": "2022-03-17T08:57:06.416Z"
   },
   {
    "duration": 924,
    "start_time": "2022-03-17T08:57:06.490Z"
   },
   {
    "duration": 12,
    "start_time": "2022-03-17T08:57:07.416Z"
   },
   {
    "duration": 11277,
    "start_time": "2022-03-17T08:57:07.431Z"
   },
   {
    "duration": 1275,
    "start_time": "2022-03-17T08:57:18.711Z"
   },
   {
    "duration": 108,
    "start_time": "2022-03-17T08:57:19.989Z"
   },
   {
    "duration": 1869,
    "start_time": "2022-03-17T08:57:20.099Z"
   },
   {
    "duration": 207,
    "start_time": "2022-03-17T08:57:21.970Z"
   },
   {
    "duration": 4181,
    "start_time": "2022-03-17T08:57:22.183Z"
   },
   {
    "duration": 31,
    "start_time": "2022-03-17T08:57:26.367Z"
   },
   {
    "duration": 45,
    "start_time": "2022-03-17T08:57:26.399Z"
   },
   {
    "duration": 36,
    "start_time": "2022-03-17T08:57:26.447Z"
   },
   {
    "duration": 512,
    "start_time": "2022-03-17T08:57:26.486Z"
   },
   {
    "duration": 4,
    "start_time": "2022-03-17T08:57:27.001Z"
   },
   {
    "duration": 17,
    "start_time": "2022-03-17T08:57:27.008Z"
   },
   {
    "duration": 5,
    "start_time": "2022-03-17T08:57:27.028Z"
   },
   {
    "duration": 48,
    "start_time": "2022-03-17T08:57:27.035Z"
   },
   {
    "duration": 13,
    "start_time": "2022-03-17T08:57:27.086Z"
   },
   {
    "duration": 5,
    "start_time": "2022-03-17T08:57:27.102Z"
   },
   {
    "duration": 26,
    "start_time": "2022-03-17T09:03:59.083Z"
   },
   {
    "duration": 689,
    "start_time": "2022-03-17T09:08:49.557Z"
   },
   {
    "duration": 30,
    "start_time": "2022-03-17T09:09:58.356Z"
   },
   {
    "duration": 50,
    "start_time": "2022-03-17T09:10:09.452Z"
   },
   {
    "duration": 28,
    "start_time": "2022-03-17T09:10:35.768Z"
   },
   {
    "duration": 109,
    "start_time": "2022-03-17T09:11:51.878Z"
   },
   {
    "duration": 23,
    "start_time": "2022-03-17T09:13:02.124Z"
   },
   {
    "duration": 12,
    "start_time": "2022-03-17T09:43:59.615Z"
   },
   {
    "duration": 20,
    "start_time": "2022-03-17T09:44:11.775Z"
   },
   {
    "duration": 502,
    "start_time": "2022-03-17T09:54:26.006Z"
   },
   {
    "duration": 385,
    "start_time": "2022-03-17T09:55:11.473Z"
   },
   {
    "duration": 5,
    "start_time": "2022-03-17T09:56:06.984Z"
   },
   {
    "duration": 5,
    "start_time": "2022-03-17T09:56:08.846Z"
   },
   {
    "duration": 257,
    "start_time": "2022-03-17T09:56:09.093Z"
   },
   {
    "duration": 13,
    "start_time": "2022-03-17T09:56:12.155Z"
   },
   {
    "duration": 52,
    "start_time": "2022-03-17T09:56:15.161Z"
   },
   {
    "duration": 77,
    "start_time": "2022-03-17T09:56:17.765Z"
   },
   {
    "duration": 40,
    "start_time": "2022-03-17T09:56:20.753Z"
   },
   {
    "duration": 15,
    "start_time": "2022-03-17T09:56:22.750Z"
   },
   {
    "duration": 8,
    "start_time": "2022-03-17T09:56:25.507Z"
   },
   {
    "duration": 11,
    "start_time": "2022-03-17T09:56:29.149Z"
   },
   {
    "duration": 118,
    "start_time": "2022-03-17T09:56:30.633Z"
   },
   {
    "duration": 822,
    "start_time": "2022-03-17T09:56:32.799Z"
   },
   {
    "duration": 15,
    "start_time": "2022-03-17T09:56:33.632Z"
   },
   {
    "duration": 435,
    "start_time": "2022-03-17T09:56:42.552Z"
   },
   {
    "duration": 402,
    "start_time": "2022-03-17T09:56:45.451Z"
   },
   {
    "duration": 30,
    "start_time": "2022-03-17T09:56:48.403Z"
   },
   {
    "duration": 53,
    "start_time": "2022-03-17T09:56:49.811Z"
   },
   {
    "duration": 16,
    "start_time": "2022-03-17T09:56:51.744Z"
   },
   {
    "duration": 19,
    "start_time": "2022-03-17T09:56:51.956Z"
   },
   {
    "duration": 53,
    "start_time": "2022-03-17T09:56:54.542Z"
   },
   {
    "duration": 1071,
    "start_time": "2022-03-17T09:56:55.718Z"
   },
   {
    "duration": 40,
    "start_time": "2022-03-17T09:56:56.793Z"
   },
   {
    "duration": 86,
    "start_time": "2022-03-17T09:56:57.465Z"
   },
   {
    "duration": 89916,
    "start_time": "2022-03-17T09:57:04.176Z"
   },
   {
    "duration": 24,
    "start_time": "2022-03-17T09:58:34.094Z"
   },
   {
    "duration": 385,
    "start_time": "2022-03-17T09:58:34.120Z"
   },
   {
    "duration": 396,
    "start_time": "2022-03-17T09:58:34.509Z"
   },
   {
    "duration": 366,
    "start_time": "2022-03-17T09:58:51.785Z"
   },
   {
    "duration": 867,
    "start_time": "2022-03-17T09:59:02.765Z"
   },
   {
    "duration": 409,
    "start_time": "2022-03-17T09:59:07.328Z"
   },
   {
    "duration": 5,
    "start_time": "2022-03-17T10:12:25.455Z"
   },
   {
    "duration": 83917,
    "start_time": "2022-03-17T10:12:25.682Z"
   },
   {
    "duration": 21810,
    "start_time": "2022-03-17T10:13:49.602Z"
   },
   {
    "duration": 16,
    "start_time": "2022-03-17T10:14:11.415Z"
   },
   {
    "duration": 67963,
    "start_time": "2022-03-17T10:14:11.437Z"
   },
   {
    "duration": 17,
    "start_time": "2022-03-17T10:15:19.402Z"
   },
   {
    "duration": 333,
    "start_time": "2022-03-17T10:15:19.422Z"
   },
   {
    "duration": 1346,
    "start_time": "2022-03-17T10:15:19.758Z"
   },
   {
    "duration": 22,
    "start_time": "2022-03-17T10:15:21.107Z"
   },
   {
    "duration": 76,
    "start_time": "2022-03-17T10:15:21.132Z"
   },
   {
    "duration": 1226,
    "start_time": "2022-03-17T10:15:21.214Z"
   },
   {
    "duration": 18,
    "start_time": "2022-03-17T10:15:22.443Z"
   },
   {
    "duration": 11968,
    "start_time": "2022-03-17T10:15:22.484Z"
   },
   {
    "duration": 657,
    "start_time": "2022-03-17T10:15:34.455Z"
   },
   {
    "duration": 103,
    "start_time": "2022-03-17T10:15:35.115Z"
   },
   {
    "duration": 2146,
    "start_time": "2022-03-17T10:15:35.220Z"
   },
   {
    "duration": 180,
    "start_time": "2022-03-17T10:15:37.368Z"
   },
   {
    "duration": 4882,
    "start_time": "2022-03-17T10:15:37.551Z"
   },
   {
    "duration": 24,
    "start_time": "2022-03-17T10:15:42.436Z"
   },
   {
    "duration": 74,
    "start_time": "2022-03-17T10:15:42.462Z"
   },
   {
    "duration": 16,
    "start_time": "2022-03-17T10:15:42.539Z"
   },
   {
    "duration": 605,
    "start_time": "2022-03-17T10:15:42.558Z"
   },
   {
    "duration": 16,
    "start_time": "2022-03-17T10:15:43.166Z"
   },
   {
    "duration": 20,
    "start_time": "2022-03-17T10:15:43.185Z"
   },
   {
    "duration": 9,
    "start_time": "2022-03-17T10:16:44.680Z"
   },
   {
    "duration": 11,
    "start_time": "2022-03-17T10:17:10.552Z"
   },
   {
    "duration": 10,
    "start_time": "2022-03-17T10:17:20.739Z"
   },
   {
    "duration": 9,
    "start_time": "2022-03-17T10:17:40.248Z"
   },
   {
    "duration": 514,
    "start_time": "2022-03-17T10:22:00.111Z"
   },
   {
    "duration": 440,
    "start_time": "2022-03-17T10:22:08.962Z"
   },
   {
    "duration": 14,
    "start_time": "2022-03-17T10:22:36.692Z"
   },
   {
    "duration": 734,
    "start_time": "2022-03-17T10:22:45.756Z"
   },
   {
    "duration": 541,
    "start_time": "2022-03-17T10:22:54.681Z"
   },
   {
    "duration": 902,
    "start_time": "2022-03-17T10:22:58.888Z"
   },
   {
    "duration": 10,
    "start_time": "2022-03-17T10:23:14.345Z"
   },
   {
    "duration": 12,
    "start_time": "2022-03-17T10:23:32.708Z"
   },
   {
    "duration": 562,
    "start_time": "2022-03-17T12:05:29.087Z"
   },
   {
    "duration": 611,
    "start_time": "2022-03-17T12:05:35.963Z"
   },
   {
    "duration": 3,
    "start_time": "2022-03-17T12:08:10.360Z"
   },
   {
    "duration": 11,
    "start_time": "2022-03-17T12:08:10.688Z"
   },
   {
    "duration": 6,
    "start_time": "2022-03-17T12:08:11.008Z"
   },
   {
    "duration": 515,
    "start_time": "2022-03-17T12:09:55.529Z"
   },
   {
    "duration": 17,
    "start_time": "2022-03-17T12:09:58.878Z"
   },
   {
    "duration": 5,
    "start_time": "2022-03-17T12:11:39.217Z"
   },
   {
    "duration": 112,
    "start_time": "2022-03-17T12:18:11.176Z"
   },
   {
    "duration": 33,
    "start_time": "2022-03-17T12:26:01.218Z"
   },
   {
    "duration": 136,
    "start_time": "2022-03-17T12:26:28.057Z"
   },
   {
    "duration": 257,
    "start_time": "2022-03-17T12:26:51.417Z"
   },
   {
    "duration": 27,
    "start_time": "2022-03-17T12:27:08.707Z"
   },
   {
    "duration": 61,
    "start_time": "2022-03-17T12:27:34.931Z"
   },
   {
    "duration": 54,
    "start_time": "2022-03-17T12:27:44.579Z"
   },
   {
    "duration": 73,
    "start_time": "2022-03-17T12:29:15.434Z"
   },
   {
    "duration": 58,
    "start_time": "2022-03-17T12:30:03.438Z"
   },
   {
    "duration": 1589,
    "start_time": "2022-04-12T08:36:02.287Z"
   },
   {
    "duration": 4,
    "start_time": "2022-04-12T08:36:09.645Z"
   },
   {
    "duration": 190,
    "start_time": "2022-04-12T08:36:10.416Z"
   },
   {
    "duration": 3,
    "start_time": "2022-04-12T08:37:21.056Z"
   },
   {
    "duration": 4,
    "start_time": "2022-04-12T08:37:21.915Z"
   },
   {
    "duration": 101,
    "start_time": "2022-04-12T08:37:22.745Z"
   },
   {
    "duration": 9,
    "start_time": "2022-04-12T08:37:23.792Z"
   },
   {
    "duration": 26,
    "start_time": "2022-04-12T08:37:25.294Z"
   },
   {
    "duration": 35,
    "start_time": "2022-04-12T08:37:26.671Z"
   },
   {
    "duration": 24,
    "start_time": "2022-04-12T08:37:26.708Z"
   },
   {
    "duration": 10,
    "start_time": "2022-04-12T08:37:26.849Z"
   },
   {
    "duration": 6,
    "start_time": "2022-04-12T08:37:27.012Z"
   },
   {
    "duration": 5,
    "start_time": "2022-04-12T08:37:29.160Z"
   },
   {
    "duration": 78,
    "start_time": "2022-04-12T08:37:29.869Z"
   },
   {
    "duration": 476,
    "start_time": "2022-04-12T08:37:30.099Z"
   },
   {
    "duration": 8,
    "start_time": "2022-04-12T08:37:31.983Z"
   },
   {
    "duration": 174,
    "start_time": "2022-04-12T08:37:34.201Z"
   },
   {
    "duration": 243,
    "start_time": "2022-04-12T08:37:39.134Z"
   },
   {
    "duration": 185,
    "start_time": "2022-04-12T08:37:41.494Z"
   },
   {
    "duration": 18,
    "start_time": "2022-04-12T08:37:43.068Z"
   },
   {
    "duration": 33,
    "start_time": "2022-04-12T08:37:46.265Z"
   },
   {
    "duration": 10,
    "start_time": "2022-04-12T08:37:48.721Z"
   },
   {
    "duration": 12,
    "start_time": "2022-04-12T08:37:50.757Z"
   },
   {
    "duration": 35,
    "start_time": "2022-04-12T08:37:56.430Z"
   },
   {
    "duration": 516,
    "start_time": "2022-04-12T08:37:57.612Z"
   },
   {
    "duration": 508,
    "start_time": "2022-04-12T08:38:00.802Z"
   },
   {
    "duration": 29,
    "start_time": "2022-04-12T08:38:15.582Z"
   },
   {
    "duration": 53,
    "start_time": "2022-04-12T08:38:16.552Z"
   },
   {
    "duration": 51098,
    "start_time": "2022-04-12T08:38:46.849Z"
   },
   {
    "duration": 16,
    "start_time": "2022-04-12T08:39:37.949Z"
   },
   {
    "duration": 215,
    "start_time": "2022-04-12T08:39:37.973Z"
   },
   {
    "duration": 217,
    "start_time": "2022-04-12T08:39:38.190Z"
   },
   {
    "duration": 4,
    "start_time": "2022-04-12T08:41:05.817Z"
   },
   {
    "duration": 47323,
    "start_time": "2022-04-12T08:41:06.574Z"
   },
   {
    "duration": 11736,
    "start_time": "2022-04-12T08:41:57.884Z"
   },
   {
    "duration": 1417,
    "start_time": "2022-04-12T08:42:23.523Z"
   },
   {
    "duration": 4,
    "start_time": "2022-04-12T08:42:24.941Z"
   },
   {
    "duration": 117,
    "start_time": "2022-04-12T08:42:24.946Z"
   },
   {
    "duration": 12,
    "start_time": "2022-04-12T08:42:25.066Z"
   },
   {
    "duration": 33,
    "start_time": "2022-04-12T08:42:25.080Z"
   },
   {
    "duration": 43,
    "start_time": "2022-04-12T08:42:25.115Z"
   },
   {
    "duration": 35,
    "start_time": "2022-04-12T08:42:25.173Z"
   },
   {
    "duration": 11,
    "start_time": "2022-04-12T08:42:25.210Z"
   },
   {
    "duration": 11,
    "start_time": "2022-04-12T08:42:25.222Z"
   },
   {
    "duration": 11,
    "start_time": "2022-04-12T08:42:25.236Z"
   },
   {
    "duration": 103,
    "start_time": "2022-04-12T08:42:25.249Z"
   },
   {
    "duration": 525,
    "start_time": "2022-04-12T08:42:25.353Z"
   },
   {
    "duration": 11,
    "start_time": "2022-04-12T08:42:25.880Z"
   },
   {
    "duration": 193,
    "start_time": "2022-04-12T08:42:25.893Z"
   },
   {
    "duration": 280,
    "start_time": "2022-04-12T08:42:26.088Z"
   },
   {
    "duration": 29,
    "start_time": "2022-04-12T08:42:26.373Z"
   },
   {
    "duration": 34,
    "start_time": "2022-04-12T08:42:26.404Z"
   },
   {
    "duration": 35,
    "start_time": "2022-04-12T08:42:26.439Z"
   },
   {
    "duration": 12,
    "start_time": "2022-04-12T08:42:26.475Z"
   },
   {
    "duration": 36,
    "start_time": "2022-04-12T08:42:26.489Z"
   },
   {
    "duration": 572,
    "start_time": "2022-04-12T08:42:26.526Z"
   },
   {
    "duration": 28,
    "start_time": "2022-04-12T08:42:27.099Z"
   },
   {
    "duration": 72,
    "start_time": "2022-04-12T08:42:27.129Z"
   },
   {
    "duration": 51020,
    "start_time": "2022-04-12T08:42:27.203Z"
   },
   {
    "duration": 17,
    "start_time": "2022-04-12T08:43:18.224Z"
   },
   {
    "duration": 209,
    "start_time": "2022-04-12T08:43:18.242Z"
   },
   {
    "duration": 258,
    "start_time": "2022-04-12T08:43:18.453Z"
   },
   {
    "duration": 4,
    "start_time": "2022-04-12T08:43:18.715Z"
   },
   {
    "duration": 46916,
    "start_time": "2022-04-12T08:43:18.720Z"
   },
   {
    "duration": 11349,
    "start_time": "2022-04-12T08:44:05.638Z"
   },
   {
    "duration": 7,
    "start_time": "2022-04-12T08:44:16.989Z"
   },
   {
    "duration": 32877,
    "start_time": "2022-04-12T08:44:16.997Z"
   },
   {
    "duration": 7,
    "start_time": "2022-04-12T08:44:49.876Z"
   },
   {
    "duration": 189,
    "start_time": "2022-04-12T08:44:49.885Z"
   },
   {
    "duration": 568,
    "start_time": "2022-04-12T08:44:50.076Z"
   },
   {
    "duration": 13,
    "start_time": "2022-04-12T08:44:50.645Z"
   },
   {
    "duration": 35,
    "start_time": "2022-04-12T08:44:50.659Z"
   },
   {
    "duration": 577,
    "start_time": "2022-04-12T08:44:50.695Z"
   },
   {
    "duration": 9,
    "start_time": "2022-04-12T08:44:51.274Z"
   },
   {
    "duration": 10171,
    "start_time": "2022-04-12T08:44:51.284Z"
   },
   {
    "duration": 920,
    "start_time": "2022-04-12T08:45:01.457Z"
   },
   {
    "duration": 109,
    "start_time": "2022-04-12T08:45:02.379Z"
   },
   {
    "duration": 1023,
    "start_time": "2022-04-12T08:45:02.490Z"
   },
   {
    "duration": 106,
    "start_time": "2022-04-12T08:45:03.515Z"
   },
   {
    "duration": 2296,
    "start_time": "2022-04-12T08:45:03.622Z"
   },
   {
    "duration": 12,
    "start_time": "2022-04-12T08:45:05.920Z"
   },
   {
    "duration": 43,
    "start_time": "2022-04-12T08:45:05.934Z"
   },
   {
    "duration": 9,
    "start_time": "2022-04-12T08:45:05.978Z"
   },
   {
    "duration": 324,
    "start_time": "2022-04-12T08:45:05.989Z"
   },
   {
    "duration": 448,
    "start_time": "2022-04-12T08:45:06.315Z"
   },
   {
    "duration": 3,
    "start_time": "2022-04-12T08:45:06.765Z"
   },
   {
    "duration": 11,
    "start_time": "2022-04-12T08:45:06.770Z"
   },
   {
    "duration": 4,
    "start_time": "2022-04-12T08:45:06.783Z"
   },
   {
    "duration": 9,
    "start_time": "2022-04-12T08:45:06.789Z"
   },
   {
    "duration": 316,
    "start_time": "2022-04-12T08:45:06.799Z"
   },
   {
    "duration": 10,
    "start_time": "2022-04-12T08:45:07.117Z"
   },
   {
    "duration": 4,
    "start_time": "2022-04-12T08:45:07.129Z"
   },
   {
    "duration": 3,
    "start_time": "2022-04-12T08:45:32.805Z"
   },
   {
    "duration": 8,
    "start_time": "2022-04-12T08:45:37.668Z"
   },
   {
    "duration": 4,
    "start_time": "2022-04-12T08:45:39.772Z"
   },
   {
    "duration": 8,
    "start_time": "2022-04-12T08:47:17.369Z"
   },
   {
    "duration": 4,
    "start_time": "2022-04-12T08:47:18.987Z"
   },
   {
    "duration": 9,
    "start_time": "2022-04-12T08:49:03.929Z"
   },
   {
    "duration": 4,
    "start_time": "2022-04-12T08:49:05.678Z"
   },
   {
    "duration": 7,
    "start_time": "2022-04-12T08:49:34.056Z"
   },
   {
    "duration": 8,
    "start_time": "2022-04-12T08:49:47.236Z"
   },
   {
    "duration": 8,
    "start_time": "2022-04-12T08:55:47.219Z"
   },
   {
    "duration": 7,
    "start_time": "2022-04-12T08:55:52.418Z"
   },
   {
    "duration": 1482,
    "start_time": "2022-04-12T09:01:49.590Z"
   },
   {
    "duration": 3,
    "start_time": "2022-04-12T09:01:51.074Z"
   },
   {
    "duration": 114,
    "start_time": "2022-04-12T09:01:51.079Z"
   },
   {
    "duration": 9,
    "start_time": "2022-04-12T09:01:51.195Z"
   },
   {
    "duration": 29,
    "start_time": "2022-04-12T09:01:51.206Z"
   },
   {
    "duration": 59,
    "start_time": "2022-04-12T09:01:51.237Z"
   },
   {
    "duration": 25,
    "start_time": "2022-04-12T09:01:51.297Z"
   },
   {
    "duration": 11,
    "start_time": "2022-04-12T09:01:51.324Z"
   },
   {
    "duration": 12,
    "start_time": "2022-04-12T09:01:51.337Z"
   },
   {
    "duration": 9,
    "start_time": "2022-04-12T09:01:51.372Z"
   },
   {
    "duration": 95,
    "start_time": "2022-04-12T09:01:51.383Z"
   },
   {
    "duration": 524,
    "start_time": "2022-04-12T09:01:51.480Z"
   },
   {
    "duration": 9,
    "start_time": "2022-04-12T09:01:52.006Z"
   },
   {
    "duration": 196,
    "start_time": "2022-04-12T09:01:52.018Z"
   },
   {
    "duration": 283,
    "start_time": "2022-04-12T09:01:52.216Z"
   },
   {
    "duration": 20,
    "start_time": "2022-04-12T09:01:52.501Z"
   },
   {
    "duration": 53,
    "start_time": "2022-04-12T09:01:52.522Z"
   },
   {
    "duration": 10,
    "start_time": "2022-04-12T09:01:52.576Z"
   },
   {
    "duration": 14,
    "start_time": "2022-04-12T09:01:52.588Z"
   },
   {
    "duration": 48,
    "start_time": "2022-04-12T09:01:52.604Z"
   },
   {
    "duration": 564,
    "start_time": "2022-04-12T09:01:52.672Z"
   },
   {
    "duration": 40,
    "start_time": "2022-04-12T09:01:53.238Z"
   },
   {
    "duration": 58,
    "start_time": "2022-04-12T09:01:53.280Z"
   },
   {
    "duration": 55448,
    "start_time": "2022-04-12T09:01:53.340Z"
   },
   {
    "duration": 15,
    "start_time": "2022-04-12T09:02:48.789Z"
   },
   {
    "duration": 211,
    "start_time": "2022-04-12T09:02:48.806Z"
   },
   {
    "duration": 214,
    "start_time": "2022-04-12T09:02:49.019Z"
   },
   {
    "duration": 3,
    "start_time": "2022-04-12T09:02:49.235Z"
   },
   {
    "duration": 48428,
    "start_time": "2022-04-12T09:02:49.240Z"
   },
   {
    "duration": 11834,
    "start_time": "2022-04-12T09:03:37.669Z"
   },
   {
    "duration": 10,
    "start_time": "2022-04-12T09:03:49.506Z"
   },
   {
    "duration": 34764,
    "start_time": "2022-04-12T09:03:49.518Z"
   },
   {
    "duration": 7,
    "start_time": "2022-04-12T09:04:24.284Z"
   },
   {
    "duration": 187,
    "start_time": "2022-04-12T09:04:24.292Z"
   },
   {
    "duration": 557,
    "start_time": "2022-04-12T09:04:24.481Z"
   },
   {
    "duration": 13,
    "start_time": "2022-04-12T09:04:25.039Z"
   },
   {
    "duration": 40,
    "start_time": "2022-04-12T09:04:25.053Z"
   },
   {
    "duration": 579,
    "start_time": "2022-04-12T09:04:25.094Z"
   },
   {
    "duration": 10,
    "start_time": "2022-04-12T09:04:25.675Z"
   },
   {
    "duration": 8976,
    "start_time": "2022-04-12T09:04:25.686Z"
   },
   {
    "duration": 913,
    "start_time": "2022-04-12T09:04:34.667Z"
   },
   {
    "duration": 107,
    "start_time": "2022-04-12T09:04:35.583Z"
   },
   {
    "duration": 1094,
    "start_time": "2022-04-12T09:04:35.692Z"
   },
   {
    "duration": 100,
    "start_time": "2022-04-12T09:04:36.788Z"
   },
   {
    "duration": 2236,
    "start_time": "2022-04-12T09:04:36.890Z"
   },
   {
    "duration": 13,
    "start_time": "2022-04-12T09:04:39.128Z"
   },
   {
    "duration": 40,
    "start_time": "2022-04-12T09:04:39.142Z"
   },
   {
    "duration": 17,
    "start_time": "2022-04-12T09:04:39.184Z"
   },
   {
    "duration": 299,
    "start_time": "2022-04-12T09:04:39.203Z"
   },
   {
    "duration": 3,
    "start_time": "2022-04-12T09:04:39.503Z"
   },
   {
    "duration": 15,
    "start_time": "2022-04-12T09:04:39.508Z"
   },
   {
    "duration": 7,
    "start_time": "2022-04-12T09:04:39.524Z"
   },
   {
    "duration": 13,
    "start_time": "2022-04-12T09:04:39.533Z"
   },
   {
    "duration": 10,
    "start_time": "2022-04-12T09:04:39.547Z"
   },
   {
    "duration": 16,
    "start_time": "2022-04-12T09:04:39.559Z"
   }
  ],
  "kernelspec": {
   "display_name": "Python 3 (ipykernel)",
   "language": "python",
   "name": "python3"
  },
  "language_info": {
   "codemirror_mode": {
    "name": "ipython",
    "version": 3
   },
   "file_extension": ".py",
   "mimetype": "text/x-python",
   "name": "python",
   "nbconvert_exporter": "python",
   "pygments_lexer": "ipython3",
   "version": "3.8.12"
  },
  "toc": {
   "base_numbering": 1,
   "nav_menu": {},
   "number_sections": true,
   "sideBar": true,
   "skip_h1_title": true,
   "title_cell": "Table of Contents",
   "title_sidebar": "Contents",
   "toc_cell": false,
   "toc_position": {
    "height": "calc(100% - 180px)",
    "left": "10px",
    "top": "150px",
    "width": "255.594px"
   },
   "toc_section_display": true,
   "toc_window_display": false
  }
 },
 "nbformat": 4,
 "nbformat_minor": 2
}
